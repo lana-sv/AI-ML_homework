{
 "cells": [
  {
   "cell_type": "code",
   "execution_count": 1,
   "metadata": {
    "executionInfo": {
     "elapsed": 622,
     "status": "ok",
     "timestamp": 1665333057771,
     "user": {
      "displayName": "ankit raj",
      "userId": "17457477851006451521"
     },
     "user_tz": -330
    },
    "id": "2lFjyUcCBJ1j"
   },
   "outputs": [],
   "source": [
    "import numpy as np # linear algebra\n",
    "import pandas as pd # data processing, CSV file I/O (e.g. pd.read_csv)\n",
    "import matplotlib.pyplot as plt\n",
    "from pandas import read_csv\n",
    "import math\n",
    "from keras.models import Sequential\n",
    "from keras.layers import Dense\n",
    "from keras.layers import LSTM\n",
    "from sklearn.preprocessing import MinMaxScaler\n",
    "from sklearn.metrics import mean_squared_error"
   ]
  },
  {
   "cell_type": "code",
   "execution_count": 2,
   "metadata": {
    "executionInfo": {
     "elapsed": 4,
     "status": "ok",
     "timestamp": 1665333058875,
     "user": {
      "displayName": "ankit raj",
      "userId": "17457477851006451521"
     },
     "user_tz": -330
    },
    "id": "xzUR0wNuPcRx"
   },
   "outputs": [
    {
     "name": "stderr",
     "output_type": "stream",
     "text": [
      "<ipython-input-2-d29d9b864300>:2: ParserWarning: Falling back to the 'python' engine because the 'c' engine does not support skipfooter; you can avoid this warning by specifying engine='python'.\n",
      "  df = pd.read_csv('/Users/lana-n/datacsv/AirPassengers.csv',skipfooter=5)\n"
     ]
    },
    {
     "data": {
      "text/html": [
       "<div>\n",
       "<style scoped>\n",
       "    .dataframe tbody tr th:only-of-type {\n",
       "        vertical-align: middle;\n",
       "    }\n",
       "\n",
       "    .dataframe tbody tr th {\n",
       "        vertical-align: top;\n",
       "    }\n",
       "\n",
       "    .dataframe thead th {\n",
       "        text-align: right;\n",
       "    }\n",
       "</style>\n",
       "<table border=\"1\" class=\"dataframe\">\n",
       "  <thead>\n",
       "    <tr style=\"text-align: right;\">\n",
       "      <th></th>\n",
       "      <th>Month</th>\n",
       "      <th>#Passengers</th>\n",
       "    </tr>\n",
       "  </thead>\n",
       "  <tbody>\n",
       "    <tr>\n",
       "      <th>0</th>\n",
       "      <td>1949-01</td>\n",
       "      <td>112</td>\n",
       "    </tr>\n",
       "    <tr>\n",
       "      <th>1</th>\n",
       "      <td>1949-02</td>\n",
       "      <td>118</td>\n",
       "    </tr>\n",
       "    <tr>\n",
       "      <th>2</th>\n",
       "      <td>1949-03</td>\n",
       "      <td>132</td>\n",
       "    </tr>\n",
       "    <tr>\n",
       "      <th>3</th>\n",
       "      <td>1949-04</td>\n",
       "      <td>129</td>\n",
       "    </tr>\n",
       "    <tr>\n",
       "      <th>4</th>\n",
       "      <td>1949-05</td>\n",
       "      <td>121</td>\n",
       "    </tr>\n",
       "    <tr>\n",
       "      <th>...</th>\n",
       "      <td>...</td>\n",
       "      <td>...</td>\n",
       "    </tr>\n",
       "    <tr>\n",
       "      <th>134</th>\n",
       "      <td>1960-03</td>\n",
       "      <td>419</td>\n",
       "    </tr>\n",
       "    <tr>\n",
       "      <th>135</th>\n",
       "      <td>1960-04</td>\n",
       "      <td>461</td>\n",
       "    </tr>\n",
       "    <tr>\n",
       "      <th>136</th>\n",
       "      <td>1960-05</td>\n",
       "      <td>472</td>\n",
       "    </tr>\n",
       "    <tr>\n",
       "      <th>137</th>\n",
       "      <td>1960-06</td>\n",
       "      <td>535</td>\n",
       "    </tr>\n",
       "    <tr>\n",
       "      <th>138</th>\n",
       "      <td>1960-07</td>\n",
       "      <td>622</td>\n",
       "    </tr>\n",
       "  </tbody>\n",
       "</table>\n",
       "<p>139 rows × 2 columns</p>\n",
       "</div>"
      ],
      "text/plain": [
       "       Month  #Passengers\n",
       "0    1949-01          112\n",
       "1    1949-02          118\n",
       "2    1949-03          132\n",
       "3    1949-04          129\n",
       "4    1949-05          121\n",
       "..       ...          ...\n",
       "134  1960-03          419\n",
       "135  1960-04          461\n",
       "136  1960-05          472\n",
       "137  1960-06          535\n",
       "138  1960-07          622\n",
       "\n",
       "[139 rows x 2 columns]"
      ]
     },
     "execution_count": 2,
     "metadata": {},
     "output_type": "execute_result"
    }
   ],
   "source": [
    "#df = pd.read_csv(\"/content/HousingData.csv\")\n",
    "df = pd.read_csv('/Users/lana-n/datacsv/AirPassengers.csv',skipfooter=5)\n",
    "df"
   ]
  },
  {
   "cell_type": "code",
   "execution_count": 3,
   "metadata": {},
   "outputs": [
    {
     "data": {
      "image/png": "[encoded data removed]",
      "text/plain": [
       "<Figure size 432x288 with 1 Axes>"
      ]
     },
     "metadata": {
      "needs_background": "light"
     },
     "output_type": "display_data"
    }
   ],
   "source": [
    "dataset = df.iloc[:,1].values\n",
    "plt.plot(dataset)\n",
    "plt.xlabel('time')\n",
    "plt.ylabel('number of passengers')\n",
    "plt.title('Internatoinal Airline Passenger')\n",
    "plt.show()"
   ]
  },
  {
   "cell_type": "code",
   "execution_count": 4,
   "metadata": {},
   "outputs": [
    {
     "data": {
      "text/plain": [
       "(139, 1)"
      ]
     },
     "execution_count": 4,
     "metadata": {},
     "output_type": "execute_result"
    }
   ],
   "source": [
    "dataset = dataset.reshape(-1,1)\n",
    "dataset = dataset.astype('float32')\n",
    "dataset.shape"
   ]
  },
  {
   "cell_type": "code",
   "execution_count": 5,
   "metadata": {},
   "outputs": [],
   "source": [
    "scaler = MinMaxScaler(feature_range=(0,1))\n",
    "dataset = scaler.fit_transform(dataset)"
   ]
  },
  {
   "cell_type": "code",
   "execution_count": 6,
   "metadata": {},
   "outputs": [
    {
     "name": "stdout",
     "output_type": "stream",
     "text": [
      "train_size : 69, test_size : 70\n"
     ]
    }
   ],
   "source": [
    "train_size = int(len(dataset)*0.50)\n",
    "test_size = len(dataset) - train_size\n",
    "train = dataset[0:train_size,:]\n",
    "test = dataset[train_size:len(dataset),:]\n",
    "print('train_size : {}, test_size : {}'.format(len(train),len(test)))"
   ]
  },
  {
   "cell_type": "code",
   "execution_count": 7,
   "metadata": {},
   "outputs": [],
   "source": [
    "timestamp=10\n",
    "dataX = []\n",
    "dataY = []\n",
    "for i in range(len(train)-timestamp-1):\n",
    "    a = train[i:(i+timestamp),0]\n",
    "    dataX.append(a)\n",
    "    dataY.append(train[i+timestamp,0])\n",
    "trainX = np.array(dataX)\n",
    "trainY = np.array(dataY)"
   ]
  },
  {
   "cell_type": "code",
   "execution_count": 8,
   "metadata": {},
   "outputs": [],
   "source": [
    "timestep=10\n",
    "dataX = []\n",
    "dataY = []\n",
    "for i in range(len(test)-timestamp-1):\n",
    "    a = test[i:(i+timestamp),0]\n",
    "    dataX.append(a)\n",
    "    dataY.append(test[i+timestamp,0])\n",
    "testX = np.array(dataX)\n",
    "testY = np.array(dataY)"
   ]
  },
  {
   "cell_type": "code",
   "execution_count": 9,
   "metadata": {},
   "outputs": [],
   "source": [
    "trainX = np.reshape(trainX,(trainX.shape[0],1,trainX.shape[1]))\n",
    "testX = np.reshape(testX,(testX.shape[0],1,testX.shape[1]))"
   ]
  },
  {
   "cell_type": "code",
   "execution_count": 10,
   "metadata": {},
   "outputs": [
    {
     "name": "stdout",
     "output_type": "stream",
     "text": [
      "Model: \"sequential\"\n",
      "_________________________________________________________________\n",
      " Layer (type)                Output Shape              Param #   \n",
      "=================================================================\n",
      " lstm (LSTM)                 (None, 10)                840       \n",
      "                                                                 \n",
      " dense (Dense)               (None, 1)                 11        \n",
      "                                                                 \n",
      "=================================================================\n",
      "Total params: 851\n",
      "Trainable params: 851\n",
      "Non-trainable params: 0\n",
      "_________________________________________________________________\n"
     ]
    }
   ],
   "source": [
    "# model\n",
    "model = Sequential()\n",
    "model.add(LSTM(10, input_shape=(1, timestamp))) # 10 lstm neuron(block)\n",
    "model.add(Dense(1))\n",
    "\n",
    "model.summary()"
   ]
  },
  {
   "cell_type": "code",
   "execution_count": 11,
   "metadata": {},
   "outputs": [
    {
     "name": "stdout",
     "output_type": "stream",
     "text": [
      "Epoch 1/50\n",
      "58/58 [==============================] - 1s 1ms/step - loss: 0.0315\n",
      "Epoch 2/50\n",
      "58/58 [==============================] - 0s 1ms/step - loss: 0.0084\n",
      "Epoch 3/50\n",
      "58/58 [==============================] - 0s 1ms/step - loss: 0.0054\n",
      "Epoch 4/50\n",
      "58/58 [==============================] - 0s 965us/step - loss: 0.0050\n",
      "Epoch 5/50\n",
      "58/58 [==============================] - 0s 962us/step - loss: 0.0046\n",
      "Epoch 6/50\n",
      "58/58 [==============================] - 0s 934us/step - loss: 0.0042\n",
      "Epoch 7/50\n",
      "58/58 [==============================] - 0s 940us/step - loss: 0.0039\n",
      "Epoch 8/50\n",
      "58/58 [==============================] - 0s 941us/step - loss: 0.0037\n",
      "Epoch 9/50\n",
      "58/58 [==============================] - 0s 919us/step - loss: 0.0035\n",
      "Epoch 10/50\n",
      "58/58 [==============================] - 0s 922us/step - loss: 0.0032\n",
      "Epoch 11/50\n",
      "58/58 [==============================] - 0s 916us/step - loss: 0.0031\n",
      "Epoch 12/50\n",
      "58/58 [==============================] - 0s 905us/step - loss: 0.0031\n",
      "Epoch 13/50\n",
      "58/58 [==============================] - 0s 898us/step - loss: 0.0028\n",
      "Epoch 14/50\n",
      "58/58 [==============================] - 0s 903us/step - loss: 0.0028\n",
      "Epoch 15/50\n",
      "58/58 [==============================] - 0s 925us/step - loss: 0.0027\n",
      "Epoch 16/50\n",
      "58/58 [==============================] - 0s 917us/step - loss: 0.0025\n",
      "Epoch 17/50\n",
      "58/58 [==============================] - 0s 904us/step - loss: 0.0026\n",
      "Epoch 18/50\n",
      "58/58 [==============================] - 0s 908us/step - loss: 0.0025\n",
      "Epoch 19/50\n",
      "58/58 [==============================] - 0s 907us/step - loss: 0.0023\n",
      "Epoch 20/50\n",
      "58/58 [==============================] - 0s 903us/step - loss: 0.0024\n",
      "Epoch 21/50\n",
      "58/58 [==============================] - 0s 898us/step - loss: 0.0022\n",
      "Epoch 22/50\n",
      "58/58 [==============================] - 0s 914us/step - loss: 0.0021\n",
      "Epoch 23/50\n",
      "58/58 [==============================] - 0s 894us/step - loss: 0.0021\n",
      "Epoch 24/50\n",
      "58/58 [==============================] - 0s 903us/step - loss: 0.0021\n",
      "Epoch 25/50\n",
      "58/58 [==============================] - 0s 919us/step - loss: 0.0020\n",
      "Epoch 26/50\n",
      "58/58 [==============================] - 0s 926us/step - loss: 0.0019\n",
      "Epoch 27/50\n",
      "58/58 [==============================] - 0s 904us/step - loss: 0.0019\n",
      "Epoch 28/50\n",
      "58/58 [==============================] - 0s 915us/step - loss: 0.0019\n",
      "Epoch 29/50\n",
      "58/58 [==============================] - 0s 901us/step - loss: 0.0019\n",
      "Epoch 30/50\n",
      "58/58 [==============================] - 0s 921us/step - loss: 0.0018\n",
      "Epoch 31/50\n",
      "58/58 [==============================] - 0s 920us/step - loss: 0.0018\n",
      "Epoch 32/50\n",
      "58/58 [==============================] - 0s 921us/step - loss: 0.0018\n",
      "Epoch 33/50\n",
      "58/58 [==============================] - 0s 915us/step - loss: 0.0017\n",
      "Epoch 34/50\n",
      "58/58 [==============================] - 0s 903us/step - loss: 0.0017\n",
      "Epoch 35/50\n",
      "58/58 [==============================] - 0s 904us/step - loss: 0.0016\n",
      "Epoch 36/50\n",
      "58/58 [==============================] - 0s 877us/step - loss: 0.0016\n",
      "Epoch 37/50\n",
      "58/58 [==============================] - 0s 898us/step - loss: 0.0015\n",
      "Epoch 38/50\n",
      "58/58 [==============================] - 0s 907us/step - loss: 0.0016\n",
      "Epoch 39/50\n",
      "58/58 [==============================] - 0s 907us/step - loss: 0.0015\n",
      "Epoch 40/50\n",
      "58/58 [==============================] - 0s 890us/step - loss: 0.0016\n",
      "Epoch 41/50\n",
      "58/58 [==============================] - 0s 917us/step - loss: 0.0016\n",
      "Epoch 42/50\n",
      "58/58 [==============================] - 0s 900us/step - loss: 0.0014\n",
      "Epoch 43/50\n",
      "58/58 [==============================] - 0s 897us/step - loss: 0.0015\n",
      "Epoch 44/50\n",
      "58/58 [==============================] - 0s 918us/step - loss: 0.0014\n",
      "Epoch 45/50\n",
      "58/58 [==============================] - 0s 921us/step - loss: 0.0014\n",
      "Epoch 46/50\n",
      "58/58 [==============================] - 0s 948us/step - loss: 0.0014\n",
      "Epoch 47/50\n",
      "58/58 [==============================] - 0s 906us/step - loss: 0.0014\n",
      "Epoch 48/50\n",
      "58/58 [==============================] - 0s 908us/step - loss: 0.0014\n",
      "Epoch 49/50\n",
      "58/58 [==============================] - 0s 899us/step - loss: 0.0013\n",
      "Epoch 50/50\n",
      "58/58 [==============================] - 0s 915us/step - loss: 0.0014\n"
     ]
    },
    {
     "data": {
      "text/plain": [
       "<keras.callbacks.History at 0x7f9e312f36a0>"
      ]
     },
     "execution_count": 11,
     "metadata": {},
     "output_type": "execute_result"
    }
   ],
   "source": [
    "model.compile(loss='mean_squared_error', optimizer='adam')\n",
    "model.fit(trainX, trainY, epochs=50, batch_size=1)"
   ]
  },
  {
   "cell_type": "code",
   "execution_count": 13,
   "metadata": {},
   "outputs": [
    {
     "name": "stdout",
     "output_type": "stream",
     "text": [
      "2/2 [==============================] - 0s 2ms/step\n",
      "2/2 [==============================] - 0s 1ms/step\n",
      "Train Score: 18.23 RMSE\n",
      "Test Score: 47.29 RMSE\n"
     ]
    }
   ],
   "source": [
    "trainPredict = model.predict(trainX)\n",
    "testPredict = model.predict(testX)\n",
    "\n",
    "trainPredict = scaler.inverse_transform(trainPredict)\n",
    "trainY = scaler.inverse_transform([trainY])\n",
    "testPredict = scaler.inverse_transform(testPredict)\n",
    "testY = scaler.inverse_transform([testY])\n",
    "\n",
    "trainScore = math.sqrt(mean_squared_error(trainY[0], trainPredict[:,0]))\n",
    "print('Train Score: %.2f RMSE' % (trainScore))\n",
    "testScore = math.sqrt(mean_squared_error(testY[0], testPredict[:,0]))\n",
    "print('Test Score: %.2f RMSE' % (testScore))"
   ]
  },
  {
   "cell_type": "code",
   "execution_count": 14,
   "metadata": {},
   "outputs": [
    {
     "data": {
      "image/png": "[encoded data removed]",
      "text/plain": [
       "<Figure size 432x288 with 1 Axes>"
      ]
     },
     "metadata": {
      "needs_background": "light"
     },
     "output_type": "display_data"
    }
   ],
   "source": [
    "trainPredictPlot = np.empty_like(dataset)\n",
    "trainPredictPlot[:, :] = np.nan\n",
    "trainPredictPlot[timestamp:len(trainPredict)+timestamp, :] = trainPredict\n",
    "\n",
    "testPredictPlot = np.empty_like(dataset)\n",
    "testPredictPlot[:, :] = np.nan\n",
    "testPredictPlot[len(trainPredict)+(timestamp*2)+1:len(dataset)-1, :] = testPredict\n",
    "\n",
    "plt.plot(scaler.inverse_transform(dataset), label='Original')\n",
    "plt.plot(trainPredictPlot, label='trainPredict')\n",
    "plt.plot(testPredictPlot, label='testPredict')\n",
    "plt.ylabel('# passengers')\n",
    "plt.legend()\n",
    "plt.show()"
   ]
  },
  {
   "cell_type": "code",
   "execution_count": null,
   "metadata": {},
   "outputs": [],
   "source": []
  },
  {
   "cell_type": "code",
   "execution_count": null,
   "metadata": {},
   "outputs": [],
   "source": []
  }
 ],
 "metadata": {
  "colab": {
   "authorship_tag": "ABX9TyMvpLMow0KRyjXp5VmwKGTp",
   "name": "",
   "version": ""
  },
  "kernelspec": {
   "display_name": "Python 3",
   "language": "python",
   "name": "python3"
  },
  "language_info": {
   "codemirror_mode": {
    "name": "ipython",
    "version": 3
   },
   "file_extension": ".py",
   "mimetype": "text/x-python",
   "name": "python",
   "nbconvert_exporter": "python",
   "pygments_lexer": "ipython3",
   "version": "3.8.12"
  }
 },
 "nbformat": 4,
 "nbformat_minor": 4
}
