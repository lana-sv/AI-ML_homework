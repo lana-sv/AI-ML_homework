{
 "cells": [
  {
   "cell_type": "code",
   "execution_count": 1,
   "metadata": {},
   "outputs": [],
   "source": [
    "#Importing libraries and modules:\n",
    "\n",
    "import numpy as np\n",
    "import pandas as pd\n",
    "import matplotlib\n",
    "import matplotlib.pyplot as plt\n",
    "\n",
    "import tensorflow as tf\n",
    "import keras\n",
    "\n",
    "from sklearn.preprocessing import LabelEncoder\n",
    "from sklearn.compose import ColumnTransformer\n",
    "from sklearn.preprocessing import OneHotEncoder\n",
    "from sklearn.model_selection import train_test_split\n",
    "from sklearn.preprocessing import StandardScaler\n",
    "from sklearn.metrics import confusion_matrix, accuracy_score\n",
    "\n",
    "import sklearn\n",
    "%matplotlib inline\n",
    "\n",
    "import tensorflow.compat.v1 as tf\n",
    "#tf.Session()\n",
    "\n",
    "import warnings\n",
    "warnings.filterwarnings(\"ignore\")\n"
   ]
  },
  {
   "cell_type": "code",
   "execution_count": 2,
   "metadata": {},
   "outputs": [
    {
     "name": "stdout",
     "output_type": "stream",
     "text": [
      "2.10.0\n"
     ]
    }
   ],
   "source": [
    "# Check the TF version\n",
    "print(tf.__version__)"
   ]
  },
  {
   "cell_type": "code",
   "execution_count": 3,
   "metadata": {},
   "outputs": [],
   "source": [
    "a = tf.constant(10.0,dtype=tf.float32)\n",
    "b = tf.constant(4.0,dtype=tf.float32)\n",
    "add = a + b\n",
    "subtract = a - b\n",
    "mult = tf.multiply(a,b)\n",
    "mult2 = a*b"
   ]
  },
  {
   "cell_type": "code",
   "execution_count": 4,
   "metadata": {},
   "outputs": [
    {
     "name": "stdout",
     "output_type": "stream",
     "text": [
      "tf.Tensor(14.0, shape=(), dtype=float32)\n",
      "tf.Tensor(6.0, shape=(), dtype=float32)\n",
      "tf.Tensor(40.0, shape=(), dtype=float32)\n",
      "tf.Tensor(40.0, shape=(), dtype=float32)\n"
     ]
    }
   ],
   "source": [
    "print(add)\n",
    "print(subtract)\n",
    "print(mult)\n",
    "print(mult2)"
   ]
  },
  {
   "cell_type": "code",
   "execution_count": 5,
   "metadata": {},
   "outputs": [],
   "source": [
    "hello = tf.constant(\"Hello world! Homework TF is here, Module 02\")"
   ]
  },
  {
   "cell_type": "code",
   "execution_count": 6,
   "metadata": {},
   "outputs": [
    {
     "name": "stdout",
     "output_type": "stream",
     "text": [
      "tf.Tensor(b'Hello world! Homework TF is here, Module 02', shape=(), dtype=string)\n"
     ]
    }
   ],
   "source": [
    "print(hello)"
   ]
  },
  {
   "cell_type": "code",
   "execution_count": 30,
   "metadata": {},
   "outputs": [
    {
     "name": "stdout",
     "output_type": "stream",
     "text": [
      "15.0\n",
      "5.0\n",
      "50.0\n",
      "50.0\n",
      "add  15.0\n",
      "sub  5.0\n",
      "mult1  50.0\n",
      "mult2  50.0\n"
     ]
    }
   ],
   "source": [
    "with tf.Session() as sess:\n",
    "    a = tf.constant(10.0,dtype=tf.float32)\n",
    "    b = tf.constant(5.0,dtype=tf.float32)\n",
    "    add = a + b\n",
    "    subtract = a - b\n",
    "    mult = tf.multiply(a,b)\n",
    "    mult2 = a*b\n",
    "    \n",
    "    print(sess.run(add))\n",
    "    print(sess.run(subtract))\n",
    "    print(sess.run(mult))\n",
    "    print(sess.run(mult2))\n",
    "    \n",
    "    output1 = sess.run(add)\n",
    "    output2 = sess.run(subtract)\n",
    "    output3 = sess.run(mult)\n",
    "    output4 = sess.run(mult2)\n",
    "    \n",
    "print('add ', output1)\n",
    "print('sub ', output2)\n",
    "print('mult1 ', output3)\n",
    "print('mult2 ', output4)\n",
    "\n",
    "sess.close()"
   ]
  },
  {
   "cell_type": "code",
   "execution_count": 37,
   "metadata": {},
   "outputs": [
    {
     "name": "stdout",
     "output_type": "stream",
     "text": [
      "[80.]\n"
     ]
    }
   ],
   "source": [
    "#y=m*x+c, feed scalar value to x:\n",
    "\n",
    "with tf.Session() as sess:\n",
    "    \n",
    "    m = tf.Variable(5.0, tf.float64)\n",
    "    c = tf.Variable(30.0, tf.float64)\n",
    "    x = tf.placeholder(tf.float32)\n",
    "    y = m * x + c\n",
    "    \n",
    "    i = tf.global_variables_initializer()\n",
    "    sess.run(i)\n",
    "    print(sess.run(y, feed_dict={x: [10]}))\n",
    "    \n",
    "sess.close()\n",
    "\n",
    "#verify: 5*10+30 = 50 + 30 = 80"
   ]
  },
  {
   "cell_type": "code",
   "execution_count": 38,
   "metadata": {},
   "outputs": [
    {
     "name": "stdout",
     "output_type": "stream",
     "text": [
      "[ 80. 130. 180. 230. 280.]\n"
     ]
    }
   ],
   "source": [
    "\n",
    "with tf.Session() as sess:\n",
    "    \n",
    "    m = tf.Variable(5.0, tf.float64)\n",
    "    c = tf.Variable(30.0, tf.float64)\n",
    "    x = tf.placeholder(tf.float32)\n",
    "    y = m * x + c\n",
    "    \n",
    "    i = tf.global_variables_initializer()\n",
    "    sess.run(i)\n",
    "    print(sess.run(y, feed_dict={x: [10, 20, 30, 40, 50]}))\n",
    "    \n",
    "sess.close()\n",
    "\n",
    "#verify: 5*10+30 = 50 + 30 = 80\n",
    "#verify: 5*20+30 = 100 + 30 = 130\n",
    "#verify: 5*30+30 = 510 + 30 = 180\n",
    "#verify: 5*40+30 = 200 + 30 = 230\n",
    "#verify: 5*50+30 = 250 + 30 = 280"
   ]
  },
  {
   "cell_type": "code",
   "execution_count": 51,
   "metadata": {},
   "outputs": [
    {
     "data": {
      "text/plain": [
       "(0.0, 400.0)"
      ]
     },
     "execution_count": 51,
     "metadata": {},
     "output_type": "execute_result"
    },
    {
     "data": {
      "image/png": "[encoded data removed]",
      "text/plain": [
       "<Figure size 432x288 with 1 Axes>"
      ]
     },
     "metadata": {
      "needs_background": "light"
     },
     "output_type": "display_data"
    }
   ],
   "source": [
    "x = [10, 20, 30, 40, 50]\n",
    "y = [80., 130., 180., 230., 280.]\n",
    "plt.plot(x,y)\n",
    "plt.xlim(0, 100)\n",
    "plt.ylim(0, 400)"
   ]
  },
  {
   "cell_type": "code",
   "execution_count": null,
   "metadata": {},
   "outputs": [],
   "source": []
  },
  {
   "cell_type": "code",
   "execution_count": 53,
   "metadata": {},
   "outputs": [
    {
     "data": {
      "text/plain": [
       "(0.0, 400.0)"
      ]
     },
     "execution_count": 53,
     "metadata": {},
     "output_type": "execute_result"
    },
    {
     "data": {
      "image/png": "[encoded data removed]",
      "text/plain": [
       "<Figure size 432x288 with 1 Axes>"
      ]
     },
     "metadata": {
      "needs_background": "light"
     },
     "output_type": "display_data"
    }
   ],
   "source": [
    "import numpy as np\n",
    "import matplotlib.pyplot as plt\n",
    "\n",
    "x = [10, 20, 30, 40, 50]\n",
    "y = [80., 130., 180., 230., 280.]\n",
    "\n",
    "coef = np.polyfit(x,y,1)\n",
    "poly1d_fn = np.poly1d(coef) \n",
    "# poly1d_fn is now a function which takes in x and returns an estimate for y\n",
    "\n",
    "plt.plot(x,y, 'yo', x, poly1d_fn(x), '--k') \n",
    "#'--k'=black dashed line, 'yo' = yellow circle marker\n",
    "\n",
    "plt.xlim(0, 100)\n",
    "plt.ylim(0, 400)"
   ]
  },
  {
   "cell_type": "code",
   "execution_count": null,
   "metadata": {},
   "outputs": [],
   "source": []
  },
  {
   "cell_type": "code",
   "execution_count": null,
   "metadata": {},
   "outputs": [],
   "source": []
  },
  {
   "cell_type": "code",
   "execution_count": null,
   "metadata": {},
   "outputs": [],
   "source": []
  }
 ],
 "metadata": {
  "colab": {
   "authorship_tag": "ABX9TyN/wBa64zPEsVW1nNEJBUYF",
   "collapsed_sections": [],
   "provenance": []
  },
  "kernelspec": {
   "display_name": "Python 3",
   "language": "python",
   "name": "python3"
  },
  "language_info": {
   "codemirror_mode": {
    "name": "ipython",
    "version": 3
   },
   "file_extension": ".py",
   "mimetype": "text/x-python",
   "name": "python",
   "nbconvert_exporter": "python",
   "pygments_lexer": "ipython3",
   "version": "3.8.12"
  }
 },
 "nbformat": 4,
 "nbformat_minor": 4
}
