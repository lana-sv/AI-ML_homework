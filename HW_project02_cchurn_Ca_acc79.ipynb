{
 "cells": [
  {
   "cell_type": "code",
   "execution_count": 1,
   "metadata": {
    "executionInfo": {
     "elapsed": 10,
     "status": "ok",
     "timestamp": 1665327427202,
     "user": {
      "displayName": "shaik azar",
      "userId": "05209245971384166097"
     },
     "user_tz": -330
    },
    "id": "8qtNdNTGPSxh"
   },
   "outputs": [],
   "source": [
    "import numpy as np\n",
    "import pandas as pd\n",
    "\n",
    "import matplotlib.pyplot as plt\n",
    "\n",
    "import tensorflow as tf\n",
    "import keras\n",
    "\n",
    "from sklearn.preprocessing import LabelEncoder\n",
    "from sklearn.compose import ColumnTransformer\n",
    "from sklearn.preprocessing import OneHotEncoder\n",
    "from sklearn.model_selection import train_test_split\n",
    "from sklearn.preprocessing import StandardScaler\n",
    "from sklearn.metrics import confusion_matrix, accuracy_score"
   ]
  },
  {
   "cell_type": "code",
   "execution_count": 2,
   "metadata": {
    "executionInfo": {
     "elapsed": 4,
     "status": "ok",
     "timestamp": 1665329164058,
     "user": {
      "displayName": "shaik azar",
      "userId": "05209245971384166097"
     },
     "user_tz": -330
    },
    "id": "Z7p71Nq6PxEh"
   },
   "outputs": [],
   "source": [
    "data = pd.read_csv(\"~/datacsv/Churn_Modelling.csv\")\n",
    "#data = pd.read_csv(\"~/datacsv/cchurn1.csv\")"
   ]
  },
  {
   "cell_type": "code",
   "execution_count": 3,
   "metadata": {
    "colab": {
     "base_uri": "https://localhost:8080/",
     "height": 488
    },
    "executionInfo": {
     "elapsed": 10,
     "status": "ok",
     "timestamp": 1665329166860,
     "user": {
      "displayName": "shaik azar",
      "userId": "05209245971384166097"
     },
     "user_tz": -330
    },
    "id": "YNIOl21TP_rE",
    "outputId": "899b2c2a-7235-48a5-e2c1-a9a0d8e2047d"
   },
   "outputs": [
    {
     "data": {
      "text/html": [
       "<div>\n",
       "<style scoped>\n",
       "    .dataframe tbody tr th:only-of-type {\n",
       "        vertical-align: middle;\n",
       "    }\n",
       "\n",
       "    .dataframe tbody tr th {\n",
       "        vertical-align: top;\n",
       "    }\n",
       "\n",
       "    .dataframe thead th {\n",
       "        text-align: right;\n",
       "    }\n",
       "</style>\n",
       "<table border=\"1\" class=\"dataframe\">\n",
       "  <thead>\n",
       "    <tr style=\"text-align: right;\">\n",
       "      <th></th>\n",
       "      <th>RowNumber</th>\n",
       "      <th>CustomerId</th>\n",
       "      <th>Surname</th>\n",
       "      <th>CreditScore</th>\n",
       "      <th>Geography</th>\n",
       "      <th>Gender</th>\n",
       "      <th>Age</th>\n",
       "      <th>Tenure</th>\n",
       "      <th>Balance</th>\n",
       "      <th>NumOfProducts</th>\n",
       "      <th>HasCrCard</th>\n",
       "      <th>IsActiveMember</th>\n",
       "      <th>EstimatedSalary</th>\n",
       "      <th>Exited</th>\n",
       "    </tr>\n",
       "  </thead>\n",
       "  <tbody>\n",
       "    <tr>\n",
       "      <th>0</th>\n",
       "      <td>1</td>\n",
       "      <td>15634602</td>\n",
       "      <td>Hargrave</td>\n",
       "      <td>619</td>\n",
       "      <td>France</td>\n",
       "      <td>Female</td>\n",
       "      <td>42</td>\n",
       "      <td>2</td>\n",
       "      <td>0.00</td>\n",
       "      <td>1</td>\n",
       "      <td>1</td>\n",
       "      <td>1</td>\n",
       "      <td>101348.88</td>\n",
       "      <td>1</td>\n",
       "    </tr>\n",
       "    <tr>\n",
       "      <th>1</th>\n",
       "      <td>2</td>\n",
       "      <td>15647311</td>\n",
       "      <td>Hill</td>\n",
       "      <td>608</td>\n",
       "      <td>Spain</td>\n",
       "      <td>Female</td>\n",
       "      <td>41</td>\n",
       "      <td>1</td>\n",
       "      <td>83807.86</td>\n",
       "      <td>1</td>\n",
       "      <td>0</td>\n",
       "      <td>1</td>\n",
       "      <td>112542.58</td>\n",
       "      <td>0</td>\n",
       "    </tr>\n",
       "    <tr>\n",
       "      <th>2</th>\n",
       "      <td>3</td>\n",
       "      <td>15619304</td>\n",
       "      <td>Onio</td>\n",
       "      <td>502</td>\n",
       "      <td>France</td>\n",
       "      <td>Female</td>\n",
       "      <td>42</td>\n",
       "      <td>8</td>\n",
       "      <td>159660.80</td>\n",
       "      <td>3</td>\n",
       "      <td>1</td>\n",
       "      <td>0</td>\n",
       "      <td>113931.57</td>\n",
       "      <td>1</td>\n",
       "    </tr>\n",
       "    <tr>\n",
       "      <th>3</th>\n",
       "      <td>4</td>\n",
       "      <td>15701354</td>\n",
       "      <td>Boni</td>\n",
       "      <td>699</td>\n",
       "      <td>France</td>\n",
       "      <td>Female</td>\n",
       "      <td>39</td>\n",
       "      <td>1</td>\n",
       "      <td>0.00</td>\n",
       "      <td>2</td>\n",
       "      <td>0</td>\n",
       "      <td>0</td>\n",
       "      <td>93826.63</td>\n",
       "      <td>0</td>\n",
       "    </tr>\n",
       "    <tr>\n",
       "      <th>4</th>\n",
       "      <td>5</td>\n",
       "      <td>15737888</td>\n",
       "      <td>Mitchell</td>\n",
       "      <td>850</td>\n",
       "      <td>Spain</td>\n",
       "      <td>Female</td>\n",
       "      <td>43</td>\n",
       "      <td>2</td>\n",
       "      <td>125510.82</td>\n",
       "      <td>1</td>\n",
       "      <td>1</td>\n",
       "      <td>1</td>\n",
       "      <td>79084.10</td>\n",
       "      <td>0</td>\n",
       "    </tr>\n",
       "    <tr>\n",
       "      <th>...</th>\n",
       "      <td>...</td>\n",
       "      <td>...</td>\n",
       "      <td>...</td>\n",
       "      <td>...</td>\n",
       "      <td>...</td>\n",
       "      <td>...</td>\n",
       "      <td>...</td>\n",
       "      <td>...</td>\n",
       "      <td>...</td>\n",
       "      <td>...</td>\n",
       "      <td>...</td>\n",
       "      <td>...</td>\n",
       "      <td>...</td>\n",
       "      <td>...</td>\n",
       "    </tr>\n",
       "    <tr>\n",
       "      <th>9995</th>\n",
       "      <td>9996</td>\n",
       "      <td>15606229</td>\n",
       "      <td>Obijiaku</td>\n",
       "      <td>771</td>\n",
       "      <td>France</td>\n",
       "      <td>Male</td>\n",
       "      <td>39</td>\n",
       "      <td>5</td>\n",
       "      <td>0.00</td>\n",
       "      <td>2</td>\n",
       "      <td>1</td>\n",
       "      <td>0</td>\n",
       "      <td>96270.64</td>\n",
       "      <td>0</td>\n",
       "    </tr>\n",
       "    <tr>\n",
       "      <th>9996</th>\n",
       "      <td>9997</td>\n",
       "      <td>15569892</td>\n",
       "      <td>Johnstone</td>\n",
       "      <td>516</td>\n",
       "      <td>France</td>\n",
       "      <td>Male</td>\n",
       "      <td>35</td>\n",
       "      <td>10</td>\n",
       "      <td>57369.61</td>\n",
       "      <td>1</td>\n",
       "      <td>1</td>\n",
       "      <td>1</td>\n",
       "      <td>101699.77</td>\n",
       "      <td>0</td>\n",
       "    </tr>\n",
       "    <tr>\n",
       "      <th>9997</th>\n",
       "      <td>9998</td>\n",
       "      <td>15584532</td>\n",
       "      <td>Liu</td>\n",
       "      <td>709</td>\n",
       "      <td>France</td>\n",
       "      <td>Female</td>\n",
       "      <td>36</td>\n",
       "      <td>7</td>\n",
       "      <td>0.00</td>\n",
       "      <td>1</td>\n",
       "      <td>0</td>\n",
       "      <td>1</td>\n",
       "      <td>42085.58</td>\n",
       "      <td>1</td>\n",
       "    </tr>\n",
       "    <tr>\n",
       "      <th>9998</th>\n",
       "      <td>9999</td>\n",
       "      <td>15682355</td>\n",
       "      <td>Sabbatini</td>\n",
       "      <td>772</td>\n",
       "      <td>Germany</td>\n",
       "      <td>Male</td>\n",
       "      <td>42</td>\n",
       "      <td>3</td>\n",
       "      <td>75075.31</td>\n",
       "      <td>2</td>\n",
       "      <td>1</td>\n",
       "      <td>0</td>\n",
       "      <td>92888.52</td>\n",
       "      <td>1</td>\n",
       "    </tr>\n",
       "    <tr>\n",
       "      <th>9999</th>\n",
       "      <td>10000</td>\n",
       "      <td>15628319</td>\n",
       "      <td>Walker</td>\n",
       "      <td>792</td>\n",
       "      <td>France</td>\n",
       "      <td>Female</td>\n",
       "      <td>28</td>\n",
       "      <td>4</td>\n",
       "      <td>130142.79</td>\n",
       "      <td>1</td>\n",
       "      <td>1</td>\n",
       "      <td>0</td>\n",
       "      <td>38190.78</td>\n",
       "      <td>0</td>\n",
       "    </tr>\n",
       "  </tbody>\n",
       "</table>\n",
       "<p>10000 rows × 14 columns</p>\n",
       "</div>"
      ],
      "text/plain": [
       "      RowNumber  CustomerId    Surname  CreditScore Geography  Gender  Age  \\\n",
       "0             1    15634602   Hargrave          619    France  Female   42   \n",
       "1             2    15647311       Hill          608     Spain  Female   41   \n",
       "2             3    15619304       Onio          502    France  Female   42   \n",
       "3             4    15701354       Boni          699    France  Female   39   \n",
       "4             5    15737888   Mitchell          850     Spain  Female   43   \n",
       "...         ...         ...        ...          ...       ...     ...  ...   \n",
       "9995       9996    15606229   Obijiaku          771    France    Male   39   \n",
       "9996       9997    15569892  Johnstone          516    France    Male   35   \n",
       "9997       9998    15584532        Liu          709    France  Female   36   \n",
       "9998       9999    15682355  Sabbatini          772   Germany    Male   42   \n",
       "9999      10000    15628319     Walker          792    France  Female   28   \n",
       "\n",
       "      Tenure    Balance  NumOfProducts  HasCrCard  IsActiveMember  \\\n",
       "0          2       0.00              1          1               1   \n",
       "1          1   83807.86              1          0               1   \n",
       "2          8  159660.80              3          1               0   \n",
       "3          1       0.00              2          0               0   \n",
       "4          2  125510.82              1          1               1   \n",
       "...      ...        ...            ...        ...             ...   \n",
       "9995       5       0.00              2          1               0   \n",
       "9996      10   57369.61              1          1               1   \n",
       "9997       7       0.00              1          0               1   \n",
       "9998       3   75075.31              2          1               0   \n",
       "9999       4  130142.79              1          1               0   \n",
       "\n",
       "      EstimatedSalary  Exited  \n",
       "0           101348.88       1  \n",
       "1           112542.58       0  \n",
       "2           113931.57       1  \n",
       "3            93826.63       0  \n",
       "4            79084.10       0  \n",
       "...               ...     ...  \n",
       "9995         96270.64       0  \n",
       "9996        101699.77       0  \n",
       "9997         42085.58       1  \n",
       "9998         92888.52       1  \n",
       "9999         38190.78       0  \n",
       "\n",
       "[10000 rows x 14 columns]"
      ]
     },
     "execution_count": 3,
     "metadata": {},
     "output_type": "execute_result"
    }
   ],
   "source": [
    "data"
   ]
  },
  {
   "cell_type": "code",
   "execution_count": 4,
   "metadata": {
    "colab": {
     "base_uri": "https://localhost:8080/"
    },
    "executionInfo": {
     "elapsed": 2253,
     "status": "ok",
     "timestamp": 1665329115505,
     "user": {
      "displayName": "shaik azar",
      "userId": "05209245971384166097"
     },
     "user_tz": -330
    },
    "id": "iLB4dkFIWYJ3",
    "outputId": "c06626f8-7ac2-4d64-e977-04d4f6c7f5e6"
   },
   "outputs": [
    {
     "name": "stdout",
     "output_type": "stream",
     "text": [
      "<class 'pandas.core.frame.DataFrame'>\n",
      "RangeIndex: 10000 entries, 0 to 9999\n",
      "Data columns (total 14 columns):\n",
      " #   Column           Non-Null Count  Dtype  \n",
      "---  ------           --------------  -----  \n",
      " 0   RowNumber        10000 non-null  int64  \n",
      " 1   CustomerId       10000 non-null  int64  \n",
      " 2   Surname          10000 non-null  object \n",
      " 3   CreditScore      10000 non-null  int64  \n",
      " 4   Geography        10000 non-null  object \n",
      " 5   Gender           10000 non-null  object \n",
      " 6   Age              10000 non-null  int64  \n",
      " 7   Tenure           10000 non-null  int64  \n",
      " 8   Balance          10000 non-null  float64\n",
      " 9   NumOfProducts    10000 non-null  int64  \n",
      " 10  HasCrCard        10000 non-null  int64  \n",
      " 11  IsActiveMember   10000 non-null  int64  \n",
      " 12  EstimatedSalary  10000 non-null  float64\n",
      " 13  Exited           10000 non-null  int64  \n",
      "dtypes: float64(2), int64(9), object(3)\n",
      "memory usage: 1.1+ MB\n"
     ]
    }
   ],
   "source": [
    "data.info()"
   ]
  },
  {
   "cell_type": "code",
   "execution_count": 5,
   "metadata": {},
   "outputs": [
    {
     "data": {
      "text/plain": [
       "(10000, 14)"
      ]
     },
     "execution_count": 5,
     "metadata": {},
     "output_type": "execute_result"
    }
   ],
   "source": [
    "data.shape"
   ]
  },
  {
   "cell_type": "code",
   "execution_count": 6,
   "metadata": {
    "colab": {
     "base_uri": "https://localhost:8080/"
    },
    "executionInfo": {
     "elapsed": 14,
     "status": "ok",
     "timestamp": 1665329938563,
     "user": {
      "displayName": "shaik azar",
      "userId": "05209245971384166097"
     },
     "user_tz": -330
    },
    "id": "Pw242S_QWI1z",
    "outputId": "cc2b0149-6e28-4b95-ff3c-f767a7814d2a"
   },
   "outputs": [],
   "source": [
    "#data.isnull().sum()"
   ]
  },
  {
   "cell_type": "code",
   "execution_count": 7,
   "metadata": {
    "executionInfo": {
     "elapsed": 4,
     "status": "ok",
     "timestamp": 1665330039050,
     "user": {
      "displayName": "shaik azar",
      "userId": "05209245971384166097"
     },
     "user_tz": -330
    },
    "id": "2uniUlaQZnBJ"
   },
   "outputs": [],
   "source": [
    "#data1=data.dropna()"
   ]
  },
  {
   "cell_type": "code",
   "execution_count": 8,
   "metadata": {
    "executionInfo": {
     "elapsed": 822,
     "status": "ok",
     "timestamp": 1665330052054,
     "user": {
      "displayName": "shaik azar",
      "userId": "05209245971384166097"
     },
     "user_tz": -330
    },
    "id": "rqbEg87HQIf_"
   },
   "outputs": [],
   "source": [
    "x = data.iloc[:,[3,6,7,8,9,10,11,12]].values\n",
    "y=data.iloc[:,13].values"
   ]
  },
  {
   "cell_type": "code",
   "execution_count": 9,
   "metadata": {
    "colab": {
     "base_uri": "https://localhost:8080/"
    },
    "executionInfo": {
     "elapsed": 8,
     "status": "ok",
     "timestamp": 1665330057103,
     "user": {
      "displayName": "shaik azar",
      "userId": "05209245971384166097"
     },
     "user_tz": -330
    },
    "id": "FAFOgQSTQUhB",
    "outputId": "afb83821-572b-4e24-808b-35312ee92f37"
   },
   "outputs": [
    {
     "data": {
      "text/plain": [
       "array([[6.1900000e+02, 4.2000000e+01, 2.0000000e+00, ..., 1.0000000e+00,\n",
       "        1.0000000e+00, 1.0134888e+05],\n",
       "       [6.0800000e+02, 4.1000000e+01, 1.0000000e+00, ..., 0.0000000e+00,\n",
       "        1.0000000e+00, 1.1254258e+05],\n",
       "       [5.0200000e+02, 4.2000000e+01, 8.0000000e+00, ..., 1.0000000e+00,\n",
       "        0.0000000e+00, 1.1393157e+05],\n",
       "       ...,\n",
       "       [7.0900000e+02, 3.6000000e+01, 7.0000000e+00, ..., 0.0000000e+00,\n",
       "        1.0000000e+00, 4.2085580e+04],\n",
       "       [7.7200000e+02, 4.2000000e+01, 3.0000000e+00, ..., 1.0000000e+00,\n",
       "        0.0000000e+00, 9.2888520e+04],\n",
       "       [7.9200000e+02, 2.8000000e+01, 4.0000000e+00, ..., 1.0000000e+00,\n",
       "        0.0000000e+00, 3.8190780e+04]])"
      ]
     },
     "execution_count": 9,
     "metadata": {},
     "output_type": "execute_result"
    }
   ],
   "source": [
    "x"
   ]
  },
  {
   "cell_type": "code",
   "execution_count": 10,
   "metadata": {},
   "outputs": [
    {
     "data": {
      "text/plain": [
       "(10000, 8)"
      ]
     },
     "execution_count": 10,
     "metadata": {},
     "output_type": "execute_result"
    }
   ],
   "source": [
    "x.shape"
   ]
  },
  {
   "cell_type": "code",
   "execution_count": 11,
   "metadata": {
    "colab": {
     "base_uri": "https://localhost:8080/"
    },
    "executionInfo": {
     "elapsed": 9,
     "status": "ok",
     "timestamp": 1665330060482,
     "user": {
      "displayName": "shaik azar",
      "userId": "05209245971384166097"
     },
     "user_tz": -330
    },
    "id": "RN7DLB4IQWDc",
    "outputId": "440eaabc-8c05-4db7-9e6a-c9d0b751d8a9"
   },
   "outputs": [
    {
     "data": {
      "text/plain": [
       "array([1, 0, 1, ..., 1, 1, 0])"
      ]
     },
     "execution_count": 11,
     "metadata": {},
     "output_type": "execute_result"
    }
   ],
   "source": [
    "y"
   ]
  },
  {
   "cell_type": "code",
   "execution_count": 12,
   "metadata": {
    "executionInfo": {
     "elapsed": 4,
     "status": "ok",
     "timestamp": 1665330065074,
     "user": {
      "displayName": "shaik azar",
      "userId": "05209245971384166097"
     },
     "user_tz": -330
    },
    "id": "TVNxfzm5QW8f"
   },
   "outputs": [],
   "source": [
    "# splitting the training & test sets\n",
    "from sklearn.model_selection import train_test_split\n",
    "x_train,x_test,y_train,y_test= train_test_split(x,y, test_size=0.2)"
   ]
  },
  {
   "cell_type": "code",
   "execution_count": 13,
   "metadata": {},
   "outputs": [
    {
     "data": {
      "text/plain": [
       "((8000, 8), (2000, 8), (8000,), (2000,))"
      ]
     },
     "execution_count": 13,
     "metadata": {},
     "output_type": "execute_result"
    }
   ],
   "source": [
    "x_train.shape ,x_test.shape, y_train.shape ,y_test.shape"
   ]
  },
  {
   "cell_type": "code",
   "execution_count": 14,
   "metadata": {
    "executionInfo": {
     "elapsed": 1,
     "status": "ok",
     "timestamp": 1665330068344,
     "user": {
      "displayName": "shaik azar",
      "userId": "05209245971384166097"
     },
     "user_tz": -330
    },
    "id": "r0LO-ofKUhSB"
   },
   "outputs": [],
   "source": [
    "# Feature Scaling\n",
    "from sklearn.preprocessing import MinMaxScaler\n",
    "mc=MinMaxScaler()\n",
    "x_train1 = mc.fit_transform( x_train)\n",
    "X_test1 = mc.fit_transform( x_test)"
   ]
  },
  {
   "cell_type": "code",
   "execution_count": 15,
   "metadata": {
    "executionInfo": {
     "elapsed": 5,
     "status": "ok",
     "timestamp": 1665329231326,
     "user": {
      "displayName": "shaik azar",
      "userId": "05209245971384166097"
     },
     "user_tz": -330
    },
    "id": "qCrZ1bbYRHjL"
   },
   "outputs": [],
   "source": [
    "import keras\n",
    "from keras.models import Sequential\n",
    "from keras.layers import Dense\n",
    "from keras.layers import Dropout"
   ]
  },
  {
   "cell_type": "code",
   "execution_count": 16,
   "metadata": {
    "executionInfo": {
     "elapsed": 8,
     "status": "ok",
     "timestamp": 1665330071253,
     "user": {
      "displayName": "shaik azar",
      "userId": "05209245971384166097"
     },
     "user_tz": -330
    },
    "id": "YzDCMeK3Rt6G"
   },
   "outputs": [],
   "source": [
    "# Initialize the model\n",
    "model=Sequential()\n",
    "\n",
    "# Build input layer \n",
    "model.add(Dense(units=32, activation='relu', input_dim=8))"
   ]
  },
  {
   "cell_type": "code",
   "execution_count": 17,
   "metadata": {
    "executionInfo": {
     "elapsed": 3,
     "status": "ok",
     "timestamp": 1665330074215,
     "user": {
      "displayName": "shaik azar",
      "userId": "05209245971384166097"
     },
     "user_tz": -330
    },
    "id": "f7YZxhXsSI-F"
   },
   "outputs": [],
   "source": [
    "# Building hidden layer\n",
    "model.add(Dense(units=16,activation ='relu'))"
   ]
  },
  {
   "cell_type": "code",
   "execution_count": 18,
   "metadata": {},
   "outputs": [],
   "source": [
    "# Building hidden layer\n",
    "model.add(Dense(units=8,activation ='relu'))"
   ]
  },
  {
   "cell_type": "code",
   "execution_count": 19,
   "metadata": {
    "executionInfo": {
     "elapsed": 409,
     "status": "ok",
     "timestamp": 1665330076767,
     "user": {
      "displayName": "shaik azar",
      "userId": "05209245971384166097"
     },
     "user_tz": -330
    },
    "id": "fWbqbVchShPq"
   },
   "outputs": [],
   "source": [
    "#Adding outer layer\n",
    "model.add(Dense(units=1, activation='sigmoid'))"
   ]
  },
  {
   "cell_type": "code",
   "execution_count": 20,
   "metadata": {
    "executionInfo": {
     "elapsed": 7,
     "status": "ok",
     "timestamp": 1665330079698,
     "user": {
      "displayName": "shaik azar",
      "userId": "05209245971384166097"
     },
     "user_tz": -330
    },
    "id": "aFJmCSsdTAqM"
   },
   "outputs": [],
   "source": [
    "# compile the model\n",
    "model.compile(optimizer='adam', loss='binary_crossentropy', metrics = ['accuracy'])"
   ]
  },
  {
   "cell_type": "code",
   "execution_count": 21,
   "metadata": {},
   "outputs": [
    {
     "name": "stdout",
     "output_type": "stream",
     "text": [
      "Epoch 1/150\n",
      "786/800 [============================>.] - ETA: 0s - loss: 108.3839 - accuracy: 0.6785WARNING:tensorflow:Early stopping conditioned on metric `val_loss` which is not available. Available metrics are: loss,accuracy\n",
      "800/800 [==============================] - 1s 707us/step - loss: 107.0858 - accuracy: 0.6768\n",
      "Epoch 2/150\n",
      "798/800 [============================>.] - ETA: 0s - loss: 24.3324 - accuracy: 0.6815WARNING:tensorflow:Early stopping conditioned on metric `val_loss` which is not available. Available metrics are: loss,accuracy\n",
      "800/800 [==============================] - 1s 695us/step - loss: 24.3242 - accuracy: 0.6802\n",
      "Epoch 3/150\n",
      "799/800 [============================>.] - ETA: 0s - loss: 10.2560 - accuracy: 0.6815WARNING:tensorflow:Early stopping conditioned on metric `val_loss` which is not available. Available metrics are: loss,accuracy\n",
      "800/800 [==============================] - 1s 693us/step - loss: 10.2470 - accuracy: 0.6817\n",
      "Epoch 4/150\n",
      "799/800 [============================>.] - ETA: 0s - loss: 7.4563 - accuracy: 0.6824WARNING:tensorflow:Early stopping conditioned on metric `val_loss` which is not available. Available metrics are: loss,accuracy\n",
      "800/800 [==============================] - 1s 694us/step - loss: 7.4526 - accuracy: 0.6821\n",
      "Epoch 5/150\n",
      "733/800 [==========================>...] - ETA: 0s - loss: 5.6454 - accuracy: 0.6824WARNING:tensorflow:Early stopping conditioned on metric `val_loss` which is not available. Available metrics are: loss,accuracy\n",
      "800/800 [==============================] - 1s 689us/step - loss: 5.4825 - accuracy: 0.6825\n",
      "Epoch 6/150\n",
      "732/800 [==========================>...] - ETA: 0s - loss: 4.3706 - accuracy: 0.6787WARNING:tensorflow:Early stopping conditioned on metric `val_loss` which is not available. Available metrics are: loss,accuracy\n",
      "800/800 [==============================] - 1s 689us/step - loss: 4.3066 - accuracy: 0.6798\n",
      "Epoch 7/150\n",
      "733/800 [==========================>...] - ETA: 0s - loss: 1.6076 - accuracy: 0.7020WARNING:tensorflow:Early stopping conditioned on metric `val_loss` which is not available. Available metrics are: loss,accuracy\n",
      "800/800 [==============================] - 1s 687us/step - loss: 1.5741 - accuracy: 0.7041\n",
      "Epoch 8/150\n",
      "734/800 [==========================>...] - ETA: 0s - loss: 1.2538 - accuracy: 0.7109WARNING:tensorflow:Early stopping conditioned on metric `val_loss` which is not available. Available metrics are: loss,accuracy\n",
      "800/800 [==============================] - 1s 688us/step - loss: 1.3706 - accuracy: 0.7081\n",
      "Epoch 9/150\n",
      "730/800 [==========================>...] - ETA: 0s - loss: 1.2863 - accuracy: 0.6970WARNING:tensorflow:Early stopping conditioned on metric `val_loss` which is not available. Available metrics are: loss,accuracy\n",
      "800/800 [==============================] - 1s 691us/step - loss: 1.2409 - accuracy: 0.6980\n",
      "Epoch 10/150\n",
      "732/800 [==========================>...] - ETA: 0s - loss: 0.9856 - accuracy: 0.7467WARNING:tensorflow:Early stopping conditioned on metric `val_loss` which is not available. Available metrics are: loss,accuracy\n",
      "800/800 [==============================] - 1s 690us/step - loss: 0.9469 - accuracy: 0.7494\n",
      "Epoch 11/150\n",
      "738/800 [==========================>...] - ETA: 0s - loss: 0.5129 - accuracy: 0.7972WARNING:tensorflow:Early stopping conditioned on metric `val_loss` which is not available. Available metrics are: loss,accuracy\n",
      "800/800 [==============================] - 1s 685us/step - loss: 0.5137 - accuracy: 0.7959\n",
      "Epoch 12/150\n",
      "780/800 [============================>.] - ETA: 0s - loss: 0.5088 - accuracy: 0.7956WARNING:tensorflow:Early stopping conditioned on metric `val_loss` which is not available. Available metrics are: loss,accuracy\n",
      "800/800 [==============================] - 1s 712us/step - loss: 0.5081 - accuracy: 0.7961\n",
      "Epoch 13/150\n",
      "793/800 [============================>.] - ETA: 0s - loss: 0.5045 - accuracy: 0.7953WARNING:tensorflow:Early stopping conditioned on metric `val_loss` which is not available. Available metrics are: loss,accuracy\n",
      "800/800 [==============================] - 1s 700us/step - loss: 0.5037 - accuracy: 0.7960\n",
      "Epoch 14/150\n",
      "733/800 [==========================>...] - ETA: 0s - loss: 0.5041 - accuracy: 0.7975WARNING:tensorflow:Early stopping conditioned on metric `val_loss` which is not available. Available metrics are: loss,accuracy\n",
      "800/800 [==============================] - 1s 688us/step - loss: 0.5058 - accuracy: 0.7962\n",
      "Epoch 15/150\n",
      "735/800 [==========================>...] - ETA: 0s - loss: 0.5100 - accuracy: 0.7947WARNING:tensorflow:Early stopping conditioned on metric `val_loss` which is not available. Available metrics are: loss,accuracy\n",
      "800/800 [==============================] - 1s 687us/step - loss: 0.5085 - accuracy: 0.7956\n",
      "Epoch 16/150\n",
      "730/800 [==========================>...] - ETA: 0s - loss: 0.4996 - accuracy: 0.8010WARNING:tensorflow:Early stopping conditioned on metric `val_loss` which is not available. Available metrics are: loss,accuracy\n",
      "800/800 [==============================] - 1s 691us/step - loss: 0.5062 - accuracy: 0.7961\n",
      "Epoch 17/150\n",
      "736/800 [==========================>...] - ETA: 0s - loss: 0.5056 - accuracy: 0.7963WARNING:tensorflow:Early stopping conditioned on metric `val_loss` which is not available. Available metrics are: loss,accuracy\n",
      "800/800 [==============================] - 1s 687us/step - loss: 0.5056 - accuracy: 0.7962\n",
      "Epoch 18/150\n",
      "733/800 [==========================>...] - ETA: 0s - loss: 0.5092 - accuracy: 0.7935WARNING:tensorflow:Early stopping conditioned on metric `val_loss` which is not available. Available metrics are: loss,accuracy\n",
      "800/800 [==============================] - 1s 689us/step - loss: 0.5054 - accuracy: 0.7962\n",
      "Epoch 19/150\n",
      "730/800 [==========================>...] - ETA: 0s - loss: 0.5059 - accuracy: 0.7958WARNING:tensorflow:Early stopping conditioned on metric `val_loss` which is not available. Available metrics are: loss,accuracy\n",
      "800/800 [==============================] - 1s 691us/step - loss: 0.5055 - accuracy: 0.7961\n",
      "Epoch 20/150\n",
      "734/800 [==========================>...] - ETA: 0s - loss: 0.5038 - accuracy: 0.7978WARNING:tensorflow:Early stopping conditioned on metric `val_loss` which is not available. Available metrics are: loss,accuracy\n",
      "800/800 [==============================] - 1s 687us/step - loss: 0.5059 - accuracy: 0.7962\n",
      "Epoch 21/150\n",
      "734/800 [==========================>...] - ETA: 0s - loss: 0.5048 - accuracy: 0.7967WARNING:tensorflow:Early stopping conditioned on metric `val_loss` which is not available. Available metrics are: loss,accuracy\n",
      "800/800 [==============================] - 1s 688us/step - loss: 0.5055 - accuracy: 0.7962\n",
      "Epoch 22/150\n",
      "734/800 [==========================>...] - ETA: 0s - loss: 0.5126 - accuracy: 0.7946WARNING:tensorflow:Early stopping conditioned on metric `val_loss` which is not available. Available metrics are: loss,accuracy\n",
      "800/800 [==============================] - 1s 687us/step - loss: 0.5103 - accuracy: 0.7960\n",
      "Epoch 23/150\n",
      "732/800 [==========================>...] - ETA: 0s - loss: 0.5049 - accuracy: 0.7966WARNING:tensorflow:Early stopping conditioned on metric `val_loss` which is not available. Available metrics are: loss,accuracy\n",
      "800/800 [==============================] - 1s 690us/step - loss: 0.5054 - accuracy: 0.7962\n",
      "Epoch 24/150\n",
      "734/800 [==========================>...] - ETA: 0s - loss: 0.5063 - accuracy: 0.7956WARNING:tensorflow:Early stopping conditioned on metric `val_loss` which is not available. Available metrics are: loss,accuracy\n",
      "800/800 [==============================] - 1s 687us/step - loss: 0.5054 - accuracy: 0.7962\n",
      "Epoch 25/150\n",
      "798/800 [============================>.] - ETA: 0s - loss: 0.5057 - accuracy: 0.7960WARNING:tensorflow:Early stopping conditioned on metric `val_loss` which is not available. Available metrics are: loss,accuracy\n",
      "800/800 [==============================] - 1s 695us/step - loss: 0.5054 - accuracy: 0.7962\n",
      "Epoch 26/150\n",
      "731/800 [==========================>...] - ETA: 0s - loss: 0.5032 - accuracy: 0.7979WARNING:tensorflow:Early stopping conditioned on metric `val_loss` which is not available. Available metrics are: loss,accuracy\n",
      "800/800 [==============================] - 1s 690us/step - loss: 0.5061 - accuracy: 0.7960\n",
      "Epoch 27/150\n",
      "793/800 [============================>.] - ETA: 0s - loss: 0.5056 - accuracy: 0.7961WARNING:tensorflow:Early stopping conditioned on metric `val_loss` which is not available. Available metrics are: loss,accuracy\n",
      "800/800 [==============================] - 1s 764us/step - loss: 0.5054 - accuracy: 0.7962\n",
      "Epoch 28/150\n",
      "733/800 [==========================>...] - ETA: 0s - loss: 0.5075 - accuracy: 0.7951WARNING:tensorflow:Early stopping conditioned on metric `val_loss` which is not available. Available metrics are: loss,accuracy\n",
      "800/800 [==============================] - 1s 688us/step - loss: 0.5060 - accuracy: 0.7961\n",
      "Epoch 29/150\n",
      "736/800 [==========================>...] - ETA: 0s - loss: 0.5046 - accuracy: 0.7969WARNING:tensorflow:Early stopping conditioned on metric `val_loss` which is not available. Available metrics are: loss,accuracy\n",
      "800/800 [==============================] - 1s 686us/step - loss: 0.5054 - accuracy: 0.7962\n",
      "Epoch 30/150\n",
      "735/800 [==========================>...] - ETA: 0s - loss: 0.5032 - accuracy: 0.7978WARNING:tensorflow:Early stopping conditioned on metric `val_loss` which is not available. Available metrics are: loss,accuracy\n",
      "800/800 [==============================] - 1s 687us/step - loss: 0.5054 - accuracy: 0.7962\n",
      "Epoch 31/150\n",
      "731/800 [==========================>...] - ETA: 0s - loss: 0.5073 - accuracy: 0.7948WARNING:tensorflow:Early stopping conditioned on metric `val_loss` which is not available. Available metrics are: loss,accuracy\n",
      "800/800 [==============================] - 1s 690us/step - loss: 0.5073 - accuracy: 0.7962\n",
      "Epoch 32/150\n",
      "733/800 [==========================>...] - ETA: 0s - loss: 0.5683 - accuracy: 0.7963WARNING:tensorflow:Early stopping conditioned on metric `val_loss` which is not available. Available metrics are: loss,accuracy\n",
      "800/800 [==============================] - 1s 688us/step - loss: 0.5633 - accuracy: 0.7961\n",
      "Epoch 33/150\n",
      "735/800 [==========================>...] - ETA: 0s - loss: 0.5045 - accuracy: 0.7969WARNING:tensorflow:Early stopping conditioned on metric `val_loss` which is not available. Available metrics are: loss,accuracy\n",
      "800/800 [==============================] - 1s 687us/step - loss: 0.5054 - accuracy: 0.7962\n",
      "Epoch 34/150\n",
      "731/800 [==========================>...] - ETA: 0s - loss: 0.5051 - accuracy: 0.7964WARNING:tensorflow:Early stopping conditioned on metric `val_loss` which is not available. Available metrics are: loss,accuracy\n",
      "800/800 [==============================] - 1s 691us/step - loss: 0.5054 - accuracy: 0.7962\n",
      "Epoch 35/150\n",
      "734/800 [==========================>...] - ETA: 0s - loss: 0.5073 - accuracy: 0.7950WARNING:tensorflow:Early stopping conditioned on metric `val_loss` which is not available. Available metrics are: loss,accuracy\n",
      "800/800 [==============================] - 1s 688us/step - loss: 0.5056 - accuracy: 0.7961\n",
      "Epoch 36/150\n",
      "731/800 [==========================>...] - ETA: 0s - loss: 0.5067 - accuracy: 0.7953WARNING:tensorflow:Early stopping conditioned on metric `val_loss` which is not available. Available metrics are: loss,accuracy\n",
      "800/800 [==============================] - 1s 689us/step - loss: 0.5055 - accuracy: 0.7962\n",
      "Epoch 37/150\n",
      "735/800 [==========================>...] - ETA: 0s - loss: 0.5051 - accuracy: 0.7965WARNING:tensorflow:Early stopping conditioned on metric `val_loss` which is not available. Available metrics are: loss,accuracy\n",
      "800/800 [==============================] - 1s 687us/step - loss: 0.5054 - accuracy: 0.7962\n",
      "Epoch 38/150\n",
      "732/800 [==========================>...] - ETA: 0s - loss: 0.5068 - accuracy: 0.7955WARNING:tensorflow:Early stopping conditioned on metric `val_loss` which is not available. Available metrics are: loss,accuracy\n",
      "800/800 [==============================] - 1s 688us/step - loss: 0.5060 - accuracy: 0.7960\n",
      "Epoch 39/150\n",
      "800/800 [==============================] - ETA: 0s - loss: 0.5055 - accuracy: 0.7962WARNING:tensorflow:Early stopping conditioned on metric `val_loss` which is not available. Available metrics are: loss,accuracy\n",
      "800/800 [==============================] - 1s 693us/step - loss: 0.5055 - accuracy: 0.7962\n",
      "Epoch 40/150\n",
      "799/800 [============================>.] - ETA: 0s - loss: 0.5053 - accuracy: 0.7964WARNING:tensorflow:Early stopping conditioned on metric `val_loss` which is not available. Available metrics are: loss,accuracy\n",
      "800/800 [==============================] - 1s 694us/step - loss: 0.5054 - accuracy: 0.7962\n",
      "Epoch 41/150\n",
      "734/800 [==========================>...] - ETA: 0s - loss: 0.5045 - accuracy: 0.7970WARNING:tensorflow:Early stopping conditioned on metric `val_loss` which is not available. Available metrics are: loss,accuracy\n",
      "800/800 [==============================] - 1s 688us/step - loss: 0.5055 - accuracy: 0.7962\n",
      "Epoch 42/150\n",
      "734/800 [==========================>...] - ETA: 0s - loss: 0.5023 - accuracy: 0.7985WARNING:tensorflow:Early stopping conditioned on metric `val_loss` which is not available. Available metrics are: loss,accuracy\n",
      "800/800 [==============================] - 1s 687us/step - loss: 0.5054 - accuracy: 0.7962\n",
      "Epoch 43/150\n",
      "734/800 [==========================>...] - ETA: 0s - loss: 0.5078 - accuracy: 0.7946WARNING:tensorflow:Early stopping conditioned on metric `val_loss` which is not available. Available metrics are: loss,accuracy\n",
      "800/800 [==============================] - 1s 688us/step - loss: 0.5056 - accuracy: 0.7962\n",
      "Epoch 44/150\n",
      "731/800 [==========================>...] - ETA: 0s - loss: 0.5033 - accuracy: 0.7978WARNING:tensorflow:Early stopping conditioned on metric `val_loss` which is not available. Available metrics are: loss,accuracy\n",
      "800/800 [==============================] - 1s 690us/step - loss: 0.5054 - accuracy: 0.7962\n",
      "Epoch 45/150\n",
      "731/800 [==========================>...] - ETA: 0s - loss: 0.5123 - accuracy: 0.7956WARNING:tensorflow:Early stopping conditioned on metric `val_loss` which is not available. Available metrics are: loss,accuracy\n",
      "800/800 [==============================] - 1s 689us/step - loss: 0.5112 - accuracy: 0.7960\n",
      "Epoch 46/150\n",
      "735/800 [==========================>...] - ETA: 0s - loss: 0.5052 - accuracy: 0.7965WARNING:tensorflow:Early stopping conditioned on metric `val_loss` which is not available. Available metrics are: loss,accuracy\n",
      "800/800 [==============================] - 1s 688us/step - loss: 0.5055 - accuracy: 0.7962\n",
      "Epoch 47/150\n",
      "734/800 [==========================>...] - ETA: 0s - loss: 0.5032 - accuracy: 0.7980WARNING:tensorflow:Early stopping conditioned on metric `val_loss` which is not available. Available metrics are: loss,accuracy\n",
      "800/800 [==============================] - 1s 688us/step - loss: 0.5055 - accuracy: 0.7962\n",
      "Epoch 48/150\n",
      "799/800 [============================>.] - ETA: 0s - loss: 0.5052 - accuracy: 0.7965WARNING:tensorflow:Early stopping conditioned on metric `val_loss` which is not available. Available metrics are: loss,accuracy\n",
      "800/800 [==============================] - 1s 694us/step - loss: 0.5055 - accuracy: 0.7962\n",
      "Epoch 49/150\n",
      "783/800 [============================>.] - ETA: 0s - loss: 0.5041 - accuracy: 0.7973WARNING:tensorflow:Early stopping conditioned on metric `val_loss` which is not available. Available metrics are: loss,accuracy\n",
      "800/800 [==============================] - 1s 710us/step - loss: 0.5055 - accuracy: 0.7962\n",
      "Epoch 50/150\n",
      "735/800 [==========================>...] - ETA: 0s - loss: 0.5059 - accuracy: 0.7959WARNING:tensorflow:Early stopping conditioned on metric `val_loss` which is not available. Available metrics are: loss,accuracy\n",
      "800/800 [==============================] - 1s 688us/step - loss: 0.5054 - accuracy: 0.7962\n",
      "Epoch 51/150\n",
      "735/800 [==========================>...] - ETA: 0s - loss: 0.5177 - accuracy: 0.7965WARNING:tensorflow:Early stopping conditioned on metric `val_loss` which is not available. Available metrics are: loss,accuracy\n",
      "800/800 [==============================] - 1s 686us/step - loss: 0.5169 - accuracy: 0.7962\n",
      "Epoch 52/150\n",
      "730/800 [==========================>...] - ETA: 0s - loss: 0.5064 - accuracy: 0.7955WARNING:tensorflow:Early stopping conditioned on metric `val_loss` which is not available. Available metrics are: loss,accuracy\n",
      "800/800 [==============================] - 1s 688us/step - loss: 0.5053 - accuracy: 0.7962\n",
      "Epoch 53/150\n",
      "735/800 [==========================>...] - ETA: 0s - loss: 0.5079 - accuracy: 0.7958WARNING:tensorflow:Early stopping conditioned on metric `val_loss` which is not available. Available metrics are: loss,accuracy\n",
      "800/800 [==============================] - 1s 687us/step - loss: 0.5071 - accuracy: 0.7962\n",
      "Epoch 54/150\n",
      "730/800 [==========================>...] - ETA: 0s - loss: 0.5053 - accuracy: 0.7963WARNING:tensorflow:Early stopping conditioned on metric `val_loss` which is not available. Available metrics are: loss,accuracy\n",
      "800/800 [==============================] - 1s 690us/step - loss: 0.5053 - accuracy: 0.7962\n",
      "Epoch 55/150\n",
      "736/800 [==========================>...] - ETA: 0s - loss: 0.5065 - accuracy: 0.7954WARNING:tensorflow:Early stopping conditioned on metric `val_loss` which is not available. Available metrics are: loss,accuracy\n",
      "800/800 [==============================] - 1s 687us/step - loss: 0.5053 - accuracy: 0.7962\n",
      "Epoch 56/150\n",
      "729/800 [==========================>...] - ETA: 0s - loss: 0.5081 - accuracy: 0.7942WARNING:tensorflow:Early stopping conditioned on metric `val_loss` which is not available. Available metrics are: loss,accuracy\n",
      "800/800 [==============================] - 1s 691us/step - loss: 0.5054 - accuracy: 0.7962\n",
      "Epoch 57/150\n",
      "732/800 [==========================>...] - ETA: 0s - loss: 0.5053 - accuracy: 0.7963WARNING:tensorflow:Early stopping conditioned on metric `val_loss` which is not available. Available metrics are: loss,accuracy\n",
      "800/800 [==============================] - 1s 689us/step - loss: 0.5054 - accuracy: 0.7962\n",
      "Epoch 58/150\n",
      "734/800 [==========================>...] - ETA: 0s - loss: 0.5093 - accuracy: 0.7933WARNING:tensorflow:Early stopping conditioned on metric `val_loss` which is not available. Available metrics are: loss,accuracy\n",
      "800/800 [==============================] - 1s 687us/step - loss: 0.5055 - accuracy: 0.7962\n",
      "Epoch 59/150\n",
      "730/800 [==========================>...] - ETA: 0s - loss: 0.5125 - accuracy: 0.7918WARNING:tensorflow:Early stopping conditioned on metric `val_loss` which is not available. Available metrics are: loss,accuracy\n",
      "800/800 [==============================] - 1s 690us/step - loss: 0.5074 - accuracy: 0.7954\n",
      "Epoch 60/150\n",
      "737/800 [==========================>...] - ETA: 0s - loss: 0.5067 - accuracy: 0.7965WARNING:tensorflow:Early stopping conditioned on metric `val_loss` which is not available. Available metrics are: loss,accuracy\n",
      "800/800 [==============================] - 1s 685us/step - loss: 0.5069 - accuracy: 0.7962\n",
      "Epoch 61/150\n",
      "794/800 [============================>.] - ETA: 0s - loss: 0.5057 - accuracy: 0.7960WARNING:tensorflow:Early stopping conditioned on metric `val_loss` which is not available. Available metrics are: loss,accuracy\n",
      "800/800 [==============================] - 1s 763us/step - loss: 0.5053 - accuracy: 0.7962\n",
      "Epoch 62/150\n",
      "733/800 [==========================>...] - ETA: 0s - loss: 0.5080 - accuracy: 0.7943WARNING:tensorflow:Early stopping conditioned on metric `val_loss` which is not available. Available metrics are: loss,accuracy\n",
      "800/800 [==============================] - 1s 688us/step - loss: 0.5056 - accuracy: 0.7961\n",
      "Epoch 63/150\n",
      "735/800 [==========================>...] - ETA: 0s - loss: 0.5032 - accuracy: 0.7978WARNING:tensorflow:Early stopping conditioned on metric `val_loss` which is not available. Available metrics are: loss,accuracy\n",
      "800/800 [==============================] - 1s 686us/step - loss: 0.5054 - accuracy: 0.7962\n",
      "Epoch 64/150\n",
      "733/800 [==========================>...] - ETA: 0s - loss: 0.5034 - accuracy: 0.7981WARNING:tensorflow:Early stopping conditioned on metric `val_loss` which is not available. Available metrics are: loss,accuracy\n",
      "800/800 [==============================] - 1s 688us/step - loss: 0.5059 - accuracy: 0.7962\n",
      "Epoch 65/150\n",
      "784/800 [============================>.] - ETA: 0s - loss: 0.5048 - accuracy: 0.7967WARNING:tensorflow:Early stopping conditioned on metric `val_loss` which is not available. Available metrics are: loss,accuracy\n",
      "800/800 [==============================] - 1s 710us/step - loss: 0.5054 - accuracy: 0.7962\n",
      "Epoch 66/150\n",
      "792/800 [============================>.] - ETA: 0s - loss: 0.5046 - accuracy: 0.7968WARNING:tensorflow:Early stopping conditioned on metric `val_loss` which is not available. Available metrics are: loss,accuracy\n",
      "800/800 [==============================] - 1s 702us/step - loss: 0.5054 - accuracy: 0.7962\n",
      "Epoch 67/150\n",
      "787/800 [============================>.] - ETA: 0s - loss: 0.5059 - accuracy: 0.7958WARNING:tensorflow:Early stopping conditioned on metric `val_loss` which is not available. Available metrics are: loss,accuracy\n",
      "800/800 [==============================] - 1s 705us/step - loss: 0.5054 - accuracy: 0.7962\n",
      "Epoch 68/150\n",
      "732/800 [==========================>...] - ETA: 0s - loss: 0.5022 - accuracy: 0.7986WARNING:tensorflow:Early stopping conditioned on metric `val_loss` which is not available. Available metrics are: loss,accuracy\n",
      "800/800 [==============================] - 1s 687us/step - loss: 0.5054 - accuracy: 0.7962\n",
      "Epoch 69/150\n",
      "733/800 [==========================>...] - ETA: 0s - loss: 0.5066 - accuracy: 0.7954WARNING:tensorflow:Early stopping conditioned on metric `val_loss` which is not available. Available metrics are: loss,accuracy\n",
      "800/800 [==============================] - 1s 688us/step - loss: 0.5055 - accuracy: 0.7962\n",
      "Epoch 70/150\n",
      "730/800 [==========================>...] - ETA: 0s - loss: 0.5052 - accuracy: 0.7964WARNING:tensorflow:Early stopping conditioned on metric `val_loss` which is not available. Available metrics are: loss,accuracy\n",
      "800/800 [==============================] - 1s 690us/step - loss: 0.5055 - accuracy: 0.7962\n",
      "Epoch 71/150\n",
      "732/800 [==========================>...] - ETA: 0s - loss: 0.5058 - accuracy: 0.7960WARNING:tensorflow:Early stopping conditioned on metric `val_loss` which is not available. Available metrics are: loss,accuracy\n",
      "800/800 [==============================] - 1s 688us/step - loss: 0.5055 - accuracy: 0.7962\n",
      "Epoch 72/150\n",
      "732/800 [==========================>...] - ETA: 0s - loss: 0.5064 - accuracy: 0.7955WARNING:tensorflow:Early stopping conditioned on metric `val_loss` which is not available. Available metrics are: loss,accuracy\n",
      "800/800 [==============================] - 1s 689us/step - loss: 0.5054 - accuracy: 0.7962\n",
      "Epoch 73/150\n",
      "736/800 [==========================>...] - ETA: 0s - loss: 0.5036 - accuracy: 0.7976WARNING:tensorflow:Early stopping conditioned on metric `val_loss` which is not available. Available metrics are: loss,accuracy\n",
      "800/800 [==============================] - 1s 687us/step - loss: 0.5054 - accuracy: 0.7962\n",
      "Epoch 74/150\n",
      "732/800 [==========================>...] - ETA: 0s - loss: 0.5063 - accuracy: 0.7956WARNING:tensorflow:Early stopping conditioned on metric `val_loss` which is not available. Available metrics are: loss,accuracy\n",
      "800/800 [==============================] - 1s 691us/step - loss: 0.5054 - accuracy: 0.7962\n",
      "Epoch 75/150\n",
      "800/800 [==============================] - ETA: 0s - loss: 0.5054 - accuracy: 0.7962WARNING:tensorflow:Early stopping conditioned on metric `val_loss` which is not available. Available metrics are: loss,accuracy\n",
      "800/800 [==============================] - 1s 695us/step - loss: 0.5054 - accuracy: 0.7962\n",
      "Epoch 76/150\n",
      "798/800 [============================>.] - ETA: 0s - loss: 0.5056 - accuracy: 0.7961WARNING:tensorflow:Early stopping conditioned on metric `val_loss` which is not available. Available metrics are: loss,accuracy\n",
      "800/800 [==============================] - 1s 696us/step - loss: 0.5054 - accuracy: 0.7962\n",
      "Epoch 77/150\n",
      "730/800 [==========================>...] - ETA: 0s - loss: 0.5057 - accuracy: 0.7960WARNING:tensorflow:Early stopping conditioned on metric `val_loss` which is not available. Available metrics are: loss,accuracy\n",
      "800/800 [==============================] - 1s 692us/step - loss: 0.5054 - accuracy: 0.7962\n",
      "Epoch 78/150\n",
      "800/800 [==============================] - ETA: 0s - loss: 0.5052 - accuracy: 0.7962WARNING:tensorflow:Early stopping conditioned on metric `val_loss` which is not available. Available metrics are: loss,accuracy\n",
      "800/800 [==============================] - 1s 695us/step - loss: 0.5052 - accuracy: 0.7962\n",
      "Epoch 79/150\n",
      "769/800 [===========================>..] - ETA: 0s - loss: 0.5100 - accuracy: 0.7961WARNING:tensorflow:Early stopping conditioned on metric `val_loss` which is not available. Available metrics are: loss,accuracy\n",
      "800/800 [==============================] - 1s 793us/step - loss: 0.5096 - accuracy: 0.7962\n",
      "Epoch 80/150\n",
      "790/800 [============================>.] - ETA: 0s - loss: 0.5061 - accuracy: 0.7957WARNING:tensorflow:Early stopping conditioned on metric `val_loss` which is not available. Available metrics are: loss,accuracy\n",
      "800/800 [==============================] - 1s 767us/step - loss: 0.5053 - accuracy: 0.7962\n",
      "Epoch 81/150\n",
      "729/800 [==========================>...] - ETA: 0s - loss: 0.5028 - accuracy: 0.7981WARNING:tensorflow:Early stopping conditioned on metric `val_loss` which is not available. Available metrics are: loss,accuracy\n",
      "800/800 [==============================] - 1s 691us/step - loss: 0.5054 - accuracy: 0.7962\n",
      "Epoch 82/150\n",
      "800/800 [==============================] - ETA: 0s - loss: 0.5054 - accuracy: 0.7962WARNING:tensorflow:Early stopping conditioned on metric `val_loss` which is not available. Available metrics are: loss,accuracy\n",
      "800/800 [==============================] - 1s 693us/step - loss: 0.5054 - accuracy: 0.7962\n",
      "Epoch 83/150\n",
      "734/800 [==========================>...] - ETA: 0s - loss: 0.5034 - accuracy: 0.7978WARNING:tensorflow:Early stopping conditioned on metric `val_loss` which is not available. Available metrics are: loss,accuracy\n",
      "800/800 [==============================] - 1s 688us/step - loss: 0.5055 - accuracy: 0.7962\n",
      "Epoch 84/150\n",
      "732/800 [==========================>...] - ETA: 0s - loss: 0.5046 - accuracy: 0.7969WARNING:tensorflow:Early stopping conditioned on metric `val_loss` which is not available. Available metrics are: loss,accuracy\n",
      "800/800 [==============================] - 1s 689us/step - loss: 0.5054 - accuracy: 0.7962\n",
      "Epoch 85/150\n",
      "728/800 [==========================>...] - ETA: 0s - loss: 0.5027 - accuracy: 0.7982WARNING:tensorflow:Early stopping conditioned on metric `val_loss` which is not available. Available metrics are: loss,accuracy\n",
      "800/800 [==============================] - 1s 692us/step - loss: 0.5054 - accuracy: 0.7962\n",
      "Epoch 86/150\n",
      "734/800 [==========================>...] - ETA: 0s - loss: 0.5083 - accuracy: 0.7941WARNING:tensorflow:Early stopping conditioned on metric `val_loss` which is not available. Available metrics are: loss,accuracy\n",
      "800/800 [==============================] - 1s 687us/step - loss: 0.5054 - accuracy: 0.7962\n",
      "Epoch 87/150\n",
      "737/800 [==========================>...] - ETA: 0s - loss: 0.5033 - accuracy: 0.7978WARNING:tensorflow:Early stopping conditioned on metric `val_loss` which is not available. Available metrics are: loss,accuracy\n",
      "800/800 [==============================] - 1s 686us/step - loss: 0.5054 - accuracy: 0.7962\n",
      "Epoch 88/150\n",
      "730/800 [==========================>...] - ETA: 0s - loss: 0.5044 - accuracy: 0.7970WARNING:tensorflow:Early stopping conditioned on metric `val_loss` which is not available. Available metrics are: loss,accuracy\n",
      "800/800 [==============================] - 1s 692us/step - loss: 0.5055 - accuracy: 0.7962\n",
      "Epoch 89/150\n",
      "729/800 [==========================>...] - ETA: 0s - loss: 0.5024 - accuracy: 0.7985WARNING:tensorflow:Early stopping conditioned on metric `val_loss` which is not available. Available metrics are: loss,accuracy\n",
      "800/800 [==============================] - 1s 692us/step - loss: 0.5054 - accuracy: 0.7962\n",
      "Epoch 90/150\n",
      "737/800 [==========================>...] - ETA: 0s - loss: 0.5046 - accuracy: 0.7974WARNING:tensorflow:Early stopping conditioned on metric `val_loss` which is not available. Available metrics are: loss,accuracy\n",
      "800/800 [==============================] - 1s 685us/step - loss: 0.5061 - accuracy: 0.7962\n",
      "Epoch 91/150\n",
      "737/800 [==========================>...] - ETA: 0s - loss: 0.5086 - accuracy: 0.7962WARNING:tensorflow:Early stopping conditioned on metric `val_loss` which is not available. Available metrics are: loss,accuracy\n",
      "800/800 [==============================] - 1s 685us/step - loss: 0.5083 - accuracy: 0.7962\n",
      "Epoch 92/150\n",
      "734/800 [==========================>...] - ETA: 0s - loss: 0.5023 - accuracy: 0.7985WARNING:tensorflow:Early stopping conditioned on metric `val_loss` which is not available. Available metrics are: loss,accuracy\n",
      "800/800 [==============================] - 1s 687us/step - loss: 0.5054 - accuracy: 0.7962\n",
      "Epoch 93/150\n",
      "735/800 [==========================>...] - ETA: 0s - loss: 0.5049 - accuracy: 0.7966WARNING:tensorflow:Early stopping conditioned on metric `val_loss` which is not available. Available metrics are: loss,accuracy\n",
      "800/800 [==============================] - 1s 687us/step - loss: 0.5054 - accuracy: 0.7962\n",
      "Epoch 94/150\n",
      "732/800 [==========================>...] - ETA: 0s - loss: 0.5096 - accuracy: 0.7933WARNING:tensorflow:Early stopping conditioned on metric `val_loss` which is not available. Available metrics are: loss,accuracy\n",
      "800/800 [==============================] - 1s 689us/step - loss: 0.5055 - accuracy: 0.7962\n",
      "Epoch 95/150\n",
      "736/800 [==========================>...] - ETA: 0s - loss: 0.5045 - accuracy: 0.7970WARNING:tensorflow:Early stopping conditioned on metric `val_loss` which is not available. Available metrics are: loss,accuracy\n",
      "800/800 [==============================] - 1s 686us/step - loss: 0.5055 - accuracy: 0.7962\n",
      "Epoch 96/150\n",
      "734/800 [==========================>...] - ETA: 0s - loss: 0.5026 - accuracy: 0.7985WARNING:tensorflow:Early stopping conditioned on metric `val_loss` which is not available. Available metrics are: loss,accuracy\n",
      "800/800 [==============================] - 1s 689us/step - loss: 0.5057 - accuracy: 0.7962\n",
      "Epoch 97/150\n",
      "776/800 [============================>.] - ETA: 0s - loss: 0.5046 - accuracy: 0.7969WARNING:tensorflow:Early stopping conditioned on metric `val_loss` which is not available. Available metrics are: loss,accuracy\n",
      "800/800 [==============================] - 1s 715us/step - loss: 0.5054 - accuracy: 0.7962\n",
      "Epoch 98/150\n",
      "775/800 [============================>.] - ETA: 0s - loss: 0.5064 - accuracy: 0.7955WARNING:tensorflow:Early stopping conditioned on metric `val_loss` which is not available. Available metrics are: loss,accuracy\n",
      "800/800 [==============================] - 1s 717us/step - loss: 0.5054 - accuracy: 0.7962\n",
      "Epoch 99/150\n",
      "730/800 [==========================>...] - ETA: 0s - loss: 0.5053 - accuracy: 0.7966WARNING:tensorflow:Early stopping conditioned on metric `val_loss` which is not available. Available metrics are: loss,accuracy\n",
      "800/800 [==============================] - 1s 692us/step - loss: 0.5057 - accuracy: 0.7962\n",
      "Epoch 100/150\n",
      "800/800 [==============================] - ETA: 0s - loss: 0.5053 - accuracy: 0.7962WARNING:tensorflow:Early stopping conditioned on metric `val_loss` which is not available. Available metrics are: loss,accuracy\n",
      "800/800 [==============================] - 1s 694us/step - loss: 0.5053 - accuracy: 0.7962\n",
      "Epoch 101/150\n",
      "731/800 [==========================>...] - ETA: 0s - loss: 0.5067 - accuracy: 0.7953WARNING:tensorflow:Early stopping conditioned on metric `val_loss` which is not available. Available metrics are: loss,accuracy\n",
      "800/800 [==============================] - 1s 691us/step - loss: 0.5055 - accuracy: 0.7962\n",
      "Epoch 102/150\n",
      "737/800 [==========================>...] - ETA: 0s - loss: 0.5063 - accuracy: 0.7955WARNING:tensorflow:Early stopping conditioned on metric `val_loss` which is not available. Available metrics are: loss,accuracy\n",
      "800/800 [==============================] - 1s 686us/step - loss: 0.5053 - accuracy: 0.7962\n",
      "Epoch 103/150\n",
      "778/800 [============================>.] - ETA: 0s - loss: 0.5351 - accuracy: 0.7970WARNING:tensorflow:Early stopping conditioned on metric `val_loss` which is not available. Available metrics are: loss,accuracy\n",
      "800/800 [==============================] - 1s 713us/step - loss: 0.5353 - accuracy: 0.7962\n",
      "Epoch 104/150\n",
      "729/800 [==========================>...] - ETA: 0s - loss: 0.5026 - accuracy: 0.7982WARNING:tensorflow:Early stopping conditioned on metric `val_loss` which is not available. Available metrics are: loss,accuracy\n",
      "800/800 [==============================] - 1s 763us/step - loss: 0.5052 - accuracy: 0.7962\n",
      "Epoch 105/150\n",
      "731/800 [==========================>...] - ETA: 0s - loss: 0.5062 - accuracy: 0.7960WARNING:tensorflow:Early stopping conditioned on metric `val_loss` which is not available. Available metrics are: loss,accuracy\n",
      "800/800 [==============================] - 1s 691us/step - loss: 0.5059 - accuracy: 0.7962\n",
      "Epoch 106/150\n",
      "733/800 [==========================>...] - ETA: 0s - loss: 0.5062 - accuracy: 0.7956WARNING:tensorflow:Early stopping conditioned on metric `val_loss` which is not available. Available metrics are: loss,accuracy\n",
      "800/800 [==============================] - 1s 689us/step - loss: 0.5054 - accuracy: 0.7962\n",
      "Epoch 107/150\n",
      "735/800 [==========================>...] - ETA: 0s - loss: 0.5096 - accuracy: 0.7931WARNING:tensorflow:Early stopping conditioned on metric `val_loss` which is not available. Available metrics are: loss,accuracy\n",
      "800/800 [==============================] - 1s 687us/step - loss: 0.5053 - accuracy: 0.7962\n",
      "Epoch 108/150\n",
      "736/800 [==========================>...] - ETA: 0s - loss: 0.5035 - accuracy: 0.7976WARNING:tensorflow:Early stopping conditioned on metric `val_loss` which is not available. Available metrics are: loss,accuracy\n",
      "800/800 [==============================] - 1s 685us/step - loss: 0.5054 - accuracy: 0.7962\n",
      "Epoch 109/150\n",
      "799/800 [============================>.] - ETA: 0s - loss: 0.5052 - accuracy: 0.7964WARNING:tensorflow:Early stopping conditioned on metric `val_loss` which is not available. Available metrics are: loss,accuracy\n",
      "800/800 [==============================] - 1s 694us/step - loss: 0.5053 - accuracy: 0.7962\n",
      "Epoch 110/150\n",
      "729/800 [==========================>...] - ETA: 0s - loss: 0.5071 - accuracy: 0.7949WARNING:tensorflow:Early stopping conditioned on metric `val_loss` which is not available. Available metrics are: loss,accuracy\n",
      "800/800 [==============================] - 1s 692us/step - loss: 0.5053 - accuracy: 0.7962\n",
      "Epoch 111/150\n",
      "735/800 [==========================>...] - ETA: 0s - loss: 0.5072 - accuracy: 0.7950WARNING:tensorflow:Early stopping conditioned on metric `val_loss` which is not available. Available metrics are: loss,accuracy\n",
      "800/800 [==============================] - 1s 686us/step - loss: 0.5057 - accuracy: 0.7961\n",
      "Epoch 112/150\n",
      "737/800 [==========================>...] - ETA: 0s - loss: 0.5063 - accuracy: 0.7955WARNING:tensorflow:Early stopping conditioned on metric `val_loss` which is not available. Available metrics are: loss,accuracy\n",
      "800/800 [==============================] - 1s 687us/step - loss: 0.5052 - accuracy: 0.7962\n",
      "Epoch 113/150\n",
      "739/800 [==========================>...] - ETA: 0s - loss: 0.5065 - accuracy: 0.7958WARNING:tensorflow:Early stopping conditioned on metric `val_loss` which is not available. Available metrics are: loss,accuracy\n",
      "800/800 [==============================] - 1s 685us/step - loss: 0.5061 - accuracy: 0.7962\n",
      "Epoch 114/150\n",
      "739/800 [==========================>...] - ETA: 0s - loss: 0.5053 - accuracy: 0.7963WARNING:tensorflow:Early stopping conditioned on metric `val_loss` which is not available. Available metrics are: loss,accuracy\n",
      "800/800 [==============================] - 1s 683us/step - loss: 0.5055 - accuracy: 0.7962\n",
      "Epoch 115/150\n",
      "736/800 [==========================>...] - ETA: 0s - loss: 0.5337 - accuracy: 0.7971WARNING:tensorflow:Early stopping conditioned on metric `val_loss` which is not available. Available metrics are: loss,accuracy\n",
      "800/800 [==============================] - 1s 686us/step - loss: 0.5325 - accuracy: 0.7962\n",
      "Epoch 116/150\n",
      "732/800 [==========================>...] - ETA: 0s - loss: 0.5109 - accuracy: 0.7930WARNING:tensorflow:Early stopping conditioned on metric `val_loss` which is not available. Available metrics are: loss,accuracy\n",
      "800/800 [==============================] - 1s 690us/step - loss: 0.5064 - accuracy: 0.7962\n",
      "Epoch 117/150\n",
      "731/800 [==========================>...] - ETA: 0s - loss: 0.5072 - accuracy: 0.7952WARNING:tensorflow:Early stopping conditioned on metric `val_loss` which is not available. Available metrics are: loss,accuracy\n",
      "800/800 [==============================] - 1s 690us/step - loss: 0.5065 - accuracy: 0.7962\n",
      "Epoch 118/150\n",
      "730/800 [==========================>...] - ETA: 0s - loss: 0.5129 - accuracy: 0.7908WARNING:tensorflow:Early stopping conditioned on metric `val_loss` which is not available. Available metrics are: loss,accuracy\n",
      "800/800 [==============================] - 1s 690us/step - loss: 0.5056 - accuracy: 0.7962\n",
      "Epoch 119/150\n",
      "731/800 [==========================>...] - ETA: 0s - loss: 0.5018 - accuracy: 0.7993WARNING:tensorflow:Early stopping conditioned on metric `val_loss` which is not available. Available metrics are: loss,accuracy\n",
      "800/800 [==============================] - 1s 689us/step - loss: 0.5060 - accuracy: 0.7962\n",
      "Epoch 120/150\n",
      "732/800 [==========================>...] - ETA: 0s - loss: 0.5076 - accuracy: 0.7947WARNING:tensorflow:Early stopping conditioned on metric `val_loss` which is not available. Available metrics are: loss,accuracy\n",
      "800/800 [==============================] - 1s 690us/step - loss: 0.5055 - accuracy: 0.7962\n",
      "Epoch 121/150\n",
      "735/800 [==========================>...] - ETA: 0s - loss: 0.5051 - accuracy: 0.7966WARNING:tensorflow:Early stopping conditioned on metric `val_loss` which is not available. Available metrics are: loss,accuracy\n",
      "800/800 [==============================] - 1s 687us/step - loss: 0.5055 - accuracy: 0.7962\n",
      "Epoch 122/150\n",
      "731/800 [==========================>...] - ETA: 0s - loss: 0.5067 - accuracy: 0.7952WARNING:tensorflow:Early stopping conditioned on metric `val_loss` which is not available. Available metrics are: loss,accuracy\n",
      "800/800 [==============================] - 1s 691us/step - loss: 0.5054 - accuracy: 0.7962\n",
      "Epoch 123/150\n",
      "735/800 [==========================>...] - ETA: 0s - loss: 0.5055 - accuracy: 0.7966WARNING:tensorflow:Early stopping conditioned on metric `val_loss` which is not available. Available metrics are: loss,accuracy\n",
      "800/800 [==============================] - 1s 687us/step - loss: 0.5059 - accuracy: 0.7962\n",
      "Epoch 124/150\n",
      "800/800 [==============================] - ETA: 0s - loss: 0.5054 - accuracy: 0.7962WARNING:tensorflow:Early stopping conditioned on metric `val_loss` which is not available. Available metrics are: loss,accuracy\n",
      "800/800 [==============================] - 1s 693us/step - loss: 0.5054 - accuracy: 0.7962\n",
      "Epoch 125/150\n",
      "731/800 [==========================>...] - ETA: 0s - loss: 0.5032 - accuracy: 0.7979WARNING:tensorflow:Early stopping conditioned on metric `val_loss` which is not available. Available metrics are: loss,accuracy\n",
      "800/800 [==============================] - 1s 690us/step - loss: 0.5054 - accuracy: 0.7962\n",
      "Epoch 126/150\n",
      "792/800 [============================>.] - ETA: 0s - loss: 0.5065 - accuracy: 0.7955WARNING:tensorflow:Early stopping conditioned on metric `val_loss` which is not available. Available metrics are: loss,accuracy\n",
      "800/800 [==============================] - 1s 702us/step - loss: 0.5055 - accuracy: 0.7962\n",
      "Epoch 127/150\n",
      "735/800 [==========================>...] - ETA: 0s - loss: 0.5060 - accuracy: 0.7959WARNING:tensorflow:Early stopping conditioned on metric `val_loss` which is not available. Available metrics are: loss,accuracy\n",
      "800/800 [==============================] - 1s 688us/step - loss: 0.5055 - accuracy: 0.7962\n",
      "Epoch 128/150\n",
      "729/800 [==========================>...] - ETA: 0s - loss: 0.5043 - accuracy: 0.7970WARNING:tensorflow:Early stopping conditioned on metric `val_loss` which is not available. Available metrics are: loss,accuracy\n",
      "800/800 [==============================] - 1s 691us/step - loss: 0.5055 - accuracy: 0.7962\n",
      "Epoch 129/150\n",
      "737/800 [==========================>...] - ETA: 0s - loss: 0.5070 - accuracy: 0.7951WARNING:tensorflow:Early stopping conditioned on metric `val_loss` which is not available. Available metrics are: loss,accuracy\n",
      "800/800 [==============================] - 1s 687us/step - loss: 0.5054 - accuracy: 0.7962\n",
      "Epoch 130/150\n",
      "733/800 [==========================>...] - ETA: 0s - loss: 0.5083 - accuracy: 0.7954WARNING:tensorflow:Early stopping conditioned on metric `val_loss` which is not available. Available metrics are: loss,accuracy\n",
      "800/800 [==============================] - 1s 688us/step - loss: 0.5070 - accuracy: 0.7962\n",
      "Epoch 131/150\n",
      "734/800 [==========================>...] - ETA: 0s - loss: 0.5025 - accuracy: 0.7984WARNING:tensorflow:Early stopping conditioned on metric `val_loss` which is not available. Available metrics are: loss,accuracy\n",
      "800/800 [==============================] - 1s 688us/step - loss: 0.5055 - accuracy: 0.7962\n",
      "Epoch 132/150\n",
      "732/800 [==========================>...] - ETA: 0s - loss: 0.5046 - accuracy: 0.7969WARNING:tensorflow:Early stopping conditioned on metric `val_loss` which is not available. Available metrics are: loss,accuracy\n",
      "800/800 [==============================] - 1s 689us/step - loss: 0.5055 - accuracy: 0.7962\n",
      "Epoch 133/150\n",
      "731/800 [==========================>...] - ETA: 0s - loss: 0.5083 - accuracy: 0.7941WARNING:tensorflow:Early stopping conditioned on metric `val_loss` which is not available. Available metrics are: loss,accuracy\n",
      "800/800 [==============================] - 1s 691us/step - loss: 0.5055 - accuracy: 0.7962\n",
      "Epoch 134/150\n",
      "799/800 [============================>.] - ETA: 0s - loss: 0.5053 - accuracy: 0.7964WARNING:tensorflow:Early stopping conditioned on metric `val_loss` which is not available. Available metrics are: loss,accuracy\n",
      "800/800 [==============================] - 1s 696us/step - loss: 0.5054 - accuracy: 0.7962\n",
      "Epoch 135/150\n",
      "729/800 [==========================>...] - ETA: 0s - loss: 0.5051 - accuracy: 0.7966WARNING:tensorflow:Early stopping conditioned on metric `val_loss` which is not available. Available metrics are: loss,accuracy\n",
      "800/800 [==============================] - 1s 691us/step - loss: 0.5055 - accuracy: 0.7962\n",
      "Epoch 136/150\n",
      "731/800 [==========================>...] - ETA: 0s - loss: 0.5077 - accuracy: 0.7947WARNING:tensorflow:Early stopping conditioned on metric `val_loss` which is not available. Available metrics are: loss,accuracy\n",
      "800/800 [==============================] - 1s 690us/step - loss: 0.5055 - accuracy: 0.7962\n",
      "Epoch 137/150\n",
      "733/800 [==========================>...] - ETA: 0s - loss: 0.5051 - accuracy: 0.7965WARNING:tensorflow:Early stopping conditioned on metric `val_loss` which is not available. Available metrics are: loss,accuracy\n",
      "800/800 [==============================] - 1s 689us/step - loss: 0.5054 - accuracy: 0.7962\n",
      "Epoch 138/150\n",
      "731/800 [==========================>...] - ETA: 0s - loss: 0.5067 - accuracy: 0.7953WARNING:tensorflow:Early stopping conditioned on metric `val_loss` which is not available. Available metrics are: loss,accuracy\n",
      "800/800 [==============================] - 1s 690us/step - loss: 0.5054 - accuracy: 0.7962\n",
      "Epoch 139/150\n",
      "784/800 [============================>.] - ETA: 0s - loss: 0.5095 - accuracy: 0.7969WARNING:tensorflow:Early stopping conditioned on metric `val_loss` which is not available. Available metrics are: loss,accuracy\n",
      "800/800 [==============================] - 1s 774us/step - loss: 0.5108 - accuracy: 0.7959\n",
      "Epoch 140/150\n",
      "785/800 [============================>.] - ETA: 0s - loss: 0.5046 - accuracy: 0.7968WARNING:tensorflow:Early stopping conditioned on metric `val_loss` which is not available. Available metrics are: loss,accuracy\n",
      "800/800 [==============================] - 1s 708us/step - loss: 0.5054 - accuracy: 0.7962\n",
      "Epoch 141/150\n",
      "731/800 [==========================>...] - ETA: 0s - loss: 0.5100 - accuracy: 0.7929WARNING:tensorflow:Early stopping conditioned on metric `val_loss` which is not available. Available metrics are: loss,accuracy\n",
      "800/800 [==============================] - 1s 688us/step - loss: 0.5053 - accuracy: 0.7962\n",
      "Epoch 142/150\n",
      "729/800 [==========================>...] - ETA: 0s - loss: 0.5054 - accuracy: 0.7963WARNING:tensorflow:Early stopping conditioned on metric `val_loss` which is not available. Available metrics are: loss,accuracy\n",
      "800/800 [==============================] - 1s 692us/step - loss: 0.5055 - accuracy: 0.7962\n",
      "Epoch 143/150\n",
      "735/800 [==========================>...] - ETA: 0s - loss: 0.5025 - accuracy: 0.7984WARNING:tensorflow:Early stopping conditioned on metric `val_loss` which is not available. Available metrics are: loss,accuracy\n",
      "800/800 [==============================] - 1s 687us/step - loss: 0.5054 - accuracy: 0.7962\n",
      "Epoch 144/150\n",
      "730/800 [==========================>...] - ETA: 0s - loss: 0.5061 - accuracy: 0.7958WARNING:tensorflow:Early stopping conditioned on metric `val_loss` which is not available. Available metrics are: loss,accuracy\n",
      "800/800 [==============================] - 1s 693us/step - loss: 0.5054 - accuracy: 0.7962\n",
      "Epoch 145/150\n",
      "731/800 [==========================>...] - ETA: 0s - loss: 0.5012 - accuracy: 0.7993WARNING:tensorflow:Early stopping conditioned on metric `val_loss` which is not available. Available metrics are: loss,accuracy\n",
      "800/800 [==============================] - 1s 689us/step - loss: 0.5054 - accuracy: 0.7962\n",
      "Epoch 146/150\n",
      "798/800 [============================>.] - ETA: 0s - loss: 0.5058 - accuracy: 0.7960WARNING:tensorflow:Early stopping conditioned on metric `val_loss` which is not available. Available metrics are: loss,accuracy\n",
      "800/800 [==============================] - 1s 693us/step - loss: 0.5054 - accuracy: 0.7962\n",
      "Epoch 147/150\n",
      "728/800 [==========================>...] - ETA: 0s - loss: 0.5048 - accuracy: 0.7967WARNING:tensorflow:Early stopping conditioned on metric `val_loss` which is not available. Available metrics are: loss,accuracy\n",
      "800/800 [==============================] - 1s 693us/step - loss: 0.5053 - accuracy: 0.7962\n",
      "Epoch 148/150\n",
      "731/800 [==========================>...] - ETA: 0s - loss: 0.5084 - accuracy: 0.7952WARNING:tensorflow:Early stopping conditioned on metric `val_loss` which is not available. Available metrics are: loss,accuracy\n",
      "800/800 [==============================] - 1s 691us/step - loss: 0.5069 - accuracy: 0.7962\n",
      "Epoch 149/150\n",
      "731/800 [==========================>...] - ETA: 0s - loss: 0.5112 - accuracy: 0.7970WARNING:tensorflow:Early stopping conditioned on metric `val_loss` which is not available. Available metrics are: loss,accuracy\n",
      "800/800 [==============================] - 1s 689us/step - loss: 0.5116 - accuracy: 0.7962\n",
      "Epoch 150/150\n",
      "733/800 [==========================>...] - ETA: 0s - loss: 0.5082 - accuracy: 0.7945WARNING:tensorflow:Early stopping conditioned on metric `val_loss` which is not available. Available metrics are: loss,accuracy\n",
      "800/800 [==============================] - 1s 690us/step - loss: 0.5058 - accuracy: 0.7962\n"
     ]
    }
   ],
   "source": [
    "#model.fit(x_train, y_train, epochs=50, batch_size=1,verbose=1)\n",
    "\n",
    "from tensorflow.keras.callbacks import EarlyStopping\n",
    "early_stopping_minitor = EarlyStopping(patience=100)\n",
    "\n",
    "#train model:   \n",
    "history = model.fit(x_train, y_train,\n",
    " epochs=150,\n",
    " batch_size=10,\n",
    " #validation_split=0.2,\n",
    " callbacks=[early_stopping_minitor])"
   ]
  },
  {
   "cell_type": "code",
   "execution_count": 22,
   "metadata": {
    "colab": {
     "base_uri": "https://localhost:8080/"
    },
    "executionInfo": {
     "elapsed": 5569,
     "status": "ok",
     "timestamp": 1665330085260,
     "user": {
      "displayName": "shaik azar",
      "userId": "05209245971384166097"
     },
     "user_tz": -330
    },
    "id": "deIBbz04T3f2",
    "outputId": "98823d0e-8c13-40ec-9b4a-917724012d48"
   },
   "outputs": [],
   "source": [
    "# fit model \n",
    "#model.fit(x_train,y_train,epochs=150)"
   ]
  },
  {
   "cell_type": "code",
   "execution_count": 23,
   "metadata": {
    "id": "qInZXkyoYF2v"
   },
   "outputs": [
    {
     "name": "stdout",
     "output_type": "stream",
     "text": [
      "63/63 [==============================] - 0s 526us/step\n"
     ]
    }
   ],
   "source": [
    "y_pred = model.predict(x_test)\n"
   ]
  },
  {
   "cell_type": "code",
   "execution_count": 24,
   "metadata": {},
   "outputs": [
    {
     "name": "stdout",
     "output_type": "stream",
     "text": [
      "[[0 0]\n",
      " [0 1]\n",
      " [0 0]\n",
      " ...\n",
      " [0 0]\n",
      " [0 0]\n",
      " [0 0]]\n"
     ]
    }
   ],
   "source": [
    "y_pred = (y_pred > 0.5)\n",
    "print(np.concatenate((y_pred.reshape(len(y_pred),1), y_test.reshape(len(y_test),1)),1))"
   ]
  },
  {
   "cell_type": "code",
   "execution_count": 25,
   "metadata": {},
   "outputs": [
    {
     "name": "stdout",
     "output_type": "stream",
     "text": [
      "[[1593    0]\n",
      " [ 407    0]]\n"
     ]
    },
    {
     "data": {
      "text/plain": [
       "0.7965"
      ]
     },
     "execution_count": 25,
     "metadata": {},
     "output_type": "execute_result"
    }
   ],
   "source": [
    "cmatrix = confusion_matrix(y_test, y_pred)\n",
    "print(cmatrix)\n",
    "accuracy_score(y_test, y_pred)"
   ]
  },
  {
   "cell_type": "code",
   "execution_count": 26,
   "metadata": {},
   "outputs": [
    {
     "name": "stdout",
     "output_type": "stream",
     "text": [
      "Test accuracy: 0.7965\n"
     ]
    }
   ],
   "source": [
    "print('Test accuracy:', accuracy_score(y_test, y_pred))"
   ]
  },
  {
   "cell_type": "code",
   "execution_count": 27,
   "metadata": {},
   "outputs": [
    {
     "name": "stdout",
     "output_type": "stream",
     "text": [
      "dict_keys(['loss', 'accuracy'])\n"
     ]
    },
    {
     "data": {
      "image/png": "[encoded data removed]",
      "text/plain": [
       "<Figure size 432x288 with 1 Axes>"
      ]
     },
     "metadata": {
      "needs_background": "light"
     },
     "output_type": "display_data"
    }
   ],
   "source": [
    "# Plot loss of train and test set\n",
    "print(history.history.keys())\n",
    "\n",
    "#Loss in train and test:\n",
    "plt.plot(history.history['loss'])\n",
    "plt.plot(history.history['accuracy'])\n",
    "plt.title('model_loss')\n",
    "plt.xlabel('epoch')\n",
    "plt.ylabel('loss')\n",
    "plt.legend(['train', 'validation'], loc='upper right')\n",
    "plt.show()"
   ]
  }
 ],
 "metadata": {
  "colab": {
   "authorship_tag": "ABX9TyN/wBa64zPEsVW1nNEJBUYF",
   "collapsed_sections": [],
   "provenance": []
  },
  "kernelspec": {
   "display_name": "Python 3",
   "language": "python",
   "name": "python3"
  },
  "language_info": {
   "codemirror_mode": {
    "name": "ipython",
    "version": 3
   },
   "file_extension": ".py",
   "mimetype": "text/x-python",
   "name": "python",
   "nbconvert_exporter": "python",
   "pygments_lexer": "ipython3",
   "version": "3.8.12"
  }
 },
 "nbformat": 4,
 "nbformat_minor": 4
}
