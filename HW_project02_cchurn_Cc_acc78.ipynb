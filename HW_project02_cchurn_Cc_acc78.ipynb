{
 "cells": [
  {
   "cell_type": "code",
   "execution_count": 27,
   "metadata": {
    "executionInfo": {
     "elapsed": 10,
     "status": "ok",
     "timestamp": 1665327427202,
     "user": {
      "displayName": "shaik azar",
      "userId": "05209245971384166097"
     },
     "user_tz": -330
    },
    "id": "8qtNdNTGPSxh"
   },
   "outputs": [],
   "source": [
    "import numpy as np\n",
    "import pandas as pd\n",
    "\n",
    "import matplotlib.pyplot as plt\n",
    "\n",
    "import tensorflow as tf\n",
    "import keras\n",
    "\n",
    "from sklearn.preprocessing import LabelEncoder\n",
    "from sklearn.compose import ColumnTransformer\n",
    "from sklearn.preprocessing import OneHotEncoder\n",
    "from sklearn.model_selection import train_test_split\n",
    "from sklearn.preprocessing import StandardScaler\n",
    "from sklearn.metrics import confusion_matrix, accuracy_score"
   ]
  },
  {
   "cell_type": "code",
   "execution_count": 30,
   "metadata": {
    "executionInfo": {
     "elapsed": 4,
     "status": "ok",
     "timestamp": 1665329164058,
     "user": {
      "displayName": "shaik azar",
      "userId": "05209245971384166097"
     },
     "user_tz": -330
    },
    "id": "Z7p71Nq6PxEh"
   },
   "outputs": [],
   "source": [
    "#data = pd.read_csv(\"~/datacsv/Churn_Modelling.csv\")\n",
    "data = pd.read_csv(\"~/datacsv/cchurn1.csv\")"
   ]
  },
  {
   "cell_type": "code",
   "execution_count": 31,
   "metadata": {
    "colab": {
     "base_uri": "https://localhost:8080/",
     "height": 488
    },
    "executionInfo": {
     "elapsed": 10,
     "status": "ok",
     "timestamp": 1665329166860,
     "user": {
      "displayName": "shaik azar",
      "userId": "05209245971384166097"
     },
     "user_tz": -330
    },
    "id": "YNIOl21TP_rE",
    "outputId": "899b2c2a-7235-48a5-e2c1-a9a0d8e2047d"
   },
   "outputs": [
    {
     "data": {
      "text/html": [
       "<div>\n",
       "<style scoped>\n",
       "    .dataframe tbody tr th:only-of-type {\n",
       "        vertical-align: middle;\n",
       "    }\n",
       "\n",
       "    .dataframe tbody tr th {\n",
       "        vertical-align: top;\n",
       "    }\n",
       "\n",
       "    .dataframe thead th {\n",
       "        text-align: right;\n",
       "    }\n",
       "</style>\n",
       "<table border=\"1\" class=\"dataframe\">\n",
       "  <thead>\n",
       "    <tr style=\"text-align: right;\">\n",
       "      <th></th>\n",
       "      <th>Unnamed: 0</th>\n",
       "      <th>customerID</th>\n",
       "      <th>gender</th>\n",
       "      <th>SeniorCitizen</th>\n",
       "      <th>Partner</th>\n",
       "      <th>Dependents</th>\n",
       "      <th>tenure</th>\n",
       "      <th>PhoneService</th>\n",
       "      <th>MultipleLines</th>\n",
       "      <th>InternetService</th>\n",
       "      <th>...</th>\n",
       "      <th>DeviceProtection</th>\n",
       "      <th>TechSupport</th>\n",
       "      <th>StreamingTV</th>\n",
       "      <th>StreamingMovies</th>\n",
       "      <th>Contract</th>\n",
       "      <th>PaperlessBilling</th>\n",
       "      <th>PaymentMethod</th>\n",
       "      <th>MonthlyCharges</th>\n",
       "      <th>TotalCharges</th>\n",
       "      <th>Churn</th>\n",
       "    </tr>\n",
       "  </thead>\n",
       "  <tbody>\n",
       "    <tr>\n",
       "      <th>0</th>\n",
       "      <td>1</td>\n",
       "      <td>7590-VHVEG</td>\n",
       "      <td>Female</td>\n",
       "      <td>0</td>\n",
       "      <td>Yes</td>\n",
       "      <td>No</td>\n",
       "      <td>1</td>\n",
       "      <td>No</td>\n",
       "      <td>No phone service</td>\n",
       "      <td>DSL</td>\n",
       "      <td>...</td>\n",
       "      <td>No</td>\n",
       "      <td>No</td>\n",
       "      <td>No</td>\n",
       "      <td>No</td>\n",
       "      <td>Month-to-month</td>\n",
       "      <td>Yes</td>\n",
       "      <td>Electronic check</td>\n",
       "      <td>29.85</td>\n",
       "      <td>29.85</td>\n",
       "      <td>No</td>\n",
       "    </tr>\n",
       "    <tr>\n",
       "      <th>1</th>\n",
       "      <td>2</td>\n",
       "      <td>5575-GNVDE</td>\n",
       "      <td>Male</td>\n",
       "      <td>0</td>\n",
       "      <td>No</td>\n",
       "      <td>No</td>\n",
       "      <td>34</td>\n",
       "      <td>Yes</td>\n",
       "      <td>No</td>\n",
       "      <td>DSL</td>\n",
       "      <td>...</td>\n",
       "      <td>Yes</td>\n",
       "      <td>No</td>\n",
       "      <td>No</td>\n",
       "      <td>No</td>\n",
       "      <td>One year</td>\n",
       "      <td>No</td>\n",
       "      <td>Mailed check</td>\n",
       "      <td>56.95</td>\n",
       "      <td>1889.50</td>\n",
       "      <td>No</td>\n",
       "    </tr>\n",
       "    <tr>\n",
       "      <th>2</th>\n",
       "      <td>3</td>\n",
       "      <td>3668-QPYBK</td>\n",
       "      <td>Male</td>\n",
       "      <td>0</td>\n",
       "      <td>No</td>\n",
       "      <td>No</td>\n",
       "      <td>2</td>\n",
       "      <td>Yes</td>\n",
       "      <td>No</td>\n",
       "      <td>DSL</td>\n",
       "      <td>...</td>\n",
       "      <td>No</td>\n",
       "      <td>No</td>\n",
       "      <td>No</td>\n",
       "      <td>No</td>\n",
       "      <td>Month-to-month</td>\n",
       "      <td>Yes</td>\n",
       "      <td>Mailed check</td>\n",
       "      <td>53.85</td>\n",
       "      <td>108.15</td>\n",
       "      <td>Yes</td>\n",
       "    </tr>\n",
       "    <tr>\n",
       "      <th>3</th>\n",
       "      <td>4</td>\n",
       "      <td>7795-CFOCW</td>\n",
       "      <td>Male</td>\n",
       "      <td>0</td>\n",
       "      <td>No</td>\n",
       "      <td>No</td>\n",
       "      <td>45</td>\n",
       "      <td>No</td>\n",
       "      <td>No phone service</td>\n",
       "      <td>DSL</td>\n",
       "      <td>...</td>\n",
       "      <td>Yes</td>\n",
       "      <td>Yes</td>\n",
       "      <td>No</td>\n",
       "      <td>No</td>\n",
       "      <td>One year</td>\n",
       "      <td>No</td>\n",
       "      <td>Bank transfer (automatic)</td>\n",
       "      <td>42.30</td>\n",
       "      <td>1840.75</td>\n",
       "      <td>No</td>\n",
       "    </tr>\n",
       "    <tr>\n",
       "      <th>4</th>\n",
       "      <td>5</td>\n",
       "      <td>9237-HQITU</td>\n",
       "      <td>Female</td>\n",
       "      <td>0</td>\n",
       "      <td>No</td>\n",
       "      <td>No</td>\n",
       "      <td>2</td>\n",
       "      <td>Yes</td>\n",
       "      <td>No</td>\n",
       "      <td>Fiber optic</td>\n",
       "      <td>...</td>\n",
       "      <td>No</td>\n",
       "      <td>No</td>\n",
       "      <td>No</td>\n",
       "      <td>No</td>\n",
       "      <td>Month-to-month</td>\n",
       "      <td>Yes</td>\n",
       "      <td>Electronic check</td>\n",
       "      <td>70.70</td>\n",
       "      <td>151.65</td>\n",
       "      <td>Yes</td>\n",
       "    </tr>\n",
       "    <tr>\n",
       "      <th>...</th>\n",
       "      <td>...</td>\n",
       "      <td>...</td>\n",
       "      <td>...</td>\n",
       "      <td>...</td>\n",
       "      <td>...</td>\n",
       "      <td>...</td>\n",
       "      <td>...</td>\n",
       "      <td>...</td>\n",
       "      <td>...</td>\n",
       "      <td>...</td>\n",
       "      <td>...</td>\n",
       "      <td>...</td>\n",
       "      <td>...</td>\n",
       "      <td>...</td>\n",
       "      <td>...</td>\n",
       "      <td>...</td>\n",
       "      <td>...</td>\n",
       "      <td>...</td>\n",
       "      <td>...</td>\n",
       "      <td>...</td>\n",
       "      <td>...</td>\n",
       "    </tr>\n",
       "    <tr>\n",
       "      <th>7027</th>\n",
       "      <td>7039</td>\n",
       "      <td>6840-RESVB</td>\n",
       "      <td>Male</td>\n",
       "      <td>0</td>\n",
       "      <td>Yes</td>\n",
       "      <td>Yes</td>\n",
       "      <td>24</td>\n",
       "      <td>Yes</td>\n",
       "      <td>Yes</td>\n",
       "      <td>DSL</td>\n",
       "      <td>...</td>\n",
       "      <td>Yes</td>\n",
       "      <td>Yes</td>\n",
       "      <td>Yes</td>\n",
       "      <td>Yes</td>\n",
       "      <td>One year</td>\n",
       "      <td>Yes</td>\n",
       "      <td>Mailed check</td>\n",
       "      <td>84.80</td>\n",
       "      <td>1990.50</td>\n",
       "      <td>No</td>\n",
       "    </tr>\n",
       "    <tr>\n",
       "      <th>7028</th>\n",
       "      <td>7040</td>\n",
       "      <td>2234-XADUH</td>\n",
       "      <td>Female</td>\n",
       "      <td>0</td>\n",
       "      <td>Yes</td>\n",
       "      <td>Yes</td>\n",
       "      <td>72</td>\n",
       "      <td>Yes</td>\n",
       "      <td>Yes</td>\n",
       "      <td>Fiber optic</td>\n",
       "      <td>...</td>\n",
       "      <td>Yes</td>\n",
       "      <td>No</td>\n",
       "      <td>Yes</td>\n",
       "      <td>Yes</td>\n",
       "      <td>One year</td>\n",
       "      <td>Yes</td>\n",
       "      <td>Credit card (automatic)</td>\n",
       "      <td>103.20</td>\n",
       "      <td>7362.90</td>\n",
       "      <td>No</td>\n",
       "    </tr>\n",
       "    <tr>\n",
       "      <th>7029</th>\n",
       "      <td>7041</td>\n",
       "      <td>4801-JZAZL</td>\n",
       "      <td>Female</td>\n",
       "      <td>0</td>\n",
       "      <td>Yes</td>\n",
       "      <td>Yes</td>\n",
       "      <td>11</td>\n",
       "      <td>No</td>\n",
       "      <td>No phone service</td>\n",
       "      <td>DSL</td>\n",
       "      <td>...</td>\n",
       "      <td>No</td>\n",
       "      <td>No</td>\n",
       "      <td>No</td>\n",
       "      <td>No</td>\n",
       "      <td>Month-to-month</td>\n",
       "      <td>Yes</td>\n",
       "      <td>Electronic check</td>\n",
       "      <td>29.60</td>\n",
       "      <td>346.45</td>\n",
       "      <td>No</td>\n",
       "    </tr>\n",
       "    <tr>\n",
       "      <th>7030</th>\n",
       "      <td>7042</td>\n",
       "      <td>8361-LTMKD</td>\n",
       "      <td>Male</td>\n",
       "      <td>1</td>\n",
       "      <td>Yes</td>\n",
       "      <td>No</td>\n",
       "      <td>4</td>\n",
       "      <td>Yes</td>\n",
       "      <td>Yes</td>\n",
       "      <td>Fiber optic</td>\n",
       "      <td>...</td>\n",
       "      <td>No</td>\n",
       "      <td>No</td>\n",
       "      <td>No</td>\n",
       "      <td>No</td>\n",
       "      <td>Month-to-month</td>\n",
       "      <td>Yes</td>\n",
       "      <td>Mailed check</td>\n",
       "      <td>74.40</td>\n",
       "      <td>306.60</td>\n",
       "      <td>Yes</td>\n",
       "    </tr>\n",
       "    <tr>\n",
       "      <th>7031</th>\n",
       "      <td>7043</td>\n",
       "      <td>3186-AJIEK</td>\n",
       "      <td>Male</td>\n",
       "      <td>0</td>\n",
       "      <td>No</td>\n",
       "      <td>No</td>\n",
       "      <td>66</td>\n",
       "      <td>Yes</td>\n",
       "      <td>No</td>\n",
       "      <td>Fiber optic</td>\n",
       "      <td>...</td>\n",
       "      <td>Yes</td>\n",
       "      <td>Yes</td>\n",
       "      <td>Yes</td>\n",
       "      <td>Yes</td>\n",
       "      <td>Two year</td>\n",
       "      <td>Yes</td>\n",
       "      <td>Bank transfer (automatic)</td>\n",
       "      <td>105.65</td>\n",
       "      <td>6844.50</td>\n",
       "      <td>No</td>\n",
       "    </tr>\n",
       "  </tbody>\n",
       "</table>\n",
       "<p>7032 rows × 22 columns</p>\n",
       "</div>"
      ],
      "text/plain": [
       "      Unnamed: 0  customerID  gender  SeniorCitizen Partner Dependents  \\\n",
       "0              1  7590-VHVEG  Female              0     Yes         No   \n",
       "1              2  5575-GNVDE    Male              0      No         No   \n",
       "2              3  3668-QPYBK    Male              0      No         No   \n",
       "3              4  7795-CFOCW    Male              0      No         No   \n",
       "4              5  9237-HQITU  Female              0      No         No   \n",
       "...          ...         ...     ...            ...     ...        ...   \n",
       "7027        7039  6840-RESVB    Male              0     Yes        Yes   \n",
       "7028        7040  2234-XADUH  Female              0     Yes        Yes   \n",
       "7029        7041  4801-JZAZL  Female              0     Yes        Yes   \n",
       "7030        7042  8361-LTMKD    Male              1     Yes         No   \n",
       "7031        7043  3186-AJIEK    Male              0      No         No   \n",
       "\n",
       "      tenure PhoneService     MultipleLines InternetService  ...  \\\n",
       "0          1           No  No phone service             DSL  ...   \n",
       "1         34          Yes                No             DSL  ...   \n",
       "2          2          Yes                No             DSL  ...   \n",
       "3         45           No  No phone service             DSL  ...   \n",
       "4          2          Yes                No     Fiber optic  ...   \n",
       "...      ...          ...               ...             ...  ...   \n",
       "7027      24          Yes               Yes             DSL  ...   \n",
       "7028      72          Yes               Yes     Fiber optic  ...   \n",
       "7029      11           No  No phone service             DSL  ...   \n",
       "7030       4          Yes               Yes     Fiber optic  ...   \n",
       "7031      66          Yes                No     Fiber optic  ...   \n",
       "\n",
       "     DeviceProtection TechSupport StreamingTV StreamingMovies        Contract  \\\n",
       "0                  No          No          No              No  Month-to-month   \n",
       "1                 Yes          No          No              No        One year   \n",
       "2                  No          No          No              No  Month-to-month   \n",
       "3                 Yes         Yes          No              No        One year   \n",
       "4                  No          No          No              No  Month-to-month   \n",
       "...               ...         ...         ...             ...             ...   \n",
       "7027              Yes         Yes         Yes             Yes        One year   \n",
       "7028              Yes          No         Yes             Yes        One year   \n",
       "7029               No          No          No              No  Month-to-month   \n",
       "7030               No          No          No              No  Month-to-month   \n",
       "7031              Yes         Yes         Yes             Yes        Two year   \n",
       "\n",
       "     PaperlessBilling              PaymentMethod MonthlyCharges TotalCharges  \\\n",
       "0                 Yes           Electronic check          29.85        29.85   \n",
       "1                  No               Mailed check          56.95      1889.50   \n",
       "2                 Yes               Mailed check          53.85       108.15   \n",
       "3                  No  Bank transfer (automatic)          42.30      1840.75   \n",
       "4                 Yes           Electronic check          70.70       151.65   \n",
       "...               ...                        ...            ...          ...   \n",
       "7027              Yes               Mailed check          84.80      1990.50   \n",
       "7028              Yes    Credit card (automatic)         103.20      7362.90   \n",
       "7029              Yes           Electronic check          29.60       346.45   \n",
       "7030              Yes               Mailed check          74.40       306.60   \n",
       "7031              Yes  Bank transfer (automatic)         105.65      6844.50   \n",
       "\n",
       "      Churn  \n",
       "0        No  \n",
       "1        No  \n",
       "2       Yes  \n",
       "3        No  \n",
       "4       Yes  \n",
       "...     ...  \n",
       "7027     No  \n",
       "7028     No  \n",
       "7029     No  \n",
       "7030    Yes  \n",
       "7031     No  \n",
       "\n",
       "[7032 rows x 22 columns]"
      ]
     },
     "execution_count": 31,
     "metadata": {},
     "output_type": "execute_result"
    }
   ],
   "source": [
    "data"
   ]
  },
  {
   "cell_type": "code",
   "execution_count": 32,
   "metadata": {
    "colab": {
     "base_uri": "https://localhost:8080/"
    },
    "executionInfo": {
     "elapsed": 2253,
     "status": "ok",
     "timestamp": 1665329115505,
     "user": {
      "displayName": "shaik azar",
      "userId": "05209245971384166097"
     },
     "user_tz": -330
    },
    "id": "iLB4dkFIWYJ3",
    "outputId": "c06626f8-7ac2-4d64-e977-04d4f6c7f5e6"
   },
   "outputs": [
    {
     "name": "stdout",
     "output_type": "stream",
     "text": [
      "<class 'pandas.core.frame.DataFrame'>\n",
      "RangeIndex: 7032 entries, 0 to 7031\n",
      "Data columns (total 22 columns):\n",
      " #   Column            Non-Null Count  Dtype  \n",
      "---  ------            --------------  -----  \n",
      " 0   Unnamed: 0        7032 non-null   int64  \n",
      " 1   customerID        7032 non-null   object \n",
      " 2   gender            7032 non-null   object \n",
      " 3   SeniorCitizen     7032 non-null   int64  \n",
      " 4   Partner           7032 non-null   object \n",
      " 5   Dependents        7032 non-null   object \n",
      " 6   tenure            7032 non-null   int64  \n",
      " 7   PhoneService      7032 non-null   object \n",
      " 8   MultipleLines     7032 non-null   object \n",
      " 9   InternetService   7032 non-null   object \n",
      " 10  OnlineSecurity    7032 non-null   object \n",
      " 11  OnlineBackup      7032 non-null   object \n",
      " 12  DeviceProtection  7032 non-null   object \n",
      " 13  TechSupport       7032 non-null   object \n",
      " 14  StreamingTV       7032 non-null   object \n",
      " 15  StreamingMovies   7032 non-null   object \n",
      " 16  Contract          7032 non-null   object \n",
      " 17  PaperlessBilling  7032 non-null   object \n",
      " 18  PaymentMethod     7032 non-null   object \n",
      " 19  MonthlyCharges    7032 non-null   float64\n",
      " 20  TotalCharges      7032 non-null   float64\n",
      " 21  Churn             7032 non-null   object \n",
      "dtypes: float64(2), int64(3), object(17)\n",
      "memory usage: 1.2+ MB\n"
     ]
    }
   ],
   "source": [
    "data.info()"
   ]
  },
  {
   "cell_type": "code",
   "execution_count": 33,
   "metadata": {},
   "outputs": [
    {
     "data": {
      "text/plain": [
       "(7032, 22)"
      ]
     },
     "execution_count": 33,
     "metadata": {},
     "output_type": "execute_result"
    }
   ],
   "source": [
    "data.shape"
   ]
  },
  {
   "cell_type": "code",
   "execution_count": 35,
   "metadata": {
    "colab": {
     "base_uri": "https://localhost:8080/"
    },
    "executionInfo": {
     "elapsed": 14,
     "status": "ok",
     "timestamp": 1665329938563,
     "user": {
      "displayName": "shaik azar",
      "userId": "05209245971384166097"
     },
     "user_tz": -330
    },
    "id": "Pw242S_QWI1z",
    "outputId": "cc2b0149-6e28-4b95-ff3c-f767a7814d2a"
   },
   "outputs": [],
   "source": [
    "#data.isnull().sum()"
   ]
  },
  {
   "cell_type": "code",
   "execution_count": 7,
   "metadata": {
    "executionInfo": {
     "elapsed": 4,
     "status": "ok",
     "timestamp": 1665330039050,
     "user": {
      "displayName": "shaik azar",
      "userId": "05209245971384166097"
     },
     "user_tz": -330
    },
    "id": "2uniUlaQZnBJ"
   },
   "outputs": [],
   "source": [
    "#data1=data.dropna()"
   ]
  },
  {
   "cell_type": "code",
   "execution_count": 36,
   "metadata": {},
   "outputs": [],
   "source": [
    "data['Churn'] = data['Churn'].map({'Yes': 1, 'No': 0})"
   ]
  },
  {
   "cell_type": "code",
   "execution_count": 37,
   "metadata": {
    "executionInfo": {
     "elapsed": 822,
     "status": "ok",
     "timestamp": 1665330052054,
     "user": {
      "displayName": "shaik azar",
      "userId": "05209245971384166097"
     },
     "user_tz": -330
    },
    "id": "rqbEg87HQIf_"
   },
   "outputs": [],
   "source": [
    "x = data.iloc[:,[6,19,20]].values\n",
    "y=data.iloc[:,21].values"
   ]
  },
  {
   "cell_type": "code",
   "execution_count": 38,
   "metadata": {
    "colab": {
     "base_uri": "https://localhost:8080/"
    },
    "executionInfo": {
     "elapsed": 8,
     "status": "ok",
     "timestamp": 1665330057103,
     "user": {
      "displayName": "shaik azar",
      "userId": "05209245971384166097"
     },
     "user_tz": -330
    },
    "id": "FAFOgQSTQUhB",
    "outputId": "afb83821-572b-4e24-808b-35312ee92f37"
   },
   "outputs": [
    {
     "data": {
      "text/plain": [
       "array([[1.0000e+00, 2.9850e+01, 2.9850e+01],\n",
       "       [3.4000e+01, 5.6950e+01, 1.8895e+03],\n",
       "       [2.0000e+00, 5.3850e+01, 1.0815e+02],\n",
       "       ...,\n",
       "       [1.1000e+01, 2.9600e+01, 3.4645e+02],\n",
       "       [4.0000e+00, 7.4400e+01, 3.0660e+02],\n",
       "       [6.6000e+01, 1.0565e+02, 6.8445e+03]])"
      ]
     },
     "execution_count": 38,
     "metadata": {},
     "output_type": "execute_result"
    }
   ],
   "source": [
    "x"
   ]
  },
  {
   "cell_type": "code",
   "execution_count": 40,
   "metadata": {},
   "outputs": [
    {
     "data": {
      "text/plain": [
       "(7032, 3)"
      ]
     },
     "execution_count": 40,
     "metadata": {},
     "output_type": "execute_result"
    }
   ],
   "source": [
    "x.shape"
   ]
  },
  {
   "cell_type": "code",
   "execution_count": 39,
   "metadata": {
    "colab": {
     "base_uri": "https://localhost:8080/"
    },
    "executionInfo": {
     "elapsed": 9,
     "status": "ok",
     "timestamp": 1665330060482,
     "user": {
      "displayName": "shaik azar",
      "userId": "05209245971384166097"
     },
     "user_tz": -330
    },
    "id": "RN7DLB4IQWDc",
    "outputId": "440eaabc-8c05-4db7-9e6a-c9d0b751d8a9"
   },
   "outputs": [
    {
     "data": {
      "text/plain": [
       "array([0, 0, 1, ..., 0, 1, 0])"
      ]
     },
     "execution_count": 39,
     "metadata": {},
     "output_type": "execute_result"
    }
   ],
   "source": [
    "y"
   ]
  },
  {
   "cell_type": "code",
   "execution_count": null,
   "metadata": {
    "id": "UEENwze_UTyC"
   },
   "outputs": [],
   "source": []
  },
  {
   "cell_type": "code",
   "execution_count": 41,
   "metadata": {
    "executionInfo": {
     "elapsed": 4,
     "status": "ok",
     "timestamp": 1665330065074,
     "user": {
      "displayName": "shaik azar",
      "userId": "05209245971384166097"
     },
     "user_tz": -330
    },
    "id": "TVNxfzm5QW8f"
   },
   "outputs": [],
   "source": [
    "# splitting the training & test sets\n",
    "from sklearn.model_selection import train_test_split\n",
    "x_train,x_test,y_train,y_test= train_test_split(x,y, test_size=0.2)"
   ]
  },
  {
   "cell_type": "code",
   "execution_count": 42,
   "metadata": {},
   "outputs": [
    {
     "data": {
      "text/plain": [
       "((5625, 3), (1407, 3), (5625,), (1407,))"
      ]
     },
     "execution_count": 42,
     "metadata": {},
     "output_type": "execute_result"
    }
   ],
   "source": [
    "x_train.shape ,x_test.shape, y_train.shape ,y_test.shape"
   ]
  },
  {
   "cell_type": "code",
   "execution_count": 43,
   "metadata": {
    "executionInfo": {
     "elapsed": 1,
     "status": "ok",
     "timestamp": 1665330068344,
     "user": {
      "displayName": "shaik azar",
      "userId": "05209245971384166097"
     },
     "user_tz": -330
    },
    "id": "r0LO-ofKUhSB"
   },
   "outputs": [],
   "source": [
    "# Feature Scaling\n",
    "from sklearn.preprocessing import MinMaxScaler\n",
    "mc=MinMaxScaler()\n",
    "x_train1 = mc.fit_transform( x_train)\n",
    "X_test1 = mc.fit_transform( x_test)"
   ]
  },
  {
   "cell_type": "code",
   "execution_count": 44,
   "metadata": {
    "executionInfo": {
     "elapsed": 5,
     "status": "ok",
     "timestamp": 1665329231326,
     "user": {
      "displayName": "shaik azar",
      "userId": "05209245971384166097"
     },
     "user_tz": -330
    },
    "id": "qCrZ1bbYRHjL"
   },
   "outputs": [],
   "source": [
    "import keras\n",
    "from keras.models import Sequential\n",
    "from keras.layers import Dense\n",
    "from keras.layers import Dropout"
   ]
  },
  {
   "cell_type": "code",
   "execution_count": 15,
   "metadata": {
    "executionInfo": {
     "elapsed": 8,
     "status": "ok",
     "timestamp": 1665330071253,
     "user": {
      "displayName": "shaik azar",
      "userId": "05209245971384166097"
     },
     "user_tz": -330
    },
    "id": "YzDCMeK3Rt6G"
   },
   "outputs": [],
   "source": [
    "# Initialize the model\n",
    "model=Sequential()\n",
    "\n",
    "# Build input layer \n",
    "model.add(Dense(units=12, activation='relu', input_dim=3))"
   ]
  },
  {
   "cell_type": "code",
   "execution_count": 16,
   "metadata": {
    "executionInfo": {
     "elapsed": 3,
     "status": "ok",
     "timestamp": 1665330074215,
     "user": {
      "displayName": "shaik azar",
      "userId": "05209245971384166097"
     },
     "user_tz": -330
    },
    "id": "f7YZxhXsSI-F"
   },
   "outputs": [],
   "source": [
    "# Building hidden layer\n",
    "model.add(Dense(units=6,activation ='relu'))"
   ]
  },
  {
   "cell_type": "code",
   "execution_count": null,
   "metadata": {},
   "outputs": [],
   "source": [
    "# Building hidden layer\n",
    "model.add(Dense(units=3,activation ='relu'))"
   ]
  },
  {
   "cell_type": "code",
   "execution_count": 17,
   "metadata": {
    "executionInfo": {
     "elapsed": 409,
     "status": "ok",
     "timestamp": 1665330076767,
     "user": {
      "displayName": "shaik azar",
      "userId": "05209245971384166097"
     },
     "user_tz": -330
    },
    "id": "fWbqbVchShPq"
   },
   "outputs": [],
   "source": [
    "#Adding outer layer\n",
    "model.add(Dense(units=1, activation='sigmoid'))"
   ]
  },
  {
   "cell_type": "code",
   "execution_count": 18,
   "metadata": {
    "executionInfo": {
     "elapsed": 7,
     "status": "ok",
     "timestamp": 1665330079698,
     "user": {
      "displayName": "shaik azar",
      "userId": "05209245971384166097"
     },
     "user_tz": -330
    },
    "id": "aFJmCSsdTAqM"
   },
   "outputs": [],
   "source": [
    "# compile the model\n",
    "model.compile(optimizer='adam', loss='binary_crossentropy', metrics = ['accuracy'])"
   ]
  },
  {
   "cell_type": "code",
   "execution_count": 19,
   "metadata": {},
   "outputs": [
    {
     "name": "stdout",
     "output_type": "stream",
     "text": [
      "Epoch 1/150\n",
      "755/800 [===========================>..] - ETA: 0s - loss: 698.8663 - accuracy: 0.6899WARNING:tensorflow:Early stopping conditioned on metric `val_loss` which is not available. Available metrics are: loss,accuracy\n",
      "800/800 [==============================] - 1s 668us/step - loss: 664.1093 - accuracy: 0.6889\n",
      "Epoch 2/150\n",
      "765/800 [===========================>..] - ETA: 0s - loss: 119.2939 - accuracy: 0.6664WARNING:tensorflow:Early stopping conditioned on metric `val_loss` which is not available. Available metrics are: loss,accuracy\n",
      "800/800 [==============================] - 1s 660us/step - loss: 117.3948 - accuracy: 0.6685\n",
      "Epoch 3/150\n",
      "766/800 [===========================>..] - ETA: 0s - loss: 88.8140 - accuracy: 0.6687WARNING:tensorflow:Early stopping conditioned on metric `val_loss` which is not available. Available metrics are: loss,accuracy\n",
      "800/800 [==============================] - 1s 659us/step - loss: 89.1094 - accuracy: 0.6681\n",
      "Epoch 4/150\n",
      "759/800 [===========================>..] - ETA: 0s - loss: 109.3554 - accuracy: 0.6715WARNING:tensorflow:Early stopping conditioned on metric `val_loss` which is not available. Available metrics are: loss,accuracy\n",
      "800/800 [==============================] - 1s 664us/step - loss: 107.8563 - accuracy: 0.6737\n",
      "Epoch 5/150\n",
      "773/800 [===========================>..] - ETA: 0s - loss: 86.3763 - accuracy: 0.6758WARNING:tensorflow:Early stopping conditioned on metric `val_loss` which is not available. Available metrics are: loss,accuracy\n",
      "800/800 [==============================] - 1s 654us/step - loss: 85.8341 - accuracy: 0.6750\n",
      "Epoch 6/150\n",
      "767/800 [===========================>..] - ETA: 0s - loss: 86.2305 - accuracy: 0.6692WARNING:tensorflow:Early stopping conditioned on metric `val_loss` which is not available. Available metrics are: loss,accuracy\n",
      "800/800 [==============================] - 1s 659us/step - loss: 85.2180 - accuracy: 0.6705\n",
      "Epoch 7/150\n",
      "761/800 [===========================>..] - ETA: 0s - loss: 91.4087 - accuracy: 0.6704WARNING:tensorflow:Early stopping conditioned on metric `val_loss` which is not available. Available metrics are: loss,accuracy\n",
      "800/800 [==============================] - 1s 664us/step - loss: 90.6459 - accuracy: 0.6701\n",
      "Epoch 8/150\n",
      "772/800 [===========================>..] - ETA: 0s - loss: 72.1766 - accuracy: 0.6719WARNING:tensorflow:Early stopping conditioned on metric `val_loss` which is not available. Available metrics are: loss,accuracy\n",
      "800/800 [==============================] - 1s 653us/step - loss: 72.2676 - accuracy: 0.6694\n",
      "Epoch 9/150\n",
      "775/800 [============================>.] - ETA: 0s - loss: 74.7737 - accuracy: 0.6706WARNING:tensorflow:Early stopping conditioned on metric `val_loss` which is not available. Available metrics are: loss,accuracy\n",
      "800/800 [==============================] - 1s 652us/step - loss: 75.0230 - accuracy: 0.6716\n",
      "Epoch 10/150\n",
      "772/800 [===========================>..] - ETA: 0s - loss: 62.6278 - accuracy: 0.6734WARNING:tensorflow:Early stopping conditioned on metric `val_loss` which is not available. Available metrics are: loss,accuracy\n",
      "800/800 [==============================] - 1s 653us/step - loss: 63.9206 - accuracy: 0.6700\n",
      "Epoch 11/150\n",
      "777/800 [============================>.] - ETA: 0s - loss: 62.6427 - accuracy: 0.6795WARNING:tensorflow:Early stopping conditioned on metric `val_loss` which is not available. Available metrics are: loss,accuracy\n",
      "800/800 [==============================] - 1s 651us/step - loss: 62.1052 - accuracy: 0.6821\n",
      "Epoch 12/150\n",
      "773/800 [===========================>..] - ETA: 0s - loss: 52.6923 - accuracy: 0.6706WARNING:tensorflow:Early stopping conditioned on metric `val_loss` which is not available. Available metrics are: loss,accuracy\n",
      "800/800 [==============================] - 1s 654us/step - loss: 52.2836 - accuracy: 0.6695\n",
      "Epoch 13/150\n",
      "768/800 [===========================>..] - ETA: 0s - loss: 59.0784 - accuracy: 0.6719WARNING:tensorflow:Early stopping conditioned on metric `val_loss` which is not available. Available metrics are: loss,accuracy\n",
      "800/800 [==============================] - 1s 657us/step - loss: 60.3675 - accuracy: 0.6694\n",
      "Epoch 14/150\n",
      "771/800 [===========================>..] - ETA: 0s - loss: 44.5213 - accuracy: 0.6678WARNING:tensorflow:Early stopping conditioned on metric `val_loss` which is not available. Available metrics are: loss,accuracy\n",
      "800/800 [==============================] - 1s 655us/step - loss: 44.6317 - accuracy: 0.6684\n",
      "Epoch 15/150\n",
      "747/800 [===========================>..] - ETA: 0s - loss: 47.8942 - accuracy: 0.6738WARNING:tensorflow:Early stopping conditioned on metric `val_loss` which is not available. Available metrics are: loss,accuracy\n",
      "800/800 [==============================] - 1s 677us/step - loss: 46.8543 - accuracy: 0.6733\n",
      "Epoch 16/150\n",
      "751/800 [===========================>..] - ETA: 0s - loss: 41.7618 - accuracy: 0.6760WARNING:tensorflow:Early stopping conditioned on metric `val_loss` which is not available. Available metrics are: loss,accuracy\n",
      "800/800 [==============================] - 1s 740us/step - loss: 43.1893 - accuracy: 0.6760\n",
      "Epoch 17/150\n",
      "758/800 [===========================>..] - ETA: 0s - loss: 39.6441 - accuracy: 0.6734WARNING:tensorflow:Early stopping conditioned on metric `val_loss` which is not available. Available metrics are: loss,accuracy\n",
      "800/800 [==============================] - 1s 666us/step - loss: 39.4778 - accuracy: 0.6729\n",
      "Epoch 18/150\n",
      "769/800 [===========================>..] - ETA: 0s - loss: 37.4070 - accuracy: 0.6691WARNING:tensorflow:Early stopping conditioned on metric `val_loss` which is not available. Available metrics are: loss,accuracy\n",
      "800/800 [==============================] - 1s 656us/step - loss: 37.4669 - accuracy: 0.6674\n",
      "Epoch 19/150\n",
      "777/800 [============================>.] - ETA: 0s - loss: 32.0915 - accuracy: 0.6660WARNING:tensorflow:Early stopping conditioned on metric `val_loss` which is not available. Available metrics are: loss,accuracy\n",
      "800/800 [==============================] - 1s 651us/step - loss: 32.3864 - accuracy: 0.6689\n",
      "Epoch 20/150\n",
      "771/800 [===========================>..] - ETA: 0s - loss: 30.7458 - accuracy: 0.6760WARNING:tensorflow:Early stopping conditioned on metric `val_loss` which is not available. Available metrics are: loss,accuracy\n",
      "800/800 [==============================] - 1s 656us/step - loss: 30.2795 - accuracy: 0.6765\n",
      "Epoch 21/150\n",
      "765/800 [===========================>..] - ETA: 0s - loss: 23.3307 - accuracy: 0.6745WARNING:tensorflow:Early stopping conditioned on metric `val_loss` which is not available. Available metrics are: loss,accuracy\n",
      "800/800 [==============================] - 1s 660us/step - loss: 23.0558 - accuracy: 0.6731\n",
      "Epoch 22/150\n",
      "762/800 [===========================>..] - ETA: 0s - loss: 24.5909 - accuracy: 0.6701WARNING:tensorflow:Early stopping conditioned on metric `val_loss` which is not available. Available metrics are: loss,accuracy\n",
      "800/800 [==============================] - 1s 663us/step - loss: 24.4044 - accuracy: 0.6720\n",
      "Epoch 23/150\n",
      "765/800 [===========================>..] - ETA: 0s - loss: 25.2070 - accuracy: 0.6791WARNING:tensorflow:Early stopping conditioned on metric `val_loss` which is not available. Available metrics are: loss,accuracy\n",
      "800/800 [==============================] - 1s 661us/step - loss: 24.8708 - accuracy: 0.6768\n",
      "Epoch 24/150\n",
      "773/800 [===========================>..] - ETA: 0s - loss: 18.5899 - accuracy: 0.6753WARNING:tensorflow:Early stopping conditioned on metric `val_loss` which is not available. Available metrics are: loss,accuracy\n",
      "800/800 [==============================] - 1s 652us/step - loss: 18.8237 - accuracy: 0.6736\n",
      "Epoch 25/150\n",
      "774/800 [============================>.] - ETA: 0s - loss: 15.8012 - accuracy: 0.6645WARNING:tensorflow:Early stopping conditioned on metric `val_loss` which is not available. Available metrics are: loss,accuracy\n",
      "800/800 [==============================] - 1s 653us/step - loss: 15.5584 - accuracy: 0.6665\n",
      "Epoch 26/150\n",
      "772/800 [===========================>..] - ETA: 0s - loss: 15.2447 - accuracy: 0.6747WARNING:tensorflow:Early stopping conditioned on metric `val_loss` which is not available. Available metrics are: loss,accuracy\n",
      "800/800 [==============================] - 1s 654us/step - loss: 15.4450 - accuracy: 0.6718\n",
      "Epoch 27/150\n",
      "775/800 [============================>.] - ETA: 0s - loss: 16.9604 - accuracy: 0.6777WARNING:tensorflow:Early stopping conditioned on metric `val_loss` which is not available. Available metrics are: loss,accuracy\n",
      "800/800 [==============================] - 1s 652us/step - loss: 17.0312 - accuracy: 0.6777\n",
      "Epoch 28/150\n",
      "776/800 [============================>.] - ETA: 0s - loss: 12.7248 - accuracy: 0.6756WARNING:tensorflow:Early stopping conditioned on metric `val_loss` which is not available. Available metrics are: loss,accuracy\n",
      "800/800 [==============================] - 1s 651us/step - loss: 12.5343 - accuracy: 0.6775\n",
      "Epoch 29/150\n",
      "769/800 [===========================>..] - ETA: 0s - loss: 10.8749 - accuracy: 0.6801WARNING:tensorflow:Early stopping conditioned on metric `val_loss` which is not available. Available metrics are: loss,accuracy\n",
      "800/800 [==============================] - 1s 656us/step - loss: 11.0988 - accuracy: 0.6784\n",
      "Epoch 30/150\n",
      "771/800 [===========================>..] - ETA: 0s - loss: 9.8132 - accuracy: 0.6809 WARNING:tensorflow:Early stopping conditioned on metric `val_loss` which is not available. Available metrics are: loss,accuracy\n",
      "800/800 [==============================] - 1s 655us/step - loss: 9.8126 - accuracy: 0.6811\n",
      "Epoch 31/150\n",
      "769/800 [===========================>..] - ETA: 0s - loss: 8.0830 - accuracy: 0.6743WARNING:tensorflow:Early stopping conditioned on metric `val_loss` which is not available. Available metrics are: loss,accuracy\n",
      "800/800 [==============================] - 1s 657us/step - loss: 7.9989 - accuracy: 0.6756\n",
      "Epoch 32/150\n",
      "769/800 [===========================>..] - ETA: 0s - loss: 6.7385 - accuracy: 0.6787WARNING:tensorflow:Early stopping conditioned on metric `val_loss` which is not available. Available metrics are: loss,accuracy\n",
      "800/800 [==============================] - 1s 657us/step - loss: 6.7408 - accuracy: 0.6793\n",
      "Epoch 33/150\n",
      "770/800 [===========================>..] - ETA: 0s - loss: 6.0473 - accuracy: 0.6816WARNING:tensorflow:Early stopping conditioned on metric `val_loss` which is not available. Available metrics are: loss,accuracy\n",
      "800/800 [==============================] - 1s 656us/step - loss: 5.9741 - accuracy: 0.6819\n",
      "Epoch 34/150\n",
      "746/800 [==========================>...] - ETA: 0s - loss: 4.3625 - accuracy: 0.6810WARNING:tensorflow:Early stopping conditioned on metric `val_loss` which is not available. Available metrics are: loss,accuracy\n",
      "800/800 [==============================] - 1s 677us/step - loss: 4.2784 - accuracy: 0.6817\n",
      "Epoch 35/150\n",
      "759/800 [===========================>..] - ETA: 0s - loss: 3.9957 - accuracy: 0.6780WARNING:tensorflow:Early stopping conditioned on metric `val_loss` which is not available. Available metrics are: loss,accuracy\n",
      "800/800 [==============================] - 1s 664us/step - loss: 3.9873 - accuracy: 0.6787\n",
      "Epoch 36/150\n",
      "768/800 [===========================>..] - ETA: 0s - loss: 3.1098 - accuracy: 0.6889WARNING:tensorflow:Early stopping conditioned on metric `val_loss` which is not available. Available metrics are: loss,accuracy\n",
      "800/800 [==============================] - 1s 657us/step - loss: 3.0298 - accuracy: 0.6929\n",
      "Epoch 37/150\n",
      "769/800 [===========================>..] - ETA: 0s - loss: 1.0278 - accuracy: 0.7649WARNING:tensorflow:Early stopping conditioned on metric `val_loss` which is not available. Available metrics are: loss,accuracy\n",
      "800/800 [==============================] - 1s 658us/step - loss: 1.0101 - accuracy: 0.7650\n",
      "Epoch 38/150\n",
      "770/800 [===========================>..] - ETA: 0s - loss: 0.6736 - accuracy: 0.7834WARNING:tensorflow:Early stopping conditioned on metric `val_loss` which is not available. Available metrics are: loss,accuracy\n",
      "800/800 [==============================] - 1s 656us/step - loss: 0.6681 - accuracy: 0.7845\n",
      "Epoch 39/150\n",
      "771/800 [===========================>..] - ETA: 0s - loss: 0.5406 - accuracy: 0.7914WARNING:tensorflow:Early stopping conditioned on metric `val_loss` which is not available. Available metrics are: loss,accuracy\n",
      "800/800 [==============================] - 1s 655us/step - loss: 0.5402 - accuracy: 0.7910\n",
      "Epoch 40/150\n",
      "772/800 [===========================>..] - ETA: 0s - loss: 0.5048 - accuracy: 0.7960WARNING:tensorflow:Early stopping conditioned on metric `val_loss` which is not available. Available metrics are: loss,accuracy\n",
      "800/800 [==============================] - 1s 653us/step - loss: 0.5067 - accuracy: 0.7946\n",
      "Epoch 41/150\n",
      "769/800 [===========================>..] - ETA: 0s - loss: 0.5076 - accuracy: 0.7952WARNING:tensorflow:Early stopping conditioned on metric `val_loss` which is not available. Available metrics are: loss,accuracy\n",
      "800/800 [==============================] - 1s 656us/step - loss: 0.5078 - accuracy: 0.7950\n",
      "Epoch 42/150\n",
      "766/800 [===========================>..] - ETA: 0s - loss: 0.5103 - accuracy: 0.7937WARNING:tensorflow:Early stopping conditioned on metric `val_loss` which is not available. Available metrics are: loss,accuracy\n",
      "800/800 [==============================] - 1s 658us/step - loss: 0.5092 - accuracy: 0.7945\n",
      "Epoch 43/150\n",
      "771/800 [===========================>..] - ETA: 0s - loss: 0.5066 - accuracy: 0.7952WARNING:tensorflow:Early stopping conditioned on metric `val_loss` which is not available. Available metrics are: loss,accuracy\n",
      "800/800 [==============================] - 1s 655us/step - loss: 0.5069 - accuracy: 0.7950\n",
      "Epoch 44/150\n",
      "770/800 [===========================>..] - ETA: 0s - loss: 0.5051 - accuracy: 0.7962WARNING:tensorflow:Early stopping conditioned on metric `val_loss` which is not available. Available metrics are: loss,accuracy\n",
      "800/800 [==============================] - 1s 656us/step - loss: 0.5068 - accuracy: 0.7950\n",
      "Epoch 45/150\n",
      "771/800 [===========================>..] - ETA: 0s - loss: 0.5055 - accuracy: 0.7964WARNING:tensorflow:Early stopping conditioned on metric `val_loss` which is not available. Available metrics are: loss,accuracy\n",
      "800/800 [==============================] - 1s 655us/step - loss: 0.5075 - accuracy: 0.7949\n",
      "Epoch 46/150\n",
      "772/800 [===========================>..] - ETA: 0s - loss: 0.5161 - accuracy: 0.7955WARNING:tensorflow:Early stopping conditioned on metric `val_loss` which is not available. Available metrics are: loss,accuracy\n",
      "800/800 [==============================] - 1s 655us/step - loss: 0.5164 - accuracy: 0.7950\n",
      "Epoch 47/150\n",
      "770/800 [===========================>..] - ETA: 0s - loss: 0.5086 - accuracy: 0.7939WARNING:tensorflow:Early stopping conditioned on metric `val_loss` which is not available. Available metrics are: loss,accuracy\n",
      "800/800 [==============================] - 1s 655us/step - loss: 0.5073 - accuracy: 0.7949\n",
      "Epoch 48/150\n",
      "765/800 [===========================>..] - ETA: 0s - loss: 0.5038 - accuracy: 0.7973WARNING:tensorflow:Early stopping conditioned on metric `val_loss` which is not available. Available metrics are: loss,accuracy\n",
      "800/800 [==============================] - 1s 660us/step - loss: 0.5070 - accuracy: 0.7949\n",
      "Epoch 49/150\n",
      "756/800 [===========================>..] - ETA: 0s - loss: 0.5059 - accuracy: 0.7958WARNING:tensorflow:Early stopping conditioned on metric `val_loss` which is not available. Available metrics are: loss,accuracy\n",
      "800/800 [==============================] - 1s 667us/step - loss: 0.5070 - accuracy: 0.7950\n",
      "Epoch 50/150\n",
      "771/800 [===========================>..] - ETA: 0s - loss: 0.5081 - accuracy: 0.7943WARNING:tensorflow:Early stopping conditioned on metric `val_loss` which is not available. Available metrics are: loss,accuracy\n",
      "800/800 [==============================] - 1s 718us/step - loss: 0.5071 - accuracy: 0.7950\n",
      "Epoch 51/150\n",
      "762/800 [===========================>..] - ETA: 0s - loss: 0.5073 - accuracy: 0.7948WARNING:tensorflow:Early stopping conditioned on metric `val_loss` which is not available. Available metrics are: loss,accuracy\n",
      "800/800 [==============================] - 1s 663us/step - loss: 0.5070 - accuracy: 0.7950\n",
      "Epoch 52/150\n",
      "766/800 [===========================>..] - ETA: 0s - loss: 0.5068 - accuracy: 0.7950WARNING:tensorflow:Early stopping conditioned on metric `val_loss` which is not available. Available metrics are: loss,accuracy\n",
      "800/800 [==============================] - 1s 659us/step - loss: 0.5068 - accuracy: 0.7950\n",
      "Epoch 53/150\n",
      "765/800 [===========================>..] - ETA: 0s - loss: 0.5054 - accuracy: 0.7962WARNING:tensorflow:Early stopping conditioned on metric `val_loss` which is not available. Available metrics are: loss,accuracy\n",
      "800/800 [==============================] - 1s 661us/step - loss: 0.5070 - accuracy: 0.7950\n",
      "Epoch 54/150\n",
      "770/800 [===========================>..] - ETA: 0s - loss: 0.5081 - accuracy: 0.7942WARNING:tensorflow:Early stopping conditioned on metric `val_loss` which is not available. Available metrics are: loss,accuracy\n",
      "800/800 [==============================] - 1s 656us/step - loss: 0.5070 - accuracy: 0.7950\n",
      "Epoch 55/150\n",
      "761/800 [===========================>..] - ETA: 0s - loss: 0.5082 - accuracy: 0.7941WARNING:tensorflow:Early stopping conditioned on metric `val_loss` which is not available. Available metrics are: loss,accuracy\n",
      "800/800 [==============================] - 1s 664us/step - loss: 0.5069 - accuracy: 0.7950\n",
      "Epoch 56/150\n",
      "765/800 [===========================>..] - ETA: 0s - loss: 0.5078 - accuracy: 0.7944WARNING:tensorflow:Early stopping conditioned on metric `val_loss` which is not available. Available metrics are: loss,accuracy\n",
      "800/800 [==============================] - 1s 660us/step - loss: 0.5070 - accuracy: 0.7950\n",
      "Epoch 57/150\n",
      "763/800 [===========================>..] - ETA: 0s - loss: 0.5060 - accuracy: 0.7957WARNING:tensorflow:Early stopping conditioned on metric `val_loss` which is not available. Available metrics are: loss,accuracy\n",
      "800/800 [==============================] - 1s 662us/step - loss: 0.5070 - accuracy: 0.7950\n",
      "Epoch 58/150\n",
      "772/800 [===========================>..] - ETA: 0s - loss: 0.5276 - accuracy: 0.7957WARNING:tensorflow:Early stopping conditioned on metric `val_loss` which is not available. Available metrics are: loss,accuracy\n",
      "800/800 [==============================] - 1s 656us/step - loss: 0.5280 - accuracy: 0.7949\n",
      "Epoch 59/150\n",
      "769/800 [===========================>..] - ETA: 0s - loss: 0.5080 - accuracy: 0.7941WARNING:tensorflow:Early stopping conditioned on metric `val_loss` which is not available. Available metrics are: loss,accuracy\n",
      "800/800 [==============================] - 1s 656us/step - loss: 0.5069 - accuracy: 0.7950\n",
      "Epoch 60/150\n",
      "771/800 [===========================>..] - ETA: 0s - loss: 0.5038 - accuracy: 0.7973WARNING:tensorflow:Early stopping conditioned on metric `val_loss` which is not available. Available metrics are: loss,accuracy\n",
      "800/800 [==============================] - 1s 655us/step - loss: 0.5069 - accuracy: 0.7950\n",
      "Epoch 61/150\n",
      "769/800 [===========================>..] - ETA: 0s - loss: 0.5079 - accuracy: 0.7941WARNING:tensorflow:Early stopping conditioned on metric `val_loss` which is not available. Available metrics are: loss,accuracy\n",
      "800/800 [==============================] - 1s 657us/step - loss: 0.5067 - accuracy: 0.7950\n",
      "Epoch 62/150\n",
      "769/800 [===========================>..] - ETA: 0s - loss: 0.5758 - accuracy: 0.7949WARNING:tensorflow:Early stopping conditioned on metric `val_loss` which is not available. Available metrics are: loss,accuracy\n",
      "800/800 [==============================] - 1s 657us/step - loss: 0.5732 - accuracy: 0.7949\n",
      "Epoch 63/150\n",
      "771/800 [===========================>..] - ETA: 0s - loss: 0.5056 - accuracy: 0.7975WARNING:tensorflow:Early stopping conditioned on metric `val_loss` which is not available. Available metrics are: loss,accuracy\n",
      "800/800 [==============================] - 1s 654us/step - loss: 0.5090 - accuracy: 0.7950\n",
      "Epoch 64/150\n",
      "768/800 [===========================>..] - ETA: 0s - loss: 0.5077 - accuracy: 0.7944WARNING:tensorflow:Early stopping conditioned on metric `val_loss` which is not available. Available metrics are: loss,accuracy\n",
      "800/800 [==============================] - 1s 658us/step - loss: 0.5069 - accuracy: 0.7950\n",
      "Epoch 65/150\n",
      "767/800 [===========================>..] - ETA: 0s - loss: 0.5068 - accuracy: 0.7950WARNING:tensorflow:Early stopping conditioned on metric `val_loss` which is not available. Available metrics are: loss,accuracy\n",
      "800/800 [==============================] - 1s 657us/step - loss: 0.5069 - accuracy: 0.7950\n",
      "Epoch 66/150\n",
      "765/800 [===========================>..] - ETA: 0s - loss: 0.5081 - accuracy: 0.7941WARNING:tensorflow:Early stopping conditioned on metric `val_loss` which is not available. Available metrics are: loss,accuracy\n",
      "800/800 [==============================] - 1s 659us/step - loss: 0.5069 - accuracy: 0.7950\n",
      "Epoch 67/150\n",
      "759/800 [===========================>..] - ETA: 0s - loss: 0.5076 - accuracy: 0.7945WARNING:tensorflow:Early stopping conditioned on metric `val_loss` which is not available. Available metrics are: loss,accuracy\n",
      "800/800 [==============================] - 1s 665us/step - loss: 0.5069 - accuracy: 0.7950\n",
      "Epoch 68/150\n",
      "773/800 [===========================>..] - ETA: 0s - loss: 0.5057 - accuracy: 0.7959WARNING:tensorflow:Early stopping conditioned on metric `val_loss` which is not available. Available metrics are: loss,accuracy\n",
      "800/800 [==============================] - 1s 654us/step - loss: 0.5069 - accuracy: 0.7950\n",
      "Epoch 69/150\n",
      "774/800 [============================>.] - ETA: 0s - loss: 0.5071 - accuracy: 0.7948WARNING:tensorflow:Early stopping conditioned on metric `val_loss` which is not available. Available metrics are: loss,accuracy\n",
      "800/800 [==============================] - 1s 652us/step - loss: 0.5069 - accuracy: 0.7950\n",
      "Epoch 70/150\n",
      "773/800 [===========================>..] - ETA: 0s - loss: 0.5052 - accuracy: 0.7962WARNING:tensorflow:Early stopping conditioned on metric `val_loss` which is not available. Available metrics are: loss,accuracy\n",
      "800/800 [==============================] - 1s 654us/step - loss: 0.5069 - accuracy: 0.7950\n",
      "Epoch 71/150\n",
      "774/800 [============================>.] - ETA: 0s - loss: 0.5080 - accuracy: 0.7942WARNING:tensorflow:Early stopping conditioned on metric `val_loss` which is not available. Available metrics are: loss,accuracy\n",
      "800/800 [==============================] - 1s 653us/step - loss: 0.5069 - accuracy: 0.7950\n",
      "Epoch 72/150\n",
      "759/800 [===========================>..] - ETA: 0s - loss: 0.5076 - accuracy: 0.7945WARNING:tensorflow:Early stopping conditioned on metric `val_loss` which is not available. Available metrics are: loss,accuracy\n",
      "800/800 [==============================] - 1s 667us/step - loss: 0.5069 - accuracy: 0.7950\n",
      "Epoch 73/150\n",
      "755/800 [===========================>..] - ETA: 0s - loss: 0.5074 - accuracy: 0.7946WARNING:tensorflow:Early stopping conditioned on metric `val_loss` which is not available. Available metrics are: loss,accuracy\n",
      "800/800 [==============================] - 1s 669us/step - loss: 0.5068 - accuracy: 0.7950\n",
      "Epoch 74/150\n",
      "771/800 [===========================>..] - ETA: 0s - loss: 0.5069 - accuracy: 0.7960WARNING:tensorflow:Early stopping conditioned on metric `val_loss` which is not available. Available metrics are: loss,accuracy\n",
      "800/800 [==============================] - 1s 654us/step - loss: 0.5082 - accuracy: 0.7950\n",
      "Epoch 75/150\n",
      "769/800 [===========================>..] - ETA: 0s - loss: 0.5043 - accuracy: 0.7969WARNING:tensorflow:Early stopping conditioned on metric `val_loss` which is not available. Available metrics are: loss,accuracy\n",
      "800/800 [==============================] - 1s 656us/step - loss: 0.5068 - accuracy: 0.7950\n",
      "Epoch 76/150\n",
      "773/800 [===========================>..] - ETA: 0s - loss: 0.5624 - accuracy: 0.7939WARNING:tensorflow:Early stopping conditioned on metric `val_loss` which is not available. Available metrics are: loss,accuracy\n",
      "800/800 [==============================] - 1s 652us/step - loss: 0.5591 - accuracy: 0.7950\n",
      "Epoch 77/150\n",
      "768/800 [===========================>..] - ETA: 0s - loss: 0.5074 - accuracy: 0.7947WARNING:tensorflow:Early stopping conditioned on metric `val_loss` which is not available. Available metrics are: loss,accuracy\n",
      "800/800 [==============================] - 1s 658us/step - loss: 0.5070 - accuracy: 0.7950\n",
      "Epoch 78/150\n",
      "764/800 [===========================>..] - ETA: 0s - loss: 0.5052 - accuracy: 0.7963WARNING:tensorflow:Early stopping conditioned on metric `val_loss` which is not available. Available metrics are: loss,accuracy\n",
      "800/800 [==============================] - 1s 660us/step - loss: 0.5070 - accuracy: 0.7950\n",
      "Epoch 79/150\n",
      "764/800 [===========================>..] - ETA: 0s - loss: 0.5080 - accuracy: 0.7942WARNING:tensorflow:Early stopping conditioned on metric `val_loss` which is not available. Available metrics are: loss,accuracy\n",
      "800/800 [==============================] - 1s 661us/step - loss: 0.5070 - accuracy: 0.7950\n",
      "Epoch 80/150\n",
      "767/800 [===========================>..] - ETA: 0s - loss: 0.5061 - accuracy: 0.7957WARNING:tensorflow:Early stopping conditioned on metric `val_loss` which is not available. Available metrics are: loss,accuracy\n",
      "800/800 [==============================] - 1s 660us/step - loss: 0.5070 - accuracy: 0.7950\n",
      "Epoch 81/150\n",
      "732/800 [==========================>...] - ETA: 0s - loss: 0.5069 - accuracy: 0.7951WARNING:tensorflow:Early stopping conditioned on metric `val_loss` which is not available. Available metrics are: loss,accuracy\n",
      "800/800 [==============================] - 1s 687us/step - loss: 0.5070 - accuracy: 0.7950\n",
      "Epoch 82/150\n",
      "762/800 [===========================>..] - ETA: 0s - loss: 0.5050 - accuracy: 0.7965WARNING:tensorflow:Early stopping conditioned on metric `val_loss` which is not available. Available metrics are: loss,accuracy\n",
      "800/800 [==============================] - 1s 664us/step - loss: 0.5070 - accuracy: 0.7950\n",
      "Epoch 83/150\n",
      "769/800 [===========================>..] - ETA: 0s - loss: 0.5046 - accuracy: 0.7967WARNING:tensorflow:Early stopping conditioned on metric `val_loss` which is not available. Available metrics are: loss,accuracy\n",
      "800/800 [==============================] - 1s 656us/step - loss: 0.5070 - accuracy: 0.7950\n",
      "Epoch 84/150\n",
      "774/800 [============================>.] - ETA: 0s - loss: 0.5056 - accuracy: 0.7960WARNING:tensorflow:Early stopping conditioned on metric `val_loss` which is not available. Available metrics are: loss,accuracy\n",
      "800/800 [==============================] - 1s 653us/step - loss: 0.5070 - accuracy: 0.7950\n",
      "Epoch 85/150\n",
      "776/800 [============================>.] - ETA: 0s - loss: 0.5047 - accuracy: 0.7966WARNING:tensorflow:Early stopping conditioned on metric `val_loss` which is not available. Available metrics are: loss,accuracy\n",
      "800/800 [==============================] - 1s 652us/step - loss: 0.5069 - accuracy: 0.7950\n",
      "Epoch 86/150\n",
      "774/800 [============================>.] - ETA: 0s - loss: 0.5089 - accuracy: 0.7935WARNING:tensorflow:Early stopping conditioned on metric `val_loss` which is not available. Available metrics are: loss,accuracy\n",
      "800/800 [==============================] - 1s 653us/step - loss: 0.5069 - accuracy: 0.7950\n",
      "Epoch 87/150\n",
      "773/800 [===========================>..] - ETA: 0s - loss: 0.5069 - accuracy: 0.7950WARNING:tensorflow:Early stopping conditioned on metric `val_loss` which is not available. Available metrics are: loss,accuracy\n",
      "800/800 [==============================] - 1s 653us/step - loss: 0.5069 - accuracy: 0.7950\n",
      "Epoch 88/150\n",
      "774/800 [============================>.] - ETA: 0s - loss: 0.5074 - accuracy: 0.7946WARNING:tensorflow:Early stopping conditioned on metric `val_loss` which is not available. Available metrics are: loss,accuracy\n",
      "800/800 [==============================] - 1s 653us/step - loss: 0.5069 - accuracy: 0.7950\n",
      "Epoch 89/150\n",
      "765/800 [===========================>..] - ETA: 0s - loss: 0.5079 - accuracy: 0.7942WARNING:tensorflow:Early stopping conditioned on metric `val_loss` which is not available. Available metrics are: loss,accuracy\n",
      "800/800 [==============================] - 1s 726us/step - loss: 0.5069 - accuracy: 0.7950\n",
      "Epoch 90/150\n",
      "774/800 [============================>.] - ETA: 0s - loss: 0.5084 - accuracy: 0.7939WARNING:tensorflow:Early stopping conditioned on metric `val_loss` which is not available. Available metrics are: loss,accuracy\n",
      "800/800 [==============================] - 1s 654us/step - loss: 0.5069 - accuracy: 0.7950\n",
      "Epoch 91/150\n",
      "753/800 [===========================>..] - ETA: 0s - loss: 0.5098 - accuracy: 0.7928WARNING:tensorflow:Early stopping conditioned on metric `val_loss` which is not available. Available metrics are: loss,accuracy\n",
      "800/800 [==============================] - 1s 670us/step - loss: 0.5069 - accuracy: 0.7950\n",
      "Epoch 92/150\n",
      "747/800 [===========================>..] - ETA: 0s - loss: 0.5092 - accuracy: 0.7933WARNING:tensorflow:Early stopping conditioned on metric `val_loss` which is not available. Available metrics are: loss,accuracy\n",
      "800/800 [==============================] - 1s 675us/step - loss: 0.5069 - accuracy: 0.7950\n",
      "Epoch 93/150\n",
      "771/800 [===========================>..] - ETA: 0s - loss: 0.5927 - accuracy: 0.7948WARNING:tensorflow:Early stopping conditioned on metric `val_loss` which is not available. Available metrics are: loss,accuracy\n",
      "800/800 [==============================] - 1s 654us/step - loss: 0.5894 - accuracy: 0.7950\n",
      "Epoch 94/150\n",
      "770/800 [===========================>..] - ETA: 0s - loss: 0.5079 - accuracy: 0.7943WARNING:tensorflow:Early stopping conditioned on metric `val_loss` which is not available. Available metrics are: loss,accuracy\n",
      "800/800 [==============================] - 1s 657us/step - loss: 0.5070 - accuracy: 0.7950\n",
      "Epoch 95/150\n",
      "769/800 [===========================>..] - ETA: 0s - loss: 0.5141 - accuracy: 0.7932WARNING:tensorflow:Early stopping conditioned on metric `val_loss` which is not available. Available metrics are: loss,accuracy\n",
      "800/800 [==============================] - 1s 656us/step - loss: 0.5115 - accuracy: 0.7950\n",
      "Epoch 96/150\n",
      "771/800 [===========================>..] - ETA: 0s - loss: 0.5101 - accuracy: 0.7929WARNING:tensorflow:Early stopping conditioned on metric `val_loss` which is not available. Available metrics are: loss,accuracy\n",
      "800/800 [==============================] - 1s 655us/step - loss: 0.5072 - accuracy: 0.7950\n",
      "Epoch 97/150\n",
      "770/800 [===========================>..] - ETA: 0s - loss: 0.5055 - accuracy: 0.7961WARNING:tensorflow:Early stopping conditioned on metric `val_loss` which is not available. Available metrics are: loss,accuracy\n",
      "800/800 [==============================] - 1s 656us/step - loss: 0.5070 - accuracy: 0.7950\n",
      "Epoch 98/150\n",
      "773/800 [===========================>..] - ETA: 0s - loss: 0.5090 - accuracy: 0.7935WARNING:tensorflow:Early stopping conditioned on metric `val_loss` which is not available. Available metrics are: loss,accuracy\n",
      "800/800 [==============================] - 1s 654us/step - loss: 0.5070 - accuracy: 0.7950\n",
      "Epoch 99/150\n",
      "774/800 [============================>.] - ETA: 0s - loss: 0.5072 - accuracy: 0.7948WARNING:tensorflow:Early stopping conditioned on metric `val_loss` which is not available. Available metrics are: loss,accuracy\n",
      "800/800 [==============================] - 1s 653us/step - loss: 0.5069 - accuracy: 0.7950\n",
      "Epoch 100/150\n",
      "772/800 [===========================>..] - ETA: 0s - loss: 0.5074 - accuracy: 0.7946WARNING:tensorflow:Early stopping conditioned on metric `val_loss` which is not available. Available metrics are: loss,accuracy\n",
      "800/800 [==============================] - 1s 654us/step - loss: 0.5069 - accuracy: 0.7950\n",
      "Epoch 101/150\n",
      "777/800 [============================>.] - ETA: 0s - loss: 0.5084 - accuracy: 0.7938WARNING:tensorflow:Early stopping conditioned on metric `val_loss` which is not available. Available metrics are: loss,accuracy\n",
      "800/800 [==============================] - 1s 652us/step - loss: 0.5068 - accuracy: 0.7950\n",
      "Epoch 102/150\n",
      "772/800 [===========================>..] - ETA: 0s - loss: 0.5071 - accuracy: 0.7948WARNING:tensorflow:Early stopping conditioned on metric `val_loss` which is not available. Available metrics are: loss,accuracy\n",
      "800/800 [==============================] - 1s 654us/step - loss: 0.5068 - accuracy: 0.7950\n",
      "Epoch 103/150\n",
      "775/800 [============================>.] - ETA: 0s - loss: 0.5062 - accuracy: 0.7955WARNING:tensorflow:Early stopping conditioned on metric `val_loss` which is not available. Available metrics are: loss,accuracy\n",
      "800/800 [==============================] - 1s 651us/step - loss: 0.5069 - accuracy: 0.7950\n",
      "Epoch 104/150\n",
      "756/800 [===========================>..] - ETA: 0s - loss: 0.5093 - accuracy: 0.7931WARNING:tensorflow:Early stopping conditioned on metric `val_loss` which is not available. Available metrics are: loss,accuracy\n",
      "800/800 [==============================] - 1s 668us/step - loss: 0.5068 - accuracy: 0.7950\n",
      "Epoch 105/150\n",
      "768/800 [===========================>..] - ETA: 0s - loss: 0.5082 - accuracy: 0.7952WARNING:tensorflow:Early stopping conditioned on metric `val_loss` which is not available. Available metrics are: loss,accuracy\n",
      "800/800 [==============================] - 1s 657us/step - loss: 0.5083 - accuracy: 0.7950\n",
      "Epoch 106/150\n",
      "762/800 [===========================>..] - ETA: 0s - loss: 0.5071 - accuracy: 0.7948WARNING:tensorflow:Early stopping conditioned on metric `val_loss` which is not available. Available metrics are: loss,accuracy\n",
      "800/800 [==============================] - 1s 662us/step - loss: 0.5067 - accuracy: 0.7950\n",
      "Epoch 107/150\n",
      "764/800 [===========================>..] - ETA: 0s - loss: 0.5071 - accuracy: 0.7948WARNING:tensorflow:Early stopping conditioned on metric `val_loss` which is not available. Available metrics are: loss,accuracy\n",
      "800/800 [==============================] - 1s 661us/step - loss: 0.5068 - accuracy: 0.7950\n",
      "Epoch 108/150\n",
      "766/800 [===========================>..] - ETA: 0s - loss: 0.5051 - accuracy: 0.7965WARNING:tensorflow:Early stopping conditioned on metric `val_loss` which is not available. Available metrics are: loss,accuracy\n",
      "800/800 [==============================] - 1s 658us/step - loss: 0.5070 - accuracy: 0.7950\n",
      "Epoch 109/150\n",
      "771/800 [===========================>..] - ETA: 0s - loss: 0.5065 - accuracy: 0.7953WARNING:tensorflow:Early stopping conditioned on metric `val_loss` which is not available. Available metrics are: loss,accuracy\n",
      "800/800 [==============================] - 1s 655us/step - loss: 0.5069 - accuracy: 0.7950\n",
      "Epoch 110/150\n",
      "771/800 [===========================>..] - ETA: 0s - loss: 0.5060 - accuracy: 0.7956WARNING:tensorflow:Early stopping conditioned on metric `val_loss` which is not available. Available metrics are: loss,accuracy\n",
      "800/800 [==============================] - 1s 655us/step - loss: 0.5068 - accuracy: 0.7950\n",
      "Epoch 111/150\n",
      "770/800 [===========================>..] - ETA: 0s - loss: 0.5098 - accuracy: 0.7960WARNING:tensorflow:Early stopping conditioned on metric `val_loss` which is not available. Available metrics are: loss,accuracy\n",
      "800/800 [==============================] - 1s 655us/step - loss: 0.5109 - accuracy: 0.7950\n",
      "Epoch 112/150\n",
      "772/800 [===========================>..] - ETA: 0s - loss: 0.5067 - accuracy: 0.7951WARNING:tensorflow:Early stopping conditioned on metric `val_loss` which is not available. Available metrics are: loss,accuracy\n",
      "800/800 [==============================] - 1s 655us/step - loss: 0.5068 - accuracy: 0.7950\n",
      "Epoch 113/150\n",
      "770/800 [===========================>..] - ETA: 0s - loss: 0.5089 - accuracy: 0.7935WARNING:tensorflow:Early stopping conditioned on metric `val_loss` which is not available. Available metrics are: loss,accuracy\n",
      "800/800 [==============================] - 1s 655us/step - loss: 0.5069 - accuracy: 0.7950\n",
      "Epoch 114/150\n",
      "771/800 [===========================>..] - ETA: 0s - loss: 0.5083 - accuracy: 0.7939WARNING:tensorflow:Early stopping conditioned on metric `val_loss` which is not available. Available metrics are: loss,accuracy\n",
      "800/800 [==============================] - 1s 654us/step - loss: 0.5069 - accuracy: 0.7950\n",
      "Epoch 115/150\n",
      "766/800 [===========================>..] - ETA: 0s - loss: 0.5070 - accuracy: 0.7949WARNING:tensorflow:Early stopping conditioned on metric `val_loss` which is not available. Available metrics are: loss,accuracy\n",
      "800/800 [==============================] - 1s 659us/step - loss: 0.5069 - accuracy: 0.7950\n",
      "Epoch 116/150\n",
      "773/800 [===========================>..] - ETA: 0s - loss: 0.5057 - accuracy: 0.7957WARNING:tensorflow:Early stopping conditioned on metric `val_loss` which is not available. Available metrics are: loss,accuracy\n",
      "800/800 [==============================] - 1s 653us/step - loss: 0.5067 - accuracy: 0.7950\n",
      "Epoch 117/150\n",
      "775/800 [============================>.] - ETA: 0s - loss: 0.5241 - accuracy: 0.7948WARNING:tensorflow:Early stopping conditioned on metric `val_loss` which is not available. Available metrics are: loss,accuracy\n",
      "800/800 [==============================] - 1s 653us/step - loss: 0.5240 - accuracy: 0.7945\n",
      "Epoch 118/150\n",
      "773/800 [===========================>..] - ETA: 0s - loss: 0.5038 - accuracy: 0.7970WARNING:tensorflow:Early stopping conditioned on metric `val_loss` which is not available. Available metrics are: loss,accuracy\n",
      "800/800 [==============================] - 1s 654us/step - loss: 0.5069 - accuracy: 0.7950\n",
      "Epoch 119/150\n",
      "771/800 [===========================>..] - ETA: 0s - loss: 0.5088 - accuracy: 0.7936WARNING:tensorflow:Early stopping conditioned on metric `val_loss` which is not available. Available metrics are: loss,accuracy\n",
      "800/800 [==============================] - 1s 654us/step - loss: 0.5069 - accuracy: 0.7950\n",
      "Epoch 120/150\n",
      "771/800 [===========================>..] - ETA: 0s - loss: 0.5082 - accuracy: 0.7940WARNING:tensorflow:Early stopping conditioned on metric `val_loss` which is not available. Available metrics are: loss,accuracy\n",
      "800/800 [==============================] - 1s 654us/step - loss: 0.5069 - accuracy: 0.7950\n",
      "Epoch 121/150\n",
      "768/800 [===========================>..] - ETA: 0s - loss: 0.5079 - accuracy: 0.7943WARNING:tensorflow:Early stopping conditioned on metric `val_loss` which is not available. Available metrics are: loss,accuracy\n",
      "800/800 [==============================] - 1s 658us/step - loss: 0.5068 - accuracy: 0.7950\n",
      "Epoch 122/150\n",
      "769/800 [===========================>..] - ETA: 0s - loss: 0.5044 - accuracy: 0.7967WARNING:tensorflow:Early stopping conditioned on metric `val_loss` which is not available. Available metrics are: loss,accuracy\n",
      "800/800 [==============================] - 1s 658us/step - loss: 0.5068 - accuracy: 0.7950\n",
      "Epoch 123/150\n",
      "776/800 [============================>.] - ETA: 0s - loss: 0.5076 - accuracy: 0.7943WARNING:tensorflow:Early stopping conditioned on metric `val_loss` which is not available. Available metrics are: loss,accuracy\n",
      "800/800 [==============================] - 1s 714us/step - loss: 0.5067 - accuracy: 0.7950\n",
      "Epoch 124/150\n",
      "765/800 [===========================>..] - ETA: 0s - loss: 0.5055 - accuracy: 0.7962WARNING:tensorflow:Early stopping conditioned on metric `val_loss` which is not available. Available metrics are: loss,accuracy\n",
      "800/800 [==============================] - 1s 659us/step - loss: 0.5071 - accuracy: 0.7950\n",
      "Epoch 125/150\n",
      "765/800 [===========================>..] - ETA: 0s - loss: 0.5063 - accuracy: 0.7953WARNING:tensorflow:Early stopping conditioned on metric `val_loss` which is not available. Available metrics are: loss,accuracy\n",
      "800/800 [==============================] - 1s 661us/step - loss: 0.5067 - accuracy: 0.7950\n",
      "Epoch 126/150\n",
      "776/800 [============================>.] - ETA: 0s - loss: 0.5090 - accuracy: 0.7939WARNING:tensorflow:Early stopping conditioned on metric `val_loss` which is not available. Available metrics are: loss,accuracy\n",
      "800/800 [==============================] - 1s 653us/step - loss: 0.5076 - accuracy: 0.7950\n",
      "Epoch 127/150\n",
      "770/800 [===========================>..] - ETA: 0s - loss: 0.5066 - accuracy: 0.7952WARNING:tensorflow:Early stopping conditioned on metric `val_loss` which is not available. Available metrics are: loss,accuracy\n",
      "800/800 [==============================] - 1s 656us/step - loss: 0.5069 - accuracy: 0.7950\n",
      "Epoch 128/150\n",
      "773/800 [===========================>..] - ETA: 0s - loss: 0.5088 - accuracy: 0.7938WARNING:tensorflow:Early stopping conditioned on metric `val_loss` which is not available. Available metrics are: loss,accuracy\n",
      "800/800 [==============================] - 1s 654us/step - loss: 0.5072 - accuracy: 0.7950\n",
      "Epoch 129/150\n",
      "769/800 [===========================>..] - ETA: 0s - loss: 0.5061 - accuracy: 0.7956WARNING:tensorflow:Early stopping conditioned on metric `val_loss` which is not available. Available metrics are: loss,accuracy\n",
      "800/800 [==============================] - 1s 657us/step - loss: 0.5068 - accuracy: 0.7950\n",
      "Epoch 130/150\n",
      "748/800 [===========================>..] - ETA: 0s - loss: 0.5080 - accuracy: 0.7941WARNING:tensorflow:Early stopping conditioned on metric `val_loss` which is not available. Available metrics are: loss,accuracy\n",
      "800/800 [==============================] - 1s 675us/step - loss: 0.5068 - accuracy: 0.7950\n",
      "Epoch 131/150\n",
      "766/800 [===========================>..] - ETA: 0s - loss: 0.5077 - accuracy: 0.7944WARNING:tensorflow:Early stopping conditioned on metric `val_loss` which is not available. Available metrics are: loss,accuracy\n",
      "800/800 [==============================] - 1s 659us/step - loss: 0.5069 - accuracy: 0.7950\n",
      "Epoch 132/150\n",
      "770/800 [===========================>..] - ETA: 0s - loss: 0.5066 - accuracy: 0.7952WARNING:tensorflow:Early stopping conditioned on metric `val_loss` which is not available. Available metrics are: loss,accuracy\n",
      "800/800 [==============================] - 1s 656us/step - loss: 0.5069 - accuracy: 0.7950\n",
      "Epoch 133/150\n",
      "770/800 [===========================>..] - ETA: 0s - loss: 0.5088 - accuracy: 0.7935WARNING:tensorflow:Early stopping conditioned on metric `val_loss` which is not available. Available metrics are: loss,accuracy\n",
      "800/800 [==============================] - 1s 655us/step - loss: 0.5067 - accuracy: 0.7950\n",
      "Epoch 134/150\n",
      "766/800 [===========================>..] - ETA: 0s - loss: 0.5074 - accuracy: 0.7945WARNING:tensorflow:Early stopping conditioned on metric `val_loss` which is not available. Available metrics are: loss,accuracy\n",
      "800/800 [==============================] - 1s 659us/step - loss: 0.5068 - accuracy: 0.7950\n",
      "Epoch 135/150\n",
      "769/800 [===========================>..] - ETA: 0s - loss: 0.5074 - accuracy: 0.7945WARNING:tensorflow:Early stopping conditioned on metric `val_loss` which is not available. Available metrics are: loss,accuracy\n",
      "800/800 [==============================] - 1s 657us/step - loss: 0.5068 - accuracy: 0.7950\n",
      "Epoch 136/150\n",
      "767/800 [===========================>..] - ETA: 0s - loss: 0.5067 - accuracy: 0.7950WARNING:tensorflow:Early stopping conditioned on metric `val_loss` which is not available. Available metrics are: loss,accuracy\n",
      "800/800 [==============================] - 1s 658us/step - loss: 0.5067 - accuracy: 0.7950\n",
      "Epoch 137/150\n",
      "758/800 [===========================>..] - ETA: 0s - loss: 0.5042 - accuracy: 0.7970WARNING:tensorflow:Early stopping conditioned on metric `val_loss` which is not available. Available metrics are: loss,accuracy\n",
      "800/800 [==============================] - 1s 665us/step - loss: 0.5069 - accuracy: 0.7950\n",
      "Epoch 138/150\n",
      "753/800 [===========================>..] - ETA: 0s - loss: 0.5066 - accuracy: 0.7952WARNING:tensorflow:Early stopping conditioned on metric `val_loss` which is not available. Available metrics are: loss,accuracy\n",
      "800/800 [==============================] - 1s 670us/step - loss: 0.5068 - accuracy: 0.7950\n",
      "Epoch 139/150\n",
      "734/800 [==========================>...] - ETA: 0s - loss: 0.5064 - accuracy: 0.7952WARNING:tensorflow:Early stopping conditioned on metric `val_loss` which is not available. Available metrics are: loss,accuracy\n",
      "800/800 [==============================] - 1s 691us/step - loss: 0.5067 - accuracy: 0.7950\n",
      "Epoch 140/150\n",
      "756/800 [===========================>..] - ETA: 0s - loss: 0.5111 - accuracy: 0.7933WARNING:tensorflow:Early stopping conditioned on metric `val_loss` which is not available. Available metrics are: loss,accuracy\n",
      "800/800 [==============================] - 1s 667us/step - loss: 0.5086 - accuracy: 0.7950\n",
      "Epoch 141/150\n",
      "773/800 [===========================>..] - ETA: 0s - loss: 0.5067 - accuracy: 0.7951WARNING:tensorflow:Early stopping conditioned on metric `val_loss` which is not available. Available metrics are: loss,accuracy\n",
      "800/800 [==============================] - 1s 654us/step - loss: 0.5068 - accuracy: 0.7950\n",
      "Epoch 142/150\n",
      "770/800 [===========================>..] - ETA: 0s - loss: 0.5110 - accuracy: 0.7970WARNING:tensorflow:Early stopping conditioned on metric `val_loss` which is not available. Available metrics are: loss,accuracy\n",
      "800/800 [==============================] - 1s 656us/step - loss: 0.5135 - accuracy: 0.7950\n",
      "Epoch 143/150\n",
      "768/800 [===========================>..] - ETA: 0s - loss: 0.5077 - accuracy: 0.7951WARNING:tensorflow:Early stopping conditioned on metric `val_loss` which is not available. Available metrics are: loss,accuracy\n",
      "800/800 [==============================] - 1s 657us/step - loss: 0.5077 - accuracy: 0.7950\n",
      "Epoch 144/150\n",
      "766/800 [===========================>..] - ETA: 0s - loss: 0.5051 - accuracy: 0.7962WARNING:tensorflow:Early stopping conditioned on metric `val_loss` which is not available. Available metrics are: loss,accuracy\n",
      "800/800 [==============================] - 1s 659us/step - loss: 0.5067 - accuracy: 0.7950\n",
      "Epoch 145/150\n",
      "770/800 [===========================>..] - ETA: 0s - loss: 0.5075 - accuracy: 0.7945WARNING:tensorflow:Early stopping conditioned on metric `val_loss` which is not available. Available metrics are: loss,accuracy\n",
      "800/800 [==============================] - 1s 655us/step - loss: 0.5068 - accuracy: 0.7950\n",
      "Epoch 146/150\n",
      "769/800 [===========================>..] - ETA: 0s - loss: 0.5062 - accuracy: 0.7954WARNING:tensorflow:Early stopping conditioned on metric `val_loss` which is not available. Available metrics are: loss,accuracy\n",
      "800/800 [==============================] - 1s 656us/step - loss: 0.5069 - accuracy: 0.7950\n",
      "Epoch 147/150\n",
      "769/800 [===========================>..] - ETA: 0s - loss: 0.5085 - accuracy: 0.7938WARNING:tensorflow:Early stopping conditioned on metric `val_loss` which is not available. Available metrics are: loss,accuracy\n",
      "800/800 [==============================] - 1s 658us/step - loss: 0.5068 - accuracy: 0.7950\n",
      "Epoch 148/150\n",
      "772/800 [===========================>..] - ETA: 0s - loss: 0.5075 - accuracy: 0.7946WARNING:tensorflow:Early stopping conditioned on metric `val_loss` which is not available. Available metrics are: loss,accuracy\n",
      "800/800 [==============================] - 1s 654us/step - loss: 0.5069 - accuracy: 0.7950\n",
      "Epoch 149/150\n",
      "766/800 [===========================>..] - ETA: 0s - loss: 0.5103 - accuracy: 0.7927WARNING:tensorflow:Early stopping conditioned on metric `val_loss` which is not available. Available metrics are: loss,accuracy\n",
      "800/800 [==============================] - 1s 659us/step - loss: 0.5071 - accuracy: 0.7950\n",
      "Epoch 150/150\n",
      "768/800 [===========================>..] - ETA: 0s - loss: 0.5080 - accuracy: 0.7941WARNING:tensorflow:Early stopping conditioned on metric `val_loss` which is not available. Available metrics are: loss,accuracy\n",
      "800/800 [==============================] - 1s 656us/step - loss: 0.5068 - accuracy: 0.7950\n"
     ]
    }
   ],
   "source": [
    "#model.fit(x_train, y_train, epochs=50, batch_size=1,verbose=1)\n",
    "\n",
    "from tensorflow.keras.callbacks import EarlyStopping\n",
    "early_stopping_minitor = EarlyStopping(patience=100)\n",
    "\n",
    "#train model:   \n",
    "history = model.fit(x_train, y_train,\n",
    " epochs=150,\n",
    " batch_size=10,\n",
    " #validation_split=0.2,\n",
    " callbacks=[early_stopping_minitor])"
   ]
  },
  {
   "cell_type": "code",
   "execution_count": 20,
   "metadata": {
    "colab": {
     "base_uri": "https://localhost:8080/"
    },
    "executionInfo": {
     "elapsed": 5569,
     "status": "ok",
     "timestamp": 1665330085260,
     "user": {
      "displayName": "shaik azar",
      "userId": "05209245971384166097"
     },
     "user_tz": -330
    },
    "id": "deIBbz04T3f2",
    "outputId": "98823d0e-8c13-40ec-9b4a-917724012d48"
   },
   "outputs": [],
   "source": [
    "# fit model \n",
    "#model.fit(x_train,y_train,epochs=150)"
   ]
  },
  {
   "cell_type": "code",
   "execution_count": 21,
   "metadata": {
    "id": "qInZXkyoYF2v"
   },
   "outputs": [
    {
     "name": "stdout",
     "output_type": "stream",
     "text": [
      "63/63 [==============================] - 0s 501us/step\n"
     ]
    }
   ],
   "source": [
    "y_pred = model.predict(x_test)\n"
   ]
  },
  {
   "cell_type": "code",
   "execution_count": 22,
   "metadata": {},
   "outputs": [
    {
     "name": "stdout",
     "output_type": "stream",
     "text": [
      "[[0 0]\n",
      " [0 0]\n",
      " [0 0]\n",
      " ...\n",
      " [0 0]\n",
      " [0 1]\n",
      " [0 0]]\n"
     ]
    }
   ],
   "source": [
    "y_pred = (y_pred > 0.5)\n",
    "print(np.concatenate((y_pred.reshape(len(y_pred),1), y_test.reshape(len(y_test),1)),1))"
   ]
  },
  {
   "cell_type": "code",
   "execution_count": 23,
   "metadata": {},
   "outputs": [
    {
     "name": "stdout",
     "output_type": "stream",
     "text": [
      "[[1603    0]\n",
      " [ 397    0]]\n"
     ]
    },
    {
     "data": {
      "text/plain": [
       "0.8015"
      ]
     },
     "execution_count": 23,
     "metadata": {},
     "output_type": "execute_result"
    }
   ],
   "source": [
    "cmatrix = confusion_matrix(y_test, y_pred)\n",
    "print(cmatrix)\n",
    "accuracy_score(y_test, y_pred)"
   ]
  },
  {
   "cell_type": "code",
   "execution_count": 24,
   "metadata": {},
   "outputs": [
    {
     "name": "stdout",
     "output_type": "stream",
     "text": [
      "Test accuracy: 0.8015\n"
     ]
    }
   ],
   "source": [
    "print('Test accuracy:', accuracy_score(y_test, y_pred))"
   ]
  },
  {
   "cell_type": "code",
   "execution_count": 25,
   "metadata": {},
   "outputs": [
    {
     "name": "stdout",
     "output_type": "stream",
     "text": [
      "dict_keys(['loss', 'accuracy'])\n"
     ]
    },
    {
     "data": {
      "image/png": "[encoded data removed]",
      "text/plain": [
       "<Figure size 432x288 with 1 Axes>"
      ]
     },
     "metadata": {
      "needs_background": "light"
     },
     "output_type": "display_data"
    }
   ],
   "source": [
    "# Plot loss of train and test set\n",
    "print(history.history.keys())\n",
    "\n",
    "#Loss in train and test:\n",
    "plt.plot(history.history['loss'])\n",
    "plt.plot(history.history['accuracy'])\n",
    "plt.title('model_loss')\n",
    "plt.xlabel('epoch')\n",
    "plt.ylabel('loss')\n",
    "plt.legend(['train', 'validation'], loc='upper right')\n",
    "plt.show()"
   ]
  }
 ],
 "metadata": {
  "colab": {
   "authorship_tag": "ABX9TyN/wBa64zPEsVW1nNEJBUYF",
   "collapsed_sections": [],
   "provenance": []
  },
  "kernelspec": {
   "display_name": "Python 3",
   "language": "python",
   "name": "python3"
  },
  "language_info": {
   "codemirror_mode": {
    "name": "ipython",
    "version": 3
   },
   "file_extension": ".py",
   "mimetype": "text/x-python",
   "name": "python",
   "nbconvert_exporter": "python",
   "pygments_lexer": "ipython3",
   "version": "3.8.12"
  }
 },
 "nbformat": 4,
 "nbformat_minor": 4
}
