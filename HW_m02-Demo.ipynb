{
 "cells": [
  {
   "cell_type": "code",
   "execution_count": 1,
   "metadata": {},
   "outputs": [],
   "source": [
    "#Importing libraries and modules:\n",
    "\n",
    "import numpy as np\n",
    "import pandas as pd\n",
    "import matplotlib\n",
    "import matplotlib.pyplot as plt"
   ]
  },
  {
   "cell_type": "code",
   "execution_count": null,
   "metadata": {},
   "outputs": [],
   "source": [
    "# y = w1*x1 + w2*x2"
   ]
  },
  {
   "cell_type": "code",
   "execution_count": 2,
   "metadata": {},
   "outputs": [],
   "source": [
    "x1=2\n",
    "x2=5\n",
    "y=31"
   ]
  },
  {
   "cell_type": "code",
   "execution_count": 3,
   "metadata": {},
   "outputs": [
    {
     "name": "stdout",
     "output_type": "stream",
     "text": [
      "value of w1 :  4.4399999999999995 value of w2 :  5.6 error :  196\n",
      "value of w1 :  4.2048 value of w2 :  5.0120000000000005 error :  34.57439999999995\n",
      "value of w1 :  4.106015999999999 value of w2 :  4.765040000000001 error :  6.098924159999999\n",
      "value of w1 :  4.064526719999999 value of w2 :  4.661316800000001 error :  1.0758502218240062\n",
      "value of w1 :  4.047101222399999 value of w2 :  4.617753056000001 error :  0.18977997912975422\n",
      "value of w1 :  4.039782513407999 value of w2 :  4.59945628352 error :  0.03347718831848891\n",
      "value of w1 :  4.03670865563136 value of w2 :  4.5917716390784005 error :  0.005905376019381203\n",
      "value of w1 :  4.035417635365171 value of w2 :  4.588544088412928 error :  0.0010417083298191192\n",
      "value of w1 :  4.034875406853372 value of w2 :  4.58718851713343 error :  0.00018375734938004833\n",
      "value of w1 :  4.0346476708784165 value of w2 :  4.586619177196041 error :  3.241479643064538e-05\n",
      "value of w1 :  4.034552021768935 value of w2 :  4.586380054422337 error :  5.717970090368904e-06\n",
      "value of w1 :  4.034511849142953 value of w2 :  4.586279622857382 error :  1.0086499239365075e-06\n",
      "value of w1 :  4.0344949766400395 value of w2 :  4.5862374416001 error :  1.7792584658671582e-07\n",
      "value of w1 :  4.034487890188816 value of w2 :  4.586219725472042 error :  3.138611933764491e-08\n",
      "value of w1 :  4.034484913879303 value of w2 :  4.5862122846982585 error :  5.53651145067416e-09\n",
      "value of w1 :  4.034483663829307 value of w2 :  4.586209159573269 error :  9.76640620360793e-10\n",
      "value of w1 :  4.034483138808309 value of w2 :  4.5862078470207726 error :  1.7227940543537438e-10\n",
      "value of w1 :  4.0344829182994895 value of w2 :  4.586207295748724 error :  3.0390087101565135e-11\n",
      "value of w1 :  4.034482825685785 value of w2 :  4.586207064214464 error :  5.360811348593621e-12\n",
      "value of w1 :  4.03448278678803 value of w2 :  4.586206966970075 error :  9.45647117193367e-13\n",
      "value of w1 :  4.034482770450972 value of w2 :  4.586206926127431 error :  1.6681215489732226e-13\n",
      "value of w1 :  4.034482763589408 value of w2 :  4.586206908973521 error :  2.942566261250295e-14\n",
      "value of w1 :  4.034482760707551 value of w2 :  4.586206901768879 error :  5.1906874581966265e-15\n",
      "value of w1 :  4.034482759497171 value of w2 :  4.58620689874293 error :  9.156371128210886e-16\n",
      "value of w1 :  4.034482758988811 value of w2 :  4.586206897472031 error :  1.6151836683502596e-16\n",
      "value of w1 :  4.0344827587753 value of w2 :  4.586206896938253 error :  2.8491838392611753e-17\n",
      "value of w1 :  4.034482758685625 value of w2 :  4.586206896714066 error :  5.025976221880796e-18\n",
      "value of w1 :  4.034482758647962 value of w2 :  4.586206896619908 error :  8.865781913262667e-19\n",
      "value of w1 :  4.0344827586321435 value of w2 :  4.586206896580362 error :  1.5638834665349236e-19\n",
      "value of w1 :  4.0344827586255 value of w2 :  4.586206896563752 error :  2.758803731698908e-20\n",
      "value of w1 :  4.034482758622709 value of w2 :  4.586206896556776 error :  4.866609091566159e-21\n",
      "value of w1 :  4.034482758621538 value of w2 :  4.586206896553847 error :  8.582366906181602e-22\n",
      "value of w1 :  4.034482758621046 value of w2 :  4.586206896552616 error :  1.5153986434859428e-22\n",
      "value of w1 :  4.034482758620839 value of w2 :  4.586206896552099 error :  2.6757354111529774e-23\n",
      "value of w1 :  4.034482758620752 value of w2 :  4.586206896551881 error :  4.727409902161578e-24\n",
      "value of w1 :  4.034482758620715 value of w2 :  4.586206896551791 error :  8.271806125530277e-25\n",
      "value of w1 :  4.0344827586207 value of w2 :  4.586206896551753 error :  1.472203775759661e-25\n",
      "value of w1 :  4.034482758620694 value of w2 :  4.586206896551737 error :  2.6707674807162576e-26\n",
      "value of w1 :  4.034482758620691 value of w2 :  4.5862068965517295 error :  5.0487097934144756e-27\n",
      "value of w1 :  4.03448275862069 value of w2 :  4.586206896551727 error :  8.077935669463161e-28\n",
      "value of w1 :  4.0344827586206895 value of w2 :  4.586206896551725 error :  2.0194839173657902e-28\n",
      "value of w1 :  4.0344827586206895 value of w2 :  4.586206896551724 error :  5.048709793414476e-29\n",
      "value of w1 :  4.0344827586206895 value of w2 :  4.586206896551724 error :  0.0\n",
      "value of w1 :  4.0344827586206895 value of w2 :  4.586206896551724 error :  0.0\n",
      "value of w1 :  4.0344827586206895 value of w2 :  4.586206896551724 error :  0.0\n",
      "value of w1 :  4.0344827586206895 value of w2 :  4.586206896551724 error :  0.0\n",
      "value of w1 :  4.0344827586206895 value of w2 :  4.586206896551724 error :  0.0\n",
      "value of w1 :  4.0344827586206895 value of w2 :  4.586206896551724 error :  0.0\n",
      "value of w1 :  4.0344827586206895 value of w2 :  4.586206896551724 error :  0.0\n",
      "value of w1 :  4.0344827586206895 value of w2 :  4.586206896551724 error :  0.0\n"
     ]
    }
   ],
   "source": [
    "lr=0.01\n",
    "w1=5\n",
    "w2=7\n",
    "for epoch in range(50):\n",
    "    y_pred=w1*x1 + w2*x2\n",
    "    error=(y-y_pred)**2\n",
    "    dEw1 = 2*(y-y_pred)*(-x1)\n",
    "    dEw2 = 2*(y-y_pred)*(-x2)\n",
    "    \n",
    "    w1 = w1 - lr*dEw1\n",
    "    w2 = w2 - lr*dEw2\n",
    "    print(\"value of w1 : \", w1, \"value of w2 : \", w2,\"error : \", error)"
   ]
  },
  {
   "cell_type": "code",
   "execution_count": 4,
   "metadata": {},
   "outputs": [
    {
     "name": "stdout",
     "output_type": "stream",
     "text": [
      "4.0344827586206895 4.586206896551724\n"
     ]
    }
   ],
   "source": [
    "print(w1, w2)"
   ]
  },
  {
   "cell_type": "code",
   "execution_count": 5,
   "metadata": {},
   "outputs": [
    {
     "data": {
      "text/plain": [
       "31.0"
      ]
     },
     "execution_count": 5,
     "metadata": {},
     "output_type": "execute_result"
    }
   ],
   "source": [
    "x1*w1 + x2*w2"
   ]
  }
 ],
 "metadata": {
  "colab": {
   "authorship_tag": "ABX9TyN/wBa64zPEsVW1nNEJBUYF",
   "collapsed_sections": [],
   "provenance": []
  },
  "kernelspec": {
   "display_name": "Python 3",
   "language": "python",
   "name": "python3"
  },
  "language_info": {
   "codemirror_mode": {
    "name": "ipython",
    "version": 3
   },
   "file_extension": ".py",
   "mimetype": "text/x-python",
   "name": "python",
   "nbconvert_exporter": "python",
   "pygments_lexer": "ipython3",
   "version": "3.8.12"
  }
 },
 "nbformat": 4,
 "nbformat_minor": 4
}
