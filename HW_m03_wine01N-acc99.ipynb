{
 "cells": [
  {
   "cell_type": "code",
   "execution_count": 1,
   "metadata": {
    "executionInfo": {
     "elapsed": 10,
     "status": "ok",
     "timestamp": 1665327427202,
     "user": {
      "displayName": "shaik azar",
      "userId": "05209245971384166097"
     },
     "user_tz": -330
    },
    "id": "8qtNdNTGPSxh"
   },
   "outputs": [],
   "source": [
    "import numpy as np\n",
    "import pandas as pd\n",
    "\n",
    "import matplotlib.pyplot as plt\n",
    "\n",
    "import tensorflow as tf\n",
    "import keras\n",
    "\n",
    "from sklearn.preprocessing import LabelEncoder\n",
    "from sklearn.compose import ColumnTransformer\n",
    "from sklearn.preprocessing import OneHotEncoder\n",
    "from sklearn.model_selection import train_test_split\n",
    "from sklearn.preprocessing import StandardScaler\n",
    "from sklearn.metrics import confusion_matrix, accuracy_score"
   ]
  },
  {
   "cell_type": "code",
   "execution_count": null,
   "metadata": {},
   "outputs": [],
   "source": [
    "# https://www.kaggle.com/code/mgmarques/wines-type-and-quality-classification-exercises/notebook\n",
    "\n",
    "# great EDA that is too large to start now, but great cheat sheet for future"
   ]
  },
  {
   "cell_type": "code",
   "execution_count": 2,
   "metadata": {
    "executionInfo": {
     "elapsed": 4,
     "status": "ok",
     "timestamp": 1665329164058,
     "user": {
      "displayName": "shaik azar",
      "userId": "05209245971384166097"
     },
     "user_tz": -330
    },
    "id": "Z7p71Nq6PxEh"
   },
   "outputs": [],
   "source": [
    "# https://www.kaggle.com/code/gabenazario/wine-quality-classification-rdm-forest-keras\n",
    "\n",
    "#data = pd.read_csv(\"~/datacsv/Churn_Modelling.csv\")\n",
    "df_red = pd.read_csv(\"~/datacsv/winequality-red.csv\", sep=',')   #red wine UCI dataset\n",
    "df_white = pd.read_csv(\"~/datacsv/winequality-white.csv\", sep=';')   #red wine UCI dataset"
   ]
  },
  {
   "cell_type": "code",
   "execution_count": 3,
   "metadata": {
    "colab": {
     "base_uri": "https://localhost:8080/",
     "height": 488
    },
    "executionInfo": {
     "elapsed": 10,
     "status": "ok",
     "timestamp": 1665329166860,
     "user": {
      "displayName": "shaik azar",
      "userId": "05209245971384166097"
     },
     "user_tz": -330
    },
    "id": "YNIOl21TP_rE",
    "outputId": "899b2c2a-7235-48a5-e2c1-a9a0d8e2047d"
   },
   "outputs": [
    {
     "data": {
      "text/html": [
       "<div>\n",
       "<style scoped>\n",
       "    .dataframe tbody tr th:only-of-type {\n",
       "        vertical-align: middle;\n",
       "    }\n",
       "\n",
       "    .dataframe tbody tr th {\n",
       "        vertical-align: top;\n",
       "    }\n",
       "\n",
       "    .dataframe thead th {\n",
       "        text-align: right;\n",
       "    }\n",
       "</style>\n",
       "<table border=\"1\" class=\"dataframe\">\n",
       "  <thead>\n",
       "    <tr style=\"text-align: right;\">\n",
       "      <th></th>\n",
       "      <th>fixed acidity</th>\n",
       "      <th>volatile acidity</th>\n",
       "      <th>citric acid</th>\n",
       "      <th>residual sugar</th>\n",
       "      <th>chlorides</th>\n",
       "      <th>free sulfur dioxide</th>\n",
       "      <th>total sulfur dioxide</th>\n",
       "      <th>density</th>\n",
       "      <th>pH</th>\n",
       "      <th>sulphates</th>\n",
       "      <th>alcohol</th>\n",
       "      <th>quality</th>\n",
       "    </tr>\n",
       "  </thead>\n",
       "  <tbody>\n",
       "    <tr>\n",
       "      <th>0</th>\n",
       "      <td>7.4</td>\n",
       "      <td>0.700</td>\n",
       "      <td>0.00</td>\n",
       "      <td>1.9</td>\n",
       "      <td>0.076</td>\n",
       "      <td>11.0</td>\n",
       "      <td>34.0</td>\n",
       "      <td>0.99780</td>\n",
       "      <td>3.51</td>\n",
       "      <td>0.56</td>\n",
       "      <td>9.4</td>\n",
       "      <td>5</td>\n",
       "    </tr>\n",
       "    <tr>\n",
       "      <th>1</th>\n",
       "      <td>7.8</td>\n",
       "      <td>0.880</td>\n",
       "      <td>0.00</td>\n",
       "      <td>2.6</td>\n",
       "      <td>0.098</td>\n",
       "      <td>25.0</td>\n",
       "      <td>67.0</td>\n",
       "      <td>0.99680</td>\n",
       "      <td>3.20</td>\n",
       "      <td>0.68</td>\n",
       "      <td>9.8</td>\n",
       "      <td>5</td>\n",
       "    </tr>\n",
       "    <tr>\n",
       "      <th>2</th>\n",
       "      <td>7.8</td>\n",
       "      <td>0.760</td>\n",
       "      <td>0.04</td>\n",
       "      <td>2.3</td>\n",
       "      <td>0.092</td>\n",
       "      <td>15.0</td>\n",
       "      <td>54.0</td>\n",
       "      <td>0.99700</td>\n",
       "      <td>3.26</td>\n",
       "      <td>0.65</td>\n",
       "      <td>9.8</td>\n",
       "      <td>5</td>\n",
       "    </tr>\n",
       "    <tr>\n",
       "      <th>3</th>\n",
       "      <td>11.2</td>\n",
       "      <td>0.280</td>\n",
       "      <td>0.56</td>\n",
       "      <td>1.9</td>\n",
       "      <td>0.075</td>\n",
       "      <td>17.0</td>\n",
       "      <td>60.0</td>\n",
       "      <td>0.99800</td>\n",
       "      <td>3.16</td>\n",
       "      <td>0.58</td>\n",
       "      <td>9.8</td>\n",
       "      <td>6</td>\n",
       "    </tr>\n",
       "    <tr>\n",
       "      <th>4</th>\n",
       "      <td>7.4</td>\n",
       "      <td>0.700</td>\n",
       "      <td>0.00</td>\n",
       "      <td>1.9</td>\n",
       "      <td>0.076</td>\n",
       "      <td>11.0</td>\n",
       "      <td>34.0</td>\n",
       "      <td>0.99780</td>\n",
       "      <td>3.51</td>\n",
       "      <td>0.56</td>\n",
       "      <td>9.4</td>\n",
       "      <td>5</td>\n",
       "    </tr>\n",
       "    <tr>\n",
       "      <th>...</th>\n",
       "      <td>...</td>\n",
       "      <td>...</td>\n",
       "      <td>...</td>\n",
       "      <td>...</td>\n",
       "      <td>...</td>\n",
       "      <td>...</td>\n",
       "      <td>...</td>\n",
       "      <td>...</td>\n",
       "      <td>...</td>\n",
       "      <td>...</td>\n",
       "      <td>...</td>\n",
       "      <td>...</td>\n",
       "    </tr>\n",
       "    <tr>\n",
       "      <th>1594</th>\n",
       "      <td>6.2</td>\n",
       "      <td>0.600</td>\n",
       "      <td>0.08</td>\n",
       "      <td>2.0</td>\n",
       "      <td>0.090</td>\n",
       "      <td>32.0</td>\n",
       "      <td>44.0</td>\n",
       "      <td>0.99490</td>\n",
       "      <td>3.45</td>\n",
       "      <td>0.58</td>\n",
       "      <td>10.5</td>\n",
       "      <td>5</td>\n",
       "    </tr>\n",
       "    <tr>\n",
       "      <th>1595</th>\n",
       "      <td>5.9</td>\n",
       "      <td>0.550</td>\n",
       "      <td>0.10</td>\n",
       "      <td>2.2</td>\n",
       "      <td>0.062</td>\n",
       "      <td>39.0</td>\n",
       "      <td>51.0</td>\n",
       "      <td>0.99512</td>\n",
       "      <td>3.52</td>\n",
       "      <td>0.76</td>\n",
       "      <td>11.2</td>\n",
       "      <td>6</td>\n",
       "    </tr>\n",
       "    <tr>\n",
       "      <th>1596</th>\n",
       "      <td>6.3</td>\n",
       "      <td>0.510</td>\n",
       "      <td>0.13</td>\n",
       "      <td>2.3</td>\n",
       "      <td>0.076</td>\n",
       "      <td>29.0</td>\n",
       "      <td>40.0</td>\n",
       "      <td>0.99574</td>\n",
       "      <td>3.42</td>\n",
       "      <td>0.75</td>\n",
       "      <td>11.0</td>\n",
       "      <td>6</td>\n",
       "    </tr>\n",
       "    <tr>\n",
       "      <th>1597</th>\n",
       "      <td>5.9</td>\n",
       "      <td>0.645</td>\n",
       "      <td>0.12</td>\n",
       "      <td>2.0</td>\n",
       "      <td>0.075</td>\n",
       "      <td>32.0</td>\n",
       "      <td>44.0</td>\n",
       "      <td>0.99547</td>\n",
       "      <td>3.57</td>\n",
       "      <td>0.71</td>\n",
       "      <td>10.2</td>\n",
       "      <td>5</td>\n",
       "    </tr>\n",
       "    <tr>\n",
       "      <th>1598</th>\n",
       "      <td>6.0</td>\n",
       "      <td>0.310</td>\n",
       "      <td>0.47</td>\n",
       "      <td>3.6</td>\n",
       "      <td>0.067</td>\n",
       "      <td>18.0</td>\n",
       "      <td>42.0</td>\n",
       "      <td>0.99549</td>\n",
       "      <td>3.39</td>\n",
       "      <td>0.66</td>\n",
       "      <td>11.0</td>\n",
       "      <td>6</td>\n",
       "    </tr>\n",
       "  </tbody>\n",
       "</table>\n",
       "<p>1599 rows × 12 columns</p>\n",
       "</div>"
      ],
      "text/plain": [
       "      fixed acidity  volatile acidity  citric acid  residual sugar  chlorides  \\\n",
       "0               7.4             0.700         0.00             1.9      0.076   \n",
       "1               7.8             0.880         0.00             2.6      0.098   \n",
       "2               7.8             0.760         0.04             2.3      0.092   \n",
       "3              11.2             0.280         0.56             1.9      0.075   \n",
       "4               7.4             0.700         0.00             1.9      0.076   \n",
       "...             ...               ...          ...             ...        ...   \n",
       "1594            6.2             0.600         0.08             2.0      0.090   \n",
       "1595            5.9             0.550         0.10             2.2      0.062   \n",
       "1596            6.3             0.510         0.13             2.3      0.076   \n",
       "1597            5.9             0.645         0.12             2.0      0.075   \n",
       "1598            6.0             0.310         0.47             3.6      0.067   \n",
       "\n",
       "      free sulfur dioxide  total sulfur dioxide  density    pH  sulphates  \\\n",
       "0                    11.0                  34.0  0.99780  3.51       0.56   \n",
       "1                    25.0                  67.0  0.99680  3.20       0.68   \n",
       "2                    15.0                  54.0  0.99700  3.26       0.65   \n",
       "3                    17.0                  60.0  0.99800  3.16       0.58   \n",
       "4                    11.0                  34.0  0.99780  3.51       0.56   \n",
       "...                   ...                   ...      ...   ...        ...   \n",
       "1594                 32.0                  44.0  0.99490  3.45       0.58   \n",
       "1595                 39.0                  51.0  0.99512  3.52       0.76   \n",
       "1596                 29.0                  40.0  0.99574  3.42       0.75   \n",
       "1597                 32.0                  44.0  0.99547  3.57       0.71   \n",
       "1598                 18.0                  42.0  0.99549  3.39       0.66   \n",
       "\n",
       "      alcohol  quality  \n",
       "0         9.4        5  \n",
       "1         9.8        5  \n",
       "2         9.8        5  \n",
       "3         9.8        6  \n",
       "4         9.4        5  \n",
       "...       ...      ...  \n",
       "1594     10.5        5  \n",
       "1595     11.2        6  \n",
       "1596     11.0        6  \n",
       "1597     10.2        5  \n",
       "1598     11.0        6  \n",
       "\n",
       "[1599 rows x 12 columns]"
      ]
     },
     "execution_count": 3,
     "metadata": {},
     "output_type": "execute_result"
    }
   ],
   "source": [
    "df_red"
   ]
  },
  {
   "cell_type": "code",
   "execution_count": 4,
   "metadata": {},
   "outputs": [
    {
     "data": {
      "text/html": [
       "<div>\n",
       "<style scoped>\n",
       "    .dataframe tbody tr th:only-of-type {\n",
       "        vertical-align: middle;\n",
       "    }\n",
       "\n",
       "    .dataframe tbody tr th {\n",
       "        vertical-align: top;\n",
       "    }\n",
       "\n",
       "    .dataframe thead th {\n",
       "        text-align: right;\n",
       "    }\n",
       "</style>\n",
       "<table border=\"1\" class=\"dataframe\">\n",
       "  <thead>\n",
       "    <tr style=\"text-align: right;\">\n",
       "      <th></th>\n",
       "      <th>fixed acidity</th>\n",
       "      <th>volatile acidity</th>\n",
       "      <th>citric acid</th>\n",
       "      <th>residual sugar</th>\n",
       "      <th>chlorides</th>\n",
       "      <th>free sulfur dioxide</th>\n",
       "      <th>total sulfur dioxide</th>\n",
       "      <th>density</th>\n",
       "      <th>pH</th>\n",
       "      <th>sulphates</th>\n",
       "      <th>alcohol</th>\n",
       "      <th>quality</th>\n",
       "    </tr>\n",
       "  </thead>\n",
       "  <tbody>\n",
       "    <tr>\n",
       "      <th>0</th>\n",
       "      <td>7.0</td>\n",
       "      <td>0.27</td>\n",
       "      <td>0.36</td>\n",
       "      <td>20.7</td>\n",
       "      <td>0.045</td>\n",
       "      <td>45.0</td>\n",
       "      <td>170.0</td>\n",
       "      <td>1.00100</td>\n",
       "      <td>3.00</td>\n",
       "      <td>0.45</td>\n",
       "      <td>8.8</td>\n",
       "      <td>6</td>\n",
       "    </tr>\n",
       "    <tr>\n",
       "      <th>1</th>\n",
       "      <td>6.3</td>\n",
       "      <td>0.30</td>\n",
       "      <td>0.34</td>\n",
       "      <td>1.6</td>\n",
       "      <td>0.049</td>\n",
       "      <td>14.0</td>\n",
       "      <td>132.0</td>\n",
       "      <td>0.99400</td>\n",
       "      <td>3.30</td>\n",
       "      <td>0.49</td>\n",
       "      <td>9.5</td>\n",
       "      <td>6</td>\n",
       "    </tr>\n",
       "    <tr>\n",
       "      <th>2</th>\n",
       "      <td>8.1</td>\n",
       "      <td>0.28</td>\n",
       "      <td>0.40</td>\n",
       "      <td>6.9</td>\n",
       "      <td>0.050</td>\n",
       "      <td>30.0</td>\n",
       "      <td>97.0</td>\n",
       "      <td>0.99510</td>\n",
       "      <td>3.26</td>\n",
       "      <td>0.44</td>\n",
       "      <td>10.1</td>\n",
       "      <td>6</td>\n",
       "    </tr>\n",
       "    <tr>\n",
       "      <th>3</th>\n",
       "      <td>7.2</td>\n",
       "      <td>0.23</td>\n",
       "      <td>0.32</td>\n",
       "      <td>8.5</td>\n",
       "      <td>0.058</td>\n",
       "      <td>47.0</td>\n",
       "      <td>186.0</td>\n",
       "      <td>0.99560</td>\n",
       "      <td>3.19</td>\n",
       "      <td>0.40</td>\n",
       "      <td>9.9</td>\n",
       "      <td>6</td>\n",
       "    </tr>\n",
       "    <tr>\n",
       "      <th>4</th>\n",
       "      <td>7.2</td>\n",
       "      <td>0.23</td>\n",
       "      <td>0.32</td>\n",
       "      <td>8.5</td>\n",
       "      <td>0.058</td>\n",
       "      <td>47.0</td>\n",
       "      <td>186.0</td>\n",
       "      <td>0.99560</td>\n",
       "      <td>3.19</td>\n",
       "      <td>0.40</td>\n",
       "      <td>9.9</td>\n",
       "      <td>6</td>\n",
       "    </tr>\n",
       "    <tr>\n",
       "      <th>...</th>\n",
       "      <td>...</td>\n",
       "      <td>...</td>\n",
       "      <td>...</td>\n",
       "      <td>...</td>\n",
       "      <td>...</td>\n",
       "      <td>...</td>\n",
       "      <td>...</td>\n",
       "      <td>...</td>\n",
       "      <td>...</td>\n",
       "      <td>...</td>\n",
       "      <td>...</td>\n",
       "      <td>...</td>\n",
       "    </tr>\n",
       "    <tr>\n",
       "      <th>4893</th>\n",
       "      <td>6.2</td>\n",
       "      <td>0.21</td>\n",
       "      <td>0.29</td>\n",
       "      <td>1.6</td>\n",
       "      <td>0.039</td>\n",
       "      <td>24.0</td>\n",
       "      <td>92.0</td>\n",
       "      <td>0.99114</td>\n",
       "      <td>3.27</td>\n",
       "      <td>0.50</td>\n",
       "      <td>11.2</td>\n",
       "      <td>6</td>\n",
       "    </tr>\n",
       "    <tr>\n",
       "      <th>4894</th>\n",
       "      <td>6.6</td>\n",
       "      <td>0.32</td>\n",
       "      <td>0.36</td>\n",
       "      <td>8.0</td>\n",
       "      <td>0.047</td>\n",
       "      <td>57.0</td>\n",
       "      <td>168.0</td>\n",
       "      <td>0.99490</td>\n",
       "      <td>3.15</td>\n",
       "      <td>0.46</td>\n",
       "      <td>9.6</td>\n",
       "      <td>5</td>\n",
       "    </tr>\n",
       "    <tr>\n",
       "      <th>4895</th>\n",
       "      <td>6.5</td>\n",
       "      <td>0.24</td>\n",
       "      <td>0.19</td>\n",
       "      <td>1.2</td>\n",
       "      <td>0.041</td>\n",
       "      <td>30.0</td>\n",
       "      <td>111.0</td>\n",
       "      <td>0.99254</td>\n",
       "      <td>2.99</td>\n",
       "      <td>0.46</td>\n",
       "      <td>9.4</td>\n",
       "      <td>6</td>\n",
       "    </tr>\n",
       "    <tr>\n",
       "      <th>4896</th>\n",
       "      <td>5.5</td>\n",
       "      <td>0.29</td>\n",
       "      <td>0.30</td>\n",
       "      <td>1.1</td>\n",
       "      <td>0.022</td>\n",
       "      <td>20.0</td>\n",
       "      <td>110.0</td>\n",
       "      <td>0.98869</td>\n",
       "      <td>3.34</td>\n",
       "      <td>0.38</td>\n",
       "      <td>12.8</td>\n",
       "      <td>7</td>\n",
       "    </tr>\n",
       "    <tr>\n",
       "      <th>4897</th>\n",
       "      <td>6.0</td>\n",
       "      <td>0.21</td>\n",
       "      <td>0.38</td>\n",
       "      <td>0.8</td>\n",
       "      <td>0.020</td>\n",
       "      <td>22.0</td>\n",
       "      <td>98.0</td>\n",
       "      <td>0.98941</td>\n",
       "      <td>3.26</td>\n",
       "      <td>0.32</td>\n",
       "      <td>11.8</td>\n",
       "      <td>6</td>\n",
       "    </tr>\n",
       "  </tbody>\n",
       "</table>\n",
       "<p>4898 rows × 12 columns</p>\n",
       "</div>"
      ],
      "text/plain": [
       "      fixed acidity  volatile acidity  citric acid  residual sugar  chlorides  \\\n",
       "0               7.0              0.27         0.36            20.7      0.045   \n",
       "1               6.3              0.30         0.34             1.6      0.049   \n",
       "2               8.1              0.28         0.40             6.9      0.050   \n",
       "3               7.2              0.23         0.32             8.5      0.058   \n",
       "4               7.2              0.23         0.32             8.5      0.058   \n",
       "...             ...               ...          ...             ...        ...   \n",
       "4893            6.2              0.21         0.29             1.6      0.039   \n",
       "4894            6.6              0.32         0.36             8.0      0.047   \n",
       "4895            6.5              0.24         0.19             1.2      0.041   \n",
       "4896            5.5              0.29         0.30             1.1      0.022   \n",
       "4897            6.0              0.21         0.38             0.8      0.020   \n",
       "\n",
       "      free sulfur dioxide  total sulfur dioxide  density    pH  sulphates  \\\n",
       "0                    45.0                 170.0  1.00100  3.00       0.45   \n",
       "1                    14.0                 132.0  0.99400  3.30       0.49   \n",
       "2                    30.0                  97.0  0.99510  3.26       0.44   \n",
       "3                    47.0                 186.0  0.99560  3.19       0.40   \n",
       "4                    47.0                 186.0  0.99560  3.19       0.40   \n",
       "...                   ...                   ...      ...   ...        ...   \n",
       "4893                 24.0                  92.0  0.99114  3.27       0.50   \n",
       "4894                 57.0                 168.0  0.99490  3.15       0.46   \n",
       "4895                 30.0                 111.0  0.99254  2.99       0.46   \n",
       "4896                 20.0                 110.0  0.98869  3.34       0.38   \n",
       "4897                 22.0                  98.0  0.98941  3.26       0.32   \n",
       "\n",
       "      alcohol  quality  \n",
       "0         8.8        6  \n",
       "1         9.5        6  \n",
       "2        10.1        6  \n",
       "3         9.9        6  \n",
       "4         9.9        6  \n",
       "...       ...      ...  \n",
       "4893     11.2        6  \n",
       "4894      9.6        5  \n",
       "4895      9.4        6  \n",
       "4896     12.8        7  \n",
       "4897     11.8        6  \n",
       "\n",
       "[4898 rows x 12 columns]"
      ]
     },
     "execution_count": 4,
     "metadata": {},
     "output_type": "execute_result"
    }
   ],
   "source": [
    "df_white"
   ]
  },
  {
   "cell_type": "code",
   "execution_count": 5,
   "metadata": {},
   "outputs": [
    {
     "data": {
      "text/plain": [
       "(1599, 12)"
      ]
     },
     "execution_count": 5,
     "metadata": {},
     "output_type": "execute_result"
    }
   ],
   "source": [
    "df_red.shape"
   ]
  },
  {
   "cell_type": "code",
   "execution_count": 6,
   "metadata": {},
   "outputs": [
    {
     "data": {
      "text/plain": [
       "(4898, 12)"
      ]
     },
     "execution_count": 6,
     "metadata": {},
     "output_type": "execute_result"
    }
   ],
   "source": [
    "df_white.shape"
   ]
  },
  {
   "cell_type": "code",
   "execution_count": 7,
   "metadata": {},
   "outputs": [
    {
     "name": "stdout",
     "output_type": "stream",
     "text": [
      "<class 'pandas.core.frame.DataFrame'>\n",
      "RangeIndex: 1599 entries, 0 to 1598\n",
      "Data columns (total 12 columns):\n",
      " #   Column                Non-Null Count  Dtype  \n",
      "---  ------                --------------  -----  \n",
      " 0   fixed acidity         1599 non-null   float64\n",
      " 1   volatile acidity      1599 non-null   float64\n",
      " 2   citric acid           1599 non-null   float64\n",
      " 3   residual sugar        1599 non-null   float64\n",
      " 4   chlorides             1599 non-null   float64\n",
      " 5   free sulfur dioxide   1599 non-null   float64\n",
      " 6   total sulfur dioxide  1599 non-null   float64\n",
      " 7   density               1599 non-null   float64\n",
      " 8   pH                    1599 non-null   float64\n",
      " 9   sulphates             1599 non-null   float64\n",
      " 10  alcohol               1599 non-null   float64\n",
      " 11  quality               1599 non-null   int64  \n",
      "dtypes: float64(11), int64(1)\n",
      "memory usage: 150.0 KB\n"
     ]
    }
   ],
   "source": [
    "df_red.info()"
   ]
  },
  {
   "cell_type": "code",
   "execution_count": 8,
   "metadata": {},
   "outputs": [],
   "source": [
    "#df_white.info()"
   ]
  },
  {
   "cell_type": "code",
   "execution_count": 9,
   "metadata": {
    "colab": {
     "base_uri": "https://localhost:8080/"
    },
    "executionInfo": {
     "elapsed": 14,
     "status": "ok",
     "timestamp": 1665329938563,
     "user": {
      "displayName": "shaik azar",
      "userId": "05209245971384166097"
     },
     "user_tz": -330
    },
    "id": "Pw242S_QWI1z",
    "outputId": "cc2b0149-6e28-4b95-ff3c-f767a7814d2a"
   },
   "outputs": [],
   "source": [
    "#df_red.isnull().sum()"
   ]
  },
  {
   "cell_type": "code",
   "execution_count": 10,
   "metadata": {},
   "outputs": [],
   "source": [
    "#df_white.isnull().sum()"
   ]
  },
  {
   "cell_type": "code",
   "execution_count": 11,
   "metadata": {
    "executionInfo": {
     "elapsed": 4,
     "status": "ok",
     "timestamp": 1665330039050,
     "user": {
      "displayName": "shaik azar",
      "userId": "05209245971384166097"
     },
     "user_tz": -330
    },
    "id": "2uniUlaQZnBJ"
   },
   "outputs": [],
   "source": [
    "#data1=data.dropna()"
   ]
  },
  {
   "cell_type": "code",
   "execution_count": 12,
   "metadata": {},
   "outputs": [
    {
     "data": {
      "image/png": "[encoded data removed]",
      "text/plain": [
       "<Figure size 720x576 with 12 Axes>"
      ]
     },
     "metadata": {
      "needs_background": "light"
     },
     "output_type": "display_data"
    },
    {
     "data": {
      "image/png": "[encoded data removed]",
      "text/plain": [
       "<Figure size 720x576 with 16 Axes>"
      ]
     },
     "metadata": {
      "needs_background": "light"
     },
     "output_type": "display_data"
    }
   ],
   "source": [
    "# Histograms\n",
    "df_red.hist(bins=10,figsize=(10, 8))\n",
    "plt.show()\n",
    "# Density\n",
    "df_red.plot(kind='density', subplots=True, layout=(4,4), sharex=False, figsize=(10, 8))\n",
    "plt.show()"
   ]
  },
  {
   "cell_type": "code",
   "execution_count": 13,
   "metadata": {},
   "outputs": [
    {
     "data": {
      "image/png": "[encoded data removed]",
      "text/plain": [
       "<Figure size 720x576 with 12 Axes>"
      ]
     },
     "metadata": {
      "needs_background": "light"
     },
     "output_type": "display_data"
    },
    {
     "data": {
      "image/png": "[encoded data removed]",
      "text/plain": [
       "<Figure size 720x576 with 16 Axes>"
      ]
     },
     "metadata": {
      "needs_background": "light"
     },
     "output_type": "display_data"
    }
   ],
   "source": [
    "# Histograms\n",
    "df_white.hist(bins=10,figsize=(10, 8))\n",
    "plt.show()\n",
    "# Density\n",
    "df_white.plot(kind='density', subplots=True, layout=(4,4), sharex=False, figsize=(10, 8))\n",
    "plt.show()"
   ]
  },
  {
   "cell_type": "code",
   "execution_count": 14,
   "metadata": {},
   "outputs": [],
   "source": [
    "# Add `type` column to `red` with price one\n",
    "df_red['type'] = 1\n",
    " \n",
    "# Add `type` column to `white` with price zero\n",
    "df_white['type'] = 0\n",
    " \n",
    "# Concat `white` to `red`\n",
    "#pd.concat([df1,df2], ignore_index=True)\n",
    "\n",
    "wines = pd.concat([df_red, df_white], ignore_index=True)\n",
    " \n",
    "## Import `train_test_split` from `sklearn.model_selection`\n",
    "#from sklearn.model_selection import train_test_split\n",
    "#X = wines.ix[:, 0:11]\n",
    "#y = np.ravel(wines.type)\n",
    " "
   ]
  },
  {
   "cell_type": "code",
   "execution_count": 15,
   "metadata": {},
   "outputs": [
    {
     "data": {
      "text/html": [
       "<div>\n",
       "<style scoped>\n",
       "    .dataframe tbody tr th:only-of-type {\n",
       "        vertical-align: middle;\n",
       "    }\n",
       "\n",
       "    .dataframe tbody tr th {\n",
       "        vertical-align: top;\n",
       "    }\n",
       "\n",
       "    .dataframe thead th {\n",
       "        text-align: right;\n",
       "    }\n",
       "</style>\n",
       "<table border=\"1\" class=\"dataframe\">\n",
       "  <thead>\n",
       "    <tr style=\"text-align: right;\">\n",
       "      <th></th>\n",
       "      <th>fixed acidity</th>\n",
       "      <th>volatile acidity</th>\n",
       "      <th>citric acid</th>\n",
       "      <th>residual sugar</th>\n",
       "      <th>chlorides</th>\n",
       "      <th>free sulfur dioxide</th>\n",
       "      <th>total sulfur dioxide</th>\n",
       "      <th>density</th>\n",
       "      <th>pH</th>\n",
       "      <th>sulphates</th>\n",
       "      <th>alcohol</th>\n",
       "      <th>quality</th>\n",
       "      <th>type</th>\n",
       "    </tr>\n",
       "  </thead>\n",
       "  <tbody>\n",
       "    <tr>\n",
       "      <th>0</th>\n",
       "      <td>7.4</td>\n",
       "      <td>0.70</td>\n",
       "      <td>0.00</td>\n",
       "      <td>1.9</td>\n",
       "      <td>0.076</td>\n",
       "      <td>11.0</td>\n",
       "      <td>34.0</td>\n",
       "      <td>0.99780</td>\n",
       "      <td>3.51</td>\n",
       "      <td>0.56</td>\n",
       "      <td>9.4</td>\n",
       "      <td>5</td>\n",
       "      <td>1</td>\n",
       "    </tr>\n",
       "    <tr>\n",
       "      <th>1</th>\n",
       "      <td>7.8</td>\n",
       "      <td>0.88</td>\n",
       "      <td>0.00</td>\n",
       "      <td>2.6</td>\n",
       "      <td>0.098</td>\n",
       "      <td>25.0</td>\n",
       "      <td>67.0</td>\n",
       "      <td>0.99680</td>\n",
       "      <td>3.20</td>\n",
       "      <td>0.68</td>\n",
       "      <td>9.8</td>\n",
       "      <td>5</td>\n",
       "      <td>1</td>\n",
       "    </tr>\n",
       "    <tr>\n",
       "      <th>2</th>\n",
       "      <td>7.8</td>\n",
       "      <td>0.76</td>\n",
       "      <td>0.04</td>\n",
       "      <td>2.3</td>\n",
       "      <td>0.092</td>\n",
       "      <td>15.0</td>\n",
       "      <td>54.0</td>\n",
       "      <td>0.99700</td>\n",
       "      <td>3.26</td>\n",
       "      <td>0.65</td>\n",
       "      <td>9.8</td>\n",
       "      <td>5</td>\n",
       "      <td>1</td>\n",
       "    </tr>\n",
       "    <tr>\n",
       "      <th>3</th>\n",
       "      <td>11.2</td>\n",
       "      <td>0.28</td>\n",
       "      <td>0.56</td>\n",
       "      <td>1.9</td>\n",
       "      <td>0.075</td>\n",
       "      <td>17.0</td>\n",
       "      <td>60.0</td>\n",
       "      <td>0.99800</td>\n",
       "      <td>3.16</td>\n",
       "      <td>0.58</td>\n",
       "      <td>9.8</td>\n",
       "      <td>6</td>\n",
       "      <td>1</td>\n",
       "    </tr>\n",
       "    <tr>\n",
       "      <th>4</th>\n",
       "      <td>7.4</td>\n",
       "      <td>0.70</td>\n",
       "      <td>0.00</td>\n",
       "      <td>1.9</td>\n",
       "      <td>0.076</td>\n",
       "      <td>11.0</td>\n",
       "      <td>34.0</td>\n",
       "      <td>0.99780</td>\n",
       "      <td>3.51</td>\n",
       "      <td>0.56</td>\n",
       "      <td>9.4</td>\n",
       "      <td>5</td>\n",
       "      <td>1</td>\n",
       "    </tr>\n",
       "    <tr>\n",
       "      <th>...</th>\n",
       "      <td>...</td>\n",
       "      <td>...</td>\n",
       "      <td>...</td>\n",
       "      <td>...</td>\n",
       "      <td>...</td>\n",
       "      <td>...</td>\n",
       "      <td>...</td>\n",
       "      <td>...</td>\n",
       "      <td>...</td>\n",
       "      <td>...</td>\n",
       "      <td>...</td>\n",
       "      <td>...</td>\n",
       "      <td>...</td>\n",
       "    </tr>\n",
       "    <tr>\n",
       "      <th>6492</th>\n",
       "      <td>6.2</td>\n",
       "      <td>0.21</td>\n",
       "      <td>0.29</td>\n",
       "      <td>1.6</td>\n",
       "      <td>0.039</td>\n",
       "      <td>24.0</td>\n",
       "      <td>92.0</td>\n",
       "      <td>0.99114</td>\n",
       "      <td>3.27</td>\n",
       "      <td>0.50</td>\n",
       "      <td>11.2</td>\n",
       "      <td>6</td>\n",
       "      <td>0</td>\n",
       "    </tr>\n",
       "    <tr>\n",
       "      <th>6493</th>\n",
       "      <td>6.6</td>\n",
       "      <td>0.32</td>\n",
       "      <td>0.36</td>\n",
       "      <td>8.0</td>\n",
       "      <td>0.047</td>\n",
       "      <td>57.0</td>\n",
       "      <td>168.0</td>\n",
       "      <td>0.99490</td>\n",
       "      <td>3.15</td>\n",
       "      <td>0.46</td>\n",
       "      <td>9.6</td>\n",
       "      <td>5</td>\n",
       "      <td>0</td>\n",
       "    </tr>\n",
       "    <tr>\n",
       "      <th>6494</th>\n",
       "      <td>6.5</td>\n",
       "      <td>0.24</td>\n",
       "      <td>0.19</td>\n",
       "      <td>1.2</td>\n",
       "      <td>0.041</td>\n",
       "      <td>30.0</td>\n",
       "      <td>111.0</td>\n",
       "      <td>0.99254</td>\n",
       "      <td>2.99</td>\n",
       "      <td>0.46</td>\n",
       "      <td>9.4</td>\n",
       "      <td>6</td>\n",
       "      <td>0</td>\n",
       "    </tr>\n",
       "    <tr>\n",
       "      <th>6495</th>\n",
       "      <td>5.5</td>\n",
       "      <td>0.29</td>\n",
       "      <td>0.30</td>\n",
       "      <td>1.1</td>\n",
       "      <td>0.022</td>\n",
       "      <td>20.0</td>\n",
       "      <td>110.0</td>\n",
       "      <td>0.98869</td>\n",
       "      <td>3.34</td>\n",
       "      <td>0.38</td>\n",
       "      <td>12.8</td>\n",
       "      <td>7</td>\n",
       "      <td>0</td>\n",
       "    </tr>\n",
       "    <tr>\n",
       "      <th>6496</th>\n",
       "      <td>6.0</td>\n",
       "      <td>0.21</td>\n",
       "      <td>0.38</td>\n",
       "      <td>0.8</td>\n",
       "      <td>0.020</td>\n",
       "      <td>22.0</td>\n",
       "      <td>98.0</td>\n",
       "      <td>0.98941</td>\n",
       "      <td>3.26</td>\n",
       "      <td>0.32</td>\n",
       "      <td>11.8</td>\n",
       "      <td>6</td>\n",
       "      <td>0</td>\n",
       "    </tr>\n",
       "  </tbody>\n",
       "</table>\n",
       "<p>6497 rows × 13 columns</p>\n",
       "</div>"
      ],
      "text/plain": [
       "      fixed acidity  volatile acidity  citric acid  residual sugar  chlorides  \\\n",
       "0               7.4              0.70         0.00             1.9      0.076   \n",
       "1               7.8              0.88         0.00             2.6      0.098   \n",
       "2               7.8              0.76         0.04             2.3      0.092   \n",
       "3              11.2              0.28         0.56             1.9      0.075   \n",
       "4               7.4              0.70         0.00             1.9      0.076   \n",
       "...             ...               ...          ...             ...        ...   \n",
       "6492            6.2              0.21         0.29             1.6      0.039   \n",
       "6493            6.6              0.32         0.36             8.0      0.047   \n",
       "6494            6.5              0.24         0.19             1.2      0.041   \n",
       "6495            5.5              0.29         0.30             1.1      0.022   \n",
       "6496            6.0              0.21         0.38             0.8      0.020   \n",
       "\n",
       "      free sulfur dioxide  total sulfur dioxide  density    pH  sulphates  \\\n",
       "0                    11.0                  34.0  0.99780  3.51       0.56   \n",
       "1                    25.0                  67.0  0.99680  3.20       0.68   \n",
       "2                    15.0                  54.0  0.99700  3.26       0.65   \n",
       "3                    17.0                  60.0  0.99800  3.16       0.58   \n",
       "4                    11.0                  34.0  0.99780  3.51       0.56   \n",
       "...                   ...                   ...      ...   ...        ...   \n",
       "6492                 24.0                  92.0  0.99114  3.27       0.50   \n",
       "6493                 57.0                 168.0  0.99490  3.15       0.46   \n",
       "6494                 30.0                 111.0  0.99254  2.99       0.46   \n",
       "6495                 20.0                 110.0  0.98869  3.34       0.38   \n",
       "6496                 22.0                  98.0  0.98941  3.26       0.32   \n",
       "\n",
       "      alcohol  quality  type  \n",
       "0         9.4        5     1  \n",
       "1         9.8        5     1  \n",
       "2         9.8        5     1  \n",
       "3         9.8        6     1  \n",
       "4         9.4        5     1  \n",
       "...       ...      ...   ...  \n",
       "6492     11.2        6     0  \n",
       "6493      9.6        5     0  \n",
       "6494      9.4        6     0  \n",
       "6495     12.8        7     0  \n",
       "6496     11.8        6     0  \n",
       "\n",
       "[6497 rows x 13 columns]"
      ]
     },
     "execution_count": 15,
     "metadata": {},
     "output_type": "execute_result"
    }
   ],
   "source": [
    "wines"
   ]
  },
  {
   "cell_type": "code",
   "execution_count": 16,
   "metadata": {},
   "outputs": [
    {
     "name": "stdout",
     "output_type": "stream",
     "text": [
      "<class 'pandas.core.frame.DataFrame'>\n",
      "RangeIndex: 6497 entries, 0 to 6496\n",
      "Data columns (total 13 columns):\n",
      " #   Column                Non-Null Count  Dtype  \n",
      "---  ------                --------------  -----  \n",
      " 0   fixed acidity         6497 non-null   float64\n",
      " 1   volatile acidity      6497 non-null   float64\n",
      " 2   citric acid           6497 non-null   float64\n",
      " 3   residual sugar        6497 non-null   float64\n",
      " 4   chlorides             6497 non-null   float64\n",
      " 5   free sulfur dioxide   6497 non-null   float64\n",
      " 6   total sulfur dioxide  6497 non-null   float64\n",
      " 7   density               6497 non-null   float64\n",
      " 8   pH                    6497 non-null   float64\n",
      " 9   sulphates             6497 non-null   float64\n",
      " 10  alcohol               6497 non-null   float64\n",
      " 11  quality               6497 non-null   int64  \n",
      " 12  type                  6497 non-null   int64  \n",
      "dtypes: float64(11), int64(2)\n",
      "memory usage: 660.0 KB\n"
     ]
    }
   ],
   "source": [
    "wines.info()"
   ]
  },
  {
   "cell_type": "code",
   "execution_count": 17,
   "metadata": {
    "executionInfo": {
     "elapsed": 822,
     "status": "ok",
     "timestamp": 1665330052054,
     "user": {
      "displayName": "shaik azar",
      "userId": "05209245971384166097"
     },
     "user_tz": -330
    },
    "id": "rqbEg87HQIf_"
   },
   "outputs": [],
   "source": [
    "x = wines.iloc[:,0:12].values\n",
    "y = wines.iloc[:,12].values"
   ]
  },
  {
   "cell_type": "code",
   "execution_count": 18,
   "metadata": {
    "colab": {
     "base_uri": "https://localhost:8080/"
    },
    "executionInfo": {
     "elapsed": 8,
     "status": "ok",
     "timestamp": 1665330057103,
     "user": {
      "displayName": "shaik azar",
      "userId": "05209245971384166097"
     },
     "user_tz": -330
    },
    "id": "FAFOgQSTQUhB",
    "outputId": "afb83821-572b-4e24-808b-35312ee92f37"
   },
   "outputs": [
    {
     "data": {
      "text/plain": [
       "array([[ 7.4 ,  0.7 ,  0.  , ...,  0.56,  9.4 ,  5.  ],\n",
       "       [ 7.8 ,  0.88,  0.  , ...,  0.68,  9.8 ,  5.  ],\n",
       "       [ 7.8 ,  0.76,  0.04, ...,  0.65,  9.8 ,  5.  ],\n",
       "       ...,\n",
       "       [ 6.5 ,  0.24,  0.19, ...,  0.46,  9.4 ,  6.  ],\n",
       "       [ 5.5 ,  0.29,  0.3 , ...,  0.38, 12.8 ,  7.  ],\n",
       "       [ 6.  ,  0.21,  0.38, ...,  0.32, 11.8 ,  6.  ]])"
      ]
     },
     "execution_count": 18,
     "metadata": {},
     "output_type": "execute_result"
    }
   ],
   "source": [
    "x"
   ]
  },
  {
   "cell_type": "code",
   "execution_count": 19,
   "metadata": {
    "colab": {
     "base_uri": "https://localhost:8080/"
    },
    "executionInfo": {
     "elapsed": 9,
     "status": "ok",
     "timestamp": 1665330060482,
     "user": {
      "displayName": "shaik azar",
      "userId": "05209245971384166097"
     },
     "user_tz": -330
    },
    "id": "RN7DLB4IQWDc",
    "outputId": "440eaabc-8c05-4db7-9e6a-c9d0b751d8a9"
   },
   "outputs": [
    {
     "data": {
      "text/plain": [
       "array([1, 1, 1, ..., 0, 0, 0])"
      ]
     },
     "execution_count": 19,
     "metadata": {},
     "output_type": "execute_result"
    }
   ],
   "source": [
    "y"
   ]
  },
  {
   "cell_type": "code",
   "execution_count": 20,
   "metadata": {
    "id": "UEENwze_UTyC"
   },
   "outputs": [
    {
     "data": {
      "text/plain": [
       "array([5, 6, 7, 4, 8, 3])"
      ]
     },
     "execution_count": 20,
     "metadata": {},
     "output_type": "execute_result"
    }
   ],
   "source": [
    "df_red.quality.unique()    #3,4,5,6,7,8.  - so there are 6 quality levels/labels"
   ]
  },
  {
   "cell_type": "code",
   "execution_count": 21,
   "metadata": {},
   "outputs": [
    {
     "data": {
      "text/plain": [
       "array([6, 5, 7, 8, 4, 3, 9])"
      ]
     },
     "execution_count": 21,
     "metadata": {},
     "output_type": "execute_result"
    }
   ],
   "source": [
    "df_white.quality.unique()   # 3,4,5,6,7,8,9"
   ]
  },
  {
   "cell_type": "code",
   "execution_count": 22,
   "metadata": {},
   "outputs": [
    {
     "data": {
      "text/plain": [
       "(6497, 12)"
      ]
     },
     "execution_count": 22,
     "metadata": {},
     "output_type": "execute_result"
    }
   ],
   "source": [
    "x.shape"
   ]
  },
  {
   "cell_type": "code",
   "execution_count": 23,
   "metadata": {},
   "outputs": [
    {
     "data": {
      "text/plain": [
       "array([[ 7.4 ,  0.7 ,  0.  , ...,  0.56,  9.4 ,  5.  ],\n",
       "       [ 7.8 ,  0.88,  0.  , ...,  0.68,  9.8 ,  5.  ],\n",
       "       [ 7.8 ,  0.76,  0.04, ...,  0.65,  9.8 ,  5.  ],\n",
       "       ...,\n",
       "       [ 6.5 ,  0.24,  0.19, ...,  0.46,  9.4 ,  6.  ],\n",
       "       [ 5.5 ,  0.29,  0.3 , ...,  0.38, 12.8 ,  7.  ],\n",
       "       [ 6.  ,  0.21,  0.38, ...,  0.32, 11.8 ,  6.  ]])"
      ]
     },
     "execution_count": 23,
     "metadata": {},
     "output_type": "execute_result"
    }
   ],
   "source": [
    "x"
   ]
  },
  {
   "cell_type": "code",
   "execution_count": 24,
   "metadata": {},
   "outputs": [
    {
     "data": {
      "text/plain": [
       "array([1, 1, 1, ..., 0, 0, 0])"
      ]
     },
     "execution_count": 24,
     "metadata": {},
     "output_type": "execute_result"
    }
   ],
   "source": [
    "y"
   ]
  },
  {
   "cell_type": "code",
   "execution_count": 25,
   "metadata": {
    "executionInfo": {
     "elapsed": 4,
     "status": "ok",
     "timestamp": 1665330065074,
     "user": {
      "displayName": "shaik azar",
      "userId": "05209245971384166097"
     },
     "user_tz": -330
    },
    "id": "TVNxfzm5QW8f"
   },
   "outputs": [],
   "source": [
    "# splitting the training & test sets\n",
    "from sklearn.model_selection import train_test_split\n",
    "x_train,x_test,y_train,y_test= train_test_split(x,y, test_size=0.2)"
   ]
  },
  {
   "cell_type": "code",
   "execution_count": 26,
   "metadata": {},
   "outputs": [
    {
     "data": {
      "text/plain": [
       "((5197, 12), (1300, 12), (5197,), (1300,))"
      ]
     },
     "execution_count": 26,
     "metadata": {},
     "output_type": "execute_result"
    }
   ],
   "source": [
    "x_train.shape ,x_test.shape, y_train.shape ,y_test.shape"
   ]
  },
  {
   "cell_type": "code",
   "execution_count": 27,
   "metadata": {
    "executionInfo": {
     "elapsed": 1,
     "status": "ok",
     "timestamp": 1665330068344,
     "user": {
      "displayName": "shaik azar",
      "userId": "05209245971384166097"
     },
     "user_tz": -330
    },
    "id": "r0LO-ofKUhSB"
   },
   "outputs": [],
   "source": [
    "# Feature Scaling\n",
    "from sklearn.preprocessing import MinMaxScaler\n",
    "mc=MinMaxScaler()\n",
    "x_train1 = mc.fit_transform( x_train)\n",
    "X_test1 = mc.fit_transform( x_test)"
   ]
  },
  {
   "cell_type": "code",
   "execution_count": 28,
   "metadata": {
    "executionInfo": {
     "elapsed": 5,
     "status": "ok",
     "timestamp": 1665329231326,
     "user": {
      "displayName": "shaik azar",
      "userId": "05209245971384166097"
     },
     "user_tz": -330
    },
    "id": "qCrZ1bbYRHjL"
   },
   "outputs": [],
   "source": [
    "import keras\n",
    "from keras.models import Sequential\n",
    "from keras.layers import Dense\n",
    "from keras.layers import Dropout\n",
    "from keras.layers import Activation\n",
    "\n",
    "from keras.callbacks import EarlyStopping"
   ]
  },
  {
   "cell_type": "code",
   "execution_count": 29,
   "metadata": {
    "executionInfo": {
     "elapsed": 8,
     "status": "ok",
     "timestamp": 1665330071253,
     "user": {
      "displayName": "shaik azar",
      "userId": "05209245971384166097"
     },
     "user_tz": -330
    },
    "id": "YzDCMeK3Rt6G"
   },
   "outputs": [],
   "source": [
    "# Initialize the model\n",
    "model=Sequential()\n",
    "\n",
    "# Build input layer & Hidden layer\n",
    "model.add(Dense(units=96, activation='relu', input_dim=12))\n",
    "model.add(Dropout(rate=0.1))\n"
   ]
  },
  {
   "cell_type": "code",
   "execution_count": 30,
   "metadata": {
    "executionInfo": {
     "elapsed": 3,
     "status": "ok",
     "timestamp": 1665330074215,
     "user": {
      "displayName": "shaik azar",
      "userId": "05209245971384166097"
     },
     "user_tz": -330
    },
    "id": "f7YZxhXsSI-F"
   },
   "outputs": [],
   "source": [
    "# Building second layer\n",
    "model.add(Dense(units=48,activation ='relu'))\n",
    "model.add(Dropout(rate=0.1))"
   ]
  },
  {
   "cell_type": "code",
   "execution_count": 31,
   "metadata": {},
   "outputs": [],
   "source": [
    "# Building 3rd layer\n",
    "model.add(Dense(units=24,activation ='relu'))\n",
    "model.add(Dropout(rate=0.1))"
   ]
  },
  {
   "cell_type": "code",
   "execution_count": 32,
   "metadata": {},
   "outputs": [],
   "source": [
    "# Building 4th layer\n",
    "model.add(Dense(units=12,activation ='relu'))\n",
    "model.add(Dropout(rate=0.1))"
   ]
  },
  {
   "cell_type": "code",
   "execution_count": 33,
   "metadata": {
    "executionInfo": {
     "elapsed": 409,
     "status": "ok",
     "timestamp": 1665330076767,
     "user": {
      "displayName": "shaik azar",
      "userId": "05209245971384166097"
     },
     "user_tz": -330
    },
    "id": "fWbqbVchShPq"
   },
   "outputs": [],
   "source": [
    "#Adding outer layer\n",
    "model.add(Dense(units = 1, activation='sigmoid'))\n"
   ]
  },
  {
   "cell_type": "code",
   "execution_count": 34,
   "metadata": {
    "executionInfo": {
     "elapsed": 7,
     "status": "ok",
     "timestamp": 1665330079698,
     "user": {
      "displayName": "shaik azar",
      "userId": "05209245971384166097"
     },
     "user_tz": -330
    },
    "id": "aFJmCSsdTAqM"
   },
   "outputs": [],
   "source": [
    "# compile the model\n",
    "#model.compile(optimizer='adam', loss='mae')  \n",
    "#model.compile(loss='mae', optimizer = 'adam', metrics=['accuracy'])"
   ]
  },
  {
   "cell_type": "code",
   "execution_count": 35,
   "metadata": {},
   "outputs": [
    {
     "name": "stdout",
     "output_type": "stream",
     "text": [
      "Model: \"sequential\"\n",
      "_________________________________________________________________\n",
      " Layer (type)                Output Shape              Param #   \n",
      "=================================================================\n",
      " dense (Dense)               (None, 96)                1248      \n",
      "                                                                 \n",
      " dropout (Dropout)           (None, 96)                0         \n",
      "                                                                 \n",
      " dense_1 (Dense)             (None, 48)                4656      \n",
      "                                                                 \n",
      " dropout_1 (Dropout)         (None, 48)                0         \n",
      "                                                                 \n",
      " dense_2 (Dense)             (None, 24)                1176      \n",
      "                                                                 \n",
      " dropout_2 (Dropout)         (None, 24)                0         \n",
      "                                                                 \n",
      " dense_3 (Dense)             (None, 12)                300       \n",
      "                                                                 \n",
      " dropout_3 (Dropout)         (None, 12)                0         \n",
      "                                                                 \n",
      " dense_4 (Dense)             (None, 1)                 13        \n",
      "                                                                 \n",
      "=================================================================\n",
      "Total params: 7,393\n",
      "Trainable params: 7,393\n",
      "Non-trainable params: 0\n",
      "_________________________________________________________________\n"
     ]
    }
   ],
   "source": [
    "# Model output shape\n",
    "model.output_shape\n",
    " \n",
    "# Model summary\n",
    "model.summary()\n",
    " \n",
    "# Model config\n",
    "model.get_config()\n",
    " \n",
    "# List all weight tensors\n",
    "model.get_weights()\n",
    "model.compile(loss ='binary_crossentropy',optimizer ='adam', metrics =['accuracy'])"
   ]
  },
  {
   "cell_type": "code",
   "execution_count": 36,
   "metadata": {
    "colab": {
     "base_uri": "https://localhost:8080/"
    },
    "executionInfo": {
     "elapsed": 5569,
     "status": "ok",
     "timestamp": 1665330085260,
     "user": {
      "displayName": "shaik azar",
      "userId": "05209245971384166097"
     },
     "user_tz": -330
    },
    "id": "deIBbz04T3f2",
    "outputId": "98823d0e-8c13-40ec-9b4a-917724012d48"
   },
   "outputs": [
    {
     "name": "stdout",
     "output_type": "stream",
     "text": [
      "Epoch 1/300\n",
      "130/130 [==============================] - 1s 2ms/step - loss: 0.5306 - accuracy: 0.7503 - val_loss: 0.3197 - val_accuracy: 0.8615\n",
      "Epoch 2/300\n",
      "130/130 [==============================] - 0s 1ms/step - loss: 0.3188 - accuracy: 0.8694 - val_loss: 0.2039 - val_accuracy: 0.9404\n",
      "Epoch 3/300\n",
      "130/130 [==============================] - 0s 1ms/step - loss: 0.2540 - accuracy: 0.9146 - val_loss: 0.1744 - val_accuracy: 0.9404\n",
      "Epoch 4/300\n",
      "130/130 [==============================] - 0s 1ms/step - loss: 0.2423 - accuracy: 0.9204 - val_loss: 0.1920 - val_accuracy: 0.9346\n",
      "Epoch 5/300\n",
      "130/130 [==============================] - 0s 1ms/step - loss: 0.2280 - accuracy: 0.9247 - val_loss: 0.1800 - val_accuracy: 0.9413\n",
      "Epoch 6/300\n",
      "130/130 [==============================] - 0s 1ms/step - loss: 0.2160 - accuracy: 0.9338 - val_loss: 0.1690 - val_accuracy: 0.9442\n",
      "Epoch 7/300\n",
      "130/130 [==============================] - 0s 1ms/step - loss: 0.2143 - accuracy: 0.9331 - val_loss: 0.1679 - val_accuracy: 0.9433\n",
      "Epoch 8/300\n",
      "130/130 [==============================] - 0s 1ms/step - loss: 0.2082 - accuracy: 0.9338 - val_loss: 0.1767 - val_accuracy: 0.9433\n",
      "Epoch 9/300\n",
      "130/130 [==============================] - 0s 1ms/step - loss: 0.2079 - accuracy: 0.9324 - val_loss: 0.1519 - val_accuracy: 0.9423\n",
      "Epoch 10/300\n",
      "130/130 [==============================] - 0s 1ms/step - loss: 0.1934 - accuracy: 0.9399 - val_loss: 0.1528 - val_accuracy: 0.9538\n",
      "Epoch 11/300\n",
      "130/130 [==============================] - 0s 1ms/step - loss: 0.1911 - accuracy: 0.9408 - val_loss: 0.1460 - val_accuracy: 0.9462\n",
      "Epoch 12/300\n",
      "130/130 [==============================] - 0s 1ms/step - loss: 0.1878 - accuracy: 0.9358 - val_loss: 0.1367 - val_accuracy: 0.9452\n",
      "Epoch 13/300\n",
      "130/130 [==============================] - 0s 1ms/step - loss: 0.1756 - accuracy: 0.9435 - val_loss: 0.1181 - val_accuracy: 0.9625\n",
      "Epoch 14/300\n",
      "130/130 [==============================] - 0s 1ms/step - loss: 0.1698 - accuracy: 0.9452 - val_loss: 0.1180 - val_accuracy: 0.9606\n",
      "Epoch 15/300\n",
      "130/130 [==============================] - 0s 1ms/step - loss: 0.1611 - accuracy: 0.9464 - val_loss: 0.1016 - val_accuracy: 0.9644\n",
      "Epoch 16/300\n",
      "130/130 [==============================] - 0s 1ms/step - loss: 0.1611 - accuracy: 0.9476 - val_loss: 0.0986 - val_accuracy: 0.9683\n",
      "Epoch 17/300\n",
      "130/130 [==============================] - 0s 1ms/step - loss: 0.1375 - accuracy: 0.9545 - val_loss: 0.0815 - val_accuracy: 0.9712\n",
      "Epoch 18/300\n",
      "130/130 [==============================] - 0s 1ms/step - loss: 0.1333 - accuracy: 0.9577 - val_loss: 0.0833 - val_accuracy: 0.9769\n",
      "Epoch 19/300\n",
      "130/130 [==============================] - 0s 1ms/step - loss: 0.1242 - accuracy: 0.9586 - val_loss: 0.0775 - val_accuracy: 0.9769\n",
      "Epoch 20/300\n",
      "130/130 [==============================] - 0s 1ms/step - loss: 0.1195 - accuracy: 0.9620 - val_loss: 0.0780 - val_accuracy: 0.9721\n",
      "Epoch 21/300\n",
      "130/130 [==============================] - 0s 1ms/step - loss: 0.1132 - accuracy: 0.9656 - val_loss: 0.0748 - val_accuracy: 0.9750\n",
      "Epoch 22/300\n",
      "130/130 [==============================] - 0s 1ms/step - loss: 0.1021 - accuracy: 0.9670 - val_loss: 0.0690 - val_accuracy: 0.9779\n",
      "Epoch 23/300\n",
      "130/130 [==============================] - 0s 1ms/step - loss: 0.1120 - accuracy: 0.9666 - val_loss: 0.0675 - val_accuracy: 0.9798\n",
      "Epoch 24/300\n",
      "130/130 [==============================] - 0s 1ms/step - loss: 0.0955 - accuracy: 0.9740 - val_loss: 0.0664 - val_accuracy: 0.9798\n",
      "Epoch 25/300\n",
      "130/130 [==============================] - 0s 1ms/step - loss: 0.0927 - accuracy: 0.9721 - val_loss: 0.0684 - val_accuracy: 0.9788\n",
      "Epoch 26/300\n",
      "130/130 [==============================] - 0s 1ms/step - loss: 0.0943 - accuracy: 0.9719 - val_loss: 0.0624 - val_accuracy: 0.9798\n",
      "Epoch 27/300\n",
      "130/130 [==============================] - 0s 1ms/step - loss: 0.0834 - accuracy: 0.9752 - val_loss: 0.0623 - val_accuracy: 0.9808\n",
      "Epoch 28/300\n",
      "130/130 [==============================] - 0s 1ms/step - loss: 0.0902 - accuracy: 0.9743 - val_loss: 0.0614 - val_accuracy: 0.9808\n",
      "Epoch 29/300\n",
      "130/130 [==============================] - 0s 1ms/step - loss: 0.0838 - accuracy: 0.9764 - val_loss: 0.0624 - val_accuracy: 0.9798\n",
      "Epoch 30/300\n",
      "130/130 [==============================] - 0s 1ms/step - loss: 0.0840 - accuracy: 0.9786 - val_loss: 0.0623 - val_accuracy: 0.9808\n",
      "Epoch 31/300\n",
      "130/130 [==============================] - 0s 1ms/step - loss: 0.0853 - accuracy: 0.9755 - val_loss: 0.0635 - val_accuracy: 0.9798\n",
      "Epoch 32/300\n",
      "130/130 [==============================] - 0s 1ms/step - loss: 0.0788 - accuracy: 0.9793 - val_loss: 0.0622 - val_accuracy: 0.9788\n",
      "Epoch 33/300\n",
      "130/130 [==============================] - 0s 1ms/step - loss: 0.0880 - accuracy: 0.9740 - val_loss: 0.0814 - val_accuracy: 0.9760\n",
      "Epoch 34/300\n",
      "130/130 [==============================] - 0s 1ms/step - loss: 0.0853 - accuracy: 0.9767 - val_loss: 0.0614 - val_accuracy: 0.9808\n",
      "Epoch 35/300\n",
      "130/130 [==============================] - 0s 1ms/step - loss: 0.0739 - accuracy: 0.9793 - val_loss: 0.0600 - val_accuracy: 0.9808\n",
      "Epoch 36/300\n",
      "130/130 [==============================] - 0s 1ms/step - loss: 0.0699 - accuracy: 0.9805 - val_loss: 0.0683 - val_accuracy: 0.9827\n",
      "Epoch 37/300\n",
      "130/130 [==============================] - 0s 1ms/step - loss: 0.0734 - accuracy: 0.9779 - val_loss: 0.0593 - val_accuracy: 0.9808\n",
      "Epoch 38/300\n",
      "130/130 [==============================] - 0s 1ms/step - loss: 0.0761 - accuracy: 0.9776 - val_loss: 0.0565 - val_accuracy: 0.9788\n",
      "Epoch 39/300\n",
      "130/130 [==============================] - 0s 1ms/step - loss: 0.0701 - accuracy: 0.9798 - val_loss: 0.0642 - val_accuracy: 0.9779\n",
      "Epoch 40/300\n",
      "130/130 [==============================] - 0s 1ms/step - loss: 0.0679 - accuracy: 0.9822 - val_loss: 0.0622 - val_accuracy: 0.9817\n",
      "Epoch 41/300\n",
      "130/130 [==============================] - 0s 1ms/step - loss: 0.0671 - accuracy: 0.9800 - val_loss: 0.0642 - val_accuracy: 0.9827\n",
      "Epoch 42/300\n",
      "130/130 [==============================] - 0s 1ms/step - loss: 0.0674 - accuracy: 0.9803 - val_loss: 0.0567 - val_accuracy: 0.9798\n",
      "Epoch 43/300\n",
      "130/130 [==============================] - 0s 1ms/step - loss: 0.0689 - accuracy: 0.9805 - val_loss: 0.0584 - val_accuracy: 0.9817\n",
      "Epoch 44/300\n",
      "130/130 [==============================] - 0s 1ms/step - loss: 0.0663 - accuracy: 0.9812 - val_loss: 0.0878 - val_accuracy: 0.9712\n",
      "Epoch 45/300\n",
      "130/130 [==============================] - 0s 1ms/step - loss: 0.0666 - accuracy: 0.9812 - val_loss: 0.0633 - val_accuracy: 0.9798\n",
      "Epoch 46/300\n",
      "130/130 [==============================] - 0s 1ms/step - loss: 0.0587 - accuracy: 0.9851 - val_loss: 0.0595 - val_accuracy: 0.9788\n",
      "Epoch 47/300\n",
      "130/130 [==============================] - 0s 1ms/step - loss: 0.0678 - accuracy: 0.9812 - val_loss: 0.0672 - val_accuracy: 0.9779\n",
      "Epoch 48/300\n",
      "130/130 [==============================] - 0s 1ms/step - loss: 0.0663 - accuracy: 0.9832 - val_loss: 0.0594 - val_accuracy: 0.9827\n",
      "Epoch 49/300\n",
      "130/130 [==============================] - 0s 1ms/step - loss: 0.0625 - accuracy: 0.9815 - val_loss: 0.0609 - val_accuracy: 0.9808\n",
      "Epoch 50/300\n",
      "130/130 [==============================] - 0s 1ms/step - loss: 0.0621 - accuracy: 0.9834 - val_loss: 0.0569 - val_accuracy: 0.9798\n",
      "Epoch 51/300\n",
      "130/130 [==============================] - 0s 1ms/step - loss: 0.0697 - accuracy: 0.9803 - val_loss: 0.0511 - val_accuracy: 0.9846\n",
      "Epoch 52/300\n",
      "130/130 [==============================] - 0s 1ms/step - loss: 0.0624 - accuracy: 0.9836 - val_loss: 0.0590 - val_accuracy: 0.9808\n",
      "Epoch 53/300\n",
      "130/130 [==============================] - 0s 1ms/step - loss: 0.0706 - accuracy: 0.9786 - val_loss: 0.0614 - val_accuracy: 0.9817\n",
      "Epoch 54/300\n",
      "130/130 [==============================] - 0s 1ms/step - loss: 0.0602 - accuracy: 0.9846 - val_loss: 0.0532 - val_accuracy: 0.9837\n",
      "Epoch 55/300\n",
      "130/130 [==============================] - 0s 1ms/step - loss: 0.0702 - accuracy: 0.9788 - val_loss: 0.0658 - val_accuracy: 0.9798\n",
      "Epoch 56/300\n",
      "130/130 [==============================] - 0s 1ms/step - loss: 0.0563 - accuracy: 0.9851 - val_loss: 0.0484 - val_accuracy: 0.9837\n",
      "Epoch 57/300\n",
      "130/130 [==============================] - 0s 1ms/step - loss: 0.0620 - accuracy: 0.9817 - val_loss: 0.0681 - val_accuracy: 0.9779\n",
      "Epoch 58/300\n",
      "130/130 [==============================] - 0s 1ms/step - loss: 0.0603 - accuracy: 0.9815 - val_loss: 0.0642 - val_accuracy: 0.9827\n",
      "Epoch 59/300\n",
      "130/130 [==============================] - 0s 1ms/step - loss: 0.0587 - accuracy: 0.9844 - val_loss: 0.0612 - val_accuracy: 0.9837\n",
      "Epoch 60/300\n",
      "130/130 [==============================] - 0s 1ms/step - loss: 0.0557 - accuracy: 0.9863 - val_loss: 0.0638 - val_accuracy: 0.9817\n",
      "Epoch 61/300\n",
      "130/130 [==============================] - 0s 1ms/step - loss: 0.0511 - accuracy: 0.9834 - val_loss: 0.0591 - val_accuracy: 0.9788\n",
      "Epoch 62/300\n",
      "130/130 [==============================] - 0s 1ms/step - loss: 0.0614 - accuracy: 0.9836 - val_loss: 0.0599 - val_accuracy: 0.9827\n",
      "Epoch 63/300\n",
      "130/130 [==============================] - 0s 1ms/step - loss: 0.0515 - accuracy: 0.9853 - val_loss: 0.0538 - val_accuracy: 0.9837\n",
      "Epoch 64/300\n",
      "130/130 [==============================] - 0s 1ms/step - loss: 0.0571 - accuracy: 0.9848 - val_loss: 0.0529 - val_accuracy: 0.9837\n",
      "Epoch 65/300\n",
      "130/130 [==============================] - 0s 1ms/step - loss: 0.0580 - accuracy: 0.9856 - val_loss: 0.0570 - val_accuracy: 0.9846\n",
      "Epoch 66/300\n",
      "130/130 [==============================] - 0s 1ms/step - loss: 0.0513 - accuracy: 0.9863 - val_loss: 0.0539 - val_accuracy: 0.9865\n",
      "Epoch 67/300\n",
      "130/130 [==============================] - 0s 1ms/step - loss: 0.0586 - accuracy: 0.9844 - val_loss: 0.0617 - val_accuracy: 0.9827\n",
      "Epoch 68/300\n",
      "130/130 [==============================] - 0s 1ms/step - loss: 0.0546 - accuracy: 0.9860 - val_loss: 0.0480 - val_accuracy: 0.9846\n",
      "Epoch 69/300\n",
      "130/130 [==============================] - 0s 1ms/step - loss: 0.0532 - accuracy: 0.9856 - val_loss: 0.0536 - val_accuracy: 0.9817\n",
      "Epoch 70/300\n",
      "130/130 [==============================] - 0s 1ms/step - loss: 0.0543 - accuracy: 0.9853 - val_loss: 0.0499 - val_accuracy: 0.9865\n",
      "Epoch 71/300\n",
      "130/130 [==============================] - 0s 1ms/step - loss: 0.0455 - accuracy: 0.9863 - val_loss: 0.0531 - val_accuracy: 0.9817\n",
      "Epoch 72/300\n",
      "130/130 [==============================] - 0s 1ms/step - loss: 0.0512 - accuracy: 0.9844 - val_loss: 0.0580 - val_accuracy: 0.9827\n",
      "Epoch 73/300\n",
      "130/130 [==============================] - 0s 1ms/step - loss: 0.0522 - accuracy: 0.9851 - val_loss: 0.0523 - val_accuracy: 0.9856\n",
      "Epoch 74/300\n",
      "130/130 [==============================] - 0s 1ms/step - loss: 0.0555 - accuracy: 0.9836 - val_loss: 0.0593 - val_accuracy: 0.9827\n",
      "Epoch 75/300\n",
      "130/130 [==============================] - 0s 1ms/step - loss: 0.0521 - accuracy: 0.9851 - val_loss: 0.0463 - val_accuracy: 0.9865\n",
      "Epoch 76/300\n",
      "130/130 [==============================] - 0s 1ms/step - loss: 0.0509 - accuracy: 0.9851 - val_loss: 0.0430 - val_accuracy: 0.9865\n",
      "Epoch 77/300\n",
      "130/130 [==============================] - 0s 1ms/step - loss: 0.0546 - accuracy: 0.9848 - val_loss: 0.0553 - val_accuracy: 0.9837\n",
      "Epoch 78/300\n",
      "130/130 [==============================] - 0s 1ms/step - loss: 0.0495 - accuracy: 0.9870 - val_loss: 0.0534 - val_accuracy: 0.9837\n",
      "Epoch 79/300\n",
      "130/130 [==============================] - 0s 1ms/step - loss: 0.0465 - accuracy: 0.9885 - val_loss: 0.0535 - val_accuracy: 0.9865\n",
      "Epoch 80/300\n",
      "130/130 [==============================] - 0s 1ms/step - loss: 0.0606 - accuracy: 0.9808 - val_loss: 0.0453 - val_accuracy: 0.9856\n",
      "Epoch 81/300\n",
      "130/130 [==============================] - 0s 1ms/step - loss: 0.0526 - accuracy: 0.9868 - val_loss: 0.0517 - val_accuracy: 0.9846\n",
      "Epoch 82/300\n",
      "130/130 [==============================] - 0s 1ms/step - loss: 0.0491 - accuracy: 0.9877 - val_loss: 0.0616 - val_accuracy: 0.9846\n",
      "Epoch 83/300\n",
      "130/130 [==============================] - 0s 1ms/step - loss: 0.0528 - accuracy: 0.9865 - val_loss: 0.0637 - val_accuracy: 0.9779\n",
      "Epoch 84/300\n",
      "130/130 [==============================] - 0s 1ms/step - loss: 0.0503 - accuracy: 0.9848 - val_loss: 0.0521 - val_accuracy: 0.9837\n",
      "Epoch 85/300\n",
      "130/130 [==============================] - 0s 1ms/step - loss: 0.0544 - accuracy: 0.9832 - val_loss: 0.0479 - val_accuracy: 0.9865\n",
      "Epoch 86/300\n",
      "130/130 [==============================] - 0s 1ms/step - loss: 0.0484 - accuracy: 0.9880 - val_loss: 0.0469 - val_accuracy: 0.9846\n",
      "Epoch 87/300\n",
      "130/130 [==============================] - 0s 1ms/step - loss: 0.0449 - accuracy: 0.9868 - val_loss: 0.0648 - val_accuracy: 0.9817\n",
      "Epoch 88/300\n",
      "130/130 [==============================] - 0s 1ms/step - loss: 0.0515 - accuracy: 0.9860 - val_loss: 0.0488 - val_accuracy: 0.9817\n",
      "Epoch 89/300\n",
      "130/130 [==============================] - 0s 1ms/step - loss: 0.0496 - accuracy: 0.9856 - val_loss: 0.0471 - val_accuracy: 0.9856\n",
      "Epoch 90/300\n",
      "130/130 [==============================] - 0s 1ms/step - loss: 0.0463 - accuracy: 0.9868 - val_loss: 0.0410 - val_accuracy: 0.9875\n",
      "Epoch 91/300\n",
      "130/130 [==============================] - 0s 1ms/step - loss: 0.0511 - accuracy: 0.9841 - val_loss: 0.0477 - val_accuracy: 0.9846\n",
      "Epoch 92/300\n",
      "130/130 [==============================] - 0s 1ms/step - loss: 0.0505 - accuracy: 0.9856 - val_loss: 0.0496 - val_accuracy: 0.9856\n",
      "Epoch 93/300\n",
      "130/130 [==============================] - 0s 1ms/step - loss: 0.0514 - accuracy: 0.9853 - val_loss: 0.0398 - val_accuracy: 0.9875\n",
      "Epoch 94/300\n",
      "130/130 [==============================] - 0s 1ms/step - loss: 0.0409 - accuracy: 0.9882 - val_loss: 0.0949 - val_accuracy: 0.9712\n",
      "Epoch 95/300\n",
      "130/130 [==============================] - 0s 1ms/step - loss: 0.0586 - accuracy: 0.9820 - val_loss: 0.0432 - val_accuracy: 0.9837\n",
      "Epoch 96/300\n",
      "130/130 [==============================] - 0s 1ms/step - loss: 0.0485 - accuracy: 0.9865 - val_loss: 0.0505 - val_accuracy: 0.9837\n",
      "Epoch 97/300\n",
      "130/130 [==============================] - 0s 1ms/step - loss: 0.0517 - accuracy: 0.9839 - val_loss: 0.0474 - val_accuracy: 0.9865\n",
      "Epoch 98/300\n",
      "130/130 [==============================] - 0s 1ms/step - loss: 0.0446 - accuracy: 0.9870 - val_loss: 0.0430 - val_accuracy: 0.9875\n",
      "Epoch 99/300\n",
      "130/130 [==============================] - 0s 1ms/step - loss: 0.0490 - accuracy: 0.9860 - val_loss: 0.0461 - val_accuracy: 0.9885\n",
      "Epoch 100/300\n",
      "130/130 [==============================] - 0s 1ms/step - loss: 0.0509 - accuracy: 0.9824 - val_loss: 0.0443 - val_accuracy: 0.9885\n",
      "Epoch 101/300\n",
      "130/130 [==============================] - 0s 1ms/step - loss: 0.0411 - accuracy: 0.9873 - val_loss: 0.0512 - val_accuracy: 0.9856\n",
      "Epoch 102/300\n",
      "130/130 [==============================] - 0s 1ms/step - loss: 0.0441 - accuracy: 0.9873 - val_loss: 0.0455 - val_accuracy: 0.9865\n",
      "Epoch 103/300\n",
      "130/130 [==============================] - 0s 1ms/step - loss: 0.0428 - accuracy: 0.9887 - val_loss: 0.0459 - val_accuracy: 0.9875\n",
      "Epoch 104/300\n",
      "130/130 [==============================] - 0s 1ms/step - loss: 0.0477 - accuracy: 0.9853 - val_loss: 0.0755 - val_accuracy: 0.9750\n",
      "Epoch 105/300\n",
      "130/130 [==============================] - 0s 1ms/step - loss: 0.0417 - accuracy: 0.9880 - val_loss: 0.0483 - val_accuracy: 0.9846\n",
      "Epoch 106/300\n",
      "130/130 [==============================] - 0s 1ms/step - loss: 0.0438 - accuracy: 0.9873 - val_loss: 0.0428 - val_accuracy: 0.9856\n",
      "Epoch 107/300\n",
      "130/130 [==============================] - 0s 1ms/step - loss: 0.0426 - accuracy: 0.9880 - val_loss: 0.0495 - val_accuracy: 0.9827\n",
      "Epoch 108/300\n",
      "130/130 [==============================] - 0s 1ms/step - loss: 0.0466 - accuracy: 0.9870 - val_loss: 0.0468 - val_accuracy: 0.9875\n",
      "Epoch 109/300\n",
      "130/130 [==============================] - 0s 1ms/step - loss: 0.0406 - accuracy: 0.9887 - val_loss: 0.0476 - val_accuracy: 0.9875\n",
      "Epoch 110/300\n",
      "130/130 [==============================] - 0s 1ms/step - loss: 0.0421 - accuracy: 0.9868 - val_loss: 0.0519 - val_accuracy: 0.9817\n",
      "Epoch 111/300\n",
      "130/130 [==============================] - 0s 1ms/step - loss: 0.0561 - accuracy: 0.9836 - val_loss: 0.0426 - val_accuracy: 0.9865\n",
      "Epoch 112/300\n",
      "130/130 [==============================] - 0s 1ms/step - loss: 0.0435 - accuracy: 0.9851 - val_loss: 0.0480 - val_accuracy: 0.9817\n",
      "Epoch 113/300\n",
      "130/130 [==============================] - 0s 1ms/step - loss: 0.0436 - accuracy: 0.9877 - val_loss: 0.0427 - val_accuracy: 0.9875\n",
      "Epoch 114/300\n",
      "130/130 [==============================] - 0s 1ms/step - loss: 0.0417 - accuracy: 0.9880 - val_loss: 0.0409 - val_accuracy: 0.9875\n",
      "Epoch 115/300\n",
      "130/130 [==============================] - 0s 1ms/step - loss: 0.0418 - accuracy: 0.9887 - val_loss: 0.0394 - val_accuracy: 0.9904\n",
      "Epoch 116/300\n",
      "130/130 [==============================] - 0s 1ms/step - loss: 0.0386 - accuracy: 0.9894 - val_loss: 0.0455 - val_accuracy: 0.9856\n",
      "Epoch 117/300\n",
      "130/130 [==============================] - 0s 1ms/step - loss: 0.0440 - accuracy: 0.9870 - val_loss: 0.0481 - val_accuracy: 0.9856\n",
      "Epoch 118/300\n",
      "130/130 [==============================] - 0s 1ms/step - loss: 0.0469 - accuracy: 0.9863 - val_loss: 0.0534 - val_accuracy: 0.9817\n",
      "Epoch 119/300\n",
      "130/130 [==============================] - 0s 1ms/step - loss: 0.0484 - accuracy: 0.9856 - val_loss: 0.0555 - val_accuracy: 0.9827\n",
      "Epoch 120/300\n",
      "130/130 [==============================] - 0s 1ms/step - loss: 0.0458 - accuracy: 0.9860 - val_loss: 0.0511 - val_accuracy: 0.9827\n",
      "Epoch 121/300\n",
      "130/130 [==============================] - 0s 1ms/step - loss: 0.0463 - accuracy: 0.9877 - val_loss: 0.0503 - val_accuracy: 0.9875\n",
      "Epoch 122/300\n",
      "130/130 [==============================] - 0s 1ms/step - loss: 0.0500 - accuracy: 0.9870 - val_loss: 0.0462 - val_accuracy: 0.9875\n",
      "Epoch 123/300\n",
      "130/130 [==============================] - 0s 1ms/step - loss: 0.0461 - accuracy: 0.9877 - val_loss: 0.0511 - val_accuracy: 0.9856\n",
      "Epoch 124/300\n",
      "130/130 [==============================] - 0s 1ms/step - loss: 0.0430 - accuracy: 0.9870 - val_loss: 0.0386 - val_accuracy: 0.9904\n",
      "Epoch 125/300\n",
      "130/130 [==============================] - 0s 1ms/step - loss: 0.0356 - accuracy: 0.9897 - val_loss: 0.0518 - val_accuracy: 0.9846\n",
      "Epoch 126/300\n",
      "130/130 [==============================] - 0s 1ms/step - loss: 0.0466 - accuracy: 0.9863 - val_loss: 0.0441 - val_accuracy: 0.9865\n",
      "Epoch 127/300\n",
      "130/130 [==============================] - 0s 1ms/step - loss: 0.0413 - accuracy: 0.9880 - val_loss: 0.0485 - val_accuracy: 0.9846\n",
      "Epoch 128/300\n",
      "130/130 [==============================] - 0s 1ms/step - loss: 0.0456 - accuracy: 0.9856 - val_loss: 0.0429 - val_accuracy: 0.9875\n",
      "Epoch 129/300\n",
      "130/130 [==============================] - 0s 1ms/step - loss: 0.0422 - accuracy: 0.9885 - val_loss: 0.0444 - val_accuracy: 0.9865\n",
      "Epoch 130/300\n",
      "130/130 [==============================] - 0s 1ms/step - loss: 0.0431 - accuracy: 0.9865 - val_loss: 0.0892 - val_accuracy: 0.9740\n",
      "Epoch 131/300\n",
      "130/130 [==============================] - 0s 1ms/step - loss: 0.0516 - accuracy: 0.9858 - val_loss: 0.0417 - val_accuracy: 0.9865\n",
      "Epoch 132/300\n",
      "130/130 [==============================] - 0s 1ms/step - loss: 0.0464 - accuracy: 0.9868 - val_loss: 0.0401 - val_accuracy: 0.9885\n",
      "Epoch 133/300\n",
      "130/130 [==============================] - 0s 1ms/step - loss: 0.0471 - accuracy: 0.9851 - val_loss: 0.0518 - val_accuracy: 0.9779\n",
      "Epoch 134/300\n",
      "130/130 [==============================] - 0s 1ms/step - loss: 0.0485 - accuracy: 0.9863 - val_loss: 0.0502 - val_accuracy: 0.9846\n",
      "Epoch 135/300\n",
      "130/130 [==============================] - 0s 1ms/step - loss: 0.0368 - accuracy: 0.9887 - val_loss: 0.0437 - val_accuracy: 0.9856\n",
      "Epoch 136/300\n",
      "130/130 [==============================] - 0s 1ms/step - loss: 0.0453 - accuracy: 0.9858 - val_loss: 0.0476 - val_accuracy: 0.9865\n",
      "Epoch 137/300\n",
      "130/130 [==============================] - 0s 1ms/step - loss: 0.0435 - accuracy: 0.9870 - val_loss: 0.0503 - val_accuracy: 0.9875\n",
      "Epoch 138/300\n",
      "130/130 [==============================] - 0s 1ms/step - loss: 0.0405 - accuracy: 0.9885 - val_loss: 0.0460 - val_accuracy: 0.9875\n",
      "Epoch 139/300\n",
      "130/130 [==============================] - 0s 1ms/step - loss: 0.0375 - accuracy: 0.9889 - val_loss: 0.0432 - val_accuracy: 0.9865\n",
      "Epoch 140/300\n",
      "130/130 [==============================] - 0s 1ms/step - loss: 0.0384 - accuracy: 0.9889 - val_loss: 0.0395 - val_accuracy: 0.9865\n",
      "Epoch 141/300\n",
      "130/130 [==============================] - 0s 1ms/step - loss: 0.0438 - accuracy: 0.9860 - val_loss: 0.0594 - val_accuracy: 0.9808\n",
      "Epoch 142/300\n",
      "130/130 [==============================] - 0s 1ms/step - loss: 0.0432 - accuracy: 0.9904 - val_loss: 0.0439 - val_accuracy: 0.9894\n",
      "Epoch 143/300\n",
      "130/130 [==============================] - 0s 1ms/step - loss: 0.0411 - accuracy: 0.9858 - val_loss: 0.0387 - val_accuracy: 0.9894\n",
      "Epoch 144/300\n",
      "130/130 [==============================] - 0s 1ms/step - loss: 0.0381 - accuracy: 0.9899 - val_loss: 0.0475 - val_accuracy: 0.9865\n",
      "Epoch 145/300\n",
      "130/130 [==============================] - 0s 1ms/step - loss: 0.0439 - accuracy: 0.9873 - val_loss: 0.0995 - val_accuracy: 0.9712\n",
      "Epoch 146/300\n",
      "130/130 [==============================] - 0s 1ms/step - loss: 0.0425 - accuracy: 0.9853 - val_loss: 0.0498 - val_accuracy: 0.9865\n",
      "Epoch 147/300\n",
      "130/130 [==============================] - 0s 1ms/step - loss: 0.0397 - accuracy: 0.9870 - val_loss: 0.0446 - val_accuracy: 0.9856\n",
      "Epoch 148/300\n",
      "130/130 [==============================] - 0s 1ms/step - loss: 0.0352 - accuracy: 0.9892 - val_loss: 0.0452 - val_accuracy: 0.9885\n",
      "Epoch 149/300\n",
      "130/130 [==============================] - 0s 1ms/step - loss: 0.0387 - accuracy: 0.9889 - val_loss: 0.0399 - val_accuracy: 0.9856\n",
      "Epoch 150/300\n",
      "130/130 [==============================] - 0s 1ms/step - loss: 0.0460 - accuracy: 0.9865 - val_loss: 0.0470 - val_accuracy: 0.9856\n",
      "Epoch 151/300\n",
      "130/130 [==============================] - 0s 1ms/step - loss: 0.0451 - accuracy: 0.9870 - val_loss: 0.0410 - val_accuracy: 0.9875\n",
      "Epoch 152/300\n",
      "130/130 [==============================] - 0s 1ms/step - loss: 0.0377 - accuracy: 0.9885 - val_loss: 0.0625 - val_accuracy: 0.9817\n",
      "Epoch 153/300\n",
      "130/130 [==============================] - 0s 1ms/step - loss: 0.0432 - accuracy: 0.9882 - val_loss: 0.0574 - val_accuracy: 0.9846\n",
      "Epoch 154/300\n",
      "130/130 [==============================] - 0s 1ms/step - loss: 0.0439 - accuracy: 0.9873 - val_loss: 0.0428 - val_accuracy: 0.9875\n",
      "Epoch 155/300\n",
      "130/130 [==============================] - 0s 1ms/step - loss: 0.0360 - accuracy: 0.9892 - val_loss: 0.0448 - val_accuracy: 0.9875\n",
      "Epoch 156/300\n",
      "130/130 [==============================] - 0s 1ms/step - loss: 0.0390 - accuracy: 0.9870 - val_loss: 0.0606 - val_accuracy: 0.9846\n",
      "Epoch 157/300\n",
      "130/130 [==============================] - 0s 1ms/step - loss: 0.0408 - accuracy: 0.9892 - val_loss: 0.0535 - val_accuracy: 0.9798\n",
      "Epoch 158/300\n",
      "130/130 [==============================] - 0s 1ms/step - loss: 0.0406 - accuracy: 0.9882 - val_loss: 0.0875 - val_accuracy: 0.9731\n",
      "Epoch 159/300\n",
      "130/130 [==============================] - 0s 1ms/step - loss: 0.0380 - accuracy: 0.9901 - val_loss: 0.0663 - val_accuracy: 0.9788\n",
      "Epoch 160/300\n",
      "130/130 [==============================] - 0s 1ms/step - loss: 0.0399 - accuracy: 0.9885 - val_loss: 0.0462 - val_accuracy: 0.9894\n",
      "Epoch 161/300\n",
      "130/130 [==============================] - 0s 1ms/step - loss: 0.0312 - accuracy: 0.9901 - val_loss: 0.0598 - val_accuracy: 0.9856\n",
      "Epoch 162/300\n",
      "130/130 [==============================] - 0s 1ms/step - loss: 0.0345 - accuracy: 0.9904 - val_loss: 0.0502 - val_accuracy: 0.9865\n",
      "Epoch 163/300\n",
      "130/130 [==============================] - 0s 1ms/step - loss: 0.0441 - accuracy: 0.9875 - val_loss: 0.0397 - val_accuracy: 0.9885\n",
      "Epoch 164/300\n",
      "130/130 [==============================] - 0s 1ms/step - loss: 0.0408 - accuracy: 0.9887 - val_loss: 0.0444 - val_accuracy: 0.9875\n",
      "Epoch 165/300\n",
      "130/130 [==============================] - 0s 1ms/step - loss: 0.0389 - accuracy: 0.9889 - val_loss: 0.0370 - val_accuracy: 0.9894\n",
      "Epoch 166/300\n",
      "130/130 [==============================] - 0s 1ms/step - loss: 0.0354 - accuracy: 0.9897 - val_loss: 0.0414 - val_accuracy: 0.9885\n",
      "Epoch 167/300\n",
      "130/130 [==============================] - 0s 1ms/step - loss: 0.0357 - accuracy: 0.9892 - val_loss: 0.0385 - val_accuracy: 0.9904\n",
      "Epoch 168/300\n",
      "130/130 [==============================] - 0s 1ms/step - loss: 0.0409 - accuracy: 0.9882 - val_loss: 0.0387 - val_accuracy: 0.9913\n",
      "Epoch 169/300\n",
      "130/130 [==============================] - 0s 1ms/step - loss: 0.0421 - accuracy: 0.9873 - val_loss: 0.0396 - val_accuracy: 0.9904\n",
      "Epoch 170/300\n",
      "130/130 [==============================] - 0s 1ms/step - loss: 0.0347 - accuracy: 0.9906 - val_loss: 0.0517 - val_accuracy: 0.9837\n",
      "Epoch 171/300\n",
      "130/130 [==============================] - 0s 1ms/step - loss: 0.0407 - accuracy: 0.9885 - val_loss: 0.0438 - val_accuracy: 0.9894\n",
      "Epoch 172/300\n",
      "130/130 [==============================] - 0s 1ms/step - loss: 0.0358 - accuracy: 0.9901 - val_loss: 0.0664 - val_accuracy: 0.9808\n",
      "Epoch 173/300\n",
      "130/130 [==============================] - 0s 1ms/step - loss: 0.0377 - accuracy: 0.9887 - val_loss: 0.0489 - val_accuracy: 0.9856\n",
      "Epoch 174/300\n",
      "130/130 [==============================] - 0s 1ms/step - loss: 0.0353 - accuracy: 0.9904 - val_loss: 0.0433 - val_accuracy: 0.9894\n",
      "Epoch 175/300\n",
      "130/130 [==============================] - 0s 1ms/step - loss: 0.0404 - accuracy: 0.9873 - val_loss: 0.0404 - val_accuracy: 0.9923\n",
      "Epoch 176/300\n",
      "130/130 [==============================] - 0s 1ms/step - loss: 0.0387 - accuracy: 0.9892 - val_loss: 0.0377 - val_accuracy: 0.9894\n",
      "Epoch 177/300\n",
      "130/130 [==============================] - 0s 1ms/step - loss: 0.0390 - accuracy: 0.9882 - val_loss: 0.0486 - val_accuracy: 0.9846\n",
      "Epoch 178/300\n",
      "130/130 [==============================] - 0s 1ms/step - loss: 0.0341 - accuracy: 0.9897 - val_loss: 0.0401 - val_accuracy: 0.9894\n",
      "Epoch 179/300\n",
      "130/130 [==============================] - 0s 1ms/step - loss: 0.0285 - accuracy: 0.9913 - val_loss: 0.0407 - val_accuracy: 0.9894\n",
      "Epoch 180/300\n",
      "130/130 [==============================] - 0s 1ms/step - loss: 0.0367 - accuracy: 0.9913 - val_loss: 0.0426 - val_accuracy: 0.9885\n",
      "Epoch 181/300\n",
      "130/130 [==============================] - 0s 1ms/step - loss: 0.0403 - accuracy: 0.9885 - val_loss: 0.0454 - val_accuracy: 0.9875\n",
      "Epoch 182/300\n",
      "130/130 [==============================] - 0s 1ms/step - loss: 0.0417 - accuracy: 0.9875 - val_loss: 0.0410 - val_accuracy: 0.9894\n",
      "Epoch 183/300\n",
      "130/130 [==============================] - 0s 1ms/step - loss: 0.0368 - accuracy: 0.9897 - val_loss: 0.0362 - val_accuracy: 0.9904\n",
      "Epoch 184/300\n",
      "130/130 [==============================] - 0s 1ms/step - loss: 0.0350 - accuracy: 0.9906 - val_loss: 0.0382 - val_accuracy: 0.9894\n",
      "Epoch 185/300\n",
      "130/130 [==============================] - 0s 1ms/step - loss: 0.0378 - accuracy: 0.9873 - val_loss: 0.0458 - val_accuracy: 0.9875\n",
      "Epoch 186/300\n",
      "130/130 [==============================] - 0s 1ms/step - loss: 0.0350 - accuracy: 0.9897 - val_loss: 0.0386 - val_accuracy: 0.9875\n",
      "Epoch 187/300\n",
      "130/130 [==============================] - 0s 1ms/step - loss: 0.0360 - accuracy: 0.9894 - val_loss: 0.0415 - val_accuracy: 0.9913\n",
      "Epoch 188/300\n",
      "130/130 [==============================] - 0s 1ms/step - loss: 0.0436 - accuracy: 0.9880 - val_loss: 0.0358 - val_accuracy: 0.9913\n",
      "Epoch 189/300\n",
      "130/130 [==============================] - 0s 1ms/step - loss: 0.0324 - accuracy: 0.9899 - val_loss: 0.0484 - val_accuracy: 0.9846\n",
      "Epoch 190/300\n",
      "130/130 [==============================] - 0s 1ms/step - loss: 0.0409 - accuracy: 0.9880 - val_loss: 0.0539 - val_accuracy: 0.9856\n",
      "Epoch 191/300\n",
      "130/130 [==============================] - 0s 1ms/step - loss: 0.0307 - accuracy: 0.9916 - val_loss: 0.0431 - val_accuracy: 0.9894\n",
      "Epoch 192/300\n",
      "130/130 [==============================] - 0s 1ms/step - loss: 0.0319 - accuracy: 0.9911 - val_loss: 0.0428 - val_accuracy: 0.9885\n",
      "Epoch 193/300\n",
      "130/130 [==============================] - 0s 1ms/step - loss: 0.0369 - accuracy: 0.9889 - val_loss: 0.0414 - val_accuracy: 0.9894\n",
      "Epoch 194/300\n",
      "130/130 [==============================] - 0s 1ms/step - loss: 0.0498 - accuracy: 0.9863 - val_loss: 0.0450 - val_accuracy: 0.9856\n",
      "Epoch 195/300\n",
      "130/130 [==============================] - 0s 1ms/step - loss: 0.0349 - accuracy: 0.9904 - val_loss: 0.0361 - val_accuracy: 0.9904\n",
      "Epoch 196/300\n",
      "130/130 [==============================] - 0s 1ms/step - loss: 0.0321 - accuracy: 0.9899 - val_loss: 0.0499 - val_accuracy: 0.9885\n",
      "Epoch 197/300\n",
      "130/130 [==============================] - 0s 1ms/step - loss: 0.0326 - accuracy: 0.9916 - val_loss: 0.0604 - val_accuracy: 0.9865\n",
      "Epoch 198/300\n",
      "130/130 [==============================] - 0s 1ms/step - loss: 0.0316 - accuracy: 0.9906 - val_loss: 0.0396 - val_accuracy: 0.9913\n",
      "Epoch 199/300\n",
      "130/130 [==============================] - 0s 1ms/step - loss: 0.0324 - accuracy: 0.9909 - val_loss: 0.0517 - val_accuracy: 0.9837\n",
      "Epoch 200/300\n",
      "130/130 [==============================] - 0s 1ms/step - loss: 0.0348 - accuracy: 0.9880 - val_loss: 0.0554 - val_accuracy: 0.9865\n",
      "Epoch 201/300\n",
      "130/130 [==============================] - 0s 1ms/step - loss: 0.0381 - accuracy: 0.9880 - val_loss: 0.0499 - val_accuracy: 0.9875\n",
      "Epoch 202/300\n",
      "130/130 [==============================] - 0s 1ms/step - loss: 0.0332 - accuracy: 0.9901 - val_loss: 0.0463 - val_accuracy: 0.9875\n",
      "Epoch 203/300\n",
      "130/130 [==============================] - 0s 1ms/step - loss: 0.0487 - accuracy: 0.9870 - val_loss: 0.0767 - val_accuracy: 0.9798\n",
      "Epoch 204/300\n",
      "130/130 [==============================] - 0s 1ms/step - loss: 0.0358 - accuracy: 0.9894 - val_loss: 0.0427 - val_accuracy: 0.9856\n",
      "Epoch 205/300\n",
      "130/130 [==============================] - 0s 1ms/step - loss: 0.0299 - accuracy: 0.9906 - val_loss: 0.0339 - val_accuracy: 0.9894\n",
      "Epoch 206/300\n",
      "130/130 [==============================] - 0s 1ms/step - loss: 0.0346 - accuracy: 0.9889 - val_loss: 0.0370 - val_accuracy: 0.9885\n",
      "Epoch 207/300\n",
      "130/130 [==============================] - 0s 1ms/step - loss: 0.0362 - accuracy: 0.9906 - val_loss: 0.0372 - val_accuracy: 0.9894\n",
      "Epoch 208/300\n",
      "130/130 [==============================] - 0s 1ms/step - loss: 0.0350 - accuracy: 0.9882 - val_loss: 0.0402 - val_accuracy: 0.9875\n",
      "Epoch 209/300\n",
      "130/130 [==============================] - 0s 1ms/step - loss: 0.0310 - accuracy: 0.9892 - val_loss: 0.0431 - val_accuracy: 0.9885\n",
      "Epoch 210/300\n",
      "130/130 [==============================] - 0s 1ms/step - loss: 0.0445 - accuracy: 0.9870 - val_loss: 0.0402 - val_accuracy: 0.9894\n",
      "Epoch 211/300\n",
      "130/130 [==============================] - 0s 1ms/step - loss: 0.0371 - accuracy: 0.9892 - val_loss: 0.0417 - val_accuracy: 0.9875\n",
      "Epoch 212/300\n",
      "130/130 [==============================] - 0s 1ms/step - loss: 0.0362 - accuracy: 0.9887 - val_loss: 0.0435 - val_accuracy: 0.9875\n",
      "Epoch 213/300\n",
      "130/130 [==============================] - 0s 1ms/step - loss: 0.0282 - accuracy: 0.9928 - val_loss: 0.0390 - val_accuracy: 0.9894\n",
      "Epoch 214/300\n",
      "130/130 [==============================] - 0s 1ms/step - loss: 0.0370 - accuracy: 0.9892 - val_loss: 0.0450 - val_accuracy: 0.9837\n",
      "Epoch 215/300\n",
      "130/130 [==============================] - 0s 1ms/step - loss: 0.0388 - accuracy: 0.9892 - val_loss: 0.0444 - val_accuracy: 0.9875\n",
      "Epoch 216/300\n",
      "130/130 [==============================] - 0s 1ms/step - loss: 0.0314 - accuracy: 0.9904 - val_loss: 0.0442 - val_accuracy: 0.9904\n",
      "Epoch 217/300\n",
      "130/130 [==============================] - 0s 1ms/step - loss: 0.0323 - accuracy: 0.9897 - val_loss: 0.0473 - val_accuracy: 0.9885\n",
      "Epoch 218/300\n",
      "130/130 [==============================] - 0s 1ms/step - loss: 0.0299 - accuracy: 0.9906 - val_loss: 0.0715 - val_accuracy: 0.9827\n",
      "Epoch 219/300\n",
      "130/130 [==============================] - 0s 1ms/step - loss: 0.0366 - accuracy: 0.9911 - val_loss: 0.0518 - val_accuracy: 0.9923\n",
      "Epoch 220/300\n",
      "130/130 [==============================] - 0s 1ms/step - loss: 0.0327 - accuracy: 0.9904 - val_loss: 0.0442 - val_accuracy: 0.9904\n",
      "Epoch 221/300\n",
      "130/130 [==============================] - 0s 1ms/step - loss: 0.0303 - accuracy: 0.9913 - val_loss: 0.0419 - val_accuracy: 0.9904\n",
      "Epoch 222/300\n",
      "130/130 [==============================] - 0s 1ms/step - loss: 0.0422 - accuracy: 0.9880 - val_loss: 0.0619 - val_accuracy: 0.9817\n",
      "Epoch 223/300\n",
      "130/130 [==============================] - 0s 1ms/step - loss: 0.0358 - accuracy: 0.9899 - val_loss: 0.0414 - val_accuracy: 0.9904\n",
      "Epoch 224/300\n",
      "130/130 [==============================] - 0s 1ms/step - loss: 0.0337 - accuracy: 0.9899 - val_loss: 0.0577 - val_accuracy: 0.9846\n",
      "Epoch 225/300\n",
      "130/130 [==============================] - 0s 1ms/step - loss: 0.0352 - accuracy: 0.9889 - val_loss: 0.0437 - val_accuracy: 0.9885\n",
      "Epoch 226/300\n",
      "130/130 [==============================] - 0s 1ms/step - loss: 0.0321 - accuracy: 0.9897 - val_loss: 0.0401 - val_accuracy: 0.9904\n",
      "Epoch 227/300\n",
      "130/130 [==============================] - 0s 1ms/step - loss: 0.0316 - accuracy: 0.9894 - val_loss: 0.0446 - val_accuracy: 0.9904\n",
      "Epoch 228/300\n",
      "130/130 [==============================] - 0s 1ms/step - loss: 0.0443 - accuracy: 0.9873 - val_loss: 0.0692 - val_accuracy: 0.9827\n",
      "Epoch 229/300\n",
      "130/130 [==============================] - 0s 1ms/step - loss: 0.0386 - accuracy: 0.9887 - val_loss: 0.0385 - val_accuracy: 0.9904\n",
      "Epoch 230/300\n",
      "130/130 [==============================] - 0s 1ms/step - loss: 0.0289 - accuracy: 0.9923 - val_loss: 0.0413 - val_accuracy: 0.9856\n",
      "Epoch 231/300\n",
      "130/130 [==============================] - 0s 1ms/step - loss: 0.0356 - accuracy: 0.9877 - val_loss: 0.0608 - val_accuracy: 0.9856\n",
      "Epoch 232/300\n",
      "130/130 [==============================] - 0s 1ms/step - loss: 0.0416 - accuracy: 0.9875 - val_loss: 0.0431 - val_accuracy: 0.9894\n",
      "Epoch 233/300\n",
      "130/130 [==============================] - 0s 1ms/step - loss: 0.0358 - accuracy: 0.9889 - val_loss: 0.0464 - val_accuracy: 0.9894\n",
      "Epoch 234/300\n",
      "130/130 [==============================] - 0s 1ms/step - loss: 0.0299 - accuracy: 0.9911 - val_loss: 0.0428 - val_accuracy: 0.9865\n",
      "Epoch 235/300\n",
      "130/130 [==============================] - 0s 1ms/step - loss: 0.0311 - accuracy: 0.9909 - val_loss: 0.0545 - val_accuracy: 0.9875\n",
      "Epoch 236/300\n",
      "130/130 [==============================] - 0s 1ms/step - loss: 0.0444 - accuracy: 0.9865 - val_loss: 0.0524 - val_accuracy: 0.9846\n",
      "Epoch 237/300\n",
      "130/130 [==============================] - 0s 1ms/step - loss: 0.0377 - accuracy: 0.9899 - val_loss: 0.0432 - val_accuracy: 0.9865\n",
      "Epoch 238/300\n",
      "130/130 [==============================] - 0s 1ms/step - loss: 0.0381 - accuracy: 0.9875 - val_loss: 0.0550 - val_accuracy: 0.9856\n",
      "Epoch 239/300\n",
      "130/130 [==============================] - 0s 1ms/step - loss: 0.0303 - accuracy: 0.9901 - val_loss: 0.0452 - val_accuracy: 0.9875\n",
      "Epoch 240/300\n",
      "130/130 [==============================] - 0s 1ms/step - loss: 0.0297 - accuracy: 0.9916 - val_loss: 0.0467 - val_accuracy: 0.9904\n",
      "Epoch 241/300\n",
      "130/130 [==============================] - 0s 1ms/step - loss: 0.0329 - accuracy: 0.9909 - val_loss: 0.0554 - val_accuracy: 0.9865\n",
      "Epoch 242/300\n",
      "130/130 [==============================] - 0s 1ms/step - loss: 0.0309 - accuracy: 0.9916 - val_loss: 0.0459 - val_accuracy: 0.9875\n",
      "Epoch 243/300\n",
      "130/130 [==============================] - 0s 1ms/step - loss: 0.0320 - accuracy: 0.9887 - val_loss: 0.0444 - val_accuracy: 0.9894\n",
      "Epoch 244/300\n",
      "130/130 [==============================] - 0s 1ms/step - loss: 0.0296 - accuracy: 0.9916 - val_loss: 0.0662 - val_accuracy: 0.9827\n",
      "Epoch 245/300\n",
      "130/130 [==============================] - 0s 1ms/step - loss: 0.0354 - accuracy: 0.9894 - val_loss: 0.0496 - val_accuracy: 0.9865\n",
      "Epoch 246/300\n",
      "130/130 [==============================] - 0s 1ms/step - loss: 0.0310 - accuracy: 0.9904 - val_loss: 0.0467 - val_accuracy: 0.9885\n",
      "Epoch 247/300\n",
      "130/130 [==============================] - 0s 1ms/step - loss: 0.0375 - accuracy: 0.9887 - val_loss: 0.0407 - val_accuracy: 0.9904\n",
      "Epoch 248/300\n",
      "130/130 [==============================] - 0s 1ms/step - loss: 0.0271 - accuracy: 0.9916 - val_loss: 0.0399 - val_accuracy: 0.9856\n",
      "Epoch 249/300\n",
      "130/130 [==============================] - 0s 1ms/step - loss: 0.0295 - accuracy: 0.9913 - val_loss: 0.0498 - val_accuracy: 0.9875\n",
      "Epoch 250/300\n",
      "130/130 [==============================] - 0s 1ms/step - loss: 0.0283 - accuracy: 0.9911 - val_loss: 0.0444 - val_accuracy: 0.9885\n",
      "Epoch 251/300\n",
      "130/130 [==============================] - 0s 1ms/step - loss: 0.0444 - accuracy: 0.9860 - val_loss: 0.0494 - val_accuracy: 0.9885\n",
      "Epoch 252/300\n",
      "130/130 [==============================] - 0s 1ms/step - loss: 0.0402 - accuracy: 0.9889 - val_loss: 0.0354 - val_accuracy: 0.9904\n",
      "Epoch 253/300\n",
      "130/130 [==============================] - 0s 1ms/step - loss: 0.0377 - accuracy: 0.9887 - val_loss: 0.0412 - val_accuracy: 0.9904\n",
      "Epoch 254/300\n",
      "130/130 [==============================] - 0s 1ms/step - loss: 0.0337 - accuracy: 0.9906 - val_loss: 0.0425 - val_accuracy: 0.9885\n",
      "Epoch 255/300\n",
      "130/130 [==============================] - 0s 1ms/step - loss: 0.0305 - accuracy: 0.9913 - val_loss: 0.0496 - val_accuracy: 0.9875\n",
      "Epoch 256/300\n",
      "130/130 [==============================] - 0s 1ms/step - loss: 0.0295 - accuracy: 0.9911 - val_loss: 0.0555 - val_accuracy: 0.9894\n",
      "Epoch 257/300\n",
      "130/130 [==============================] - 0s 1ms/step - loss: 0.0338 - accuracy: 0.9899 - val_loss: 0.0383 - val_accuracy: 0.9904\n",
      "Epoch 258/300\n",
      "130/130 [==============================] - 0s 1ms/step - loss: 0.0378 - accuracy: 0.9885 - val_loss: 0.0419 - val_accuracy: 0.9875\n",
      "Epoch 259/300\n",
      "130/130 [==============================] - 0s 1ms/step - loss: 0.0291 - accuracy: 0.9918 - val_loss: 0.0413 - val_accuracy: 0.9904\n",
      "Epoch 260/300\n",
      "130/130 [==============================] - 0s 1ms/step - loss: 0.0315 - accuracy: 0.9909 - val_loss: 0.0418 - val_accuracy: 0.9865\n",
      "Epoch 261/300\n",
      "130/130 [==============================] - 0s 1ms/step - loss: 0.0356 - accuracy: 0.9897 - val_loss: 0.0378 - val_accuracy: 0.9885\n",
      "Epoch 262/300\n",
      "130/130 [==============================] - 0s 1ms/step - loss: 0.0318 - accuracy: 0.9901 - val_loss: 0.0382 - val_accuracy: 0.9885\n",
      "Epoch 263/300\n",
      "130/130 [==============================] - 0s 1ms/step - loss: 0.0304 - accuracy: 0.9909 - val_loss: 0.0413 - val_accuracy: 0.9904\n",
      "Epoch 264/300\n",
      "130/130 [==============================] - 0s 1ms/step - loss: 0.0308 - accuracy: 0.9911 - val_loss: 0.0426 - val_accuracy: 0.9865\n",
      "Epoch 265/300\n",
      "130/130 [==============================] - 0s 1ms/step - loss: 0.0265 - accuracy: 0.9918 - val_loss: 0.0617 - val_accuracy: 0.9856\n",
      "Epoch 266/300\n",
      "130/130 [==============================] - 0s 1ms/step - loss: 0.0355 - accuracy: 0.9897 - val_loss: 0.0660 - val_accuracy: 0.9856\n",
      "Epoch 267/300\n",
      "130/130 [==============================] - 0s 1ms/step - loss: 0.0383 - accuracy: 0.9901 - val_loss: 0.0525 - val_accuracy: 0.9865\n",
      "Epoch 268/300\n",
      "130/130 [==============================] - 0s 1ms/step - loss: 0.0332 - accuracy: 0.9894 - val_loss: 0.0466 - val_accuracy: 0.9856\n",
      "Epoch 269/300\n",
      "130/130 [==============================] - 0s 1ms/step - loss: 0.0302 - accuracy: 0.9916 - val_loss: 0.0379 - val_accuracy: 0.9894\n",
      "Epoch 270/300\n",
      "130/130 [==============================] - 0s 1ms/step - loss: 0.0381 - accuracy: 0.9873 - val_loss: 0.0364 - val_accuracy: 0.9875\n",
      "Epoch 271/300\n",
      "130/130 [==============================] - 0s 1ms/step - loss: 0.0295 - accuracy: 0.9921 - val_loss: 0.0471 - val_accuracy: 0.9885\n",
      "Epoch 272/300\n",
      "130/130 [==============================] - 0s 1ms/step - loss: 0.0275 - accuracy: 0.9925 - val_loss: 0.0398 - val_accuracy: 0.9846\n",
      "Epoch 273/300\n",
      "130/130 [==============================] - 0s 1ms/step - loss: 0.0312 - accuracy: 0.9897 - val_loss: 0.0388 - val_accuracy: 0.9904\n",
      "Epoch 274/300\n",
      "130/130 [==============================] - 0s 1ms/step - loss: 0.0292 - accuracy: 0.9913 - val_loss: 0.0381 - val_accuracy: 0.9885\n",
      "Epoch 275/300\n",
      "130/130 [==============================] - 0s 1ms/step - loss: 0.0347 - accuracy: 0.9887 - val_loss: 0.0457 - val_accuracy: 0.9894\n",
      "Epoch 276/300\n",
      "130/130 [==============================] - 0s 1ms/step - loss: 0.0394 - accuracy: 0.9892 - val_loss: 0.0423 - val_accuracy: 0.9875\n",
      "Epoch 277/300\n",
      "130/130 [==============================] - 0s 1ms/step - loss: 0.0291 - accuracy: 0.9918 - val_loss: 0.0384 - val_accuracy: 0.9904\n",
      "Epoch 278/300\n",
      "130/130 [==============================] - 0s 1ms/step - loss: 0.0280 - accuracy: 0.9911 - val_loss: 0.0423 - val_accuracy: 0.9904\n",
      "Epoch 279/300\n",
      "130/130 [==============================] - 0s 1ms/step - loss: 0.0358 - accuracy: 0.9882 - val_loss: 0.0545 - val_accuracy: 0.9827\n",
      "Epoch 280/300\n",
      "130/130 [==============================] - 0s 2ms/step - loss: 0.0476 - accuracy: 0.9863 - val_loss: 0.0415 - val_accuracy: 0.9846\n",
      "Epoch 281/300\n",
      "130/130 [==============================] - 0s 1ms/step - loss: 0.0330 - accuracy: 0.9911 - val_loss: 0.0393 - val_accuracy: 0.9904\n",
      "Epoch 282/300\n",
      "130/130 [==============================] - 0s 1ms/step - loss: 0.0322 - accuracy: 0.9901 - val_loss: 0.0445 - val_accuracy: 0.9875\n",
      "Epoch 283/300\n",
      "130/130 [==============================] - 0s 1ms/step - loss: 0.0274 - accuracy: 0.9928 - val_loss: 0.0388 - val_accuracy: 0.9894\n",
      "Epoch 284/300\n",
      "130/130 [==============================] - 0s 1ms/step - loss: 0.0308 - accuracy: 0.9909 - val_loss: 0.0564 - val_accuracy: 0.9846\n",
      "Epoch 285/300\n",
      "130/130 [==============================] - 0s 1ms/step - loss: 0.0295 - accuracy: 0.9904 - val_loss: 0.0464 - val_accuracy: 0.9846\n",
      "Epoch 286/300\n",
      "130/130 [==============================] - 0s 1ms/step - loss: 0.0337 - accuracy: 0.9889 - val_loss: 0.0367 - val_accuracy: 0.9894\n",
      "Epoch 287/300\n",
      "130/130 [==============================] - 0s 1ms/step - loss: 0.0325 - accuracy: 0.9909 - val_loss: 0.0424 - val_accuracy: 0.9904\n",
      "Epoch 288/300\n",
      "130/130 [==============================] - 0s 1ms/step - loss: 0.0358 - accuracy: 0.9885 - val_loss: 0.0473 - val_accuracy: 0.9865\n",
      "Epoch 289/300\n",
      "130/130 [==============================] - 0s 1ms/step - loss: 0.0299 - accuracy: 0.9901 - val_loss: 0.0407 - val_accuracy: 0.9865\n",
      "Epoch 290/300\n",
      "130/130 [==============================] - 0s 1ms/step - loss: 0.0401 - accuracy: 0.9856 - val_loss: 0.0467 - val_accuracy: 0.9875\n",
      "Epoch 291/300\n",
      "130/130 [==============================] - 0s 1ms/step - loss: 0.0353 - accuracy: 0.9889 - val_loss: 0.0426 - val_accuracy: 0.9885\n",
      "Epoch 292/300\n",
      "130/130 [==============================] - 0s 1ms/step - loss: 0.0271 - accuracy: 0.9930 - val_loss: 0.0479 - val_accuracy: 0.9894\n",
      "Epoch 293/300\n",
      "130/130 [==============================] - 0s 1ms/step - loss: 0.0301 - accuracy: 0.9911 - val_loss: 0.0413 - val_accuracy: 0.9904\n",
      "Epoch 294/300\n",
      "130/130 [==============================] - 0s 1ms/step - loss: 0.0428 - accuracy: 0.9860 - val_loss: 0.0474 - val_accuracy: 0.9865\n",
      "Epoch 295/300\n",
      "130/130 [==============================] - 0s 1ms/step - loss: 0.0322 - accuracy: 0.9901 - val_loss: 0.0438 - val_accuracy: 0.9894\n",
      "Epoch 296/300\n",
      "130/130 [==============================] - 0s 1ms/step - loss: 0.0279 - accuracy: 0.9930 - val_loss: 0.0400 - val_accuracy: 0.9913\n",
      "Epoch 297/300\n",
      "130/130 [==============================] - 0s 1ms/step - loss: 0.0270 - accuracy: 0.9901 - val_loss: 0.0355 - val_accuracy: 0.9865\n",
      "Epoch 298/300\n",
      "130/130 [==============================] - 0s 1ms/step - loss: 0.0343 - accuracy: 0.9897 - val_loss: 0.0314 - val_accuracy: 0.9923\n",
      "Epoch 299/300\n",
      "130/130 [==============================] - 0s 1ms/step - loss: 0.0307 - accuracy: 0.9913 - val_loss: 0.0552 - val_accuracy: 0.9885\n",
      "Epoch 300/300\n",
      "130/130 [==============================] - 0s 1ms/step - loss: 0.0297 - accuracy: 0.9930 - val_loss: 0.0442 - val_accuracy: 0.9885\n"
     ]
    }
   ],
   "source": [
    "#Fit model:\n",
    "from tensorflow.keras.callbacks import EarlyStopping\n",
    "early_stopping_minitor = EarlyStopping(patience=100)\n",
    "\n",
    "#train model:   Test accuracy: 0.590625   epochs=300\n",
    "history = model.fit(x_train, y_train,\n",
    " epochs=300,\n",
    " batch_size=32,\n",
    " validation_split=0.2,\n",
    " callbacks=[early_stopping_minitor])"
   ]
  },
  {
   "cell_type": "code",
   "execution_count": 37,
   "metadata": {
    "id": "qInZXkyoYF2v"
   },
   "outputs": [
    {
     "name": "stdout",
     "output_type": "stream",
     "text": [
      "41/41 [==============================] - 0s 563us/step\n"
     ]
    }
   ],
   "source": [
    "y_pred = model.predict(x_test)\n"
   ]
  },
  {
   "cell_type": "code",
   "execution_count": 38,
   "metadata": {},
   "outputs": [
    {
     "name": "stdout",
     "output_type": "stream",
     "text": [
      "dict_keys(['loss', 'accuracy', 'val_loss', 'val_accuracy'])\n"
     ]
    },
    {
     "data": {
      "image/png": "[encoded data removed]",
      "text/plain": [
       "<Figure size 432x288 with 1 Axes>"
      ]
     },
     "metadata": {
      "needs_background": "light"
     },
     "output_type": "display_data"
    }
   ],
   "source": [
    "# Plot loss of train and test set\n",
    "print(history.history.keys())\n",
    "\n",
    "#Loss in train and test:\n",
    "plt.plot(history.history['loss'])\n",
    "plt.plot(history.history['val_loss'])\n",
    "plt.title('model_loss')\n",
    "plt.xlabel('epoch')\n",
    "plt.ylabel('loss')\n",
    "plt.legend(['train', 'validation'], loc='upper right')\n",
    "plt.show()"
   ]
  },
  {
   "cell_type": "code",
   "execution_count": 39,
   "metadata": {},
   "outputs": [],
   "source": [
    "#y_pred = y_pred.round()"
   ]
  },
  {
   "cell_type": "code",
   "execution_count": 40,
   "metadata": {},
   "outputs": [
    {
     "name": "stdout",
     "output_type": "stream",
     "text": [
      "[[1.81815343e-03 0.00000000e+00]\n",
      " [2.81333942e-05 0.00000000e+00]\n",
      " [1.43455749e-04 0.00000000e+00]\n",
      " ...\n",
      " [4.27107047e-03 0.00000000e+00]\n",
      " [2.74055375e-04 0.00000000e+00]\n",
      " [7.23576304e-05 0.00000000e+00]]\n"
     ]
    }
   ],
   "source": [
    "#y_pred = (y_pred > 0.5)\n",
    "print(np.concatenate((y_pred.reshape(len(y_pred),1), y_test.reshape(len(y_test),1)),1))"
   ]
  },
  {
   "cell_type": "code",
   "execution_count": 41,
   "metadata": {},
   "outputs": [],
   "source": [
    "y_pred = y_pred.round()"
   ]
  },
  {
   "cell_type": "code",
   "execution_count": 42,
   "metadata": {},
   "outputs": [
    {
     "name": "stdout",
     "output_type": "stream",
     "text": [
      "[[993   4]\n",
      " [  7 296]]\n"
     ]
    }
   ],
   "source": [
    "cmatrix = confusion_matrix(y_test, y_pred)\n",
    "print(cmatrix)\n"
   ]
  },
  {
   "cell_type": "code",
   "execution_count": 43,
   "metadata": {},
   "outputs": [
    {
     "data": {
      "text/plain": [
       "0.9915384615384616"
      ]
     },
     "execution_count": 43,
     "metadata": {},
     "output_type": "execute_result"
    }
   ],
   "source": [
    "accuracy_score(y_test, y_pred)"
   ]
  },
  {
   "cell_type": "code",
   "execution_count": 44,
   "metadata": {},
   "outputs": [
    {
     "name": "stdout",
     "output_type": "stream",
     "text": [
      "Test accuracy: 0.9915384615384616\n"
     ]
    }
   ],
   "source": [
    "print('Test accuracy:', accuracy_score(y_test, y_pred))"
   ]
  }
 ],
 "metadata": {
  "colab": {
   "authorship_tag": "ABX9TyN/wBa64zPEsVW1nNEJBUYF",
   "collapsed_sections": [],
   "provenance": []
  },
  "kernelspec": {
   "display_name": "Python 3",
   "language": "python",
   "name": "python3"
  },
  "language_info": {
   "codemirror_mode": {
    "name": "ipython",
    "version": 3
   },
   "file_extension": ".py",
   "mimetype": "text/x-python",
   "name": "python",
   "nbconvert_exporter": "python",
   "pygments_lexer": "ipython3",
   "version": "3.8.12"
  }
 },
 "nbformat": 4,
 "nbformat_minor": 4
}
