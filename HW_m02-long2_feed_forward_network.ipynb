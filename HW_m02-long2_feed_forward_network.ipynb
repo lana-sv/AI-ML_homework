{
 "cells": [
  {
   "cell_type": "code",
   "execution_count": 1,
   "metadata": {},
   "outputs": [],
   "source": [
    "#Importing libraries and modules:\n",
    "\n",
    "import numpy as np\n",
    "import pandas as pd\n",
    "import matplotlib\n",
    "import matplotlib.pyplot as plt\n",
    "\n",
    "import tensorflow as tf\n",
    "import keras\n",
    "\n",
    "from sklearn.preprocessing import LabelEncoder\n",
    "from sklearn.compose import ColumnTransformer\n",
    "from sklearn.preprocessing import OneHotEncoder\n",
    "from sklearn.model_selection import train_test_split\n",
    "from sklearn.preprocessing import StandardScaler\n",
    "from sklearn.metrics import confusion_matrix, accuracy_score\n",
    "\n",
    "import sklearn\n",
    "%matplotlib inline\n",
    "\n",
    "import tensorflow.compat.v1 as tf\n",
    "#tf.Session()\n",
    "\n",
    "import warnings\n",
    "warnings.filterwarnings(\"ignore\")\n"
   ]
  },
  {
   "cell_type": "code",
   "execution_count": 2,
   "metadata": {},
   "outputs": [],
   "source": [
    "# Check the TF version\n",
    "#print(tf.__version__)"
   ]
  },
  {
   "cell_type": "code",
   "execution_count": 3,
   "metadata": {},
   "outputs": [],
   "source": [
    "a = tf.constant(10.0,dtype=tf.float32)\n",
    "b = tf.constant(4.0,dtype=tf.float32)\n",
    "add = a + b\n",
    "subtract = a - b\n",
    "mult = tf.multiply(a,b)\n",
    "mult2 = a*b"
   ]
  },
  {
   "cell_type": "code",
   "execution_count": 4,
   "metadata": {},
   "outputs": [
    {
     "name": "stdout",
     "output_type": "stream",
     "text": [
      "tf.Tensor(14.0, shape=(), dtype=float32)\n",
      "tf.Tensor(6.0, shape=(), dtype=float32)\n",
      "tf.Tensor(40.0, shape=(), dtype=float32)\n",
      "tf.Tensor(40.0, shape=(), dtype=float32)\n"
     ]
    }
   ],
   "source": [
    "print(add)\n",
    "print(subtract)\n",
    "print(mult)\n",
    "print(mult2)"
   ]
  },
  {
   "cell_type": "code",
   "execution_count": 5,
   "metadata": {},
   "outputs": [],
   "source": [
    "hello = tf.constant(\"Hello world! Homework TF is here, Module 02\")"
   ]
  },
  {
   "cell_type": "code",
   "execution_count": 6,
   "metadata": {},
   "outputs": [
    {
     "name": "stdout",
     "output_type": "stream",
     "text": [
      "tf.Tensor(b'Hello world! Homework TF is here, Module 02', shape=(), dtype=string)\n"
     ]
    }
   ],
   "source": [
    "print(hello)"
   ]
  },
  {
   "cell_type": "code",
   "execution_count": 7,
   "metadata": {},
   "outputs": [
    {
     "name": "stdout",
     "output_type": "stream",
     "text": [
      "15.0\n",
      "5.0\n",
      "50.0\n",
      "50.0\n",
      "add  15.0\n",
      "sub  5.0\n",
      "mult1  50.0\n",
      "mult2  50.0\n"
     ]
    }
   ],
   "source": [
    "with tf.Session() as sess:\n",
    "    a = tf.constant(10.0,dtype=tf.float32)\n",
    "    b = tf.constant(5.0,dtype=tf.float32)\n",
    "    add = a + b\n",
    "    subtract = a - b\n",
    "    mult = tf.multiply(a,b)\n",
    "    mult2 = a*b\n",
    "    \n",
    "    print(sess.run(add))\n",
    "    print(sess.run(subtract))\n",
    "    print(sess.run(mult))\n",
    "    print(sess.run(mult2))\n",
    "    \n",
    "    output1 = sess.run(add)\n",
    "    output2 = sess.run(subtract)\n",
    "    output3 = sess.run(mult)\n",
    "    output4 = sess.run(mult2)\n",
    "    \n",
    "print('add ', output1)\n",
    "print('sub ', output2)\n",
    "print('mult1 ', output3)\n",
    "print('mult2 ', output4)\n",
    "\n",
    "sess.close()"
   ]
  },
  {
   "cell_type": "code",
   "execution_count": 8,
   "metadata": {},
   "outputs": [
    {
     "name": "stdout",
     "output_type": "stream",
     "text": [
      "[80.]\n"
     ]
    }
   ],
   "source": [
    "#y=m*x+c, feed scalar value to x:\n",
    "\n",
    "with tf.Session() as sess:\n",
    "    \n",
    "    m = tf.Variable(5.0, tf.float64)\n",
    "    c = tf.Variable(30.0, tf.float64)\n",
    "    x = tf.placeholder(tf.float32)\n",
    "    y = m * x + c\n",
    "    \n",
    "    i = tf.global_variables_initializer()\n",
    "    sess.run(i)\n",
    "    print(sess.run(y, feed_dict={x: [10]}))\n",
    "    \n",
    "sess.close()\n",
    "\n",
    "#verify: 5*10+30 = 50 + 30 = 80"
   ]
  },
  {
   "cell_type": "code",
   "execution_count": 9,
   "metadata": {},
   "outputs": [
    {
     "name": "stdout",
     "output_type": "stream",
     "text": [
      "[ 80. 130. 180. 230. 280.]\n"
     ]
    }
   ],
   "source": [
    "\n",
    "with tf.Session() as sess:\n",
    "    \n",
    "    m = tf.Variable(5.0, tf.float64)\n",
    "    c = tf.Variable(30.0, tf.float64)\n",
    "    x = tf.placeholder(tf.float32)\n",
    "    y = m * x + c\n",
    "    \n",
    "    i = tf.global_variables_initializer()\n",
    "    sess.run(i)\n",
    "    print(sess.run(y, feed_dict={x: [10, 20, 30, 40, 50]}))\n",
    "    \n",
    "sess.close()\n",
    "\n",
    "#verify: 5*10+30 = 50 + 30 = 80\n",
    "#verify: 5*20+30 = 100 + 30 = 130\n",
    "#verify: 5*30+30 = 510 + 30 = 180\n",
    "#verify: 5*40+30 = 200 + 30 = 230\n",
    "#verify: 5*50+30 = 250 + 30 = 280"
   ]
  },
  {
   "cell_type": "code",
   "execution_count": 10,
   "metadata": {},
   "outputs": [
    {
     "data": {
      "text/plain": [
       "(0.0, 400.0)"
      ]
     },
     "execution_count": 10,
     "metadata": {},
     "output_type": "execute_result"
    },
    {
     "data": {
      "image/png": "[encoded data removed]",
      "text/plain": [
       "<Figure size 432x288 with 1 Axes>"
      ]
     },
     "metadata": {
      "needs_background": "light"
     },
     "output_type": "display_data"
    }
   ],
   "source": [
    "x = [10, 20, 30, 40, 50]\n",
    "y = [80., 130., 180., 230., 280.]\n",
    "plt.plot(x,y)\n",
    "plt.xlim(0, 100)\n",
    "plt.ylim(0, 400)"
   ]
  },
  {
   "cell_type": "code",
   "execution_count": null,
   "metadata": {},
   "outputs": [],
   "source": []
  },
  {
   "cell_type": "code",
   "execution_count": 11,
   "metadata": {},
   "outputs": [
    {
     "data": {
      "text/plain": [
       "(0.0, 400.0)"
      ]
     },
     "execution_count": 11,
     "metadata": {},
     "output_type": "execute_result"
    },
    {
     "data": {
      "image/png": "[encoded data removed]",
      "text/plain": [
       "<Figure size 432x288 with 1 Axes>"
      ]
     },
     "metadata": {
      "needs_background": "light"
     },
     "output_type": "display_data"
    }
   ],
   "source": [
    "import numpy as np\n",
    "import matplotlib.pyplot as plt\n",
    "\n",
    "x = [10, 20, 30, 40, 50]\n",
    "y = [80., 130., 180., 230., 280.]\n",
    "\n",
    "coef = np.polyfit(x,y,1)\n",
    "poly1d_fn = np.poly1d(coef) \n",
    "# poly1d_fn is now a function which takes in x and returns an estimate for y\n",
    "\n",
    "plt.plot(x,y, 'yo', x, poly1d_fn(x), '--k') \n",
    "#'--k'=black dashed line, 'yo' = yellow circle marker\n",
    "\n",
    "plt.xlim(0, 100)\n",
    "plt.ylim(0, 400)"
   ]
  },
  {
   "cell_type": "code",
   "execution_count": 12,
   "metadata": {},
   "outputs": [],
   "source": [
    "# multi_variable equation:\n",
    "\n",
    "x1=np.random.randint(3, 12,10)\n",
    "x2=np.random.randint(9, 18,10)\n",
    "x3=np.random.randint(12, 20,10)\n",
    "y=x1*7+x2*5+x3*4"
   ]
  },
  {
   "cell_type": "code",
   "execution_count": 18,
   "metadata": {},
   "outputs": [
    {
     "data": {
      "text/plain": [
       "(array([ 8,  9, 10,  4,  4, 10,  4,  9,  4,  3]),\n",
       " array([15,  9, 16, 17,  9, 13, 16, 17, 10, 11]),\n",
       " array([17, 19, 14, 12, 15, 16, 12, 17, 17, 13]))"
      ]
     },
     "execution_count": 18,
     "metadata": {},
     "output_type": "execute_result"
    }
   ],
   "source": [
    "x1, x2, x3"
   ]
  },
  {
   "cell_type": "code",
   "execution_count": 19,
   "metadata": {},
   "outputs": [
    {
     "data": {
      "text/plain": [
       "(10,)"
      ]
     },
     "execution_count": 19,
     "metadata": {},
     "output_type": "execute_result"
    }
   ],
   "source": [
    "x1.shape"
   ]
  },
  {
   "cell_type": "code",
   "execution_count": 20,
   "metadata": {},
   "outputs": [
    {
     "data": {
      "text/plain": [
       "(10,)"
      ]
     },
     "execution_count": 20,
     "metadata": {},
     "output_type": "execute_result"
    }
   ],
   "source": [
    "y.shape"
   ]
  },
  {
   "cell_type": "code",
   "execution_count": 21,
   "metadata": {},
   "outputs": [
    {
     "data": {
      "text/plain": [
       "10"
      ]
     },
     "execution_count": 21,
     "metadata": {},
     "output_type": "execute_result"
    }
   ],
   "source": [
    "x1.shape[0]"
   ]
  },
  {
   "cell_type": "code",
   "execution_count": 22,
   "metadata": {},
   "outputs": [],
   "source": [
    "SHAPE = x1.shape[0]"
   ]
  },
  {
   "cell_type": "code",
   "execution_count": 24,
   "metadata": {},
   "outputs": [
    {
     "data": {
      "text/plain": [
       "array([[199],\n",
       "       [184],\n",
       "       [206],\n",
       "       [161],\n",
       "       [133],\n",
       "       [199],\n",
       "       [156],\n",
       "       [216],\n",
       "       [146],\n",
       "       [128]])"
      ]
     },
     "execution_count": 24,
     "metadata": {},
     "output_type": "execute_result"
    }
   ],
   "source": [
    "y=y.reshape(SHAPE,1)\n",
    "y"
   ]
  },
  {
   "cell_type": "code",
   "execution_count": 25,
   "metadata": {},
   "outputs": [
    {
     "data": {
      "text/plain": [
       "array([[ 8,  9, 10,  4,  4, 10,  4,  9,  4,  3],\n",
       "       [15,  9, 16, 17,  9, 13, 16, 17, 10, 11],\n",
       "       [17, 19, 14, 12, 15, 16, 12, 17, 17, 13]])"
      ]
     },
     "execution_count": 25,
     "metadata": {},
     "output_type": "execute_result"
    }
   ],
   "source": [
    "X=np.array([x1, x2, x3])\n",
    "X"
   ]
  },
  {
   "cell_type": "code",
   "execution_count": 28,
   "metadata": {},
   "outputs": [
    {
     "data": {
      "text/plain": [
       "array([[ 8, 15, 17],\n",
       "       [ 9,  9, 19],\n",
       "       [10, 16, 14],\n",
       "       [ 4, 17, 12],\n",
       "       [ 4,  9, 15],\n",
       "       [10, 13, 16],\n",
       "       [ 4, 16, 12],\n",
       "       [ 9, 17, 17],\n",
       "       [ 4, 10, 17],\n",
       "       [ 3, 11, 13]])"
      ]
     },
     "execution_count": 28,
     "metadata": {},
     "output_type": "execute_result"
    }
   ],
   "source": [
    "X=X.T\n",
    "X"
   ]
  },
  {
   "cell_type": "code",
   "execution_count": 30,
   "metadata": {},
   "outputs": [
    {
     "data": {
      "text/plain": [
       "array([[1.40639865],\n",
       "       [0.35205562],\n",
       "       [0.20438608]])"
      ]
     },
     "execution_count": 30,
     "metadata": {},
     "output_type": "execute_result"
    }
   ],
   "source": [
    "#we set learning rate (lr) to be 0.0001\n",
    "\n",
    "lr = 0.0001\n",
    "\n",
    "# generate 1 random number:\n",
    "\n",
    "\n",
    "w=np.array([np.random.randn(1),\n",
    "           np.random.randn(1),\n",
    "           np.random.randn(1)])\n",
    "w"
   ]
  },
  {
   "cell_type": "code",
   "execution_count": 32,
   "metadata": {},
   "outputs": [
    {
     "name": "stdout",
     "output_type": "stream",
     "text": [
      "value of w1 -  6.243956329170588 value of w2 -  4.062120046279551 value of w3 -  4.383567615260255 [[24079.6100014 ]\n",
      " [18905.1652102 ]\n",
      " [23614.47772168]\n",
      " [18232.60154669]\n",
      " [11931.50697498]\n",
      " [21702.42323771]\n",
      " [16998.99826368]\n",
      " [27918.52754721]\n",
      " [14755.10906369]\n",
      " [11733.15008725]]\n",
      "value of w1 -  6.406936305245635 value of w2 -  4.3934075263389385 value of w3 -  4.7305206064344905 [[184.84847541]\n",
      " [ 63.32225077]\n",
      " [295.72199755]\n",
      " [206.36249092]\n",
      " [ 32.62214653]\n",
      " [185.3898534 ]\n",
      " [180.29621369]\n",
      " [263.33833788]\n",
      " [ 34.6017446 ]\n",
      " [ 57.73616134]]\n",
      "value of w1 -  6.424026413743632 value of w2 -  4.433988124493287 value of w3 -  4.748308626913414 [[ 2.02933231]\n",
      " [ 9.50480272]\n",
      " [29.25542072]\n",
      " [15.35134739]\n",
      " [ 9.77326433]\n",
      " [ 4.52842402]\n",
      " [10.96594668]\n",
      " [10.4380363 ]\n",
      " [15.84573997]\n",
      " [ 1.09214954]]\n",
      "value of w1 -  6.428588734550221 value of w2 -  4.449307788337949 value of w3 -  4.738037756134343 [[ 0.14191808]\n",
      " [15.52355867]\n",
      " [18.83217237]\n",
      " [ 8.68122998]\n",
      " [14.64308322]\n",
      " [ 1.31091557]\n",
      " [ 5.6662129 ]\n",
      " [ 4.34604706]\n",
      " [22.63127112]\n",
      " [ 3.14693678]]\n",
      "value of w1 -  6.432085575401206 value of w2 -  4.462189419664474 value of w3 -  4.7255851037313334 [[ 0.08124292]\n",
      " [15.39609714]\n",
      " [17.57839331]\n",
      " [ 7.78945541]\n",
      " [14.65887765]\n",
      " [ 1.13317581]\n",
      " [ 5.01879791]\n",
      " [ 3.83308708]\n",
      " [22.60122602]\n",
      " [ 3.32202643]]\n",
      "value of w1 -  6.435501195472122 value of w2 -  4.474600755209929 value of w3 -  4.713170165091171 [[ 0.07591531]\n",
      " [14.70409524]\n",
      " [17.023233  ]\n",
      " [ 7.33010313]\n",
      " [14.22665353]\n",
      " [ 1.12640042]\n",
      " [ 4.70718906]\n",
      " [ 3.6828025 ]\n",
      " [21.9509422 ]\n",
      " [ 3.2867757 ]]\n",
      "value of w1 -  6.4389192267141935 value of w2 -  4.4867167618766715 value of w3 -  4.700979013783912 [[ 0.07457613]\n",
      " [13.99620851]\n",
      " [16.54043735]\n",
      " [ 6.92605752]\n",
      " [13.77125422]\n",
      " [ 1.13306569]\n",
      " [ 4.43667306]\n",
      " [ 3.5659926 ]\n",
      " [21.26966903]\n",
      " [ 3.23396935]]\n",
      "value of w1 -  6.442345914815758 value of w2 -  4.498558176574757 value of w3 -  4.6890230393073775 [[ 0.07357739]\n",
      " [13.31757412]\n",
      " [16.0771596 ]\n",
      " [ 6.54535927]\n",
      " [13.32843535]\n",
      " [ 1.14025153]\n",
      " [ 4.18246157]\n",
      " [ 3.45550465]\n",
      " [20.60694912]\n",
      " [ 3.18040585]]\n",
      "value of w1 -  6.445780881421124 value of w2 -  4.5101323522671555 value of w3 -  4.6772987154552 [[ 0.0726132 ]\n",
      " [12.67057111]\n",
      " [15.62848187]\n",
      " [ 6.18442724]\n",
      " [12.90068845]\n",
      " [ 1.14686092]\n",
      " [ 3.94184907]\n",
      " [ 3.34892231]\n",
      " [19.96621511]\n",
      " [ 3.1275116 ]]\n",
      "value of w1 -  6.449223205921875 value of w2 -  4.5214453674248 value of w3 -  4.66580133126262 [[ 0.07165767]\n",
      " [12.05405279]\n",
      " [15.1935584 ]\n",
      " [ 5.84209155]\n",
      " [12.48771013]\n",
      " [ 1.1528127 ]\n",
      " [ 3.7140006 ]\n",
      " [ 3.2459208 ]\n",
      " [19.34702403]\n",
      " [ 3.07539993]]\n",
      "value of w1 -  6.452671947560351 value of w2 -  4.532503069671432 value of w3 -  4.654526169133987 [[ 0.07070877]\n",
      " [11.46663796]\n",
      " [14.77190362]\n",
      " [ 5.51742495]\n",
      " [12.08898033]\n",
      " [ 1.1581136 ]\n",
      " [ 3.49826644]\n",
      " [ 3.14635675]\n",
      " [18.74863266]\n",
      " [ 3.02407219]]\n",
      "value of w1 -  6.45612618965717 value of w2 -  4.543311168188784 value of w3 -  4.64346860402108 [[ 0.06976651]\n",
      " [10.90698425]\n",
      " [14.36307703]\n",
      " [ 5.20955972]\n",
      " [11.70397963]\n",
      " [ 1.16277815]\n",
      " [ 3.29404011]\n",
      " [ 3.05010651]\n",
      " [18.17029894]\n",
      " [ 2.97352021]]\n",
      "value of w1 -  6.459585042777257 value of w2 -  4.553875244296579 value of w3 -  4.63262410990489 [[ 0.06883103]\n",
      " [10.37380835]\n",
      " [13.96665604]\n",
      " [ 4.91767052]\n",
      " [11.33220684]\n",
      " [ 1.16682178]\n",
      " [ 3.10074522]\n",
      " [ 2.95705224]\n",
      " [17.61130643]\n",
      " [ 2.923735  ]]\n",
      "value of w1 -  6.463047644381051 value of w2 -  4.564200754940535 value of w3 -  4.621988258354696 [[ 0.06790252]\n",
      " [ 9.86588522]\n",
      " [13.58223305]\n",
      " [ 4.64097125]\n",
      " [10.97317975]\n",
      " [ 1.17026017]\n",
      " [ 2.91783314]\n",
      " [ 2.86708064]\n",
      " [17.0709654 ]\n",
      " [ 2.87470751]]\n",
      "value of w1 -  6.4665131581879765 value of w2 -  4.5742930355134535 value of w3 -  4.611556716450254 [[ 0.06698113]\n",
      " [ 9.38204559]\n",
      " [13.20941478]\n",
      " [ 4.37871314]\n",
      " [10.62643456]\n",
      " [ 1.17310909]\n",
      " [ 2.74478161]\n",
      " [ 2.78008262]\n",
      " [16.54861195]\n",
      " [ 2.82642872]]\n",
      "value of w1 -  6.469980773529213 value of w2 -  4.584157302562967 value of w3 -  4.601325244692437 [[ 0.066067  ]\n",
      " [ 8.9211735 ]\n",
      " [12.8478217 ]\n",
      " [ 4.130183  ]\n",
      " [10.29152513]\n",
      " [ 1.17538446]\n",
      " [ 2.58109352]\n",
      " [ 2.69595315]\n",
      " [16.04360701]\n",
      " [ 2.7788896 ]]\n",
      "value of w1 -  6.473449704713279 value of w2 -  4.593798656434756 value of w3 -  4.591289694955079 [[ 0.06516028]\n",
      " [ 8.48220385]\n",
      " [12.49708754]\n",
      " [ 3.89470156]\n",
      " [ 9.96802226]\n",
      " [ 1.17710222]\n",
      " [ 2.42629573]\n",
      " [ 2.61459112]\n",
      " [15.55533541]\n",
      " [ 2.73208115]]\n",
      "value of w1 -  6.476919190406133 value of w2 -  4.6032220838566555 value of w3 -  4.581446008481643 [[ 0.06426108]\n",
      " [ 8.06412017]\n",
      " [12.15685877]\n",
      " [ 3.67162194]\n",
      " [ 9.6555131 ]\n",
      " [ 1.17827834]\n",
      " [ 2.27993795]\n",
      " [ 2.53589918]\n",
      " [15.0832049 ]\n",
      " [ 2.68599442]]\n",
      "value of w1 -  6.480388493025629 value of w2 -  4.612432460465305 value of w3 -  4.571790213926099 [[ 0.06336954]\n",
      " [ 7.66595236]\n",
      " [11.82679415]\n",
      " [ 3.46032808]\n",
      " [ 9.35360041]\n",
      " [ 1.17892878]\n",
      " [ 2.14159164]\n",
      " [ 2.45978357]\n",
      " [14.62664532]\n",
      " [ 2.64062046]]\n",
      "value of w1 -  6.483856898150032 value of w2 -  4.621434553276651 value of w3 -  4.562318425437081 [[ 0.06248576]\n",
      " [ 7.28677465]\n",
      " [11.5065643 ]\n",
      " [ 3.26023337]\n",
      " [ 9.06190203]\n",
      " [ 1.17906949]\n",
      " [ 2.01084905]\n",
      " [ 2.386154  ]\n",
      " [14.18510769]\n",
      " [ 2.59595038]]\n",
      "value of w1 -  6.487323713940265 value of w2 -  4.630233023101548 value of w3 -  4.553026840784345 [[ 0.06160983]\n",
      " [ 6.92570355]\n",
      " [11.19585125]\n",
      " [ 3.07077923]\n",
      " [ 8.78005023]\n",
      " [ 1.1787163 ]\n",
      " [ 1.88732218]\n",
      " [ 2.31492354]\n",
      " [13.75806344]\n",
      " [ 2.55197529]]\n",
      "value of w1 -  6.4907882705755755 value of w2 -  4.638832426907677 value of w3 -  4.543911739526606 [[ 0.06074187]\n",
      " [ 6.58189599]\n",
      " [10.89434799]\n",
      " [ 2.89143383]\n",
      " [ 8.50769118]\n",
      " [ 1.17788501]\n",
      " [ 1.77064189]\n",
      " [ 2.24600844]\n",
      " [13.34500357]\n",
      " [ 2.50868639]]\n",
      "value of w1 -  6.494249919702331 value of w2 -  4.6472372201289796 value of w3 -  4.534969481219838 [[ 0.05988194]\n",
      " [ 6.25454747]\n",
      " [10.60175813]\n",
      " [ 2.72169085]\n",
      " [ 8.24448438]\n",
      " [ 1.17659125]\n",
      " [ 1.66045701]\n",
      " [ 2.17932804]\n",
      " [12.94543794]\n",
      " [ 2.46607488]]\n",
      "value of w1 -  6.497708033895631 value of w2 -  4.655451758923767 value of w3 -  4.52619650366513 [[ 0.05903013]\n",
      " [ 5.9428903 ]\n",
      " [10.31779548]\n",
      " [ 2.56106829]\n",
      " [ 7.99010217]\n",
      " [ 1.17485057]\n",
      " [ 1.55643346]\n",
      " [ 2.11480467]\n",
      " [12.55889452]\n",
      " [ 2.42413203]]\n",
      "value of w1 -  6.5011620061334545 value of w2 -  4.663480302382651 value of w3 -  4.517589321195232 [[ 0.0581865 ]\n",
      " [ 5.64619197]\n",
      " [10.04218368]\n",
      " [ 2.40910728]\n",
      " [ 7.74422919]\n",
      " [ 1.17267834]\n",
      " [ 1.45825351]\n",
      " [ 2.05236348]\n",
      " [12.18491868]\n",
      " [ 2.38284914]]\n",
      "value of w1 -  6.504611249283062 value of w2 -  4.671327014687407 value of w3 -  4.509144522998928 [[ 0.05735113]\n",
      " [ 5.36375354]\n",
      " [ 9.77465586]\n",
      " [ 2.2653711 ]\n",
      " [ 7.50656193]\n",
      " [ 1.17008975]\n",
      " [ 1.36561494]\n",
      " [ 1.99193238]\n",
      " [11.82307256]\n",
      " [ 2.34221758]]\n",
      "value of w1 -  6.508055195599361 value of w2 -  4.678995967221854 value of w3 -  4.500858771482394 [[ 0.05652406]\n",
      " [ 5.09490811]\n",
      " [ 9.51495427]\n",
      " [ 2.12944406]\n",
      " [ 7.27680823]\n",
      " [ 1.16709983]\n",
      " [ 1.27823034]\n",
      " [ 1.9334419 ]\n",
      " [11.47293439]\n",
      " [ 2.30222875]]\n",
      "value of w1 -  6.5114932962349785 value of w2 -  4.686491140635837 value of w3 -  4.49272880066674 [[ 0.05570535]\n",
      " [ 4.83901939]\n",
      " [ 9.26282997]\n",
      " [ 2.00093053]\n",
      " [ 7.05468691]\n",
      " [ 1.16372341]\n",
      " [ 1.19582642]\n",
      " [ 1.87682515]\n",
      " [11.1340979 ]\n",
      " [ 2.26287413]]\n",
      "value of w1 -  6.51492502076177 value of w2 -  4.693816426863329 value of w3 -  4.484751414620905 [[ 0.05489504]\n",
      " [ 4.59548032]\n",
      " [ 9.0180425 ]\n",
      " [ 1.87945404]\n",
      " [ 6.83992727]\n",
      " [ 1.15997509]\n",
      " [ 1.11814331]\n",
      " [ 1.82201763]\n",
      " [10.80617168]\n",
      " [ 2.22414524]]\n",
      "value of w1 -  6.518349856703499 value of w2 -  4.700975631095685 value of w3 -  4.476923485929154 [[ 0.05409317]\n",
      " [ 4.36371171]\n",
      " [ 8.78035961]\n",
      " [ 1.76465635]\n",
      " [ 6.63226869]\n",
      " [ 1.15586927]\n",
      " [ 1.04493396]\n",
      " [ 1.76895721]\n",
      " [10.48877869]\n",
      " [ 2.18603366]]\n",
      "value of w1 -  6.521767309079449 value of w2 -  4.707972473711047 value of w3 -  4.469241954192384 [[ 0.05329977]\n",
      " [ 4.14316101]\n",
      " [ 8.54955689]\n",
      " [ 1.65619658]\n",
      " [ 6.43146031]\n",
      " [ 1.15142011]\n",
      " [ 0.97596349]\n",
      " [ 1.71758403]\n",
      " [10.18155562]\n",
      " [ 2.14853103]]\n",
      "value of w1 -  6.525176899958702 value of w2 -  4.714810592160872 value of w3 -  4.461703824562508 [[0.05251486]\n",
      " [3.93330109]\n",
      " [8.32541758]\n",
      " [1.55375043]\n",
      " [6.23726056]\n",
      " [1.14664152]\n",
      " [0.91100866]\n",
      " [1.66784037]\n",
      " [9.88415245]\n",
      " [2.11162906]]\n",
      "value of w1 -  6.52857816802486 value of w2 -  4.721493542814522 value of w3 -  4.45430616630917 [[0.05173846]\n",
      " [3.73362908]\n",
      " [8.10773222]\n",
      " [1.45700939]\n",
      " [6.04943686]\n",
      " [1.14154717]\n",
      " [0.84985726]\n",
      " [1.61967064]\n",
      " [9.59623188]\n",
      " [2.07531952]]\n",
      "value of w1 -  6.531970668150953 value of w2 -  4.728024802762867 value of w3 -  4.447046111418089 [[0.0509706 ]\n",
      " [3.54366528]\n",
      " [7.89629842]\n",
      " [1.36567996]\n",
      " [5.86776524]\n",
      " [1.13615049]\n",
      " [0.79230765]\n",
      " [1.57302123]\n",
      " [9.31746887]\n",
      " [2.03959425]]\n",
      "value of w1 -  6.535353970984319 value of w2 -  4.734407771581811 value of w3 -  4.439920853220325 [[0.05021127]\n",
      " [3.36295211]\n",
      " [7.69092063]\n",
      " [1.279483  ]\n",
      " [5.69203004]\n",
      " [1.13046462]\n",
      " [0.73816819]\n",
      " [1.52784048]\n",
      " [9.04755021]\n",
      " [2.00444514]]\n",
      "value of w1 -  6.538727662541225 value of w2 -  4.740645773056604 value of w3 -  4.432927645051775 [[0.04946049]\n",
      " [3.19105309]\n",
      " [7.49140986]\n",
      " [1.19815301]\n",
      " [5.52202355]\n",
      " [1.12450247]\n",
      " [0.6872568 ]\n",
      " [1.48407858]\n",
      " [8.78617399]\n",
      " [1.96986416]]\n",
      "value of w1 -  6.542091343810998 value of w2 -  4.746742056867855 value of w3 -  4.426063798942242 [[0.04871826]\n",
      " [3.02755189]\n",
      " [7.29758344]\n",
      " [1.12143751]\n",
      " [5.35754575]\n",
      " [1.11827665]\n",
      " [0.63940052]\n",
      " [1.44168752]\n",
      " [8.53304924]\n",
      " [1.93584335]]\n",
      "value of w1 -  6.5454446303694676 value of w2 -  4.75269980024005 value of w3 -  4.419326684333417 [[0.04798457]\n",
      " [2.87205143]\n",
      " [7.10926483]\n",
      " [1.0490964 ]\n",
      " [5.19840397]\n",
      " [1.11179951]\n",
      " [0.59443503]\n",
      " [1.40062102]\n",
      " [8.28789551]\n",
      " [1.90237482]]\n",
      "value of w1 -  6.548787152001489 value of w2 -  4.758522109553453 value of w3 -  4.41271372682513 [[0.04725942]\n",
      " [2.72417295]\n",
      " [6.9262834 ]\n",
      " [0.9809014 ]\n",
      " [5.04441263]\n",
      " [1.10508313]\n",
      " [0.55220424]\n",
      " [1.36083444]\n",
      " [8.05044242]\n",
      " [1.86945074]]\n",
      "value of w1 -  6.552118552332358 value of w2 -  4.764212021920163 value of w3 -  4.406222406949249 [[0.04654279]\n",
      " [2.58355526]\n",
      " [6.74847419]\n",
      " [0.91663545]\n",
      " [4.89539297]\n",
      " [1.09813932]\n",
      " [0.51255994]\n",
      " [1.32228476]\n",
      " [7.82042936]\n",
      " [1.83706337]]\n",
      "value of w1 -  6.555438488467903 value of w2 -  4.769772506725156 value of w3 -  4.3998502589706145 [[0.04583467]\n",
      " [2.44985386]\n",
      " [6.57567772]\n",
      " [0.85609225]\n",
      " [4.75117279]\n",
      " [1.09097958]\n",
      " [0.47536137]\n",
      " [1.28493047]\n",
      " [7.59760505]\n",
      " [1.80520504]]\n",
      "value of w1 -  6.558746630643066 value of w2 -  4.775206467133065 value of w3 -  4.3935948697144065 [[0.04513504]\n",
      " [2.32274022]\n",
      " [6.40773982]\n",
      " [0.79907567]\n",
      " [4.61158617]\n",
      " [1.08361518]\n",
      " [0.4404749 ]\n",
      " [1.24873157]\n",
      " [7.38172723]\n",
      " [1.77386812]]\n",
      "value of w1 -  6.562042661878768 value of w2 -  4.780516741561479 value of w3 -  4.387453877419363 [[0.04444388]\n",
      " [2.20190106]\n",
      " [6.24451142]\n",
      " [0.7453993 ]\n",
      " [4.47647327]\n",
      " [1.07605707]\n",
      " [0.40777365]\n",
      " [1.21364946]\n",
      " [7.1725623 ]\n",
      " [1.74304511]]\n",
      "value of w1 -  6.565326277646883 value of w2 -  4.785706105121491 value of w3 -  4.381424970616279 [[0.04376115]\n",
      " [2.08703761]\n",
      " [6.08584838]\n",
      " [0.69488599]\n",
      " [4.34568008]\n",
      " [1.06831594]\n",
      " [0.37713718]\n",
      " [1.17964692]\n",
      " [6.96988501]\n",
      " [1.71272854]]\n",
      "value of w1 -  6.56859718554313 value of w2 -  4.790777271026226 value of w3 -  4.375505887031219 [[0.04308684]\n",
      " [1.97786501]\n",
      " [5.93161131]\n",
      " [0.64736741]\n",
      " [4.2190582 ]\n",
      " [1.06040221]\n",
      " [0.34845121]\n",
      " [1.14668805]\n",
      " [6.77347816]\n",
      " [1.68291103]]\n",
      "value of w1 -  6.571855104967696 value of w2 -  4.7957328919680675 value of w3 -  4.369694412512904 [[0.04242091]\n",
      " [1.87411161]\n",
      " [5.78166541]\n",
      " [0.60268362]\n",
      " [4.09646463]\n",
      " [1.05232602]\n",
      " [0.32160726]\n",
      " [1.11473823]\n",
      " [6.58313224]\n",
      " [1.65358528]]\n",
      "value of w1 -  6.575099766813432 value of w2 -  4.800575561465271 value of w3 -  4.363988379983733 [[0.04176332]\n",
      " [1.77551843]\n",
      " [5.63588029]\n",
      " [0.56068267]\n",
      " [3.97776154]\n",
      " [1.04409722]\n",
      " [0.29650242]\n",
      " [1.08376403]\n",
      " [6.39864522]\n",
      " [1.62474407]]\n",
      "value of w1 -  6.578330913161427 value of w2 -  4.805307815178639 value of w3 -  4.358385668413919 [[0.04111404]\n",
      " [1.68183853]\n",
      " [5.49412986]\n",
      " [0.52122022]\n",
      " [3.86281611]\n",
      " [1.03572541]\n",
      " [0.27303905]\n",
      " [1.05373324]\n",
      " [6.21982222]\n",
      " [1.59638024]]\n",
      "value of w1 -  6.58154829698381 value of w2 -  4.809932132198941 value of w3 -  4.352884201818222 [[0.04047303]\n",
      " [1.59283647]\n",
      " [5.35629215]\n",
      " [0.48415917]\n",
      " [3.75150032]\n",
      " [1.0272199 ]\n",
      " [0.25112455]\n",
      " [1.02461476]\n",
      " [6.04647527]\n",
      " [1.56848671]]\n",
      "value of w1 -  6.5847516818536045 value of w2 -  4.814450936305706 value of w3 -  4.347481948274789 [[0.03984024]\n",
      " [1.50828782]\n",
      " [5.22224914]\n",
      " [0.44936931]\n",
      " [3.64369078]\n",
      " [1.01858977]\n",
      " [0.23067106]\n",
      " [0.99637858]\n",
      " [5.87842302]\n",
      " [1.5410565 ]]\n"
     ]
    }
   ],
   "source": [
    "error_list = []\n",
    "\n",
    "for i in range(50):\n",
    "    y_pred = np.matmul(X, w)\n",
    "    error = (y - y_pred)**2\n",
    "    dEw1 = 2*np.matmul((y - y_pred).T, (-X[:, 0].reshape(SHAPE,1)))\n",
    "    dEw2 = 2*np.matmul((y - y_pred).T, (-X[:, 1].reshape(SHAPE,1)))\n",
    "    dEw3 = 2*np.matmul((y - y_pred).T, (-X[:, 2].reshape(SHAPE,1)))\n",
    "    \n",
    "    w[0][0] = w[0][0] - lr * dEw1\n",
    "    w[1][0] = w[1][0] - lr * dEw2\n",
    "    w[2][0] = w[2][0] - lr * dEw3\n",
    "    \n",
    "    error_list.append(error.mean())\n",
    "    print('value of w1 - ', w[0][0], \n",
    "          'value of w2 - ', w[1][0], \n",
    "          'value of w3 - ', w[2][0], error)"
   ]
  },
  {
   "cell_type": "code",
   "execution_count": 33,
   "metadata": {},
   "outputs": [
    {
     "data": {
      "text/plain": [
       "[<matplotlib.lines.Line2D at 0x7fb06ae9fd60>]"
      ]
     },
     "execution_count": 33,
     "metadata": {},
     "output_type": "execute_result"
    },
    {
     "data": {
      "image/png": "[encoded data removed]",
      "text/plain": [
       "<Figure size 432x288 with 1 Axes>"
      ]
     },
     "metadata": {
      "needs_background": "light"
     },
     "output_type": "display_data"
    }
   ],
   "source": [
    "plt.plot(error_list)"
   ]
  },
  {
   "cell_type": "code",
   "execution_count": null,
   "metadata": {},
   "outputs": [],
   "source": []
  },
  {
   "cell_type": "code",
   "execution_count": null,
   "metadata": {},
   "outputs": [],
   "source": []
  },
  {
   "cell_type": "code",
   "execution_count": null,
   "metadata": {},
   "outputs": [],
   "source": []
  },
  {
   "cell_type": "code",
   "execution_count": null,
   "metadata": {},
   "outputs": [],
   "source": []
  }
 ],
 "metadata": {
  "colab": {
   "authorship_tag": "ABX9TyN/wBa64zPEsVW1nNEJBUYF",
   "collapsed_sections": [],
   "provenance": []
  },
  "kernelspec": {
   "display_name": "Python 3",
   "language": "python",
   "name": "python3"
  },
  "language_info": {
   "codemirror_mode": {
    "name": "ipython",
    "version": 3
   },
   "file_extension": ".py",
   "mimetype": "text/x-python",
   "name": "python",
   "nbconvert_exporter": "python",
   "pygments_lexer": "ipython3",
   "version": "3.8.12"
  }
 },
 "nbformat": 4,
 "nbformat_minor": 4
}
