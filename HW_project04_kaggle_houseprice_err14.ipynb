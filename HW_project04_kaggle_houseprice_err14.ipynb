{
 "cells": [
  {
   "cell_type": "code",
   "execution_count": 1,
   "metadata": {
    "executionInfo": {
     "elapsed": 10,
     "status": "ok",
     "timestamp": 1665327427202,
     "user": {
      "displayName": "shaik azar",
      "userId": "05209245971384166097"
     },
     "user_tz": -330
    },
    "id": "8qtNdNTGPSxh"
   },
   "outputs": [],
   "source": [
    "import tensorflow as tf\n",
    "import keras\n",
    "import pandas as pd\n",
    "import numpy as np\n",
    "import matplotlib.pyplot as plt"
   ]
  },
  {
   "cell_type": "code",
   "execution_count": 2,
   "metadata": {
    "executionInfo": {
     "elapsed": 4,
     "status": "ok",
     "timestamp": 1665329164058,
     "user": {
      "displayName": "shaik azar",
      "userId": "05209245971384166097"
     },
     "user_tz": -330
    },
    "id": "Z7p71Nq6PxEh"
   },
   "outputs": [],
   "source": [
    "data = pd.read_csv(\"~/datacsv/HousingData.csv\")"
   ]
  },
  {
   "cell_type": "code",
   "execution_count": 3,
   "metadata": {
    "colab": {
     "base_uri": "https://localhost:8080/",
     "height": 488
    },
    "executionInfo": {
     "elapsed": 10,
     "status": "ok",
     "timestamp": 1665329166860,
     "user": {
      "displayName": "shaik azar",
      "userId": "05209245971384166097"
     },
     "user_tz": -330
    },
    "id": "YNIOl21TP_rE",
    "outputId": "899b2c2a-7235-48a5-e2c1-a9a0d8e2047d"
   },
   "outputs": [
    {
     "data": {
      "text/html": [
       "<div>\n",
       "<style scoped>\n",
       "    .dataframe tbody tr th:only-of-type {\n",
       "        vertical-align: middle;\n",
       "    }\n",
       "\n",
       "    .dataframe tbody tr th {\n",
       "        vertical-align: top;\n",
       "    }\n",
       "\n",
       "    .dataframe thead th {\n",
       "        text-align: right;\n",
       "    }\n",
       "</style>\n",
       "<table border=\"1\" class=\"dataframe\">\n",
       "  <thead>\n",
       "    <tr style=\"text-align: right;\">\n",
       "      <th></th>\n",
       "      <th>CRIM</th>\n",
       "      <th>ZN</th>\n",
       "      <th>INDUS</th>\n",
       "      <th>CHAS</th>\n",
       "      <th>NOX</th>\n",
       "      <th>RM</th>\n",
       "      <th>AGE</th>\n",
       "      <th>DIS</th>\n",
       "      <th>RAD</th>\n",
       "      <th>TAX</th>\n",
       "      <th>PTRATIO</th>\n",
       "      <th>B</th>\n",
       "      <th>LSTAT</th>\n",
       "      <th>MEDV</th>\n",
       "    </tr>\n",
       "  </thead>\n",
       "  <tbody>\n",
       "    <tr>\n",
       "      <th>0</th>\n",
       "      <td>0.00632</td>\n",
       "      <td>18.0</td>\n",
       "      <td>2.31</td>\n",
       "      <td>0.0</td>\n",
       "      <td>0.538</td>\n",
       "      <td>6.575</td>\n",
       "      <td>65.2</td>\n",
       "      <td>4.0900</td>\n",
       "      <td>1</td>\n",
       "      <td>296</td>\n",
       "      <td>15.3</td>\n",
       "      <td>396.90</td>\n",
       "      <td>4.98</td>\n",
       "      <td>24.0</td>\n",
       "    </tr>\n",
       "    <tr>\n",
       "      <th>1</th>\n",
       "      <td>0.02731</td>\n",
       "      <td>0.0</td>\n",
       "      <td>7.07</td>\n",
       "      <td>0.0</td>\n",
       "      <td>0.469</td>\n",
       "      <td>6.421</td>\n",
       "      <td>78.9</td>\n",
       "      <td>4.9671</td>\n",
       "      <td>2</td>\n",
       "      <td>242</td>\n",
       "      <td>17.8</td>\n",
       "      <td>396.90</td>\n",
       "      <td>9.14</td>\n",
       "      <td>21.6</td>\n",
       "    </tr>\n",
       "    <tr>\n",
       "      <th>2</th>\n",
       "      <td>0.02729</td>\n",
       "      <td>0.0</td>\n",
       "      <td>7.07</td>\n",
       "      <td>0.0</td>\n",
       "      <td>0.469</td>\n",
       "      <td>7.185</td>\n",
       "      <td>61.1</td>\n",
       "      <td>4.9671</td>\n",
       "      <td>2</td>\n",
       "      <td>242</td>\n",
       "      <td>17.8</td>\n",
       "      <td>392.83</td>\n",
       "      <td>4.03</td>\n",
       "      <td>34.7</td>\n",
       "    </tr>\n",
       "    <tr>\n",
       "      <th>3</th>\n",
       "      <td>0.03237</td>\n",
       "      <td>0.0</td>\n",
       "      <td>2.18</td>\n",
       "      <td>0.0</td>\n",
       "      <td>0.458</td>\n",
       "      <td>6.998</td>\n",
       "      <td>45.8</td>\n",
       "      <td>6.0622</td>\n",
       "      <td>3</td>\n",
       "      <td>222</td>\n",
       "      <td>18.7</td>\n",
       "      <td>394.63</td>\n",
       "      <td>2.94</td>\n",
       "      <td>33.4</td>\n",
       "    </tr>\n",
       "    <tr>\n",
       "      <th>4</th>\n",
       "      <td>0.06905</td>\n",
       "      <td>0.0</td>\n",
       "      <td>2.18</td>\n",
       "      <td>0.0</td>\n",
       "      <td>0.458</td>\n",
       "      <td>7.147</td>\n",
       "      <td>54.2</td>\n",
       "      <td>6.0622</td>\n",
       "      <td>3</td>\n",
       "      <td>222</td>\n",
       "      <td>18.7</td>\n",
       "      <td>396.90</td>\n",
       "      <td>NaN</td>\n",
       "      <td>36.2</td>\n",
       "    </tr>\n",
       "    <tr>\n",
       "      <th>...</th>\n",
       "      <td>...</td>\n",
       "      <td>...</td>\n",
       "      <td>...</td>\n",
       "      <td>...</td>\n",
       "      <td>...</td>\n",
       "      <td>...</td>\n",
       "      <td>...</td>\n",
       "      <td>...</td>\n",
       "      <td>...</td>\n",
       "      <td>...</td>\n",
       "      <td>...</td>\n",
       "      <td>...</td>\n",
       "      <td>...</td>\n",
       "      <td>...</td>\n",
       "    </tr>\n",
       "    <tr>\n",
       "      <th>501</th>\n",
       "      <td>0.06263</td>\n",
       "      <td>0.0</td>\n",
       "      <td>11.93</td>\n",
       "      <td>0.0</td>\n",
       "      <td>0.573</td>\n",
       "      <td>6.593</td>\n",
       "      <td>69.1</td>\n",
       "      <td>2.4786</td>\n",
       "      <td>1</td>\n",
       "      <td>273</td>\n",
       "      <td>21.0</td>\n",
       "      <td>391.99</td>\n",
       "      <td>NaN</td>\n",
       "      <td>22.4</td>\n",
       "    </tr>\n",
       "    <tr>\n",
       "      <th>502</th>\n",
       "      <td>0.04527</td>\n",
       "      <td>0.0</td>\n",
       "      <td>11.93</td>\n",
       "      <td>0.0</td>\n",
       "      <td>0.573</td>\n",
       "      <td>6.120</td>\n",
       "      <td>76.7</td>\n",
       "      <td>2.2875</td>\n",
       "      <td>1</td>\n",
       "      <td>273</td>\n",
       "      <td>21.0</td>\n",
       "      <td>396.90</td>\n",
       "      <td>9.08</td>\n",
       "      <td>20.6</td>\n",
       "    </tr>\n",
       "    <tr>\n",
       "      <th>503</th>\n",
       "      <td>0.06076</td>\n",
       "      <td>0.0</td>\n",
       "      <td>11.93</td>\n",
       "      <td>0.0</td>\n",
       "      <td>0.573</td>\n",
       "      <td>6.976</td>\n",
       "      <td>91.0</td>\n",
       "      <td>2.1675</td>\n",
       "      <td>1</td>\n",
       "      <td>273</td>\n",
       "      <td>21.0</td>\n",
       "      <td>396.90</td>\n",
       "      <td>5.64</td>\n",
       "      <td>23.9</td>\n",
       "    </tr>\n",
       "    <tr>\n",
       "      <th>504</th>\n",
       "      <td>0.10959</td>\n",
       "      <td>0.0</td>\n",
       "      <td>11.93</td>\n",
       "      <td>0.0</td>\n",
       "      <td>0.573</td>\n",
       "      <td>6.794</td>\n",
       "      <td>89.3</td>\n",
       "      <td>2.3889</td>\n",
       "      <td>1</td>\n",
       "      <td>273</td>\n",
       "      <td>21.0</td>\n",
       "      <td>393.45</td>\n",
       "      <td>6.48</td>\n",
       "      <td>22.0</td>\n",
       "    </tr>\n",
       "    <tr>\n",
       "      <th>505</th>\n",
       "      <td>0.04741</td>\n",
       "      <td>0.0</td>\n",
       "      <td>11.93</td>\n",
       "      <td>0.0</td>\n",
       "      <td>0.573</td>\n",
       "      <td>6.030</td>\n",
       "      <td>NaN</td>\n",
       "      <td>2.5050</td>\n",
       "      <td>1</td>\n",
       "      <td>273</td>\n",
       "      <td>21.0</td>\n",
       "      <td>396.90</td>\n",
       "      <td>7.88</td>\n",
       "      <td>11.9</td>\n",
       "    </tr>\n",
       "  </tbody>\n",
       "</table>\n",
       "<p>506 rows × 14 columns</p>\n",
       "</div>"
      ],
      "text/plain": [
       "        CRIM    ZN  INDUS  CHAS    NOX     RM   AGE     DIS  RAD  TAX  \\\n",
       "0    0.00632  18.0   2.31   0.0  0.538  6.575  65.2  4.0900    1  296   \n",
       "1    0.02731   0.0   7.07   0.0  0.469  6.421  78.9  4.9671    2  242   \n",
       "2    0.02729   0.0   7.07   0.0  0.469  7.185  61.1  4.9671    2  242   \n",
       "3    0.03237   0.0   2.18   0.0  0.458  6.998  45.8  6.0622    3  222   \n",
       "4    0.06905   0.0   2.18   0.0  0.458  7.147  54.2  6.0622    3  222   \n",
       "..       ...   ...    ...   ...    ...    ...   ...     ...  ...  ...   \n",
       "501  0.06263   0.0  11.93   0.0  0.573  6.593  69.1  2.4786    1  273   \n",
       "502  0.04527   0.0  11.93   0.0  0.573  6.120  76.7  2.2875    1  273   \n",
       "503  0.06076   0.0  11.93   0.0  0.573  6.976  91.0  2.1675    1  273   \n",
       "504  0.10959   0.0  11.93   0.0  0.573  6.794  89.3  2.3889    1  273   \n",
       "505  0.04741   0.0  11.93   0.0  0.573  6.030   NaN  2.5050    1  273   \n",
       "\n",
       "     PTRATIO       B  LSTAT  MEDV  \n",
       "0       15.3  396.90   4.98  24.0  \n",
       "1       17.8  396.90   9.14  21.6  \n",
       "2       17.8  392.83   4.03  34.7  \n",
       "3       18.7  394.63   2.94  33.4  \n",
       "4       18.7  396.90    NaN  36.2  \n",
       "..       ...     ...    ...   ...  \n",
       "501     21.0  391.99    NaN  22.4  \n",
       "502     21.0  396.90   9.08  20.6  \n",
       "503     21.0  396.90   5.64  23.9  \n",
       "504     21.0  393.45   6.48  22.0  \n",
       "505     21.0  396.90   7.88  11.9  \n",
       "\n",
       "[506 rows x 14 columns]"
      ]
     },
     "execution_count": 3,
     "metadata": {},
     "output_type": "execute_result"
    }
   ],
   "source": [
    "data"
   ]
  },
  {
   "cell_type": "code",
   "execution_count": 4,
   "metadata": {
    "colab": {
     "base_uri": "https://localhost:8080/"
    },
    "executionInfo": {
     "elapsed": 2253,
     "status": "ok",
     "timestamp": 1665329115505,
     "user": {
      "displayName": "shaik azar",
      "userId": "05209245971384166097"
     },
     "user_tz": -330
    },
    "id": "iLB4dkFIWYJ3",
    "outputId": "c06626f8-7ac2-4d64-e977-04d4f6c7f5e6"
   },
   "outputs": [
    {
     "name": "stdout",
     "output_type": "stream",
     "text": [
      "<class 'pandas.core.frame.DataFrame'>\n",
      "RangeIndex: 506 entries, 0 to 505\n",
      "Data columns (total 14 columns):\n",
      " #   Column   Non-Null Count  Dtype  \n",
      "---  ------   --------------  -----  \n",
      " 0   CRIM     486 non-null    float64\n",
      " 1   ZN       486 non-null    float64\n",
      " 2   INDUS    486 non-null    float64\n",
      " 3   CHAS     486 non-null    float64\n",
      " 4   NOX      506 non-null    float64\n",
      " 5   RM       506 non-null    float64\n",
      " 6   AGE      486 non-null    float64\n",
      " 7   DIS      506 non-null    float64\n",
      " 8   RAD      506 non-null    int64  \n",
      " 9   TAX      506 non-null    int64  \n",
      " 10  PTRATIO  506 non-null    float64\n",
      " 11  B        506 non-null    float64\n",
      " 12  LSTAT    486 non-null    float64\n",
      " 13  MEDV     506 non-null    float64\n",
      "dtypes: float64(12), int64(2)\n",
      "memory usage: 55.5 KB\n"
     ]
    }
   ],
   "source": [
    "data.info()"
   ]
  },
  {
   "cell_type": "code",
   "execution_count": 5,
   "metadata": {
    "colab": {
     "base_uri": "https://localhost:8080/"
    },
    "executionInfo": {
     "elapsed": 14,
     "status": "ok",
     "timestamp": 1665329938563,
     "user": {
      "displayName": "shaik azar",
      "userId": "05209245971384166097"
     },
     "user_tz": -330
    },
    "id": "Pw242S_QWI1z",
    "outputId": "cc2b0149-6e28-4b95-ff3c-f767a7814d2a"
   },
   "outputs": [
    {
     "data": {
      "text/plain": [
       "CRIM       20\n",
       "ZN         20\n",
       "INDUS      20\n",
       "CHAS       20\n",
       "NOX         0\n",
       "RM          0\n",
       "AGE        20\n",
       "DIS         0\n",
       "RAD         0\n",
       "TAX         0\n",
       "PTRATIO     0\n",
       "B           0\n",
       "LSTAT      20\n",
       "MEDV        0\n",
       "dtype: int64"
      ]
     },
     "execution_count": 5,
     "metadata": {},
     "output_type": "execute_result"
    }
   ],
   "source": [
    "data.isnull().sum()"
   ]
  },
  {
   "cell_type": "code",
   "execution_count": 6,
   "metadata": {
    "executionInfo": {
     "elapsed": 4,
     "status": "ok",
     "timestamp": 1665330039050,
     "user": {
      "displayName": "shaik azar",
      "userId": "05209245971384166097"
     },
     "user_tz": -330
    },
    "id": "2uniUlaQZnBJ"
   },
   "outputs": [],
   "source": [
    "data1=data.dropna()"
   ]
  },
  {
   "cell_type": "code",
   "execution_count": 7,
   "metadata": {
    "executionInfo": {
     "elapsed": 822,
     "status": "ok",
     "timestamp": 1665330052054,
     "user": {
      "displayName": "shaik azar",
      "userId": "05209245971384166097"
     },
     "user_tz": -330
    },
    "id": "rqbEg87HQIf_"
   },
   "outputs": [],
   "source": [
    "x = data1.iloc[:,0:13].values\n",
    "y=data1.iloc[:,13].values"
   ]
  },
  {
   "cell_type": "code",
   "execution_count": 8,
   "metadata": {
    "colab": {
     "base_uri": "https://localhost:8080/"
    },
    "executionInfo": {
     "elapsed": 8,
     "status": "ok",
     "timestamp": 1665330057103,
     "user": {
      "displayName": "shaik azar",
      "userId": "05209245971384166097"
     },
     "user_tz": -330
    },
    "id": "FAFOgQSTQUhB",
    "outputId": "afb83821-572b-4e24-808b-35312ee92f37"
   },
   "outputs": [
    {
     "data": {
      "text/plain": [
       "array([[6.3200e-03, 1.8000e+01, 2.3100e+00, ..., 1.5300e+01, 3.9690e+02,\n",
       "        4.9800e+00],\n",
       "       [2.7310e-02, 0.0000e+00, 7.0700e+00, ..., 1.7800e+01, 3.9690e+02,\n",
       "        9.1400e+00],\n",
       "       [2.7290e-02, 0.0000e+00, 7.0700e+00, ..., 1.7800e+01, 3.9283e+02,\n",
       "        4.0300e+00],\n",
       "       ...,\n",
       "       [4.5270e-02, 0.0000e+00, 1.1930e+01, ..., 2.1000e+01, 3.9690e+02,\n",
       "        9.0800e+00],\n",
       "       [6.0760e-02, 0.0000e+00, 1.1930e+01, ..., 2.1000e+01, 3.9690e+02,\n",
       "        5.6400e+00],\n",
       "       [1.0959e-01, 0.0000e+00, 1.1930e+01, ..., 2.1000e+01, 3.9345e+02,\n",
       "        6.4800e+00]])"
      ]
     },
     "execution_count": 8,
     "metadata": {},
     "output_type": "execute_result"
    }
   ],
   "source": [
    "x"
   ]
  },
  {
   "cell_type": "code",
   "execution_count": 9,
   "metadata": {
    "colab": {
     "base_uri": "https://localhost:8080/"
    },
    "executionInfo": {
     "elapsed": 9,
     "status": "ok",
     "timestamp": 1665330060482,
     "user": {
      "displayName": "shaik azar",
      "userId": "05209245971384166097"
     },
     "user_tz": -330
    },
    "id": "RN7DLB4IQWDc",
    "outputId": "440eaabc-8c05-4db7-9e6a-c9d0b751d8a9"
   },
   "outputs": [
    {
     "data": {
      "text/plain": [
       "array([24. , 21.6, 34.7, 33.4, 28.7, 27.1, 16.5, 15. , 18.9, 21.7, 20.4,\n",
       "       19.9, 23.1, 17.5, 20.2, 18.2, 13.6, 19.6, 15.2, 14.5, 15.6, 13.9,\n",
       "       16.6, 14.8, 18.4, 21. , 12.7, 14.5, 13.2, 13.1, 13.5, 21. , 24.7,\n",
       "       30.8, 34.9, 26.6, 25.3, 21.2, 19.3, 20. , 14.4, 19.4, 19.7, 25. ,\n",
       "       18.9, 35.4, 24.7, 31.6, 23.3, 19.6, 18.7, 16. , 22.2, 25. , 33. ,\n",
       "       23.5, 19.4, 22. , 17.4, 20.9, 24.2, 21.7, 22.8, 21.4, 20. , 20.8,\n",
       "       21.2, 28. , 23.9, 24.8, 22.9, 23.9, 26.6, 22.5, 23.6, 28.7, 22.6,\n",
       "       22. , 25. , 20.6, 28.4, 21.4, 38.7, 43.8, 33.2, 27.5, 26.5, 18.6,\n",
       "       20.1, 19.5, 19.5, 20.4, 19.8, 19.4, 21.7, 22.8, 18.8, 18.7, 18.5,\n",
       "       19.2, 22. , 20.3, 20.5, 18.8, 21.4, 16.2, 18. , 14.3, 19.2, 19.6,\n",
       "       23. , 15.6, 18.1, 17.4, 17.1, 17.8, 14. , 14.4, 13.4, 15.6, 11.8,\n",
       "       13.8, 15.4, 19.6, 19.4, 17. , 13.1, 24.3, 23.3, 27. , 50. , 50. ,\n",
       "       22.7, 25. , 50. , 23.8, 22.3, 17.4, 19.1, 23.1, 22.6, 29.4, 23.2,\n",
       "       29.9, 37.2, 39.8, 36.2, 37.9, 26.4, 29.6, 32. , 29.8, 34.9, 37. ,\n",
       "       29.1, 50. , 30.3, 34.6, 34.9, 32.9, 24.1, 42.3, 48.5, 50. , 24.4,\n",
       "       20. , 19.3, 22.4, 28.1, 23.7, 23.3, 28.7, 21.5, 26.7, 21.7, 27.5,\n",
       "       30.1, 44.8, 50. , 31.6, 24.3, 31.7, 41.7, 29. , 24. , 31.5, 23.3,\n",
       "       22.2, 23.7, 17.6, 24.3, 20.5, 24.5, 26.2, 24.4, 24.8, 29.6, 42.8,\n",
       "       20.9, 44. , 50. , 36. , 30.1, 33.8, 43.1, 31. , 36.5, 22.8, 50. ,\n",
       "       43.5, 20.7, 21.1, 24.4, 35.2, 32.4, 32. , 33.2, 29.1, 35.1, 45.4,\n",
       "       46. , 50. , 32.2, 22. , 23.2, 24.8, 28.5, 37.3, 23.9, 28.6, 27.1,\n",
       "       22.5, 29. , 24.8, 36.1, 33.4, 28.2, 22.8, 20.3, 16.1, 22.1, 19.4,\n",
       "       21.6, 23.8, 16.2, 19.8, 23.1, 21. , 23.8, 23.1, 20.4, 18.5, 25. ,\n",
       "       24.6, 23. , 22.2, 19.3, 22.6, 17.1, 22.2, 20.7, 21.1, 19.5, 18.5,\n",
       "       20.6, 19. , 18.7, 32.7, 16.5, 23.9, 17.5, 17.2, 23.1, 24.5, 24.1,\n",
       "       18.6, 30.1, 18.2, 17.8, 21.7, 22.7, 25. , 19.9, 20.8, 16.8, 21.9,\n",
       "       27.5, 21.9, 50. , 50. , 50. , 13.8, 13.8, 13.3, 13.1, 10.2, 10.4,\n",
       "       10.9, 11.3,  8.8,  7.2, 10.5,  7.4, 11.5, 15.1, 23.2,  9.7, 13.1,\n",
       "       12.5,  8.5,  5. ,  6.3,  5.6, 12.1,  8.3,  8.5,  5. , 17.2, 15. ,\n",
       "       17.2, 17.9, 16.3,  7. ,  7.2,  7.5, 10.4,  8.8,  8.4, 16.7, 14.2,\n",
       "       20.8, 11.7,  8.3, 11. , 14.1, 16.1, 14.3, 11.7, 13.4,  9.6,  8.7,\n",
       "        8.4, 12.8, 15.4, 10.8, 11.8, 14.9, 12.6, 14.1, 13. , 16.1, 14.9,\n",
       "       14.1, 12.7, 13.5, 20. , 17.7, 19.5, 20.2, 21.4, 19.1, 19.1, 20.1,\n",
       "       19.9, 19.6, 23.2, 13.8, 13.3, 16.7, 12. , 14.6, 23. , 23.7, 21.8,\n",
       "       20.6, 21.2, 19.1, 20.6, 15.2,  7. ,  8.1, 13.6, 20.1, 21.8, 24.5,\n",
       "       23.1, 19.7, 18.3, 21.2, 17.5, 16.8, 20.6, 23.9, 22. ])"
      ]
     },
     "execution_count": 9,
     "metadata": {},
     "output_type": "execute_result"
    }
   ],
   "source": [
    "y"
   ]
  },
  {
   "cell_type": "code",
   "execution_count": null,
   "metadata": {
    "id": "UEENwze_UTyC"
   },
   "outputs": [],
   "source": []
  },
  {
   "cell_type": "code",
   "execution_count": 10,
   "metadata": {
    "executionInfo": {
     "elapsed": 4,
     "status": "ok",
     "timestamp": 1665330065074,
     "user": {
      "displayName": "shaik azar",
      "userId": "05209245971384166097"
     },
     "user_tz": -330
    },
    "id": "TVNxfzm5QW8f"
   },
   "outputs": [],
   "source": [
    "# splitting the training & test sets\n",
    "from sklearn.model_selection import train_test_split\n",
    "x_train,x_test,y_train,y_test= train_test_split(x,y, test_size=0.2)"
   ]
  },
  {
   "cell_type": "code",
   "execution_count": 11,
   "metadata": {
    "executionInfo": {
     "elapsed": 1,
     "status": "ok",
     "timestamp": 1665330068344,
     "user": {
      "displayName": "shaik azar",
      "userId": "05209245971384166097"
     },
     "user_tz": -330
    },
    "id": "r0LO-ofKUhSB"
   },
   "outputs": [],
   "source": [
    "# Feature Scaling\n",
    "from sklearn.preprocessing import MinMaxScaler\n",
    "mc=MinMaxScaler()\n",
    "x_train1 = mc.fit_transform( x_train)\n",
    "X_test1 = mc.fit_transform( x_test)"
   ]
  },
  {
   "cell_type": "code",
   "execution_count": 12,
   "metadata": {
    "executionInfo": {
     "elapsed": 5,
     "status": "ok",
     "timestamp": 1665329231326,
     "user": {
      "displayName": "shaik azar",
      "userId": "05209245971384166097"
     },
     "user_tz": -330
    },
    "id": "qCrZ1bbYRHjL"
   },
   "outputs": [],
   "source": [
    "import keras\n",
    "from keras.models import Sequential\n",
    "from keras.layers import Dense\n",
    "from keras.layers import Dropout"
   ]
  },
  {
   "cell_type": "code",
   "execution_count": 13,
   "metadata": {
    "executionInfo": {
     "elapsed": 8,
     "status": "ok",
     "timestamp": 1665330071253,
     "user": {
      "displayName": "shaik azar",
      "userId": "05209245971384166097"
     },
     "user_tz": -330
    },
    "id": "YzDCMeK3Rt6G"
   },
   "outputs": [
    {
     "name": "stdout",
     "output_type": "stream",
     "text": [
      "Model: \"sequential\"\n",
      "_________________________________________________________________\n",
      " Layer (type)                Output Shape              Param #   \n",
      "=================================================================\n",
      " dense (Dense)               (None, 104)               1456      \n",
      "                                                                 \n",
      " dropout (Dropout)           (None, 104)               0         \n",
      "                                                                 \n",
      " dense_1 (Dense)             (None, 52)                5460      \n",
      "                                                                 \n",
      " dropout_1 (Dropout)         (None, 52)                0         \n",
      "                                                                 \n",
      " dense_2 (Dense)             (None, 26)                1378      \n",
      "                                                                 \n",
      " dropout_2 (Dropout)         (None, 26)                0         \n",
      "                                                                 \n",
      " dense_3 (Dense)             (None, 1)                 27        \n",
      "                                                                 \n",
      "=================================================================\n",
      "Total params: 8,321\n",
      "Trainable params: 8,321\n",
      "Non-trainable params: 0\n",
      "_________________________________________________________________\n"
     ]
    }
   ],
   "source": [
    "# Initialize the model\n",
    "model=Sequential()\n",
    "\n",
    "# Build input layer & Hidden layer\n",
    "model.add(Dense(units=104, activation='relu', input_dim=13))\n",
    "model.add(Dropout(rate=0.1))\n",
    "\n",
    "# Building second layer\n",
    "model.add(Dense(units=52,activation ='relu'))\n",
    "model.add(Dropout(rate=0.1))\n",
    "\n",
    "# Building third layer\n",
    "model.add(Dense(units=26,activation ='relu'))\n",
    "model.add(Dropout(rate=0.1))\n",
    "\n",
    "#Adding outer layer\n",
    "model.add(Dense(units = 1, activation='linear'))\n",
    "\n",
    "# compile the model\n",
    "model.compile(optimizer='adam', loss='mae')\n",
    "\n",
    "model.summary()"
   ]
  },
  {
   "cell_type": "code",
   "execution_count": 14,
   "metadata": {},
   "outputs": [
    {
     "name": "stdout",
     "output_type": "stream",
     "text": [
      "Epoch 1/200\n",
      "8/8 [==============================] - 0s 18ms/step - loss: 39.6231 - val_loss: 22.8881\n",
      "Epoch 2/200\n",
      "8/8 [==============================] - 0s 4ms/step - loss: 20.7498 - val_loss: 14.3994\n",
      "Epoch 3/200\n",
      "8/8 [==============================] - 0s 4ms/step - loss: 15.4612 - val_loss: 11.0071\n",
      "Epoch 4/200\n",
      "8/8 [==============================] - 0s 4ms/step - loss: 11.5168 - val_loss: 6.4027\n",
      "Epoch 5/200\n",
      "8/8 [==============================] - 0s 4ms/step - loss: 9.9489 - val_loss: 9.4750\n",
      "Epoch 6/200\n",
      "8/8 [==============================] - 0s 4ms/step - loss: 9.4334 - val_loss: 6.9053\n",
      "Epoch 7/200\n",
      "8/8 [==============================] - 0s 4ms/step - loss: 9.0070 - val_loss: 8.3585\n",
      "Epoch 8/200\n",
      "8/8 [==============================] - 0s 4ms/step - loss: 9.0540 - val_loss: 7.3014\n",
      "Epoch 9/200\n",
      "8/8 [==============================] - 0s 4ms/step - loss: 8.6411 - val_loss: 5.8014\n",
      "Epoch 10/200\n",
      "8/8 [==============================] - 0s 4ms/step - loss: 7.7550 - val_loss: 6.3032\n",
      "Epoch 11/200\n",
      "8/8 [==============================] - 0s 3ms/step - loss: 8.0032 - val_loss: 5.9066\n",
      "Epoch 12/200\n",
      "8/8 [==============================] - 0s 4ms/step - loss: 8.2770 - val_loss: 5.9876\n",
      "Epoch 13/200\n",
      "8/8 [==============================] - 0s 4ms/step - loss: 8.0832 - val_loss: 5.8973\n",
      "Epoch 14/200\n",
      "8/8 [==============================] - 0s 4ms/step - loss: 7.6072 - val_loss: 5.9176\n",
      "Epoch 15/200\n",
      "8/8 [==============================] - 0s 4ms/step - loss: 7.7819 - val_loss: 5.4333\n",
      "Epoch 16/200\n",
      "8/8 [==============================] - 0s 5ms/step - loss: 7.5099 - val_loss: 6.8485\n",
      "Epoch 17/200\n",
      "8/8 [==============================] - 0s 4ms/step - loss: 7.3476 - val_loss: 5.9002\n",
      "Epoch 18/200\n",
      "8/8 [==============================] - 0s 4ms/step - loss: 7.3544 - val_loss: 6.3443\n",
      "Epoch 19/200\n",
      "8/8 [==============================] - 0s 3ms/step - loss: 7.3492 - val_loss: 5.6434\n",
      "Epoch 20/200\n",
      "8/8 [==============================] - 0s 4ms/step - loss: 7.7294 - val_loss: 5.0309\n",
      "Epoch 21/200\n",
      "8/8 [==============================] - 0s 4ms/step - loss: 7.1224 - val_loss: 6.7784\n",
      "Epoch 22/200\n",
      "8/8 [==============================] - 0s 4ms/step - loss: 7.7369 - val_loss: 5.4678\n",
      "Epoch 23/200\n",
      "8/8 [==============================] - 0s 4ms/step - loss: 7.4928 - val_loss: 5.2413\n",
      "Epoch 24/200\n",
      "8/8 [==============================] - 0s 4ms/step - loss: 7.3116 - val_loss: 6.7131\n",
      "Epoch 25/200\n",
      "8/8 [==============================] - 0s 4ms/step - loss: 6.9719 - val_loss: 4.9930\n",
      "Epoch 26/200\n",
      "8/8 [==============================] - 0s 4ms/step - loss: 7.2712 - val_loss: 5.2295\n",
      "Epoch 27/200\n",
      "8/8 [==============================] - 0s 3ms/step - loss: 6.6819 - val_loss: 5.7689\n",
      "Epoch 28/200\n",
      "8/8 [==============================] - 0s 4ms/step - loss: 6.6407 - val_loss: 4.9745\n",
      "Epoch 29/200\n",
      "8/8 [==============================] - 0s 4ms/step - loss: 6.9745 - val_loss: 5.4977\n",
      "Epoch 30/200\n",
      "8/8 [==============================] - 0s 3ms/step - loss: 6.4165 - val_loss: 5.6691\n",
      "Epoch 31/200\n",
      "8/8 [==============================] - 0s 4ms/step - loss: 6.6779 - val_loss: 5.3783\n",
      "Epoch 32/200\n",
      "8/8 [==============================] - 0s 4ms/step - loss: 6.2434 - val_loss: 5.3180\n",
      "Epoch 33/200\n",
      "8/8 [==============================] - 0s 3ms/step - loss: 7.1930 - val_loss: 4.8878\n",
      "Epoch 34/200\n",
      "8/8 [==============================] - 0s 4ms/step - loss: 6.2161 - val_loss: 5.2708\n",
      "Epoch 35/200\n",
      "8/8 [==============================] - 0s 4ms/step - loss: 6.5007 - val_loss: 4.7722\n",
      "Epoch 36/200\n",
      "8/8 [==============================] - 0s 4ms/step - loss: 6.2992 - val_loss: 5.5815\n",
      "Epoch 37/200\n",
      "8/8 [==============================] - 0s 4ms/step - loss: 6.2737 - val_loss: 5.2832\n",
      "Epoch 38/200\n",
      "8/8 [==============================] - 0s 4ms/step - loss: 6.6632 - val_loss: 4.8677\n",
      "Epoch 39/200\n",
      "8/8 [==============================] - 0s 4ms/step - loss: 6.2814 - val_loss: 5.4483\n",
      "Epoch 40/200\n",
      "8/8 [==============================] - 0s 4ms/step - loss: 6.3452 - val_loss: 4.8233\n",
      "Epoch 41/200\n",
      "8/8 [==============================] - 0s 4ms/step - loss: 5.9610 - val_loss: 5.1341\n",
      "Epoch 42/200\n",
      "8/8 [==============================] - 0s 4ms/step - loss: 6.3818 - val_loss: 4.9673\n",
      "Epoch 43/200\n",
      "8/8 [==============================] - 0s 4ms/step - loss: 5.4212 - val_loss: 5.2078\n",
      "Epoch 44/200\n",
      "8/8 [==============================] - 0s 3ms/step - loss: 6.1246 - val_loss: 5.1300\n",
      "Epoch 45/200\n",
      "8/8 [==============================] - 0s 3ms/step - loss: 6.7312 - val_loss: 5.3992\n",
      "Epoch 46/200\n",
      "8/8 [==============================] - 0s 4ms/step - loss: 5.9543 - val_loss: 4.7121\n",
      "Epoch 47/200\n",
      "8/8 [==============================] - 0s 4ms/step - loss: 6.3861 - val_loss: 4.8498\n",
      "Epoch 48/200\n",
      "8/8 [==============================] - 0s 4ms/step - loss: 6.2048 - val_loss: 5.3911\n",
      "Epoch 49/200\n",
      "8/8 [==============================] - 0s 3ms/step - loss: 5.7013 - val_loss: 4.8991\n",
      "Epoch 50/200\n",
      "8/8 [==============================] - 0s 3ms/step - loss: 5.5478 - val_loss: 5.0938\n",
      "Epoch 51/200\n",
      "8/8 [==============================] - 0s 4ms/step - loss: 6.3059 - val_loss: 4.7324\n",
      "Epoch 52/200\n",
      "8/8 [==============================] - 0s 4ms/step - loss: 6.3144 - val_loss: 4.6909\n",
      "Epoch 53/200\n",
      "8/8 [==============================] - 0s 4ms/step - loss: 5.7434 - val_loss: 4.8205\n",
      "Epoch 54/200\n",
      "8/8 [==============================] - 0s 4ms/step - loss: 6.3608 - val_loss: 4.7849\n",
      "Epoch 55/200\n",
      "8/8 [==============================] - 0s 4ms/step - loss: 5.9978 - val_loss: 4.6756\n",
      "Epoch 56/200\n",
      "8/8 [==============================] - 0s 4ms/step - loss: 6.0071 - val_loss: 4.9282\n",
      "Epoch 57/200\n",
      "8/8 [==============================] - 0s 3ms/step - loss: 5.9840 - val_loss: 4.9498\n",
      "Epoch 58/200\n",
      "8/8 [==============================] - 0s 3ms/step - loss: 6.3074 - val_loss: 5.1336\n",
      "Epoch 59/200\n",
      "8/8 [==============================] - 0s 4ms/step - loss: 6.2073 - val_loss: 5.2650\n",
      "Epoch 60/200\n",
      "8/8 [==============================] - 0s 4ms/step - loss: 5.7412 - val_loss: 4.5762\n",
      "Epoch 61/200\n",
      "8/8 [==============================] - 0s 3ms/step - loss: 5.7005 - val_loss: 4.5275\n",
      "Epoch 62/200\n",
      "8/8 [==============================] - 0s 4ms/step - loss: 5.5893 - val_loss: 4.7957\n",
      "Epoch 63/200\n",
      "8/8 [==============================] - 0s 3ms/step - loss: 5.8112 - val_loss: 4.6730\n",
      "Epoch 64/200\n",
      "8/8 [==============================] - 0s 4ms/step - loss: 5.8113 - val_loss: 5.4566\n",
      "Epoch 65/200\n",
      "8/8 [==============================] - 0s 3ms/step - loss: 5.9525 - val_loss: 4.8053\n",
      "Epoch 66/200\n",
      "8/8 [==============================] - 0s 4ms/step - loss: 6.1129 - val_loss: 5.0385\n",
      "Epoch 67/200\n",
      "8/8 [==============================] - 0s 4ms/step - loss: 5.5806 - val_loss: 4.8167\n",
      "Epoch 68/200\n",
      "8/8 [==============================] - 0s 3ms/step - loss: 5.6505 - val_loss: 4.9229\n",
      "Epoch 69/200\n",
      "8/8 [==============================] - 0s 4ms/step - loss: 5.2864 - val_loss: 5.7173\n",
      "Epoch 70/200\n",
      "8/8 [==============================] - 0s 4ms/step - loss: 5.5620 - val_loss: 4.5195\n",
      "Epoch 71/200\n",
      "8/8 [==============================] - 0s 4ms/step - loss: 5.5584 - val_loss: 5.5650\n",
      "Epoch 72/200\n",
      "8/8 [==============================] - 0s 3ms/step - loss: 6.2290 - val_loss: 4.3845\n",
      "Epoch 73/200\n",
      "8/8 [==============================] - 0s 4ms/step - loss: 5.3446 - val_loss: 5.0451\n",
      "Epoch 74/200\n",
      "8/8 [==============================] - 0s 4ms/step - loss: 5.5971 - val_loss: 4.6371\n",
      "Epoch 75/200\n",
      "8/8 [==============================] - 0s 4ms/step - loss: 5.5126 - val_loss: 4.8933\n",
      "Epoch 76/200\n",
      "8/8 [==============================] - 0s 4ms/step - loss: 5.5016 - val_loss: 4.5833\n",
      "Epoch 77/200\n",
      "8/8 [==============================] - 0s 4ms/step - loss: 5.8211 - val_loss: 4.3914\n",
      "Epoch 78/200\n",
      "8/8 [==============================] - 0s 4ms/step - loss: 5.3922 - val_loss: 4.5375\n",
      "Epoch 79/200\n",
      "8/8 [==============================] - 0s 4ms/step - loss: 5.7479 - val_loss: 4.5641\n",
      "Epoch 80/200\n",
      "8/8 [==============================] - 0s 4ms/step - loss: 5.7789 - val_loss: 4.4277\n",
      "Epoch 81/200\n",
      "8/8 [==============================] - 0s 3ms/step - loss: 6.0313 - val_loss: 4.3426\n",
      "Epoch 82/200\n",
      "8/8 [==============================] - 0s 4ms/step - loss: 5.8666 - val_loss: 4.6134\n",
      "Epoch 83/200\n",
      "8/8 [==============================] - 0s 4ms/step - loss: 5.4638 - val_loss: 4.4674\n",
      "Epoch 84/200\n",
      "8/8 [==============================] - 0s 4ms/step - loss: 5.5797 - val_loss: 4.8052\n",
      "Epoch 85/200\n",
      "8/8 [==============================] - 0s 3ms/step - loss: 5.4377 - val_loss: 4.3726\n",
      "Epoch 86/200\n",
      "8/8 [==============================] - 0s 4ms/step - loss: 5.6874 - val_loss: 4.7648\n",
      "Epoch 87/200\n",
      "8/8 [==============================] - 0s 3ms/step - loss: 5.6153 - val_loss: 4.2172\n",
      "Epoch 88/200\n",
      "8/8 [==============================] - 0s 4ms/step - loss: 5.5596 - val_loss: 5.1735\n",
      "Epoch 89/200\n",
      "8/8 [==============================] - 0s 4ms/step - loss: 5.2680 - val_loss: 4.5159\n",
      "Epoch 90/200\n",
      "8/8 [==============================] - 0s 4ms/step - loss: 5.7600 - val_loss: 4.1812\n",
      "Epoch 91/200\n",
      "8/8 [==============================] - 0s 4ms/step - loss: 5.2850 - val_loss: 5.1052\n",
      "Epoch 92/200\n",
      "8/8 [==============================] - 0s 4ms/step - loss: 5.1394 - val_loss: 4.2965\n",
      "Epoch 93/200\n",
      "8/8 [==============================] - 0s 3ms/step - loss: 5.2360 - val_loss: 4.3117\n",
      "Epoch 94/200\n",
      "8/8 [==============================] - 0s 4ms/step - loss: 5.5278 - val_loss: 4.5820\n",
      "Epoch 95/200\n",
      "8/8 [==============================] - 0s 4ms/step - loss: 5.8129 - val_loss: 4.8495\n",
      "Epoch 96/200\n",
      "8/8 [==============================] - 0s 4ms/step - loss: 5.4852 - val_loss: 4.8796\n",
      "Epoch 97/200\n",
      "8/8 [==============================] - 0s 4ms/step - loss: 5.2454 - val_loss: 4.2177\n",
      "Epoch 98/200\n",
      "8/8 [==============================] - 0s 4ms/step - loss: 5.6923 - val_loss: 4.3422\n",
      "Epoch 99/200\n",
      "8/8 [==============================] - 0s 4ms/step - loss: 5.5157 - val_loss: 4.3223\n",
      "Epoch 100/200\n",
      "8/8 [==============================] - 0s 4ms/step - loss: 5.5459 - val_loss: 4.2735\n",
      "Epoch 101/200\n",
      "8/8 [==============================] - 0s 4ms/step - loss: 5.4687 - val_loss: 4.1802\n",
      "Epoch 102/200\n",
      "8/8 [==============================] - 0s 4ms/step - loss: 5.2203 - val_loss: 4.2772\n",
      "Epoch 103/200\n",
      "8/8 [==============================] - 0s 4ms/step - loss: 5.3544 - val_loss: 4.2675\n",
      "Epoch 104/200\n",
      "8/8 [==============================] - 0s 5ms/step - loss: 5.2822 - val_loss: 4.2513\n",
      "Epoch 105/200\n",
      "8/8 [==============================] - 0s 4ms/step - loss: 5.2550 - val_loss: 4.2423\n",
      "Epoch 106/200\n",
      "8/8 [==============================] - 0s 4ms/step - loss: 5.0560 - val_loss: 4.2871\n",
      "Epoch 107/200\n",
      "8/8 [==============================] - 0s 3ms/step - loss: 5.3494 - val_loss: 4.7592\n",
      "Epoch 108/200\n",
      "8/8 [==============================] - 0s 4ms/step - loss: 5.3848 - val_loss: 4.0526\n",
      "Epoch 109/200\n",
      "8/8 [==============================] - 0s 3ms/step - loss: 4.9378 - val_loss: 4.2889\n",
      "Epoch 110/200\n",
      "8/8 [==============================] - 0s 4ms/step - loss: 4.8974 - val_loss: 4.2402\n",
      "Epoch 111/200\n",
      "8/8 [==============================] - 0s 4ms/step - loss: 4.7985 - val_loss: 4.1446\n",
      "Epoch 112/200\n",
      "8/8 [==============================] - 0s 3ms/step - loss: 5.1691 - val_loss: 4.8047\n",
      "Epoch 113/200\n",
      "8/8 [==============================] - 0s 3ms/step - loss: 4.9630 - val_loss: 4.0835\n",
      "Epoch 114/200\n",
      "8/8 [==============================] - 0s 3ms/step - loss: 5.0975 - val_loss: 4.4453\n",
      "Epoch 115/200\n",
      "8/8 [==============================] - 0s 3ms/step - loss: 5.3923 - val_loss: 4.0571\n",
      "Epoch 116/200\n",
      "8/8 [==============================] - 0s 3ms/step - loss: 5.3059 - val_loss: 5.0412\n",
      "Epoch 117/200\n",
      "8/8 [==============================] - 0s 4ms/step - loss: 5.0375 - val_loss: 4.2962\n",
      "Epoch 118/200\n",
      "8/8 [==============================] - 0s 3ms/step - loss: 4.8972 - val_loss: 4.3608\n",
      "Epoch 119/200\n",
      "8/8 [==============================] - 0s 3ms/step - loss: 4.8435 - val_loss: 4.2880\n",
      "Epoch 120/200\n",
      "8/8 [==============================] - 0s 4ms/step - loss: 5.0874 - val_loss: 4.4977\n",
      "Epoch 121/200\n",
      "8/8 [==============================] - 0s 4ms/step - loss: 5.1861 - val_loss: 4.4117\n",
      "Epoch 122/200\n",
      "8/8 [==============================] - 0s 4ms/step - loss: 5.1228 - val_loss: 5.2962\n",
      "Epoch 123/200\n",
      "8/8 [==============================] - 0s 4ms/step - loss: 5.2170 - val_loss: 4.0964\n",
      "Epoch 124/200\n",
      "8/8 [==============================] - 0s 4ms/step - loss: 5.1490 - val_loss: 5.0596\n",
      "Epoch 125/200\n",
      "8/8 [==============================] - 0s 4ms/step - loss: 4.8733 - val_loss: 3.9482\n",
      "Epoch 126/200\n",
      "8/8 [==============================] - 0s 4ms/step - loss: 5.1565 - val_loss: 4.5712\n",
      "Epoch 127/200\n",
      "8/8 [==============================] - 0s 4ms/step - loss: 5.0328 - val_loss: 4.2481\n",
      "Epoch 128/200\n",
      "8/8 [==============================] - 0s 4ms/step - loss: 5.1317 - val_loss: 4.8559\n",
      "Epoch 129/200\n",
      "8/8 [==============================] - 0s 4ms/step - loss: 4.9683 - val_loss: 4.1274\n",
      "Epoch 130/200\n",
      "8/8 [==============================] - 0s 4ms/step - loss: 5.0930 - val_loss: 4.3740\n",
      "Epoch 131/200\n",
      "8/8 [==============================] - 0s 3ms/step - loss: 5.0216 - val_loss: 4.4027\n",
      "Epoch 132/200\n",
      "8/8 [==============================] - 0s 4ms/step - loss: 4.8159 - val_loss: 4.7686\n",
      "Epoch 133/200\n",
      "8/8 [==============================] - 0s 4ms/step - loss: 4.9996 - val_loss: 4.4575\n",
      "Epoch 134/200\n",
      "8/8 [==============================] - 0s 4ms/step - loss: 4.7200 - val_loss: 4.3345\n",
      "Epoch 135/200\n",
      "8/8 [==============================] - 0s 4ms/step - loss: 4.6147 - val_loss: 3.9474\n",
      "Epoch 136/200\n",
      "8/8 [==============================] - 0s 3ms/step - loss: 5.1408 - val_loss: 4.6839\n",
      "Epoch 137/200\n",
      "8/8 [==============================] - 0s 4ms/step - loss: 5.3556 - val_loss: 4.0339\n",
      "Epoch 138/200\n",
      "8/8 [==============================] - 0s 4ms/step - loss: 4.9670 - val_loss: 4.4959\n",
      "Epoch 139/200\n",
      "8/8 [==============================] - 0s 3ms/step - loss: 4.5619 - val_loss: 3.8277\n",
      "Epoch 140/200\n",
      "8/8 [==============================] - 0s 4ms/step - loss: 4.8379 - val_loss: 4.6844\n",
      "Epoch 141/200\n",
      "8/8 [==============================] - 0s 3ms/step - loss: 4.8294 - val_loss: 3.9191\n",
      "Epoch 142/200\n",
      "8/8 [==============================] - 0s 3ms/step - loss: 4.7238 - val_loss: 4.1352\n",
      "Epoch 143/200\n",
      "8/8 [==============================] - 0s 4ms/step - loss: 4.7170 - val_loss: 4.8610\n",
      "Epoch 144/200\n",
      "8/8 [==============================] - 0s 4ms/step - loss: 4.7871 - val_loss: 3.7951\n",
      "Epoch 145/200\n",
      "8/8 [==============================] - 0s 4ms/step - loss: 4.8947 - val_loss: 4.5285\n",
      "Epoch 146/200\n",
      "8/8 [==============================] - 0s 4ms/step - loss: 4.7887 - val_loss: 3.7757\n",
      "Epoch 147/200\n",
      "8/8 [==============================] - 0s 4ms/step - loss: 4.7874 - val_loss: 4.7432\n",
      "Epoch 148/200\n",
      "8/8 [==============================] - 0s 4ms/step - loss: 4.3701 - val_loss: 4.3169\n",
      "Epoch 149/200\n",
      "8/8 [==============================] - 0s 4ms/step - loss: 4.7114 - val_loss: 3.9696\n",
      "Epoch 150/200\n",
      "8/8 [==============================] - 0s 4ms/step - loss: 4.6530 - val_loss: 4.0019\n",
      "Epoch 151/200\n",
      "8/8 [==============================] - 0s 4ms/step - loss: 4.9497 - val_loss: 3.9418\n",
      "Epoch 152/200\n",
      "8/8 [==============================] - 0s 4ms/step - loss: 4.6696 - val_loss: 4.9163\n",
      "Epoch 153/200\n",
      "8/8 [==============================] - 0s 4ms/step - loss: 4.3988 - val_loss: 3.7885\n",
      "Epoch 154/200\n",
      "8/8 [==============================] - 0s 4ms/step - loss: 4.6847 - val_loss: 5.2070\n",
      "Epoch 155/200\n",
      "8/8 [==============================] - 0s 3ms/step - loss: 4.7513 - val_loss: 3.7493\n",
      "Epoch 156/200\n",
      "8/8 [==============================] - 0s 4ms/step - loss: 4.7162 - val_loss: 5.3369\n",
      "Epoch 157/200\n",
      "8/8 [==============================] - 0s 4ms/step - loss: 4.5727 - val_loss: 4.0162\n",
      "Epoch 158/200\n",
      "8/8 [==============================] - 0s 4ms/step - loss: 4.9044 - val_loss: 5.3482\n",
      "Epoch 159/200\n",
      "8/8 [==============================] - 0s 4ms/step - loss: 4.9140 - val_loss: 4.0736\n",
      "Epoch 160/200\n",
      "8/8 [==============================] - 0s 4ms/step - loss: 4.4726 - val_loss: 4.6657\n",
      "Epoch 161/200\n",
      "8/8 [==============================] - 0s 4ms/step - loss: 4.5993 - val_loss: 4.1914\n",
      "Epoch 162/200\n",
      "8/8 [==============================] - 0s 4ms/step - loss: 4.5535 - val_loss: 4.3218\n",
      "Epoch 163/200\n",
      "8/8 [==============================] - 0s 4ms/step - loss: 4.4996 - val_loss: 4.1433\n",
      "Epoch 164/200\n",
      "8/8 [==============================] - 0s 3ms/step - loss: 4.1487 - val_loss: 4.8869\n",
      "Epoch 165/200\n",
      "8/8 [==============================] - 0s 4ms/step - loss: 4.4756 - val_loss: 3.9608\n",
      "Epoch 166/200\n",
      "8/8 [==============================] - 0s 4ms/step - loss: 4.6336 - val_loss: 4.6093\n",
      "Epoch 167/200\n",
      "8/8 [==============================] - 0s 4ms/step - loss: 4.4289 - val_loss: 3.7245\n",
      "Epoch 168/200\n",
      "8/8 [==============================] - 0s 4ms/step - loss: 4.7300 - val_loss: 5.0684\n",
      "Epoch 169/200\n",
      "8/8 [==============================] - 0s 4ms/step - loss: 4.6385 - val_loss: 4.0349\n",
      "Epoch 170/200\n",
      "8/8 [==============================] - 0s 4ms/step - loss: 4.4871 - val_loss: 4.0089\n",
      "Epoch 171/200\n",
      "8/8 [==============================] - 0s 4ms/step - loss: 4.4177 - val_loss: 5.0195\n",
      "Epoch 172/200\n",
      "8/8 [==============================] - 0s 3ms/step - loss: 4.6766 - val_loss: 3.8173\n",
      "Epoch 173/200\n",
      "8/8 [==============================] - 0s 4ms/step - loss: 4.7410 - val_loss: 6.2890\n",
      "Epoch 174/200\n",
      "8/8 [==============================] - 0s 4ms/step - loss: 4.7884 - val_loss: 3.9253\n",
      "Epoch 175/200\n",
      "8/8 [==============================] - 0s 4ms/step - loss: 4.3216 - val_loss: 4.2854\n",
      "Epoch 176/200\n",
      "8/8 [==============================] - 0s 4ms/step - loss: 4.3284 - val_loss: 3.7648\n",
      "Epoch 177/200\n",
      "8/8 [==============================] - 0s 4ms/step - loss: 4.6827 - val_loss: 4.3563\n",
      "Epoch 178/200\n",
      "8/8 [==============================] - 0s 3ms/step - loss: 4.4436 - val_loss: 3.7824\n",
      "Epoch 179/200\n",
      "8/8 [==============================] - 0s 4ms/step - loss: 4.6062 - val_loss: 3.9593\n",
      "Epoch 180/200\n",
      "8/8 [==============================] - 0s 4ms/step - loss: 3.9511 - val_loss: 3.9641\n",
      "Epoch 181/200\n",
      "8/8 [==============================] - 0s 4ms/step - loss: 4.2113 - val_loss: 4.2128\n",
      "Epoch 182/200\n",
      "8/8 [==============================] - 0s 4ms/step - loss: 4.3407 - val_loss: 3.7724\n",
      "Epoch 183/200\n",
      "8/8 [==============================] - 0s 4ms/step - loss: 4.4684 - val_loss: 3.7574\n",
      "Epoch 184/200\n",
      "8/8 [==============================] - 0s 4ms/step - loss: 4.6059 - val_loss: 5.2423\n",
      "Epoch 185/200\n",
      "8/8 [==============================] - 0s 4ms/step - loss: 4.6012 - val_loss: 3.6761\n",
      "Epoch 186/200\n",
      "8/8 [==============================] - 0s 4ms/step - loss: 4.4943 - val_loss: 4.8222\n",
      "Epoch 187/200\n",
      "8/8 [==============================] - 0s 4ms/step - loss: 4.1293 - val_loss: 3.7433\n",
      "Epoch 188/200\n",
      "8/8 [==============================] - 0s 4ms/step - loss: 4.3565 - val_loss: 4.3535\n",
      "Epoch 189/200\n",
      "8/8 [==============================] - 0s 4ms/step - loss: 4.2352 - val_loss: 3.8774\n",
      "Epoch 190/200\n",
      "8/8 [==============================] - 0s 4ms/step - loss: 4.1699 - val_loss: 3.9482\n",
      "Epoch 191/200\n",
      "8/8 [==============================] - 0s 4ms/step - loss: 4.1998 - val_loss: 4.8835\n",
      "Epoch 192/200\n",
      "8/8 [==============================] - 0s 4ms/step - loss: 4.1826 - val_loss: 4.0434\n",
      "Epoch 193/200\n",
      "8/8 [==============================] - 0s 4ms/step - loss: 4.1812 - val_loss: 3.8827\n",
      "Epoch 194/200\n",
      "8/8 [==============================] - 0s 4ms/step - loss: 4.4203 - val_loss: 4.9812\n",
      "Epoch 195/200\n",
      "8/8 [==============================] - 0s 4ms/step - loss: 4.1441 - val_loss: 3.7314\n",
      "Epoch 196/200\n",
      "8/8 [==============================] - 0s 4ms/step - loss: 4.3151 - val_loss: 4.5404\n",
      "Epoch 197/200\n",
      "8/8 [==============================] - 0s 4ms/step - loss: 4.3752 - val_loss: 4.1507\n",
      "Epoch 198/200\n",
      "8/8 [==============================] - 0s 4ms/step - loss: 4.2671 - val_loss: 3.6931\n",
      "Epoch 199/200\n",
      "8/8 [==============================] - 0s 4ms/step - loss: 4.4497 - val_loss: 5.1871\n",
      "Epoch 200/200\n",
      "8/8 [==============================] - 0s 4ms/step - loss: 4.3451 - val_loss: 3.6956\n"
     ]
    }
   ],
   "source": [
    "#Fit model:\n",
    "from tensorflow.keras.callbacks import EarlyStopping\n",
    "early_stopping_minitor = EarlyStopping(patience=200)\n",
    "\n",
    "#train model:\n",
    "history = model.fit(x_train, y_train,\n",
    " epochs=200,\n",
    " batch_size=32,\n",
    " validation_split=0.2,\n",
    " callbacks=[early_stopping_minitor])"
   ]
  },
  {
   "cell_type": "code",
   "execution_count": 15,
   "metadata": {
    "id": "qInZXkyoYF2v"
   },
   "outputs": [
    {
     "name": "stdout",
     "output_type": "stream",
     "text": [
      "3/3 [==============================] - 0s 1ms/step\n"
     ]
    }
   ],
   "source": [
    "y_pred = model.predict(x_test)"
   ]
  },
  {
   "cell_type": "code",
   "execution_count": 16,
   "metadata": {},
   "outputs": [
    {
     "name": "stdout",
     "output_type": "stream",
     "text": [
      "dict_keys(['loss', 'val_loss'])\n"
     ]
    },
    {
     "data": {
      "image/png": "[encoded data removed]",
      "text/plain": [
       "<Figure size 432x288 with 1 Axes>"
      ]
     },
     "metadata": {
      "needs_background": "light"
     },
     "output_type": "display_data"
    }
   ],
   "source": [
    "# Plot loss of train and test set\n",
    "print(history.history.keys())\n",
    "\n",
    "#Loss in train and test:\n",
    "plt.plot(history.history['loss'])\n",
    "plt.plot(history.history['val_loss'])\n",
    "plt.title('model_loss')\n",
    "plt.xlabel('epoch')\n",
    "plt.ylabel('loss')\n",
    "plt.legend(['train', 'validation'], loc='upper right')\n",
    "plt.show()"
   ]
  },
  {
   "cell_type": "code",
   "execution_count": 17,
   "metadata": {},
   "outputs": [
    {
     "name": "stdout",
     "output_type": "stream",
     "text": [
      "Evaluation on test data\n",
      "10/10 [==============================] - 0s 651us/step - loss: 3.3735\n",
      "mae:  3.3734731674194336\n"
     ]
    }
   ],
   "source": [
    "#evaluate the result\n",
    "print('Evaluation on test data')\n",
    "results = model.evaluate(x_train, y_train)\n",
    "print('mae: ', results)"
   ]
  },
  {
   "cell_type": "code",
   "execution_count": 18,
   "metadata": {},
   "outputs": [
    {
     "data": {
      "text/plain": [
       "count    506.000000\n",
       "mean      22.532806\n",
       "std        9.197104\n",
       "min        5.000000\n",
       "25%       17.025000\n",
       "50%       21.200000\n",
       "75%       25.000000\n",
       "max       50.000000\n",
       "Name: MEDV, dtype: float64"
      ]
     },
     "execution_count": 18,
     "metadata": {},
     "output_type": "execute_result"
    }
   ],
   "source": [
    "data.MEDV.describe()"
   ]
  },
  {
   "cell_type": "code",
   "execution_count": 20,
   "metadata": {},
   "outputs": [
    {
     "data": {
      "text/plain": [
       "0.14957833999112294"
      ]
     },
     "execution_count": 20,
     "metadata": {},
     "output_type": "execute_result"
    }
   ],
   "source": [
    "#mae/mean ratio : 14%\n",
    "\n",
    "3.37/22.53"
   ]
  }
 ],
 "metadata": {
  "colab": {
   "authorship_tag": "ABX9TyN/wBa64zPEsVW1nNEJBUYF",
   "collapsed_sections": [],
   "provenance": []
  },
  "kernelspec": {
   "display_name": "Python 3",
   "language": "python",
   "name": "python3"
  },
  "language_info": {
   "codemirror_mode": {
    "name": "ipython",
    "version": 3
   },
   "file_extension": ".py",
   "mimetype": "text/x-python",
   "name": "python",
   "nbconvert_exporter": "python",
   "pygments_lexer": "ipython3",
   "version": "3.8.12"
  }
 },
 "nbformat": 4,
 "nbformat_minor": 4
}
