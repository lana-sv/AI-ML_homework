{
 "cells": [
  {
   "cell_type": "code",
   "execution_count": 1,
   "metadata": {
    "executionInfo": {
     "elapsed": 10,
     "status": "ok",
     "timestamp": 1665327427202,
     "user": {
      "displayName": "shaik azar",
      "userId": "05209245971384166097"
     },
     "user_tz": -330
    },
    "id": "8qtNdNTGPSxh"
   },
   "outputs": [],
   "source": [
    "\n",
    "#https://www.kaggle.com/code/vikashrajluhaniwal/matrix-factorization-recommendation-using-pyspark/notebook\n",
    "\n",
    "#https://www.kaggle.com/code/vikashrajluhaniwal/matrix-factorization-recommendation-using-pyspark/data\n",
    "\n",
    "import numpy as np\n",
    "import pandas as pd\n",
    "import seaborn as sns\n",
    "import matplotlib.pyplot as plt\n",
    "\n",
    "import sklearn\n",
    "\n",
    "from pyspark import SparkContext, SQLContext   # required for dealing with dataframes\n",
    "from pyspark.sql.functions import isnan, count, col\n",
    "from pyspark.ml.evaluation import RegressionEvaluator\n",
    "import numpy as np\n",
    "import pandas as pd\n",
    "import matplotlib.pyplot as plt\n",
    "import seaborn as sns\n",
    "from pyspark.ml.recommendation import ALS      # for Matrix Factorization using ALS "
   ]
  },
  {
   "cell_type": "code",
   "execution_count": 2,
   "metadata": {},
   "outputs": [],
   "source": [
    "#!pip install pyspark"
   ]
  },
  {
   "cell_type": "code",
   "execution_count": 3,
   "metadata": {},
   "outputs": [
    {
     "name": "stderr",
     "output_type": "stream",
     "text": [
      "/Users/lana-n/opt/anaconda3/lib/python3.8/site-packages/pyspark/sql/context.py:112: FutureWarning: Deprecated in 3.0.0. Use SparkSession.builder.getOrCreate() instead.\n",
      "  warnings.warn(\n"
     ]
    }
   ],
   "source": [
    "sc = SparkContext()      # instantiating spark context \n",
    "sqlContext = SQLContext(sc) # instantiating SQL context "
   ]
  },
  {
   "cell_type": "code",
   "execution_count": 4,
   "metadata": {
    "executionInfo": {
     "elapsed": 4,
     "status": "ok",
     "timestamp": 1665329164058,
     "user": {
      "displayName": "shaik azar",
      "userId": "05209245971384166097"
     },
     "user_tz": -330
    },
    "id": "Z7p71Nq6PxEh"
   },
   "outputs": [],
   "source": [
    "jester_ratings_df = sqlContext.read.csv(\"/Users/lana-n/datacsv/jester_ratings.csv\",header = True, inferSchema = True)\n",
    "jester_items_df = sqlContext.read.csv(\"/Users/lana-n/datacsv/jester_items.csv\",header = True, inferSchema = True)"
   ]
  },
  {
   "cell_type": "code",
   "execution_count": 5,
   "metadata": {
    "colab": {
     "base_uri": "https://localhost:8080/",
     "height": 488
    },
    "executionInfo": {
     "elapsed": 10,
     "status": "ok",
     "timestamp": 1665329166860,
     "user": {
      "displayName": "shaik azar",
      "userId": "05209245971384166097"
     },
     "user_tz": -330
    },
    "id": "YNIOl21TP_rE",
    "outputId": "899b2c2a-7235-48a5-e2c1-a9a0d8e2047d"
   },
   "outputs": [
    {
     "name": "stdout",
     "output_type": "stream",
     "text": [
      "Ratings dataset shape: (1761439, 3)\n"
     ]
    }
   ],
   "source": [
    "print(\"Ratings dataset shape:\", (jester_ratings_df.count(), len(jester_ratings_df.columns)))\n"
   ]
  },
  {
   "cell_type": "code",
   "execution_count": 6,
   "metadata": {},
   "outputs": [
    {
     "name": "stdout",
     "output_type": "stream",
     "text": [
      "+------+------+-------------------+\n",
      "|userId|jokeId|             rating|\n",
      "+------+------+-------------------+\n",
      "|     1|     5|0.21899999999999997|\n",
      "|     1|     7|             -9.281|\n",
      "|     1|     8|             -9.281|\n",
      "|     1|    13| -6.781000000000001|\n",
      "|     1|    15|              0.875|\n",
      "+------+------+-------------------+\n",
      "only showing top 5 rows\n",
      "\n"
     ]
    }
   ],
   "source": [
    "\n",
    "jester_ratings_df.show(5)"
   ]
  },
  {
   "cell_type": "code",
   "execution_count": 7,
   "metadata": {
    "colab": {
     "base_uri": "https://localhost:8080/"
    },
    "executionInfo": {
     "elapsed": 2253,
     "status": "ok",
     "timestamp": 1665329115505,
     "user": {
      "displayName": "shaik azar",
      "userId": "05209245971384166097"
     },
     "user_tz": -330
    },
    "id": "iLB4dkFIWYJ3",
    "outputId": "c06626f8-7ac2-4d64-e977-04d4f6c7f5e6"
   },
   "outputs": [],
   "source": [
    "df1 = pd.read_csv(\"/Users/lana-n/datacsv/jester_ratings.csv\")\n",
    "df2 = pd.read_csv(\"/Users/lana-n/datacsv/jester_items.csv\")"
   ]
  },
  {
   "cell_type": "code",
   "execution_count": 8,
   "metadata": {},
   "outputs": [
    {
     "data": {
      "text/html": [
       "<div>\n",
       "<style scoped>\n",
       "    .dataframe tbody tr th:only-of-type {\n",
       "        vertical-align: middle;\n",
       "    }\n",
       "\n",
       "    .dataframe tbody tr th {\n",
       "        vertical-align: top;\n",
       "    }\n",
       "\n",
       "    .dataframe thead th {\n",
       "        text-align: right;\n",
       "    }\n",
       "</style>\n",
       "<table border=\"1\" class=\"dataframe\">\n",
       "  <thead>\n",
       "    <tr style=\"text-align: right;\">\n",
       "      <th></th>\n",
       "      <th>userId</th>\n",
       "      <th>jokeId</th>\n",
       "      <th>rating</th>\n",
       "    </tr>\n",
       "  </thead>\n",
       "  <tbody>\n",
       "    <tr>\n",
       "      <th>0</th>\n",
       "      <td>1</td>\n",
       "      <td>5</td>\n",
       "      <td>0.219</td>\n",
       "    </tr>\n",
       "    <tr>\n",
       "      <th>1</th>\n",
       "      <td>1</td>\n",
       "      <td>7</td>\n",
       "      <td>-9.281</td>\n",
       "    </tr>\n",
       "    <tr>\n",
       "      <th>2</th>\n",
       "      <td>1</td>\n",
       "      <td>8</td>\n",
       "      <td>-9.281</td>\n",
       "    </tr>\n",
       "    <tr>\n",
       "      <th>3</th>\n",
       "      <td>1</td>\n",
       "      <td>13</td>\n",
       "      <td>-6.781</td>\n",
       "    </tr>\n",
       "    <tr>\n",
       "      <th>4</th>\n",
       "      <td>1</td>\n",
       "      <td>15</td>\n",
       "      <td>0.875</td>\n",
       "    </tr>\n",
       "    <tr>\n",
       "      <th>...</th>\n",
       "      <td>...</td>\n",
       "      <td>...</td>\n",
       "      <td>...</td>\n",
       "    </tr>\n",
       "    <tr>\n",
       "      <th>1761434</th>\n",
       "      <td>63978</td>\n",
       "      <td>57</td>\n",
       "      <td>-8.531</td>\n",
       "    </tr>\n",
       "    <tr>\n",
       "      <th>1761435</th>\n",
       "      <td>63978</td>\n",
       "      <td>24</td>\n",
       "      <td>-9.062</td>\n",
       "    </tr>\n",
       "    <tr>\n",
       "      <th>1761436</th>\n",
       "      <td>63978</td>\n",
       "      <td>124</td>\n",
       "      <td>-9.031</td>\n",
       "    </tr>\n",
       "    <tr>\n",
       "      <th>1761437</th>\n",
       "      <td>63978</td>\n",
       "      <td>58</td>\n",
       "      <td>-8.656</td>\n",
       "    </tr>\n",
       "    <tr>\n",
       "      <th>1761438</th>\n",
       "      <td>63978</td>\n",
       "      <td>44</td>\n",
       "      <td>-8.438</td>\n",
       "    </tr>\n",
       "  </tbody>\n",
       "</table>\n",
       "<p>1761439 rows × 3 columns</p>\n",
       "</div>"
      ],
      "text/plain": [
       "         userId  jokeId  rating\n",
       "0             1       5   0.219\n",
       "1             1       7  -9.281\n",
       "2             1       8  -9.281\n",
       "3             1      13  -6.781\n",
       "4             1      15   0.875\n",
       "...         ...     ...     ...\n",
       "1761434   63978      57  -8.531\n",
       "1761435   63978      24  -9.062\n",
       "1761436   63978     124  -9.031\n",
       "1761437   63978      58  -8.656\n",
       "1761438   63978      44  -8.438\n",
       "\n",
       "[1761439 rows x 3 columns]"
      ]
     },
     "execution_count": 8,
     "metadata": {},
     "output_type": "execute_result"
    }
   ],
   "source": [
    "df1"
   ]
  },
  {
   "cell_type": "code",
   "execution_count": 9,
   "metadata": {},
   "outputs": [
    {
     "data": {
      "text/html": [
       "<div>\n",
       "<style scoped>\n",
       "    .dataframe tbody tr th:only-of-type {\n",
       "        vertical-align: middle;\n",
       "    }\n",
       "\n",
       "    .dataframe tbody tr th {\n",
       "        vertical-align: top;\n",
       "    }\n",
       "\n",
       "    .dataframe thead th {\n",
       "        text-align: right;\n",
       "    }\n",
       "</style>\n",
       "<table border=\"1\" class=\"dataframe\">\n",
       "  <thead>\n",
       "    <tr style=\"text-align: right;\">\n",
       "      <th></th>\n",
       "      <th>jokeId</th>\n",
       "      <th>jokeText</th>\n",
       "    </tr>\n",
       "  </thead>\n",
       "  <tbody>\n",
       "    <tr>\n",
       "      <th>0</th>\n",
       "      <td>1</td>\n",
       "      <td>A man visits the doctor. The doctor says \"I ha...</td>\n",
       "    </tr>\n",
       "    <tr>\n",
       "      <th>1</th>\n",
       "      <td>2</td>\n",
       "      <td>This couple had an excellent relationship goin...</td>\n",
       "    </tr>\n",
       "    <tr>\n",
       "      <th>2</th>\n",
       "      <td>3</td>\n",
       "      <td>Q. What's 200 feet long and has 4 teeth? \\n\\nA...</td>\n",
       "    </tr>\n",
       "    <tr>\n",
       "      <th>3</th>\n",
       "      <td>4</td>\n",
       "      <td>Q. What's the difference between a man and a t...</td>\n",
       "    </tr>\n",
       "    <tr>\n",
       "      <th>4</th>\n",
       "      <td>5</td>\n",
       "      <td>Q.\\tWhat's O. J. Simpson's Internet address? \\...</td>\n",
       "    </tr>\n",
       "    <tr>\n",
       "      <th>...</th>\n",
       "      <td>...</td>\n",
       "      <td>...</td>\n",
       "    </tr>\n",
       "    <tr>\n",
       "      <th>145</th>\n",
       "      <td>146</td>\n",
       "      <td>America: 8:00 - Welcome to work! 12:00 - Lunch...</td>\n",
       "    </tr>\n",
       "    <tr>\n",
       "      <th>146</th>\n",
       "      <td>147</td>\n",
       "      <td>It was the day of the big sale. Rumors of the ...</td>\n",
       "    </tr>\n",
       "    <tr>\n",
       "      <th>147</th>\n",
       "      <td>148</td>\n",
       "      <td>Recently a teacher, a garbage collector, and a...</td>\n",
       "    </tr>\n",
       "    <tr>\n",
       "      <th>148</th>\n",
       "      <td>149</td>\n",
       "      <td>A little girl asked her father, \"Daddy? Do all...</td>\n",
       "    </tr>\n",
       "    <tr>\n",
       "      <th>149</th>\n",
       "      <td>150</td>\n",
       "      <td>In an interview with David Letterman, Carter p...</td>\n",
       "    </tr>\n",
       "  </tbody>\n",
       "</table>\n",
       "<p>150 rows × 2 columns</p>\n",
       "</div>"
      ],
      "text/plain": [
       "     jokeId                                           jokeText\n",
       "0         1  A man visits the doctor. The doctor says \"I ha...\n",
       "1         2  This couple had an excellent relationship goin...\n",
       "2         3  Q. What's 200 feet long and has 4 teeth? \\n\\nA...\n",
       "3         4  Q. What's the difference between a man and a t...\n",
       "4         5  Q.\\tWhat's O. J. Simpson's Internet address? \\...\n",
       "..      ...                                                ...\n",
       "145     146  America: 8:00 - Welcome to work! 12:00 - Lunch...\n",
       "146     147  It was the day of the big sale. Rumors of the ...\n",
       "147     148  Recently a teacher, a garbage collector, and a...\n",
       "148     149  A little girl asked her father, \"Daddy? Do all...\n",
       "149     150  In an interview with David Letterman, Carter p...\n",
       "\n",
       "[150 rows x 2 columns]"
      ]
     },
     "execution_count": 9,
     "metadata": {},
     "output_type": "execute_result"
    }
   ],
   "source": [
    "df2"
   ]
  },
  {
   "cell_type": "code",
   "execution_count": 10,
   "metadata": {},
   "outputs": [
    {
     "data": {
      "text/plain": [
       "(1761439, 3)"
      ]
     },
     "execution_count": 10,
     "metadata": {},
     "output_type": "execute_result"
    }
   ],
   "source": [
    "df1.shape"
   ]
  },
  {
   "cell_type": "code",
   "execution_count": 11,
   "metadata": {},
   "outputs": [
    {
     "data": {
      "text/plain": [
       "(150, 2)"
      ]
     },
     "execution_count": 11,
     "metadata": {},
     "output_type": "execute_result"
    }
   ],
   "source": [
    "df2.shape"
   ]
  },
  {
   "cell_type": "code",
   "execution_count": 12,
   "metadata": {},
   "outputs": [
    {
     "data": {
      "text/plain": [
       "150"
      ]
     },
     "execution_count": 12,
     "metadata": {},
     "output_type": "execute_result"
    }
   ],
   "source": [
    "df2[\"jokeId\"].nunique()"
   ]
  },
  {
   "cell_type": "code",
   "execution_count": 13,
   "metadata": {},
   "outputs": [
    {
     "data": {
      "text/plain": [
       "userId      int64\n",
       "jokeId      int64\n",
       "rating    float64\n",
       "dtype: object"
      ]
     },
     "execution_count": 13,
     "metadata": {},
     "output_type": "execute_result"
    }
   ],
   "source": [
    "df1.dtypes"
   ]
  },
  {
   "cell_type": "code",
   "execution_count": 14,
   "metadata": {},
   "outputs": [
    {
     "data": {
      "text/plain": [
       "{1, 2, 3, 4, 6, 9, 10, 11, 12, 14}"
      ]
     },
     "execution_count": 14,
     "metadata": {},
     "output_type": "execute_result"
    }
   ],
   "source": [
    "set(df2[\"jokeId\"].unique().tolist()) - set(df1[\"jokeId\"].unique().tolist())"
   ]
  },
  {
   "cell_type": "code",
   "execution_count": 15,
   "metadata": {},
   "outputs": [
    {
     "data": {
      "text/html": [
       "<div>\n",
       "<style scoped>\n",
       "    .dataframe tbody tr th:only-of-type {\n",
       "        vertical-align: middle;\n",
       "    }\n",
       "\n",
       "    .dataframe tbody tr th {\n",
       "        vertical-align: top;\n",
       "    }\n",
       "\n",
       "    .dataframe thead th {\n",
       "        text-align: right;\n",
       "    }\n",
       "</style>\n",
       "<table border=\"1\" class=\"dataframe\">\n",
       "  <thead>\n",
       "    <tr style=\"text-align: right;\">\n",
       "      <th></th>\n",
       "      <th>userId</th>\n",
       "      <th>jokeId</th>\n",
       "      <th>rating</th>\n",
       "    </tr>\n",
       "  </thead>\n",
       "  <tbody>\n",
       "  </tbody>\n",
       "</table>\n",
       "</div>"
      ],
      "text/plain": [
       "Empty DataFrame\n",
       "Columns: [userId, jokeId, rating]\n",
       "Index: []"
      ]
     },
     "execution_count": 15,
     "metadata": {},
     "output_type": "execute_result"
    }
   ],
   "source": [
    "df1[df1[\"jokeId\"].isin([1, 2, 3, 4, 6, 9, 10, 11, 12, 14])]"
   ]
  },
  {
   "cell_type": "code",
   "execution_count": 16,
   "metadata": {
    "colab": {
     "base_uri": "https://localhost:8080/"
    },
    "executionInfo": {
     "elapsed": 14,
     "status": "ok",
     "timestamp": 1665329938563,
     "user": {
      "displayName": "shaik azar",
      "userId": "05209245971384166097"
     },
     "user_tz": -330
    },
    "id": "Pw242S_QWI1z",
    "outputId": "cc2b0149-6e28-4b95-ff3c-f767a7814d2a"
   },
   "outputs": [
    {
     "data": {
      "text/plain": [
       "userId    0\n",
       "jokeId    0\n",
       "rating    0\n",
       "dtype: int64"
      ]
     },
     "execution_count": 16,
     "metadata": {},
     "output_type": "execute_result"
    }
   ],
   "source": [
    "df1.isnull().sum()"
   ]
  },
  {
   "cell_type": "code",
   "execution_count": 17,
   "metadata": {},
   "outputs": [
    {
     "data": {
      "text/plain": [
       "jokeId      0\n",
       "jokeText    0\n",
       "dtype: int64"
      ]
     },
     "execution_count": 17,
     "metadata": {},
     "output_type": "execute_result"
    }
   ],
   "source": [
    "df2.isnull().sum()"
   ]
  },
  {
   "cell_type": "code",
   "execution_count": 18,
   "metadata": {
    "executionInfo": {
     "elapsed": 4,
     "status": "ok",
     "timestamp": 1665330039050,
     "user": {
      "displayName": "shaik azar",
      "userId": "05209245971384166097"
     },
     "user_tz": -330
    },
    "id": "2uniUlaQZnBJ"
   },
   "outputs": [
    {
     "data": {
      "text/plain": [
       "10.0"
      ]
     },
     "execution_count": 18,
     "metadata": {},
     "output_type": "execute_result"
    }
   ],
   "source": [
    "df1[\"rating\"].max()"
   ]
  },
  {
   "cell_type": "code",
   "execution_count": 19,
   "metadata": {},
   "outputs": [
    {
     "name": "stdout",
     "output_type": "stream",
     "text": [
      "+------+------+-------------------+\n",
      "|userId|jokeId|             rating|\n",
      "+------+------+-------------------+\n",
      "|     1|     5|0.21899999999999997|\n",
      "|     1|     7|             -9.281|\n",
      "|     1|     8|             -9.281|\n",
      "|     1|    13| -6.781000000000001|\n",
      "|     1|    15|              0.875|\n",
      "+------+------+-------------------+\n",
      "only showing top 5 rows\n",
      "\n"
     ]
    }
   ],
   "source": [
    "jester_ratings_df.show(5)"
   ]
  },
  {
   "cell_type": "code",
   "execution_count": 20,
   "metadata": {
    "executionInfo": {
     "elapsed": 822,
     "status": "ok",
     "timestamp": 1665330052054,
     "user": {
      "displayName": "shaik azar",
      "userId": "05209245971384166097"
     },
     "user_tz": -330
    },
    "id": "rqbEg87HQIf_"
   },
   "outputs": [
    {
     "name": "stdout",
     "output_type": "stream",
     "text": [
      "Number of unique users:  59132\n",
      "Number of unique jokes:  140\n",
      "Total number of ratings:  1761439\n"
     ]
    }
   ],
   "source": [
    "print(\"Number of unique users: \", jester_ratings_df.select(\"userId\").distinct().count())\n",
    "print(\"Number of unique jokes: \", jester_ratings_df.select(\"jokeId\").distinct().count())\n",
    "print(\"Total number of ratings: \", jester_ratings_df.count())"
   ]
  },
  {
   "cell_type": "code",
   "execution_count": 21,
   "metadata": {
    "colab": {
     "base_uri": "https://localhost:8080/"
    },
    "executionInfo": {
     "elapsed": 8,
     "status": "ok",
     "timestamp": 1665330057103,
     "user": {
      "displayName": "shaik azar",
      "userId": "05209245971384166097"
     },
     "user_tz": -330
    },
    "id": "FAFOgQSTQUhB",
    "outputId": "afb83821-572b-4e24-808b-35312ee92f37"
   },
   "outputs": [
    {
     "name": "stderr",
     "output_type": "stream",
     "text": [
      "/Users/lana-n/opt/anaconda3/lib/python3.8/site-packages/seaborn/distributions.py:2557: FutureWarning: `distplot` is a deprecated function and will be removed in a future version. Please adapt your code to use either `displot` (a figure-level function with similar flexibility) or `histplot` (an axes-level function for histograms).\n",
      "  warnings.warn(msg, FutureWarning)\n"
     ]
    },
    {
     "data": {
      "text/plain": [
       "Text(0, 0.5, 'Total number of ratings')"
      ]
     },
     "execution_count": 21,
     "metadata": {},
     "output_type": "execute_result"
    },
    {
     "data": {
      "image/png": "[encoded data removed]",
      "text/plain": [
       "<Figure size 576x432 with 1 Axes>"
      ]
     },
     "metadata": {
      "needs_background": "light"
     },
     "output_type": "display_data"
    }
   ],
   "source": [
    "fig, ax = plt.subplots(figsize=(8,6))\n",
    "ax.set_title('Ratings distribution', fontsize=15)\n",
    "sns.distplot(jester_ratings_df.toPandas()['rating'], kde=False, bins = 8,hist_kws=dict(edgecolor=\"k\", linewidth=2))\n",
    "ax.set_xlabel(\"ratings in interval\")\n",
    "ax.set_ylabel(\"Total number of ratings\")"
   ]
  },
  {
   "cell_type": "code",
   "execution_count": 22,
   "metadata": {},
   "outputs": [
    {
     "name": "stdout",
     "output_type": "stream",
     "text": [
      "+-------+------------------+------------------+\n",
      "|summary|            userId|     count(rating)|\n",
      "+-------+------------------+------------------+\n",
      "|  count|             59132|             59132|\n",
      "|   mean|31967.599996617737|29.788253399174728|\n",
      "| stddev|18330.168879129356| 32.80176140980319|\n",
      "|    min|                 1|                 1|\n",
      "|    max|             63978|               140|\n",
      "+-------+------------------+------------------+\n",
      "\n"
     ]
    }
   ],
   "source": [
    "ratings_per_user = jester_ratings_df.groupby('userId').agg({\"rating\":\"count\"})\n",
    "ratings_per_user.describe().show()"
   ]
  },
  {
   "cell_type": "code",
   "execution_count": 23,
   "metadata": {
    "colab": {
     "base_uri": "https://localhost:8080/"
    },
    "executionInfo": {
     "elapsed": 9,
     "status": "ok",
     "timestamp": 1665330060482,
     "user": {
      "displayName": "shaik azar",
      "userId": "05209245971384166097"
     },
     "user_tz": -330
    },
    "id": "RN7DLB4IQWDc",
    "outputId": "440eaabc-8c05-4db7-9e6a-c9d0b751d8a9"
   },
   "outputs": [
    {
     "name": "stdout",
     "output_type": "stream",
     "text": [
      "+-------+------------------+------------------+\n",
      "|summary|            jokeId|     count(rating)|\n",
      "+-------+------------------+------------------+\n",
      "|  count|               140|               140|\n",
      "|   mean| 80.37857142857143|12581.707142857143|\n",
      "| stddev|40.771951823508005|11866.405872802346|\n",
      "|    min|                 5|               166|\n",
      "|    max|               150|             59122|\n",
      "+-------+------------------+------------------+\n",
      "\n"
     ]
    }
   ],
   "source": [
    "ratings_per_joke = jester_ratings_df.groupby('jokeId').agg({\"rating\":\"count\"})\n",
    "ratings_per_joke.describe().show()"
   ]
  },
  {
   "cell_type": "code",
   "execution_count": 24,
   "metadata": {
    "id": "UEENwze_UTyC"
   },
   "outputs": [
    {
     "name": "stdout",
     "output_type": "stream",
     "text": [
      "Training data size :  1584472\n",
      "Test data size :  176967\n",
      "Number of unique users in Training set 58976\n",
      "Number of unique users in Test set 44897\n"
     ]
    }
   ],
   "source": [
    "X_train, X_test = jester_ratings_df.randomSplit([0.9,0.1])   # 90:10 ratio\n",
    "print(\"Training data size : \", X_train.count())\n",
    "print(\"Test data size : \", X_test.count())\n",
    "print(\"Number of unique users in Training set\", X_train[[\"userId\"]].distinct().count())\n",
    "print(\"Number of unique users in Test set\", X_test[[\"userId\"]].distinct().count())"
   ]
  },
  {
   "cell_type": "code",
   "execution_count": 25,
   "metadata": {
    "executionInfo": {
     "elapsed": 4,
     "status": "ok",
     "timestamp": 1665330065074,
     "user": {
      "displayName": "shaik azar",
      "userId": "05209245971384166097"
     },
     "user_tz": -330
    },
    "id": "TVNxfzm5QW8f"
   },
   "outputs": [],
   "source": [
    "als = ALS(userCol=\"userId\",itemCol=\"jokeId\",ratingCol=\"rating\",rank=5, maxIter=10, seed=0)\n",
    "model = als.fit(X_train)"
   ]
  },
  {
   "cell_type": "code",
   "execution_count": 26,
   "metadata": {},
   "outputs": [
    {
     "name": "stdout",
     "output_type": "stream",
     "text": [
      "+---+---------------------------------------------------------------+\n",
      "|id |features                                                       |\n",
      "+---+---------------------------------------------------------------+\n",
      "|10 |[-1.3194503, -0.036954522, 1.0630358, -0.47795826, -0.5625431] |\n",
      "|40 |[0.10418015, -1.9727509, 0.40754092, 2.0121865, -2.047171]     |\n",
      "|50 |[-1.9358298, -0.28178775, -0.63467675, -0.77738357, -1.6449097]|\n",
      "|60 |[1.5819291, 1.0254087, 0.18734501, 2.9856377, 3.8196201]       |\n",
      "|80 |[-3.1529217, -0.9871033, 0.99292904, -1.3100173, 1.1474644]    |\n",
      "+---+---------------------------------------------------------------+\n",
      "only showing top 5 rows\n",
      "\n"
     ]
    }
   ],
   "source": [
    "# displaying the latent features for five users\n",
    "model.userFactors.show(5, truncate = False)  "
   ]
  },
  {
   "cell_type": "code",
   "execution_count": 27,
   "metadata": {
    "executionInfo": {
     "elapsed": 1,
     "status": "ok",
     "timestamp": 1665330068344,
     "user": {
      "displayName": "shaik azar",
      "userId": "05209245971384166097"
     },
     "user_tz": -330
    },
    "id": "r0LO-ofKUhSB"
   },
   "outputs": [
    {
     "name": "stdout",
     "output_type": "stream",
     "text": [
      "+------+------+-----------------+----------+\n",
      "|userId|jokeId|           rating|prediction|\n",
      "+------+------+-----------------+----------+\n",
      "|     1|     7|           -9.281| -7.538088|\n",
      "|     1|    68|           -0.125|  6.273683|\n",
      "|     1|    69|8.687999999999999| 5.1665807|\n",
      "|     1|    83|            8.781| 1.3578842|\n",
      "|     1|   105|              2.0|  6.227826|\n",
      "+------+------+-----------------+----------+\n",
      "only showing top 5 rows\n",
      "\n"
     ]
    }
   ],
   "source": [
    "model.transform(X_test).show(5)"
   ]
  },
  {
   "cell_type": "code",
   "execution_count": 28,
   "metadata": {
    "executionInfo": {
     "elapsed": 5,
     "status": "ok",
     "timestamp": 1665329231326,
     "user": {
      "displayName": "shaik azar",
      "userId": "05209245971384166097"
     },
     "user_tz": -330
    },
    "id": "qCrZ1bbYRHjL"
   },
   "outputs": [
    {
     "name": "stdout",
     "output_type": "stream",
     "text": [
      "+------+------+------------------+----------+\n",
      "|userId|jokeId|            rating|prediction|\n",
      "+------+------+------------------+----------+\n",
      "|  1466|     7|              8.25|       NaN|\n",
      "|  2646|     7|-4.093999999999999|       NaN|\n",
      "|  6185|     7|            -3.094|       NaN|\n",
      "|  6663|     7|             1.281|       NaN|\n",
      "|   675|     5|             0.188|       NaN|\n",
      "+------+------+------------------+----------+\n",
      "only showing top 5 rows\n",
      "\n"
     ]
    }
   ],
   "source": [
    "model.transform(X_test).where(isnan('prediction')).show(5)"
   ]
  },
  {
   "cell_type": "code",
   "execution_count": 29,
   "metadata": {
    "executionInfo": {
     "elapsed": 8,
     "status": "ok",
     "timestamp": 1665330071253,
     "user": {
      "displayName": "shaik azar",
      "userId": "05209245971384166097"
     },
     "user_tz": -330
    },
    "id": "YzDCMeK3Rt6G"
   },
   "outputs": [
    {
     "name": "stdout",
     "output_type": "stream",
     "text": [
      "+------+------+------------------+\n",
      "|userId|jokeId|            rating|\n",
      "+------+------+------------------+\n",
      "|   479|     5|            -3.656|\n",
      "| 19639|     7|-9.562000000000001|\n",
      "| 19639|     8| 7.781000000000001|\n",
      "| 19639|    13| 9.812000000000001|\n",
      "| 24578|     8|             2.375|\n",
      "| 54401|     7|            -9.531|\n",
      "| 54401|    13|            -9.594|\n",
      "| 63338|     7|            -9.156|\n",
      "| 63338|     8|            -5.312|\n",
      "| 63338|    13| 8.562000000000001|\n",
      "+------+------+------------------+\n",
      "\n"
     ]
    }
   ],
   "source": [
    "X_train[X_train.userId.isin([24578,54401,63338,19639,479])].show()"
   ]
  },
  {
   "cell_type": "code",
   "execution_count": 30,
   "metadata": {
    "executionInfo": {
     "elapsed": 3,
     "status": "ok",
     "timestamp": 1665330074215,
     "user": {
      "displayName": "shaik azar",
      "userId": "05209245971384166097"
     },
     "user_tz": -330
    },
    "id": "f7YZxhXsSI-F"
   },
   "outputs": [
    {
     "data": {
      "text/plain": [
       "178"
      ]
     },
     "execution_count": 30,
     "metadata": {},
     "output_type": "execute_result"
    }
   ],
   "source": [
    "# total number of NaN predictions\n",
    "model.transform(X_test).where(isnan('prediction')).count()"
   ]
  },
  {
   "cell_type": "code",
   "execution_count": 31,
   "metadata": {},
   "outputs": [
    {
     "name": "stdout",
     "output_type": "stream",
     "text": [
      "+------------+\n",
      "|  prediction|\n",
      "+------------+\n",
      "|   6.5696373|\n",
      "|     8.86694|\n",
      "|-0.012143016|\n",
      "|    5.405246|\n",
      "|    5.837604|\n",
      "|   2.6645417|\n",
      "|   2.5123115|\n",
      "|    4.572886|\n",
      "|   3.0240588|\n",
      "|   2.8663645|\n",
      "|   3.7062795|\n",
      "|   6.2938905|\n",
      "|    8.084857|\n",
      "|   7.9855614|\n",
      "|    1.267618|\n",
      "|  -2.7200015|\n",
      "| -0.26148987|\n",
      "| 0.006008446|\n",
      "|   2.7605088|\n",
      "|   1.0946792|\n",
      "+------------+\n",
      "only showing top 20 rows\n",
      "\n"
     ]
    }
   ],
   "source": [
    "model.transform(X_test[[\"userId\",\"jokeId\"]]).na.drop()[[\"prediction\"]].show()"
   ]
  },
  {
   "cell_type": "code",
   "execution_count": 32,
   "metadata": {
    "executionInfo": {
     "elapsed": 409,
     "status": "ok",
     "timestamp": 1665330076767,
     "user": {
      "displayName": "shaik azar",
      "userId": "05209245971384166097"
     },
     "user_tz": -330
    },
    "id": "fWbqbVchShPq"
   },
   "outputs": [],
   "source": [
    "evaluator=RegressionEvaluator(metricName=\"rmse\",labelCol=\"rating\",predictionCol=\"prediction\")"
   ]
  },
  {
   "cell_type": "code",
   "execution_count": 33,
   "metadata": {
    "executionInfo": {
     "elapsed": 7,
     "status": "ok",
     "timestamp": 1665330079698,
     "user": {
      "displayName": "shaik azar",
      "userId": "05209245971384166097"
     },
     "user_tz": -330
    },
    "id": "aFJmCSsdTAqM"
   },
   "outputs": [
    {
     "name": "stdout",
     "output_type": "stream",
     "text": [
      "RMSE on training data :  3.4293795093705266\n",
      "RMSE on test data:  4.3317511169205885\n"
     ]
    }
   ],
   "source": [
    "train_predictions = model.transform(X_train)\n",
    "test_predictions = model.transform(X_test).na.drop()\n",
    "print(\"RMSE on training data : \", evaluator.evaluate(train_predictions))\n",
    "print(\"RMSE on test data: \", evaluator.evaluate(test_predictions))"
   ]
  },
  {
   "cell_type": "code",
   "execution_count": 34,
   "metadata": {},
   "outputs": [],
   "source": [
    "from pyspark.ml.tuning import CrossValidator,ParamGridBuilder"
   ]
  },
  {
   "cell_type": "code",
   "execution_count": 35,
   "metadata": {
    "colab": {
     "base_uri": "https://localhost:8080/"
    },
    "executionInfo": {
     "elapsed": 5569,
     "status": "ok",
     "timestamp": 1665330085260,
     "user": {
      "displayName": "shaik azar",
      "userId": "05209245971384166097"
     },
     "user_tz": -330
    },
    "id": "deIBbz04T3f2",
    "outputId": "98823d0e-8c13-40ec-9b4a-917724012d48"
   },
   "outputs": [],
   "source": [
    "params = ParamGridBuilder()"
   ]
  },
  {
   "cell_type": "code",
   "execution_count": 36,
   "metadata": {
    "id": "qInZXkyoYF2v"
   },
   "outputs": [],
   "source": [
    "params = ParamGridBuilder().addGrid(ALS.rank, [5, 6, 7, 8, 9, 10]) \\\n",
    "        .addGrid(ALS.regParam, [0.001, 0.01, 0.1, 1, 10]) \\\n",
    "        .build()\n"
   ]
  },
  {
   "cell_type": "code",
   "execution_count": 37,
   "metadata": {},
   "outputs": [],
   "source": [
    "params = ParamGridBuilder().addGrid(ALS.rank, [5]).build()\n",
    "        #.addGrid(ALS.regParam, [0.001]) \\\n",
    "        #.build()"
   ]
  },
  {
   "cell_type": "code",
   "execution_count": 38,
   "metadata": {},
   "outputs": [],
   "source": [
    "params = ParamGridBuilder().build()"
   ]
  },
  {
   "cell_type": "code",
   "execution_count": 39,
   "metadata": {},
   "outputs": [],
   "source": [
    "cv = CrossValidator(estimator=ALS(userCol=\"userId\",itemCol=\"jokeId\",ratingCol=\"rating\",coldStartStrategy=\"drop\"),estimatorParamMaps=params, evaluator=evaluator)\n",
    "cv.fit(X_train)\n",
    "cv = cv.setNumFolds(10).setSeed(0).fit(X_train)"
   ]
  },
  {
   "cell_type": "code",
   "execution_count": 40,
   "metadata": {},
   "outputs": [
    {
     "data": {
      "text/plain": [
       "[4.473691095560969]"
      ]
     },
     "execution_count": 40,
     "metadata": {},
     "output_type": "execute_result"
    }
   ],
   "source": [
    "cv.avgMetrics"
   ]
  },
  {
   "cell_type": "code",
   "execution_count": 41,
   "metadata": {},
   "outputs": [
    {
     "data": {
      "text/plain": [
       "4.4069028596382305"
      ]
     },
     "execution_count": 41,
     "metadata": {},
     "output_type": "execute_result"
    }
   ],
   "source": [
    "evaluator.evaluate(cv.transform(X_test).na.drop())"
   ]
  },
  {
   "cell_type": "code",
   "execution_count": 42,
   "metadata": {},
   "outputs": [
    {
     "data": {
      "text/plain": [
       "4.4069028596382305"
      ]
     },
     "execution_count": 42,
     "metadata": {},
     "output_type": "execute_result"
    }
   ],
   "source": [
    "evaluator.evaluate(cv.transform(X_test))"
   ]
  },
  {
   "cell_type": "code",
   "execution_count": 50,
   "metadata": {},
   "outputs": [
    {
     "name": "stdout",
     "output_type": "stream",
     "text": [
      "+------+------+------+------------+\n",
      "|userId|jokeId|rating|  prediction|\n",
      "+------+------+------+------------+\n",
      "|   148|    17|  8.75|   6.5696373|\n",
      "|   463|     5| 9.875|     8.86694|\n",
      "|   463|    92|  0.25|-0.012143016|\n",
      "|   471|     7| 1.375|    5.405246|\n",
      "|   471|     8|-8.906|    5.837604|\n",
      "+------+------+------+------------+\n",
      "only showing top 5 rows\n",
      "\n"
     ]
    }
   ],
   "source": [
    "test_predictions.show(5)"
   ]
  },
  {
   "cell_type": "code",
   "execution_count": 45,
   "metadata": {},
   "outputs": [
    {
     "name": "stdout",
     "output_type": "stream",
     "text": [
      "+------+------+-----------------+\n",
      "|userId|jokeId|           rating|\n",
      "+------+------+-----------------+\n",
      "|  5518|   148|7.343999999999999|\n",
      "+------+------+-----------------+\n",
      "\n"
     ]
    }
   ],
   "source": [
    "X_train.where((X_train.userId == 5518) & (X_train.jokeId==148)).show()"
   ]
  },
  {
   "cell_type": "code",
   "execution_count": 58,
   "metadata": {},
   "outputs": [
    {
     "name": "stdout",
     "output_type": "stream",
     "text": [
      "+------+------+------+------+------------+\n",
      "|userId|jokeId|rating|rating|  prediction|\n",
      "+------+------+------+------+------------+\n",
      "|   148|    17|  8.75|  8.75|   6.5696373|\n",
      "|   463|     5| 9.875| 9.875|     8.86694|\n",
      "|   463|    92|  0.25|  0.25|-0.012143016|\n",
      "|   471|     7| 1.375| 1.375|    5.405246|\n",
      "|   471|     8|-8.906|-8.906|    5.837604|\n",
      "+------+------+------+------+------------+\n",
      "only showing top 5 rows\n",
      "\n"
     ]
    }
   ],
   "source": [
    "# joining X_test and prediction dataframe and also dropping the records for which no predictions made\n",
    "#ratesAndPreds = X_test.join(other=test_predictions,on=['userId','jokeId'],how='inner').na.drop() #how='inner'\n",
    "ratesAndPreds = X_test.join(other=test_predictions,on=['userId','jokeId'],how='inner')\n",
    "ratesAndPreds.show(5)"
   ]
  },
  {
   "cell_type": "code",
   "execution_count": 60,
   "metadata": {},
   "outputs": [
    {
     "ename": "AnalysisException",
     "evalue": "Reference 'rating' is ambiguous, could be: rating, rating.",
     "output_type": "error",
     "traceback": [
      "\u001b[0;31m---------------------------------------------------------------------------\u001b[0m",
      "\u001b[0;31mAnalysisException\u001b[0m                         Traceback (most recent call last)",
      "\u001b[0;32m<ipython-input-60-9c3629147975>\u001b[0m in \u001b[0;36m<module>\u001b[0;34m\u001b[0m\n\u001b[1;32m      1\u001b[0m \u001b[0;31m# converting the columns into numpy arrays for direct and easy calculations\u001b[0m\u001b[0;34m\u001b[0m\u001b[0;34m\u001b[0m\u001b[0;34m\u001b[0m\u001b[0m\n\u001b[0;32m----> 2\u001b[0;31m \u001b[0mrating\u001b[0m \u001b[0;34m=\u001b[0m \u001b[0mnp\u001b[0m\u001b[0;34m.\u001b[0m\u001b[0marray\u001b[0m\u001b[0;34m(\u001b[0m\u001b[0mratesAndPreds\u001b[0m\u001b[0;34m.\u001b[0m\u001b[0mselect\u001b[0m\u001b[0;34m(\u001b[0m\u001b[0;34m\"rating\"\u001b[0m\u001b[0;34m)\u001b[0m\u001b[0;34m.\u001b[0m\u001b[0mcollect\u001b[0m\u001b[0;34m(\u001b[0m\u001b[0;34m)\u001b[0m\u001b[0;34m)\u001b[0m\u001b[0;34m.\u001b[0m\u001b[0mravel\u001b[0m\u001b[0;34m(\u001b[0m\u001b[0;34m)\u001b[0m\u001b[0;34m\u001b[0m\u001b[0;34m\u001b[0m\u001b[0m\n\u001b[0m\u001b[1;32m      3\u001b[0m \u001b[0mprediction\u001b[0m \u001b[0;34m=\u001b[0m \u001b[0mnp\u001b[0m\u001b[0;34m.\u001b[0m\u001b[0marray\u001b[0m\u001b[0;34m(\u001b[0m\u001b[0mratesAndPreds\u001b[0m\u001b[0;34m.\u001b[0m\u001b[0mselect\u001b[0m\u001b[0;34m(\u001b[0m\u001b[0;34m\"prediction\"\u001b[0m\u001b[0;34m)\u001b[0m\u001b[0;34m.\u001b[0m\u001b[0mcollect\u001b[0m\u001b[0;34m(\u001b[0m\u001b[0;34m)\u001b[0m\u001b[0;34m)\u001b[0m\u001b[0;34m.\u001b[0m\u001b[0mravel\u001b[0m\u001b[0;34m(\u001b[0m\u001b[0;34m)\u001b[0m\u001b[0;34m\u001b[0m\u001b[0;34m\u001b[0m\u001b[0m\n\u001b[1;32m      4\u001b[0m \u001b[0mprint\u001b[0m\u001b[0;34m(\u001b[0m\u001b[0;34m\"RMSE : \"\u001b[0m\u001b[0;34m,\u001b[0m \u001b[0mnp\u001b[0m\u001b[0;34m.\u001b[0m\u001b[0msqrt\u001b[0m\u001b[0;34m(\u001b[0m\u001b[0mnp\u001b[0m\u001b[0;34m.\u001b[0m\u001b[0mmean\u001b[0m\u001b[0;34m(\u001b[0m\u001b[0;34m(\u001b[0m\u001b[0mrating\u001b[0m \u001b[0;34m-\u001b[0m \u001b[0mprediction\u001b[0m\u001b[0;34m)\u001b[0m\u001b[0;34m**\u001b[0m\u001b[0;36m2\u001b[0m\u001b[0;34m)\u001b[0m\u001b[0;34m)\u001b[0m\u001b[0;34m)\u001b[0m\u001b[0;34m\u001b[0m\u001b[0;34m\u001b[0m\u001b[0m\n",
      "\u001b[0;32m~/opt/anaconda3/lib/python3.8/site-packages/pyspark/sql/dataframe.py\u001b[0m in \u001b[0;36mselect\u001b[0;34m(self, *cols)\u001b[0m\n\u001b[1;32m   2021\u001b[0m         \u001b[0;34m[\u001b[0m\u001b[0mRow\u001b[0m\u001b[0;34m(\u001b[0m\u001b[0mname\u001b[0m\u001b[0;34m=\u001b[0m\u001b[0;34m'Alice'\u001b[0m\u001b[0;34m,\u001b[0m \u001b[0mage\u001b[0m\u001b[0;34m=\u001b[0m\u001b[0;36m12\u001b[0m\u001b[0;34m)\u001b[0m\u001b[0;34m,\u001b[0m \u001b[0mRow\u001b[0m\u001b[0;34m(\u001b[0m\u001b[0mname\u001b[0m\u001b[0;34m=\u001b[0m\u001b[0;34m'Bob'\u001b[0m\u001b[0;34m,\u001b[0m \u001b[0mage\u001b[0m\u001b[0;34m=\u001b[0m\u001b[0;36m15\u001b[0m\u001b[0;34m)\u001b[0m\u001b[0;34m]\u001b[0m\u001b[0;34m\u001b[0m\u001b[0;34m\u001b[0m\u001b[0m\n\u001b[1;32m   2022\u001b[0m         \"\"\"\n\u001b[0;32m-> 2023\u001b[0;31m         \u001b[0mjdf\u001b[0m \u001b[0;34m=\u001b[0m \u001b[0mself\u001b[0m\u001b[0;34m.\u001b[0m\u001b[0m_jdf\u001b[0m\u001b[0;34m.\u001b[0m\u001b[0mselect\u001b[0m\u001b[0;34m(\u001b[0m\u001b[0mself\u001b[0m\u001b[0;34m.\u001b[0m\u001b[0m_jcols\u001b[0m\u001b[0;34m(\u001b[0m\u001b[0;34m*\u001b[0m\u001b[0mcols\u001b[0m\u001b[0;34m)\u001b[0m\u001b[0;34m)\u001b[0m\u001b[0;34m\u001b[0m\u001b[0;34m\u001b[0m\u001b[0m\n\u001b[0m\u001b[1;32m   2024\u001b[0m         \u001b[0;32mreturn\u001b[0m \u001b[0mDataFrame\u001b[0m\u001b[0;34m(\u001b[0m\u001b[0mjdf\u001b[0m\u001b[0;34m,\u001b[0m \u001b[0mself\u001b[0m\u001b[0;34m.\u001b[0m\u001b[0msparkSession\u001b[0m\u001b[0;34m)\u001b[0m\u001b[0;34m\u001b[0m\u001b[0;34m\u001b[0m\u001b[0m\n\u001b[1;32m   2025\u001b[0m \u001b[0;34m\u001b[0m\u001b[0m\n",
      "\u001b[0;32m~/opt/anaconda3/lib/python3.8/site-packages/py4j/java_gateway.py\u001b[0m in \u001b[0;36m__call__\u001b[0;34m(self, *args)\u001b[0m\n\u001b[1;32m   1319\u001b[0m \u001b[0;34m\u001b[0m\u001b[0m\n\u001b[1;32m   1320\u001b[0m         \u001b[0manswer\u001b[0m \u001b[0;34m=\u001b[0m \u001b[0mself\u001b[0m\u001b[0;34m.\u001b[0m\u001b[0mgateway_client\u001b[0m\u001b[0;34m.\u001b[0m\u001b[0msend_command\u001b[0m\u001b[0;34m(\u001b[0m\u001b[0mcommand\u001b[0m\u001b[0;34m)\u001b[0m\u001b[0;34m\u001b[0m\u001b[0;34m\u001b[0m\u001b[0m\n\u001b[0;32m-> 1321\u001b[0;31m         return_value = get_return_value(\n\u001b[0m\u001b[1;32m   1322\u001b[0m             answer, self.gateway_client, self.target_id, self.name)\n\u001b[1;32m   1323\u001b[0m \u001b[0;34m\u001b[0m\u001b[0m\n",
      "\u001b[0;32m~/opt/anaconda3/lib/python3.8/site-packages/pyspark/sql/utils.py\u001b[0m in \u001b[0;36mdeco\u001b[0;34m(*a, **kw)\u001b[0m\n\u001b[1;32m    194\u001b[0m                 \u001b[0;31m# Hide where the exception came from that shows a non-Pythonic\u001b[0m\u001b[0;34m\u001b[0m\u001b[0;34m\u001b[0m\u001b[0;34m\u001b[0m\u001b[0m\n\u001b[1;32m    195\u001b[0m                 \u001b[0;31m# JVM exception message.\u001b[0m\u001b[0;34m\u001b[0m\u001b[0;34m\u001b[0m\u001b[0;34m\u001b[0m\u001b[0m\n\u001b[0;32m--> 196\u001b[0;31m                 \u001b[0;32mraise\u001b[0m \u001b[0mconverted\u001b[0m \u001b[0;32mfrom\u001b[0m \u001b[0;32mNone\u001b[0m\u001b[0;34m\u001b[0m\u001b[0;34m\u001b[0m\u001b[0m\n\u001b[0m\u001b[1;32m    197\u001b[0m             \u001b[0;32melse\u001b[0m\u001b[0;34m:\u001b[0m\u001b[0;34m\u001b[0m\u001b[0;34m\u001b[0m\u001b[0m\n\u001b[1;32m    198\u001b[0m                 \u001b[0;32mraise\u001b[0m\u001b[0;34m\u001b[0m\u001b[0;34m\u001b[0m\u001b[0m\n",
      "\u001b[0;31mAnalysisException\u001b[0m: Reference 'rating' is ambiguous, could be: rating, rating."
     ]
    }
   ],
   "source": [
    "# converting the columns into numpy arrays for direct and easy calculations \n",
    "rating = np.array(ratesAndPreds.select(\"rating\").collect()).ravel()\n",
    "prediction = np.array(ratesAndPreds.select(\"prediction\").collect()).ravel()\n",
    "print(\"RMSE : \", np.sqrt(np.mean((rating - prediction)**2)))"
   ]
  },
  {
   "cell_type": "code",
   "execution_count": 61,
   "metadata": {},
   "outputs": [
    {
     "name": "stdout",
     "output_type": "stream",
     "text": [
      "+------+-------------------------------------------------------+\n",
      "|userId|recommendations                                        |\n",
      "+------+-------------------------------------------------------+\n",
      "|28    |[{89, 9.900376}, {68, 9.515092}, {62, 9.497709}]       |\n",
      "|34    |[{7, 9.81276}, {5, 9.536701}, {16, 9.358214}]          |\n",
      "|53    |[{27, 6.112543}, {62, 6.102201}, {68, 6.0794525}]      |\n",
      "|65    |[{140, 13.119513}, {123, 12.872762}, {100, 11.8487625}]|\n",
      "|81    |[{80, 5.5491076}, {115, 4.7546244}, {116, 4.609116}]   |\n",
      "+------+-------------------------------------------------------+\n",
      "only showing top 5 rows\n",
      "\n"
     ]
    }
   ],
   "source": [
    "# recommending top 3 jokes for all the users with highest predicted rating \n",
    "model.recommendForAllUsers(3).show(5,truncate = False)"
   ]
  },
  {
   "cell_type": "code",
   "execution_count": 62,
   "metadata": {},
   "outputs": [
    {
     "data": {
      "text/plain": [
       "58976"
      ]
     },
     "execution_count": 62,
     "metadata": {},
     "output_type": "execute_result"
    }
   ],
   "source": [
    "model.recommendForAllUsers(3).count()"
   ]
  },
  {
   "cell_type": "code",
   "execution_count": null,
   "metadata": {},
   "outputs": [],
   "source": []
  },
  {
   "cell_type": "code",
   "execution_count": null,
   "metadata": {},
   "outputs": [],
   "source": []
  },
  {
   "cell_type": "code",
   "execution_count": null,
   "metadata": {},
   "outputs": [],
   "source": []
  },
  {
   "cell_type": "code",
   "execution_count": null,
   "metadata": {},
   "outputs": [],
   "source": []
  },
  {
   "cell_type": "code",
   "execution_count": null,
   "metadata": {},
   "outputs": [],
   "source": []
  },
  {
   "cell_type": "code",
   "execution_count": null,
   "metadata": {},
   "outputs": [],
   "source": []
  }
 ],
 "metadata": {
  "colab": {
   "authorship_tag": "ABX9TyN/wBa64zPEsVW1nNEJBUYF",
   "collapsed_sections": [],
   "provenance": []
  },
  "kernelspec": {
   "display_name": "Python 3",
   "language": "python",
   "name": "python3"
  },
  "language_info": {
   "codemirror_mode": {
    "name": "ipython",
    "version": 3
   },
   "file_extension": ".py",
   "mimetype": "text/x-python",
   "name": "python",
   "nbconvert_exporter": "python",
   "pygments_lexer": "ipython3",
   "version": "3.8.12"
  }
 },
 "nbformat": 4,
 "nbformat_minor": 4
}
